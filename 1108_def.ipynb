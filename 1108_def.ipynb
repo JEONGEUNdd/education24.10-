{
 "cells": [
  {
   "cell_type": "code",
   "execution_count": 23,
   "id": "5eaefc45-abce-4127-8abf-a4bb0acc8156",
   "metadata": {},
   "outputs": [
    {
     "name": "stdout",
     "output_type": "stream",
     "text": [
      "2000.28\n",
      "3050.427\n",
      "2050.2870000000003\n",
      "1980.2772\n",
      "--------------------\n",
      "7501.05\n",
      "2050.2870000000003\n",
      "2050.2870000000003\n",
      "1980.2772\n",
      "--------------------\n",
      "15452.163\n",
      "15052.107\n",
      "15552.177\n",
      "14902.086000000001\n",
      "--------------------\n"
     ]
    }
   ],
   "source": [
    "data=[\n",
    "    [2000,3050,2050,1980],\n",
    "    [7500,2050,2050,1980],\n",
    "    [15450,15050,15550,14900]\n",
    "]\n",
    "commission_rate=0.014/100\n",
    "#수수료 0.014%,각 가격에 수수료를 포함한 가격을 한라인에 하나씩 출력\n",
    "for row in data:\n",
    "    for price in row:\n",
    "        last_price=price*(1+commission_rate)\n",
    "        print(last_price)\n",
    "    print(\"-\"*20)"
   ]
  },
  {
   "cell_type": "code",
   "execution_count": 31,
   "id": "9ca5c229-6b3a-43a7-a292-ceb29e3ed331",
   "metadata": {},
   "outputs": [
    {
     "name": "stdout",
     "output_type": "stream",
     "text": [
      "[2000.28, 3050.427, 2050.2870000000003, 1980.2772, 7501.05, 2050.2870000000003, 2050.2870000000003, 1980.2772, 15452.163, 15052.107, 15552.177, 14902.086000000001]\n"
     ]
    }
   ],
   "source": [
    "#결과값을 result이름의 리스트에 1차원 배열로 저장\n",
    "result=[]\n",
    "for row in data:\n",
    "    for price in row:\n",
    "        last_price=price*(1+commission_rate)\n",
    "        result.append(last_price)\n",
    "print(result)"
   ]
  },
  {
   "cell_type": "code",
   "execution_count": null,
   "id": "655e70c6-c480-4b38-b650-1aa4e5721f94",
   "metadata": {},
   "outputs": [],
   "source": [
    "'''\n",
    "[\n",
    "    [2000.28, 3050.427, 2050.2870000000003, 1980.2772],\n",
    "    [7501.05, 2050.2870000000003, 2050.2870000000003, 1980.2772],\n",
    "    [15452.163, 15052.107, 15552.177, 14902.086000000001]\n",
    "]\n",
    "'''"
   ]
  },
  {
   "cell_type": "code",
   "execution_count": 37,
   "id": "8a227a90-b49f-476e-b43b-5a4caca61350",
   "metadata": {},
   "outputs": [
    {
     "name": "stdout",
     "output_type": "stream",
     "text": [
      "[[2000.28, 3050.427, 2050.2870000000003, 1980.2772], [7501.05, 2050.2870000000003, 2050.2870000000003, 1980.2772], [15452.163, 15052.107, 15552.177, 14902.086000000001]]\n"
     ]
    }
   ],
   "source": [
    "#결과값을 result이름의 리스트에 2차원 배열로 저장\n",
    "result=[]\n",
    "for row in data:\n",
    "    sub=[]\n",
    "    for price in row:\n",
    "        last_price=price*(1+commission_rate)\n",
    "        sub.append(last_price)\n",
    "    result.append(sub)\n",
    "print(result)"
   ]
  },
  {
   "cell_type": "code",
   "execution_count": 66,
   "id": "391ba0ea-f0f8-4201-930d-9ef45af4c4c6",
   "metadata": {},
   "outputs": [
    {
     "name": "stdout",
     "output_type": "stream",
     "text": [
      "100\n",
      "190\n",
      "310\n"
     ]
    }
   ],
   "source": [
    "ohlc=[[\"open\",\"high\",\"low\",\"close\"],\n",
    "      [100,110,70,100],\n",
    "      [200,210,180,190],\n",
    "      [300,310,300,310]]\n",
    "\n",
    "#종가데이터만 출력\n",
    "for i in ohlc[1:]:\n",
    "    print(i[3])"
   ]
  },
  {
   "cell_type": "code",
   "execution_count": 68,
   "id": "080f5ec5-ddcf-4e74-87ad-a00779f3721d",
   "metadata": {},
   "outputs": [
    {
     "name": "stdout",
     "output_type": "stream",
     "text": [
      "190\n",
      "310\n"
     ]
    }
   ],
   "source": [
    "#종가가 150보다 큰 경우에만 종가 출력\n",
    "for i in ohlc[1:]:\n",
    "    if i[3]>150:\n",
    "        print(i[3])"
   ]
  },
  {
   "cell_type": "code",
   "execution_count": 70,
   "id": "070ba0df-f170-4d14-ab24-50d2e4928e80",
   "metadata": {},
   "outputs": [
    {
     "name": "stdout",
     "output_type": "stream",
     "text": [
      "100\n",
      "310\n"
     ]
    }
   ],
   "source": [
    "#종가가 시가보다 크거나 같은 경우에만 종가출력\n",
    "for i in ohlc[1:]:\n",
    "    if i[3]>=i[0]:\n",
    "        print(i[3])"
   ]
  },
  {
   "cell_type": "code",
   "execution_count": 106,
   "id": "ac775846-2d7e-4d45-8ba3-9b650156d054",
   "metadata": {},
   "outputs": [
    {
     "name": "stdout",
     "output_type": "stream",
     "text": [
      "[40, 30, 10]\n"
     ]
    }
   ],
   "source": [
    "#고가와 저가의 차이를 변동폭이라하고 리스트로 저장\n",
    "valuelist=[]\n",
    "\n",
    "for i in ohlc[1:]:\n",
    "    value=i[1]-i[2]\n",
    "    valuelist.append(value)\n",
    "print(valuelist)"
   ]
  },
  {
   "cell_type": "code",
   "execution_count": 118,
   "id": "dff51582-fb4d-4b2b-9234-f89eadbb6117",
   "metadata": {},
   "outputs": [
    {
     "name": "stdout",
     "output_type": "stream",
     "text": [
      "10\n"
     ]
    }
   ],
   "source": [
    "#종가가 시가보다 높은 날의 변동성(고가-저가) 출력\n",
    "for i in ohlc[1:]:\n",
    "    value=i[1]-i[2]\n",
    "    if i[3]>i[0]:\n",
    "        print(value)     "
   ]
  },
  {
   "cell_type": "code",
   "execution_count": 126,
   "id": "cbca2e7f-e5b3-49c5-b2bf-325139d55882",
   "metadata": {},
   "outputs": [
    {
     "name": "stdout",
     "output_type": "stream",
     "text": [
      "0\n"
     ]
    }
   ],
   "source": [
    "#시가를 매수해서 종가에 매도했을 경우 총 수익금\n",
    "profit=0\n",
    "for i in ohlc[1:]:\n",
    "   profit+=(i[3]-i[0])\n",
    "print(profit)"
   ]
  },
  {
   "cell_type": "code",
   "execution_count": null,
   "id": "bebb815a-e74e-49d6-bb4b-976fd19f8454",
   "metadata": {},
   "outputs": [],
   "source": [
    "'''\n",
    "메로나 1000\n",
    "폴라포 1200\n",
    "빵빠레 1800\n",
    "'''"
   ]
  },
  {
   "cell_type": "code",
   "execution_count": 143,
   "id": "43f3a4e0-4acb-4c7f-bd0a-65ba77e7dccb",
   "metadata": {},
   "outputs": [
    {
     "data": {
      "text/plain": [
       "{'메로나': 1000, '폴라포': 1200, '빵빠레': 1800}"
      ]
     },
     "execution_count": 143,
     "metadata": {},
     "output_type": "execute_result"
    }
   ],
   "source": [
    "#딕셔너리로 \n",
    "ice={\"메로나\": 1000,\"폴라포\": 1200, \"빵빠레\": 1800}\n",
    "ice"
   ]
  },
  {
   "cell_type": "code",
   "execution_count": 146,
   "id": "1947c384-e57c-4bcd-a56d-5255986feb26",
   "metadata": {},
   "outputs": [
    {
     "name": "stdout",
     "output_type": "stream",
     "text": [
      "{'메로나': 1000, '폴라포': 1200, '빵빠레': 1800, '죠스바': 1200, '월드콘': 1500}\n"
     ]
    }
   ],
   "source": [
    "ice['죠스바']=1200\n",
    "ice['월드콘']=1500\n",
    "print(ice)"
   ]
  },
  {
   "cell_type": "code",
   "execution_count": 150,
   "id": "9b13eebd-322c-4311-9486-1de0d13361f0",
   "metadata": {},
   "outputs": [
    {
     "name": "stdout",
     "output_type": "stream",
     "text": [
      "메로나 가격: 1000\n"
     ]
    }
   ],
   "source": [
    "#메로나 가격 출력\n",
    "print(\"메로나 가격:\",ice[\"메로나\"])"
   ]
  },
  {
   "cell_type": "code",
   "execution_count": 152,
   "id": "ca53cdf4-d3ea-4cbe-85f4-ecb9341dbaac",
   "metadata": {},
   "outputs": [
    {
     "data": {
      "text/plain": [
       "False"
      ]
     },
     "execution_count": 152,
     "metadata": {},
     "output_type": "execute_result"
    }
   ],
   "source": [
    "\"수박바\" in ice.keys()"
   ]
  },
  {
   "cell_type": "code",
   "execution_count": 157,
   "id": "095711ec-4bb6-4044-880a-ae5de61c1c6b",
   "metadata": {},
   "outputs": [
    {
     "data": {
      "text/plain": [
       "{'메로나': 1200, '폴라포': 1200, '빵빠레': 1800, '죠스바': 1200, '월드콘': 1500}"
      ]
     },
     "execution_count": 157,
     "metadata": {},
     "output_type": "execute_result"
    }
   ],
   "source": [
    "#메로나 가격 1200원으로 수정\n",
    "ice[\"메로나\"]=1200   #수정과 입력방식 같음\n",
    "ice"
   ]
  },
  {
   "cell_type": "code",
   "execution_count": 167,
   "id": "91945645-189b-4e51-8f02-891aa6d1b273",
   "metadata": {},
   "outputs": [
    {
     "data": {
      "text/plain": [
       "{'폴라포': 1200, '빵빠레': 1800, '죠스바': 1200, '월드콘': 1500}"
      ]
     },
     "execution_count": 167,
     "metadata": {},
     "output_type": "execute_result"
    }
   ],
   "source": [
    "#메로나 삭제\n",
    "del ice[\"메로나\"]\n",
    "ice"
   ]
  },
  {
   "cell_type": "code",
   "execution_count": null,
   "id": "340aed73-5aca-4047-bf3f-aa85a9945312",
   "metadata": {},
   "outputs": [],
   "source": [
    "''' 제품명 가격 재고\n",
    "메로나 300 20\n",
    "비비빅 400 3\n",
    "죠스바 250 100\n",
    "'''"
   ]
  },
  {
   "cell_type": "code",
   "execution_count": 196,
   "id": "d6abd3ec-5836-48e2-87be-550035e9e412",
   "metadata": {},
   "outputs": [
    {
     "data": {
      "text/plain": [
       "{'메로나': [300, 20], '비비빅': [400, 3], '죠스바': [250, 10]}"
      ]
     },
     "execution_count": 196,
     "metadata": {},
     "output_type": "execute_result"
    }
   ],
   "source": [
    "inventory={\"메로나\": [300 ,20],\n",
    "           \"비비빅\": [400, 3], \n",
    "           \"죠스바\": [250, 10]}\n",
    "inventory"
   ]
  },
  {
   "cell_type": "code",
   "execution_count": 192,
   "id": "a2c5bb36-e83c-46db-bf50-90d0eaf59ed2",
   "metadata": {},
   "outputs": [
    {
     "name": "stdout",
     "output_type": "stream",
     "text": [
      "메로나 가격: 300원\n",
      "메로나 재고: 20개\n"
     ]
    }
   ],
   "source": [
    "print(f\"메로나 가격: {inventory[\"메로나\"][0]}원\")\n",
    "print(f\"메로나 재고: {inventory[\"메로나\"][1]}개\")"
   ]
  },
  {
   "cell_type": "code",
   "execution_count": 198,
   "id": "ace01380-9057-4888-ac1d-388ca53d0f4f",
   "metadata": {},
   "outputs": [
    {
     "data": {
      "text/plain": [
       "{'메로나': [300, 20], '비비빅': [400, 3], '죠스바': [250, 10], '월드콘': [500, 7]}"
      ]
     },
     "execution_count": 198,
     "metadata": {},
     "output_type": "execute_result"
    }
   ],
   "source": [
    "inventory[\"월드콘\"]=[500,7]\n",
    "inventory"
   ]
  },
  {
   "cell_type": "code",
   "execution_count": 204,
   "id": "2a129d8e-670a-4432-8782-a4408a40426d",
   "metadata": {},
   "outputs": [
    {
     "data": {
      "text/plain": [
       "['메로나', '비비빅', '죠스바', '월드콘']"
      ]
     },
     "execution_count": 204,
     "metadata": {},
     "output_type": "execute_result"
    }
   ],
   "source": [
    "list(inventory.keys())"
   ]
  },
  {
   "cell_type": "code",
   "execution_count": 209,
   "id": "ba239944-acfe-4bd8-8a61-44bc7cceaf1c",
   "metadata": {},
   "outputs": [
    {
     "name": "stdout",
     "output_type": "stream",
     "text": [
      "6700\n"
     ]
    }
   ],
   "source": [
    "icecream={'탱크보이':1200, '폴라포':1200, '빵빠레':1800, '월드콘':1500, '메로나':1000}\n",
    "print(sum(icecream.values()))"
   ]
  },
  {
   "cell_type": "code",
   "execution_count": 212,
   "id": "2742a809-e063-4d24-b25b-161af1011427",
   "metadata": {},
   "outputs": [
    {
     "name": "stdout",
     "output_type": "stream",
     "text": [
      "{'탱크보이': 1200, '폴라포': 1200, '빵빠레': 1800, '월드콘': 1500, '메로나': 1000, '팥빙수': 2700, '아맛나': 100}\n"
     ]
    }
   ],
   "source": [
    "new_product={'팥빙수':2700, '아맛나':100}\n",
    "icecream.update(new_product)\n",
    "print(icecream)"
   ]
  },
  {
   "cell_type": "code",
   "execution_count": 216,
   "id": "b08bd18e-190a-4e2f-b4a9-a03b5ec27322",
   "metadata": {},
   "outputs": [
    {
     "name": "stdout",
     "output_type": "stream",
     "text": [
      "('apple', 300)\n",
      "('pear', 250)\n",
      "('peach', 400)\n"
     ]
    },
    {
     "data": {
      "text/plain": [
       "{'apple': 300, 'pear': 250, 'peach': 400}"
      ]
     },
     "execution_count": 216,
     "metadata": {},
     "output_type": "execute_result"
    }
   ],
   "source": [
    "keys=(\"apple\",\"pear\",\"peach\")\n",
    "vals=(300,250,400)\n",
    "for i in zip(keys, vals):\n",
    "    print(i)\n",
    "result=dict(zip(keys,vals))\n",
    "result"
   ]
  },
  {
   "cell_type": "code",
   "execution_count": 218,
   "id": "f939590d-5295-4d02-807c-bb7ca5c75468",
   "metadata": {},
   "outputs": [
    {
     "name": "stdout",
     "output_type": "stream",
     "text": [
      "{'09/05': 10500, '09/06': 10300, '09/07': 10100, '09/08': 10800, '09/09': 11000}\n"
     ]
    }
   ],
   "source": [
    "date=['09/05','09/06','09/07','09/08','09/09']\n",
    "close_price=[10500,10300,10100,10800,11000]\n",
    "close_table=dict(zip(date,close_price))\n",
    "print(close_table)"
   ]
  },
  {
   "cell_type": "code",
   "execution_count": 223,
   "id": "b3533c6a-364d-4dda-b7f7-808316d83462",
   "metadata": {},
   "outputs": [
    {
     "name": "stdin",
     "output_type": "stream",
     "text": [
      "어떤 학생의 점수가 궁금한가요? 도윤\n"
     ]
    },
    {
     "name": "stdout",
     "output_type": "stream",
     "text": [
      "43 점 입니다.\n"
     ]
    }
   ],
   "source": [
    "midterm={'도윤':43,'하윤':82,'시우':76,'지유':61,'주원':94}\n",
    "student=input('어떤 학생의 점수가 궁금한가요?')\n",
    "\n",
    "if student in midterm.keys():\n",
    "    print(midterm[student],\"점 입니다.\")\n",
    "else:\n",
    "    print(\"해당 학생이 없습니다.\")"
   ]
  },
  {
   "cell_type": "markdown",
   "id": "43c63a95-a38a-4c24-b035-77d7432946ff",
   "metadata": {},
   "source": [
    "## 함수"
   ]
  },
  {
   "cell_type": "code",
   "execution_count": 232,
   "id": "949b93a0-e651-4682-a29f-a8ca879e907a",
   "metadata": {},
   "outputs": [
    {
     "name": "stdout",
     "output_type": "stream",
     "text": [
      "홍길동님 안녕하세요\n",
      "이도현님 안녕하세요\n"
     ]
    }
   ],
   "source": [
    "def intro(name):\n",
    "    print(f\"{name}님 안녕하세요\")\n",
    "intro(\"홍길동\")\n",
    "intro(\"이도현\")"
   ]
  },
  {
   "cell_type": "code",
   "execution_count": 238,
   "id": "bfbaa233-f65f-4c3c-b9fe-16930261ea51",
   "metadata": {},
   "outputs": [
    {
     "name": "stdout",
     "output_type": "stream",
     "text": [
      "9\n",
      "12\n"
     ]
    }
   ],
   "source": [
    "def add(a,b):\n",
    "    print(a+b)\n",
    "add(4,5)\n",
    "add(5,7)"
   ]
  },
  {
   "cell_type": "code",
   "execution_count": 240,
   "id": "182703b0-2398-43e4-8e53-173821567d82",
   "metadata": {},
   "outputs": [
    {
     "name": "stdout",
     "output_type": "stream",
     "text": [
      "안녕하세요 ^^\n"
     ]
    }
   ],
   "source": [
    "def print_smile(string):\n",
    "    print(string+\" ^^\")\n",
    "print_smile(\"안녕하세요\")"
   ]
  },
  {
   "cell_type": "code",
   "execution_count": 242,
   "id": "db29fd5d-80ad-4c21-93f5-2410536ca129",
   "metadata": {},
   "outputs": [
    {
     "name": "stdout",
     "output_type": "stream",
     "text": [
      "*즐거운 금요일\n"
     ]
    }
   ],
   "source": [
    "def print_star(string):\n",
    "    print(\"*\" +string)\n",
    "print_star(\"즐거운 금요일\")"
   ]
  },
  {
   "cell_type": "code",
   "execution_count": 256,
   "id": "43d0dbb4-ce27-477a-aa9c-b49f1f5d7564",
   "metadata": {},
   "outputs": [
    {
     "name": "stdout",
     "output_type": "stream",
     "text": [
      "즐거운 금요일행복해요~^^😊😊😊😊"
     ]
    }
   ],
   "source": [
    "def printn(string):\n",
    "    print(string,end=\"\")\n",
    "printn(\"즐거운 금요일\")\n",
    "printn(\"행복해요~^^😊😊😊😊\")"
   ]
  },
  {
   "cell_type": "code",
   "execution_count": 258,
   "id": "ea1df3a8-e99c-4d4a-b7a7-25ca214d0954",
   "metadata": {},
   "outputs": [
    {
     "name": "stdout",
     "output_type": "stream",
     "text": [
      "1100.0\n"
     ]
    }
   ],
   "source": [
    "def vat(price):\n",
    "    print(price*1.1)\n",
    "vat(1000)"
   ]
  },
  {
   "cell_type": "code",
   "execution_count": 264,
   "id": "89a1215e-dd58-4a7c-ac65-33b949f1df6d",
   "metadata": {},
   "outputs": [
    {
     "name": "stdout",
     "output_type": "stream",
     "text": [
      "94.33333333333333\n"
     ]
    }
   ],
   "source": [
    "def print_score(score_list):\n",
    "    print(sum(score_list)/len(score_list))   #평균\n",
    "\n",
    "s=[98,95,90]\n",
    "print_score(s)"
   ]
  },
  {
   "cell_type": "code",
   "execution_count": 272,
   "id": "f49ddbf2-fccd-4be7-a1d0-722507b50d41",
   "metadata": {},
   "outputs": [
    {
     "name": "stdout",
     "output_type": "stream",
     "text": [
      "2\n",
      "10\n",
      "12\n"
     ]
    }
   ],
   "source": [
    "def print_even(mylist):\n",
    "    for v in mylist:\n",
    "        if v%2==0:\n",
    "            print(v)\n",
    "print_even([1,3,2,10,12,11,15])"
   ]
  },
  {
   "cell_type": "code",
   "execution_count": 274,
   "id": "42d17826-83a7-42dc-acd5-1a8d665801e5",
   "metadata": {},
   "outputs": [
    {
     "name": "stdout",
     "output_type": "stream",
     "text": [
      "이름\n",
      "나이\n",
      "성별\n"
     ]
    }
   ],
   "source": [
    "def print_keys(dic):\n",
    "    for keys in dic.keys():\n",
    "        print(keys)\n",
    "print_keys({\"이름\":\"김말똥\",\"나이\":30,\"성별\":0})"
   ]
  },
  {
   "cell_type": "code",
   "execution_count": 295,
   "id": "fd1d6a60-7fe0-4209-88f3-ca911fb93870",
   "metadata": {},
   "outputs": [
    {
     "name": "stdout",
     "output_type": "stream",
     "text": [
      "[100, 130, 50, 90]\n",
      "[100, 130]\n",
      "[10, 12, 10, 11]\n",
      "[12, 11]\n"
     ]
    }
   ],
   "source": [
    "my_dict={\"10/26\":[100,130,50,90],\n",
    "         \"10/27\":[10,12,10,11]}\n",
    "\n",
    "def print_value_by_key(my_dict,key,min_limit):\n",
    "    print(my_dict[key])\n",
    "    print([value for value in my_dict[key] if value>=min_limit])\n",
    "    \n",
    "print_value_by_key(my_dict,\"10/26\",100)\n",
    "print_value_by_key(my_dict,\"10/27\",11)"
   ]
  },
  {
   "cell_type": "code",
   "execution_count": 2,
   "id": "b187e4b3-ac54-4f51-af30-820097955f8a",
   "metadata": {},
   "outputs": [
    {
     "name": "stdout",
     "output_type": "stream",
     "text": [
      "아이엠어보\n",
      "이유알어걸\n",
      "오\n"
     ]
    }
   ],
   "source": [
    "def print_Sxn(line):\n",
    "    chunk_num=int(len(line)/5)\n",
    "    for x in range(chunk_num+1):\n",
    "        print(line[x*5:x*5+5])\n",
    "        \n",
    "print_Sxn(\"아이엠어보이유알어걸오\")"
   ]
  },
  {
   "cell_type": "code",
   "execution_count": 12,
   "id": "892c88d6-c2b8-4a52-a16d-2e79bc886988",
   "metadata": {},
   "outputs": [
    {
     "name": "stdout",
     "output_type": "stream",
     "text": [
      "아이엠\n",
      "어보이\n",
      "유알어\n",
      "걸오\n",
      "[1, 2, 3, 4]\n",
      "[5, 6, 7, 8]\n",
      "[9]\n"
     ]
    }
   ],
   "source": [
    "def print_xn(line,limit):\n",
    "    chunknum=int(len(line)/limit)\n",
    "    for x in range(chunknum+1):\n",
    "        print(line[x*limit:x*limit+limit])\n",
    "print_xn(\"아이엠어보이유알어걸오\",3)\n",
    "print_xn([1,2,3,4,5,6,7,8,9],4)"
   ]
  },
  {
   "cell_type": "code",
   "execution_count": 32,
   "id": "5da87883-c8f4-4df6-a9ad-9d54819a6db9",
   "metadata": {},
   "outputs": [
    {
     "name": "stdout",
     "output_type": "stream",
     "text": [
      "('아이엠어보', '이유알어걸', '오')\n",
      "아이엠어보\n"
     ]
    }
   ],
   "source": [
    "def printxn(line,limit):\n",
    "    chunknum=int(len(line)/limit)\n",
    "    addnum=1 if len(line) % limit !=0 else 0\n",
    "    result=[]\n",
    "    for x in range(chunknum+addnum):\n",
    "        result.append(line[x*limit:x*limit+limit])\n",
    "    return tuple(result)\n",
    "val=printxn(\"아이엠어보이유알어걸오\",5)\n",
    "print(val)\n",
    "print(val[0])"
   ]
  },
  {
   "cell_type": "code",
   "execution_count": 40,
   "id": "2a6dbefc-b5b5-4a7d-9b87-f92f47708a1d",
   "metadata": {},
   "outputs": [
    {
     "name": "stdout",
     "output_type": "stream",
     "text": [
      "4166666\n"
     ]
    }
   ],
   "source": [
    "def cal_monthly_salary(annual_pay):\n",
    "    monthly_pay=int(annual_pay/12)\n",
    "    return monthly_pay\n",
    "print(cal_monthly_salary(50000000))"
   ]
  }
 ],
 "metadata": {
  "kernelspec": {
   "display_name": "Python 3 (ipykernel)",
   "language": "python",
   "name": "python3"
  },
  "language_info": {
   "codemirror_mode": {
    "name": "ipython",
    "version": 3
   },
   "file_extension": ".py",
   "mimetype": "text/x-python",
   "name": "python",
   "nbconvert_exporter": "python",
   "pygments_lexer": "ipython3",
   "version": "3.12.7"
  }
 },
 "nbformat": 4,
 "nbformat_minor": 5
}
