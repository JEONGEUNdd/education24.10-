{
 "cells": [
  {
   "cell_type": "markdown",
   "id": "0a55af25-37e5-49b9-96a3-8faad2c75605",
   "metadata": {},
   "source": [
    "### urllib"
   ]
  },
  {
   "cell_type": "code",
   "execution_count": 3,
   "id": "ca593c66-6c68-4145-8b34-a481cf187488",
   "metadata": {
    "scrolled": true
   },
   "outputs": [
    {
     "name": "stdout",
     "output_type": "stream",
     "text": [
      "<!DOCTYPE html>\n",
      "<!--[if lte IE 8]> <html class=\"oldie\" lang=\"en\"> <![endif]-->\n",
      "<!--[if IE 9]> <html class=\"ie9\" lang=\"en\"> <![endif]-->\n",
      "<!--[if gt IE 9]><!--> <html lang=\"en\"> <!--<![endif]-->\n",
      "<head>\n",
      "\t<meta charset=\"utf-8\">\n",
      "\t<meta name=\"viewport\" content=\"width=device-width, initial-scale=1, maximum-scale=1, minimum-scale=1, user-scalable=no\">\n",
      "\t<meta http-equiv=\"X-UA-Compatible\" content=\"IE=edge,chrome=1\">\n",
      "\t<meta name=\"format-detection\" content=\"telephone=no\">\n",
      "\t<title>John Markowitz</title>\n",
      "\t<link rel=\"stylesheet\" href=\"js/fancybox/jquery.fancybox.css\" type=\"text/css\" media=\"screen\" />\n",
      "\t<link rel=\"stylesheet\" href=\"css/all.css\" />\n",
      "\t<link rel=\"stylesheet\" href=\"css/screen.css\" />\n",
      "\t<!--[if lt IE 9]>\n",
      "\t\t<script src=\"http://html5shiv.googlecode.com/svn/trunk/html5.js\"></script>\n",
      "\t<![endif]-->\n",
      "</head>\n",
      "<body>\n",
      "\t<div id=\"wrapper\">\n",
      "\t\t<div class=\"wrapper-holder\">\n",
      "\t\t\t<header id=\"header\">\n",
      "\t\t\t\t<a class=\"menu_trigger\" href=\"#\">menu</a>\n",
      "\t\t\t\t\t<nav id=\"nav\">\n",
      "\t\t\t\t\t\t<ul>\n",
      "\t\t\t\t\t\t\t<li><a class=\"active\" href=\"index.html\">Home</a></li>\n",
      "\t\t\t\t\t\t\t<li><a href=\"myskills.html\">My skills</a></li>\n",
      "\t\t\t\t\t\t\t<li><a href=\"Portfolio.html\">Portfolio</a></li>\n",
      "\t\t\t\t\t\t\t<li><a href=\"Contact.html\">Contact</a></li>\n",
      "\t\t\t\t\t\t</ul>\n",
      "\t\t\t\t\t</nav>\n",
      "\t\t\t\t<h1 class=\"logo\">John Markowitz</h1>\n",
      "\t\t\t\t<h2 class=\"slogan\">Professional Web Designer</h2>\n",
      "\t\t\t</header>\n",
      "\t\t</div>\n",
      "\t\t<div class=\"wrapper-holder grey\">\n",
      "\t\t\t<section id=\"main\">\n",
      "\t\t\t\t<h2>Here are my biggest achievements</h2>\n",
      "\t\t\t\t<div class=\"box_timeline_holder\">\n",
      "\t\t\t\t\t<div class=\"box_timeline\">\n",
      "\t\t\t\t\t\t<ul>\n",
      "\t\t\t\t\t\t\t<li>\n",
      "\t\t\t\t\t\t\t\t<div class=\"date\">\n",
      "\t\t\t\t\t\t\t\t\t<span>12/09</span>\n",
      "\t\t\t\t\t\t\t\t</div>\n",
      "\t\t\t\t\t\t\t\t<h3>tempora incidunt</h3>\n",
      "\t\t\t\t\t\t\t\t<p>Dolor sit consectetur adipisicing elit, sed do eiusmod tempor</p>\n",
      "\t\t\t\t\t\t\t</li>\n",
      "\t\t\t\t\t\t\t<li>\n",
      "\t\t\t\t\t\t\t\t<div class=\"date\">\n",
      "\t\t\t\t\t\t\t\t\t<span>02/10</span>\n",
      "\t\t\t\t\t\t\t\t</div>\n",
      "\t\t\t\t\t\t\t\t<h3>nemo enim ipsam</h3>\n",
      "\t\t\t\t\t\t\t\t<p>Laudantium totam rem aperiam eaque ipsa quae</p>\n",
      "\t\t\t\t\t\t\t</li>\n",
      "\t\t\t\t\t\t\t<li>\n",
      "\t\t\t\t\t\t\t\t<div class=\"date\">\n",
      "\t\t\t\t\t\t\t\t\t<span>09/11</span>\n",
      "\t\t\t\t\t\t\t\t</div>\n",
      "\t\t\t\t\t\t\t\t<h3>unde omnis iste</h3>\n",
      "\t\t\t\t\t\t\t\t<p>Eaque ipsa quae illo inventore veritatis et quasi architecto </p>\n",
      "\t\t\t\t\t\t\t</li>\n",
      "\t\t\t\t\t\t\t<li>\n",
      "\t\t\t\t\t\t\t\t<div class=\"date\">\n",
      "\t\t\t\t\t\t\t\t\t<span>06/12</span>\n",
      "\t\t\t\t\t\t\t\t</div>\n",
      "\t\t\t\t\t\t\t\t<h3>porro quisquam</h3>\n",
      "\t\t\t\t\t\t\t\t<p>Dolorem ipsum quia consectetur adipisci velit sed quia non</p>\n",
      "\t\t\t\t\t\t\t</li>\n",
      "\t\t\t\t\t\t\t<li>\n",
      "\t\t\t\t\t\t\t\t<div class=\"date\">\n",
      "\t\t\t\t\t\t\t\t\t<span>11/13</span>\n",
      "\t\t\t\t\t\t\t\t</div>\n",
      "\t\t\t\t\t\t\t\t<h3>dolorem eum</h3>\n",
      "\t\t\t\t\t\t\t\t<p>Nodi tempora incidunt ut labore dolore magnam</p>\n",
      "\t\t\t\t\t\t\t</li>\n",
      "\t\t\t\t\t\t</ul>\n",
      "\t\t\t\t\t</div>\n",
      "\t\t\t\t</div>\n",
      "\t\t\t</section>\n",
      "\t\t</div>\n",
      "\t\t<footer id=\"footer\">\n",
      "\t\t\t<div class=\"footer-content\">\n",
      "\t\t\t\t<ul class=\"social\">\n",
      "\t\t\t\t\t<li class=\"email\"><a href=\"#\">Email</a></li>\n",
      "\t\t\t\t\t<li class=\"facebook\"><a href=\"#\">Facebook</a></li>\n",
      "\t\t\t\t\t<li class=\"google\"><a href=\"#\">Google+</a></li>\n",
      "\t\t\t\t\t<li class=\"twitter\"><a href=\"#\">Twitter</a></li>\n",
      "\t\t\t\t\t<li class=\"pinterest\"><a href=\"#\">Pinterest</a></li>\n",
      "\t\t\t\t</ul>\n",
      "\t\t\t\t<p class=\"copy\">Copyright 2014 John Markowitz. All rights reserved.</p>\n",
      "\t\t\t</div>\n",
      "\t\t</footer>\t\n",
      "\t</div>\n",
      "\t<script src=\"http://code.jquery.com/jquery-1.11.1.min.js\"></script>\n",
      "\t<script src=\"js/isotope.pkgd.min.js\"></script>\n",
      "\t<script src=\"js/cells-by-row.js\"></script>\n",
      "\t<script type=\"text/javascript\" src=\"js/fancybox/jquery.fancybox.pack.js\"></script>\n",
      "\t<script type=\"text/javascript\" src=\"js/main.js\"></script>\n",
      "</body>\n",
      "</html>\n"
     ]
    }
   ],
   "source": [
    "#사이트 내용 가져오기\n",
    "import urllib.request\n",
    "response=urllib.request.urlopen(\"https://sejong123.ivyro.net/\")\n",
    "html=response.read().decode('utf-8')\n",
    "print(html)"
   ]
  },
  {
   "cell_type": "code",
   "execution_count": 8,
   "id": "e3e5307d-e967-4419-bd62-5f90001d1e6a",
   "metadata": {},
   "outputs": [
    {
     "name": "stdout",
     "output_type": "stream",
     "text": [
      "Scheme: http\n"
     ]
    }
   ],
   "source": [
    "from urllib.parse import urlparse\n",
    "url=\"http://www.example.com/path?query=1#fragment\"\n",
    "parsed_url=urlparse(url)\n",
    "parsed_url\n",
    "\n",
    "print(\"Scheme:\",parsed_url.scheme)  #http"
   ]
  },
  {
   "cell_type": "code",
   "execution_count": 20,
   "id": "7a9dda41-c6d2-4460-a331-177df2ffa3f5",
   "metadata": {},
   "outputs": [
    {
     "name": "stdout",
     "output_type": "stream",
     "text": [
      "name=Hong&age=30&city=Seoul\n",
      "{'name': ['Hong'], 'age': ['30'], 'city': ['Seoul']}\n"
     ]
    }
   ],
   "source": [
    "#쿼리문자열 생성\n",
    "from urllib.parse import urlencode,parse_qs\n",
    "params={\n",
    "    'name':'Hong',\n",
    "    'age':30,\n",
    "    'city':'Seoul'\n",
    "}\n",
    "query_string=urlencode(params)\n",
    "print(query_string)\n",
    "\n",
    "parsed_params=parse_qs(query_string)\n",
    "print(parsed_params)"
   ]
  },
  {
   "cell_type": "code",
   "execution_count": 22,
   "id": "00ae3261-d549-461d-ae60-c7a5fb469983",
   "metadata": {},
   "outputs": [
    {
     "name": "stdout",
     "output_type": "stream",
     "text": [
      "{\n",
      "  \"args\": {}, \n",
      "  \"data\": \"{\\\"name\\\": \\\"John Doe\\\", \\\"age\\\": 30}\", \n",
      "  \"files\": {}, \n",
      "  \"form\": {}, \n",
      "  \"headers\": {\n",
      "    \"Accept-Encoding\": \"identity\", \n",
      "    \"Content-Length\": \"31\", \n",
      "    \"Content-Type\": \"application/json\", \n",
      "    \"Host\": \"httpbin.org\", \n",
      "    \"User-Agent\": \"Python-urllib/3.12\", \n",
      "    \"X-Amzn-Trace-Id\": \"Root=1-6743d546-7d3a59be7295e77713237394\"\n",
      "  }, \n",
      "  \"json\": {\n",
      "    \"age\": 30, \n",
      "    \"name\": \"John Doe\"\n",
      "  }, \n",
      "  \"origin\": \"221.150.237.129\", \n",
      "  \"url\": \"http://httpbin.org/post\"\n",
      "}\n",
      "\n"
     ]
    }
   ],
   "source": [
    "#post로 데이터 전송\n",
    "import urllib.request\n",
    "import json\n",
    "\n",
    "#POST 요청을 보내는 예제\n",
    "url = \"http://httpbin.org/post\"\n",
    "data = {\n",
    "    'name': 'John Doe',\n",
    "    'age': 30\n",
    "}\n",
    "\n",
    "#데이터 인코딩\n",
    "data_encoded = json.dumps(data).encode('utf-8')\n",
    "req = urllib.request.Request(url, data=data_encoded, method='POST')\n",
    "req.add_header('Content-Type', 'application/json')\n",
    "\n",
    "#응답 받기\n",
    "with urllib.request.urlopen(req) as response:\n",
    "    result = response.read().decode('utf-8')\n",
    "    print(result)"
   ]
  },
  {
   "cell_type": "code",
   "execution_count": 30,
   "id": "c9122c22-f79d-451b-a648-add52e7ec875",
   "metadata": {},
   "outputs": [
    {
     "name": "stdout",
     "output_type": "stream",
     "text": [
      "{\n",
      "  \"user-agent\": \"Mozilla/5.0 (Windows NT 10.0; Win64; x64) AppleWebKit/537.36 (KHTML, like Gecko) Chrome/131.0.0.0 Safari/537.36\"\n",
      "}\n",
      "\n"
     ]
    }
   ],
   "source": [
    "import urllib.request\n",
    "#https://www.whatismybrowser.com/detect/what-is-my-user-agent/\n",
    "\n",
    "#사용자 에이전트 설정\n",
    "url=\"http://httpbin.org/user-agent\"\n",
    "user_agent=\"Mozilla/5.0 (Windows NT 10.0; Win64; x64) AppleWebKit/537.36 (KHTML, like Gecko) Chrome/131.0.0.0 Safari/537.36\"\n",
    "req=urllib.request.Request(url,headers={'User-Agent':user_agent})\n",
    "\n",
    "#요청 보내기\n",
    "with urllib.request.urlopen(req) as response:\n",
    "    print(response.read().decode('utf-8'))"
   ]
  },
  {
   "cell_type": "code",
   "execution_count": 32,
   "id": "ca134eee-74e5-40b6-9a0d-ff7e15aa2275",
   "metadata": {},
   "outputs": [
    {
     "data": {
      "text/plain": [
       "('mypic.png', <http.client.HTTPMessage at 0x1f0239747a0>)"
      ]
     },
     "execution_count": 32,
     "metadata": {},
     "output_type": "execute_result"
    }
   ],
   "source": [
    "#이미지,파일 다운로드\n",
    "import urllib.request\n",
    "url=\"https://sejong123.ivyro.net/images/pic_08.png\"\n",
    "filename=\"mypic.png\"\n",
    "\n",
    "urllib.request.urlretrieve(url,filename)"
   ]
  },
  {
   "cell_type": "code",
   "execution_count": 67,
   "id": "9ed1ee8b-40df-4daf-b04e-3465e8f409d5",
   "metadata": {},
   "outputs": [
    {
     "name": "stdout",
     "output_type": "stream",
     "text": [
      "naver.jpg다운로드 성공\n"
     ]
    }
   ],
   "source": [
    "#이미지 다운로드\n",
    "import urllib.request\n",
    "url=\"https://image-comic.pstatic.net/webtoon/833255/thumbnail/thumbnail_IMAG21_504f6152-8a60-42a0-a1c0-43cd77f9c430.jpg\"\n",
    "filename=\"naver.jpg\"\n",
    "\n",
    "user_agent=\"Mozilla/5.0 (Windows NT 10.0; Win64; x64) AppleWebKit/537.36 (KHTML, like Gecko) Chrome/131.0.0.0 Safari/537.36\"\n",
    "req=urllib.request.Request(url, headers={'User-Agent':user_agent})\n",
    "\n",
    "with urllib.request.urlopen(req) as response:\n",
    "    with open(filename,'wb') as f:\n",
    "        f.write(response.read())\n",
    "print(f\"{filename}다운로드 성공\")"
   ]
  },
  {
   "cell_type": "markdown",
   "id": "789dbea9-f359-4a3e-a14c-8894fe2a09be",
   "metadata": {},
   "source": [
    "### 스크래핑"
   ]
  },
  {
   "cell_type": "code",
   "execution_count": 84,
   "id": "7d082b9b-73d4-4852-b4d3-7c5cdbecd947",
   "metadata": {},
   "outputs": [
    {
     "name": "stdout",
     "output_type": "stream",
     "text": [
      "<title>홈페이지</title>\n",
      "제목: 홈페이지\n",
      "h1: 안녕하세요\n",
      "내용: <p class=\"content\">컨텐츠 내용</p>\n",
      "링크: https://example.com\n",
      "이미지: https://example.com/image.jpg\n"
     ]
    }
   ],
   "source": [
    "from bs4 import BeautifulSoup\n",
    "html_doc='''\n",
    "<html>\n",
    "<head><title>홈페이지</title></head>\n",
    "<body>\n",
    "<h1>안녕하세요</h1>\n",
    "<p class=\"content\">컨텐츠 내용</p>\n",
    "<a href=\"https://example.com\">링크</a>\n",
    "<img src=\"https://example.com/image.jpg\" alt=\"예제 이미지\">\n",
    "</body>\n",
    "</html>\n",
    "'''\n",
    "soup=BeautifulSoup(html_doc,'html.parser')\n",
    "print(soup.title)\n",
    "\n",
    "print(f\"제목: {soup.title.string}\")\n",
    "print(f\"h1: {soup.h1.string}\")\n",
    "print(f\"내용: {soup.find('p')}\")\n",
    "print(f\"링크: {soup.a['href']}\")\n",
    "print(f\"이미지: {soup.find('img')['src']}\")"
   ]
  },
  {
   "cell_type": "code",
   "execution_count": 107,
   "id": "ada6e3ec-2253-4848-b620-e2058095bfc1",
   "metadata": {},
   "outputs": [
    {
     "name": "stdout",
     "output_type": "stream",
     "text": [
      "안녕하세요!\n",
      "첫 번째 단락\n",
      "첫 번째 단락\n",
      "첫 번째 단락\n"
     ]
    }
   ],
   "source": [
    "from bs4 import BeautifulSoup\n",
    "html_doc=\"\"\"\n",
    "<html>\n",
    "<head><title>홈페이지</title></head>\n",
    "<body>\n",
    "    <h1>안녕하세요!</h1>\n",
    "    <p class=\"content\">첫 번째 단락</p>\n",
    "    <p class=\"content\">두 번째 단락</p>\n",
    "</body>\n",
    "</html>\n",
    "\"\"\"\n",
    "soup=BeautifulSoup(html_doc, 'html.parser')\n",
    "h1=soup.find(\"h1\")\n",
    "print(h1.string)\n",
    "\n",
    "#cont=soup.find(class_=\"content\")\n",
    "#print(cont.string)\n",
    "\n",
    "cont1=soup.find(attrs={'class':'content'})\n",
    "print(cont1.string)\n",
    "\n",
    "cont2=soup.find('p',class_='content')\n",
    "print(cont2.string)\n",
    "\n",
    "#soup.find('태그명', attrs={'속성':'속성값'})\n",
    "cont3=soup.find('p',attrs={'class':'content'})\n",
    "print(cont3.string)"
   ]
  },
  {
   "cell_type": "markdown",
   "id": "1ab95cd4-d15d-4ab7-a61b-28da3a175e35",
   "metadata": {},
   "source": [
    "### find_all"
   ]
  },
  {
   "cell_type": "code",
   "execution_count": null,
   "id": "58d8c923-9341-485b-b463-272133117952",
   "metadata": {},
   "outputs": [],
   "source": [
    "#태그명이 p인 모든 태그 추출\n",
    "soup.find_all('p')"
   ]
  },
  {
   "cell_type": "code",
   "execution_count": 122,
   "id": "0537eab9-5a31-46b8-9a9c-66c9a7a35123",
   "metadata": {},
   "outputs": [
    {
     "name": "stdout",
     "output_type": "stream",
     "text": [
      "<p>: 첫 번째 단락\n",
      "<p>: 두 번째 단락\n",
      "<p>: 세 번째 단락\n",
      "첫 번째 단락\n",
      "두 번째 단락\n",
      "세 번째 단락\n",
      "첫 번째 단락\n",
      "두 번째 단락\n",
      "세 번째 단락\n",
      "첫 번째 단락\n",
      "두 번째 단락\n",
      "세 번째 단락\n"
     ]
    }
   ],
   "source": [
    "from bs4 import BeautifulSoup\n",
    "html_doc=\"\"\"\n",
    "<html>\n",
    "<head><title>홈페이지</title></head>\n",
    "<body>\n",
    "    <h1>안녕하세요!</h1>\n",
    "    <p class=\"content\">첫 번째 단락</p>\n",
    "    <p class=\"content\">두 번째 단락</p>\n",
    "    <p class=\"content\">세 번째 단락</p>\n",
    "</body>\n",
    "</html>\n",
    "\"\"\"\n",
    "soup=BeautifulSoup(html_doc,'html.parser')\n",
    "\n",
    "p_tags=soup.find_all('p')\n",
    "for p in p_tags:\n",
    "    print(f\"<p>: {p.string}\")\n",
    "\n",
    "#soup.find_all(속성='속성값')\n",
    "content_tags=soup.find_all(class_='content')\n",
    "for tag in content_tags:\n",
    "    print(f\"{tag.string}\")\n",
    "\n",
    "#soup.find_all(attrs={'속성':'속성값'})\n",
    "class_tags=soup.find_all(attrs={'class':'content'})\n",
    "for tag in class_tags:\n",
    "    print(f\"{tag.string}\")\n",
    "\n",
    "#soup.find_all('태그명',속성='속성값')\n",
    "p_content_tags=soup.find_all('p',attrs={'class':'content'})\n",
    "for tag in p_content_tags:\n",
    "    print(f\"{tag.string}\")"
   ]
  },
  {
   "cell_type": "code",
   "execution_count": 126,
   "id": "57dae4b1-ed18-4a02-818c-5fbcc80ef126",
   "metadata": {},
   "outputs": [
    {
     "name": "stdout",
     "output_type": "stream",
     "text": [
      "이미지 https://example.com/image1.jpg, 대체 텍스트: 첫 번째 이미지\n",
      "이미지 https://example.com/image2.jpg, 대체 텍스트: 두 번째 이미지\n",
      "이미지 https://example.com/image3.jpg, 대체 텍스트: 텍스트 없음\n"
     ]
    }
   ],
   "source": [
    "from bs4 import BeautifulSoup\n",
    "html_doc=\"\"\"\n",
    "<html>\n",
    "<head><title>홈페이지</title></head>\n",
    "<body>\n",
    "    <h1>안녕하세요!</h1>\n",
    "    <p class=\"content\">첫 번째 단락</p>\n",
    "    <div id=\"gallery\">\n",
    "        <img src=\"https://example.com/image1.jpg\" alt=\"첫 번째 이미지\" class=\"image\">\n",
    "        <img src=\"https://example.com/image2.jpg\" alt=\"두 번째 이미지\" class=\"image\">\n",
    "        <img src=\"https://example.com/image3.jpg\" class=\"image\">\n",
    "    </div>\n",
    "    <a href=\"https://example.com\" class=\"link\">링크</a>\n",
    "</body>\n",
    "</html>\n",
    "\"\"\"\n",
    "soup=BeautifulSoup(html_doc,'html.parser')\n",
    "\n",
    "img_tags=soup.find_all('img')\n",
    "for img in img_tags:\n",
    "    print(f\"이미지 {img['src']}, 대체 텍스트: {img.get('alt','텍스트 없음')}\")"
   ]
  },
  {
   "cell_type": "code",
   "execution_count": 128,
   "id": "98134761-e7c4-4401-95ad-9d2acd148e36",
   "metadata": {},
   "outputs": [
    {
     "name": "stdout",
     "output_type": "stream",
     "text": [
      "이미지:data:image/svg+xml;base64,PHN2ZyB4bWxucz0iaHR0cDovL3d3dy53My5vcmcvMjAwMC9zdmciIHdpZHRoPSIyMDAiIGhlaWdodD0iMjAwIj48cmVjdCB3aWR0aD0iMjAwIiBoZWlnaHQ9IjIwMCIgZmlsbD0iI2YwZjBmMCIvPjxyZWN0IHg9IjcwIiB5PSI0MCIgd2lkdGg9IjYwIiBoZWlnaHQ9IjEyMCIgcng9IjUiIGZpbGw9IiM2NjY2NjYiLz48L3N2Zz4=\n",
      "이미지:data:image/svg+xml;base64,PHN2ZyB4bWxucz0iaHR0cDovL3d3dy53My5vcmcvMjAwMC9zdmciIHdpZHRoPSIyMDAiIGhlaWdodD0iMjAwIj48cmVjdCB3aWR0aD0iMjAwIiBoZWlnaHQ9IjIwMCIgZmlsbD0iI2YwZjBmMCIvPjxyZWN0IHg9IjIwIiB5PSI2MCIgd2lkdGg9IjE2MCIgaGVpZ2h0PSI4MCIgcng9IjUiIGZpbGw9IiM2NjY2NjYiLz48L3N2Zz4=\n",
      "이미지:data:image/svg+xml;base64,PHN2ZyB4bWxucz0iaHR0cDovL3d3dy53My5vcmcvMjAwMC9zdmciIHdpZHRoPSIyMDAiIGhlaWdodD0iMjAwIj48cmVjdCB3aWR0aD0iMjAwIiBoZWlnaHQ9IjIwMCIgZmlsbD0iI2YwZjBmMCIvPjxyZWN0IHg9IjQwIiB5PSI0MCIgd2lkdGg9IjEyMCIgaGVpZ2h0PSIxMjAiIHJ4PSI1IiBmaWxsPSIjNjY2NjY2Ii8+PC9zdmc+\n",
      "이미지:data:image/svg+xml;base64,PHN2ZyB4bWxucz0iaHR0cDovL3d3dy53My5vcmcvMjAwMC9zdmciIHdpZHRoPSIyMDAiIGhlaWdodD0iMjAwIj48cmVjdCB3aWR0aD0iMjAwIiBoZWlnaHQ9IjIwMCIgZmlsbD0iI2YwZjBmMCIvPjxjaXJjbGUgY3g9IjEwMCIgY3k9IjEwMCIgcj0iNDAiIGZpbGw9IiM2NjY2NjYiLz48L3N2Zz4=\n"
     ]
    }
   ],
   "source": [
    "#웹 페이지에서 이미지 파일의 URL을 추출\n",
    "import urllib.request\n",
    "from bs4 import BeautifulSoup\n",
    "\n",
    "url=\"http://lecture.pul.kr/ex3.html\"\n",
    "\n",
    "response=urllib.request.urlopen(url)\n",
    "html_cont=response.read()\n",
    "\n",
    "soup=BeautifulSoup(html_cont,'html.parser')\n",
    "img_tags=soup.find_all('img')\n",
    "for img in img_tags:\n",
    "    print(f\"이미지:{img['src']}\")"
   ]
  },
  {
   "cell_type": "code",
   "execution_count": 132,
   "id": "93084e12-0425-423d-83dd-b122a510e22e",
   "metadata": {},
   "outputs": [
    {
     "name": "stdout",
     "output_type": "stream",
     "text": [
      "모든 <p>태그:\n",
      "첫 번째 단락\n",
      "두 번째 단락\n",
      "세 번째 단락\n",
      "네 번째 단락\n",
      "다섯 번째 단락\n"
     ]
    }
   ],
   "source": [
    "from bs4 import BeautifulSoup\n",
    "html_doc=\"\"\"\n",
    "<html>\n",
    "<head><title>홈페이지</title></head>\n",
    "<body>\n",
    "    <h1>안녕하세요!</h1>\n",
    "    <p class=\"content\">첫 번째 단락</p>\n",
    "    <p class=\"content\">두 번째 단락</p>\n",
    "    <p class=\"content\">세 번째 단락</p>\n",
    "    <div id=\"main\">\n",
    "        <p class=\"content\">네 번째 단락</p>\n",
    "        <p class=\"content\">다섯 번째 단락</p>\n",
    "        <img src=\"https://example.com/image1.jpg\" alt=\"첫 번째 이미지\" class=\"image\">\n",
    "    </div>\n",
    "    <a href=\"https://example.com\" class=\"link\">링크</a>\n",
    "    <img src=\"https://example.com/image2.jpg\" alt=\"두 번째 이미지\" class=\"image\">   \n",
    "</body>\n",
    "</html>\n",
    "\"\"\"\n",
    "\n",
    "soup=BeautifulSoup(html_doc,'html.parser')\n",
    "\n",
    "p_tags=soup.select('p')\n",
    "print(\"모든 <p>태그:\")\n",
    "for p in p_tags:\n",
    "    print(p.string)"
   ]
  },
  {
   "cell_type": "code",
   "execution_count": 134,
   "id": "ccdde9b1-1bb5-44fc-be7e-f4299901431d",
   "metadata": {},
   "outputs": [
    {
     "name": "stdout",
     "output_type": "stream",
     "text": [
      "['content']\n",
      "['content']\n",
      "['content']\n",
      "['content']\n",
      "['content']\n"
     ]
    }
   ],
   "source": [
    "for p in p_tags:\n",
    "    print(p[\"class\"])"
   ]
  },
  {
   "cell_type": "code",
   "execution_count": 136,
   "id": "78018470-e594-4412-a833-c3ac885a53dd",
   "metadata": {},
   "outputs": [
    {
     "name": "stdout",
     "output_type": "stream",
     "text": [
      "첫 번째 단락\n",
      "두 번째 단락\n",
      "세 번째 단락\n",
      "네 번째 단락\n",
      "다섯 번째 단락\n"
     ]
    }
   ],
   "source": [
    "content_tags=soup.select('.content')\n",
    "for tag in content_tags:\n",
    "    print(tag.string)"
   ]
  },
  {
   "cell_type": "code",
   "execution_count": 138,
   "id": "c082614f-c00c-4162-a220-d774b77f9797",
   "metadata": {},
   "outputs": [
    {
     "name": "stdout",
     "output_type": "stream",
     "text": [
      "<div id=\"main\">\n",
      "<p class=\"content\">네 번째 단락</p>\n",
      "<p class=\"content\">다섯 번째 단락</p>\n",
      "<img alt=\"첫 번째 이미지\" class=\"image\" src=\"https://example.com/image1.jpg\"/>\n",
      "</div>\n"
     ]
    }
   ],
   "source": [
    "main_div=soup.select(\"#main\")\n",
    "for m in main_div:\n",
    "    print(m)"
   ]
  },
  {
   "cell_type": "markdown",
   "id": "02363e6d-03eb-492b-bf83-3ddfadceb702",
   "metadata": {},
   "source": [
    "main_p_tags=soup.select('#main p')\n",
    "for p in main_p_tags:\n",
    "    print(p.string)"
   ]
  },
  {
   "cell_type": "code",
   "execution_count": 146,
   "id": "2bfaa4c7-c5c2-4647-97fe-05839e67e3be",
   "metadata": {},
   "outputs": [
    {
     "name": "stdout",
     "output_type": "stream",
     "text": [
      "https://example.com\n"
     ]
    }
   ],
   "source": [
    "link_tag=soup.select('a.link')\n",
    "print(link_tag[0]['href'] if link_tag else \"해당 요소 없음\")"
   ]
  },
  {
   "cell_type": "code",
   "execution_count": 148,
   "id": "186cd1c5-8568-491f-bded-d4cb24fe132c",
   "metadata": {},
   "outputs": [
    {
     "name": "stdout",
     "output_type": "stream",
     "text": [
      "이미지 링크: https://example.com/image1.jpg, 대체 텍스트: 첫 번째 이미지\n",
      "이미지 링크: https://example.com/image2.jpg, 대체 텍스트: 두 번째 이미지\n"
     ]
    }
   ],
   "source": [
    "img_tags=soup.select('img')\n",
    "for img in img_tags:\n",
    "    print(f\"이미지 링크: {img['src']}, 대체 텍스트: {img['alt']}\")"
   ]
  },
  {
   "cell_type": "code",
   "execution_count": 163,
   "id": "59b8ea41-2ceb-4d08-b3b1-8a196f2cbf89",
   "metadata": {},
   "outputs": [
    {
     "name": "stdout",
     "output_type": "stream",
     "text": [
      "네 번째 단락\n",
      "네 번째 단락\n",
      "다섯 번째 단락\n",
      "다섯 번째 단락\n"
     ]
    }
   ],
   "source": [
    "main_p_tags=soup.select(\"#main p\")\n",
    "for p in main_p_tags:\n",
    "    print(p.string)\n",
    "    print(p.get_text())  #get_text():요소 내부의 모든 텍스트 가져옴"
   ]
  },
  {
   "cell_type": "markdown",
   "id": "8dfdbc4c-5876-4964-afe2-4896d879254e",
   "metadata": {},
   "source": [
    "### request모듈"
   ]
  },
  {
   "cell_type": "code",
   "execution_count": 168,
   "id": "15aa01ed-74b8-4daf-8a9b-cf83c34a9cf9",
   "metadata": {
    "scrolled": true
   },
   "outputs": [
    {
     "name": "stdout",
     "output_type": "stream",
     "text": [
      "200\n",
      "<!DOCTYPE html>\n",
      "<html lang=\"ko\">\n",
      "<head>\n",
      "    <meta charset=\"UTF-8\">\n",
      "    <meta name=\"viewport\" content=\"width=device-width, initial-scale=1.0\">\n",
      "    <title>Example Domain</title>\n",
      "    <style>\n",
      "        body {\n",
      "            background-color: #fff;\n",
      "            color: #404040;\n",
      "            font-family: -apple-system, BlinkMacSystemFont, 'Segoe UI', Arial, sans-serif;\n",
      "            margin: 0;\n",
      "            padding: 0;\n",
      "            display: flex;\n",
      "            justify-content: center;\n",
      "            align-items: center;\n",
      "            min-height: 100vh;\n",
      "            line-height: 1.6;\n",
      "        }\n",
      "        .container {\n",
      "            max-width: 600px;\n",
      "            padding: 20px;\n",
      "            text-align: center;\n",
      "        }\n",
      "        h1 {\n",
      "            font-size: 2em;\n",
      "            margin: 10px 0;\n",
      "            color: #2f2f2f;\n",
      "        }\n",
      "        p {\n",
      "            margin: 15px 0;\n",
      "        }\n",
      "        a {\n",
      "            color: #0068c3;\n",
      "            text-decoration: none;\n",
      "        }\n",
      "        a:hover {\n",
      "            text-decoration: underline;\n",
      "        }\n",
      "    </style>\n",
      "</head>\n",
      "<body>\n",
      "    <div class=\"container\">\n",
      "        <h1>Example Domain</h1>\n",
      "        <p>This domain is for use in illustrative examples in documents. You may use this domain in literature without prior coordination or asking for permission.</p>\n",
      "        <p><a href=\"#\">More information...</a></p>\n",
      "    </div>\n",
      "</body>\n",
      "</html>\n"
     ]
    }
   ],
   "source": [
    "#http://lecture.pul.kr/ex1.html**의 HTML 문서를 가져오고, 응답 상태 코드와 HTML 소스를 출력\n",
    "import requests\n",
    "\n",
    "response=requests.get('http://lecture.pul.kr/ex1.html')\n",
    "print(response.status_code)\n",
    "print(response.text)"
   ]
  },
  {
   "cell_type": "code",
   "execution_count": 170,
   "id": "adc776e4-7039-423d-848a-b781f3818579",
   "metadata": {},
   "outputs": [
    {
     "name": "stdout",
     "output_type": "stream",
     "text": [
      "201\n",
      "{'title': 'foo', 'body': 'bar', 'userId': 1, 'id': 101}\n"
     ]
    }
   ],
   "source": [
    "#post로 값 전달하기\n",
    "import requests\n",
    "data={'title':'foo','body':'bar','userId':1}\n",
    "response=requests.post('https://jsonplaceholder.typicode.com/posts', json=data)\n",
    "\n",
    "print(response.status_code)\n",
    "print(response.json())"
   ]
  },
  {
   "cell_type": "code",
   "execution_count": 188,
   "id": "d9810ae0-b4b9-417d-9385-d1ccf975f7ed",
   "metadata": {},
   "outputs": [
    {
     "name": "stdout",
     "output_type": "stream",
     "text": [
      "201\n",
      "{'id': 101}\n"
     ]
    }
   ],
   "source": [
    "import requests\n",
    "params={'title':'foo','body':'bar','userId':1}\n",
    "response=requests.post('https://jsonplaceholder.typicode.com/posts', params=params)\n",
    "\n",
    "print(response.status_code)\n",
    "print(response.json())"
   ]
  },
  {
   "cell_type": "code",
   "execution_count": 202,
   "id": "0fd43504-e238-4640-8f36-1e30bfaa7c27",
   "metadata": {},
   "outputs": [
    {
     "name": "stdout",
     "output_type": "stream",
     "text": [
      "410\n"
     ]
    }
   ],
   "source": [
    "#파일을 HTTP POST 요청으로 업로드\n",
    "import requests\n",
    "files={'file':open('products.txt','rb')}\n",
    "response=requests.post('https://api.products.com/upload',files=files,params=params)\n",
    "print(response.status_code)"
   ]
  },
  {
   "cell_type": "code",
   "execution_count": 198,
   "id": "c6fc0c92-59ef-4d84-8283-ae38ed4f4d28",
   "metadata": {},
   "outputs": [
    {
     "name": "stdout",
     "output_type": "stream",
     "text": [
      "<!DOCTYPE HTML PUBLIC \"-//W3C//DTD HTML 3.2 Final//EN\">\n",
      "<title>405 Method Not Allowed</title>\n",
      "<h1>Method Not Allowed</h1>\n",
      "<p>The method is not allowed for the requested URL.</p>\n",
      "\n"
     ]
    }
   ],
   "source": [
    "#헤더 정보\n",
    "import requests\n",
    "headers={'Authorization':'Bearer YOUR_TOKEN'}\n",
    "response=requests.get('https://httpbin.org/post',headers=headers)\n",
    "print(response.text)"
   ]
  },
  {
   "cell_type": "code",
   "execution_count": 204,
   "id": "ed4303cc-2ad4-428f-b5df-e62aabf6a0d0",
   "metadata": {},
   "outputs": [
    {
     "name": "stdout",
     "output_type": "stream",
     "text": [
      "상태 코드: 401\n",
      "오류 발생: {\"message\":\"Bad credentials\",\"documentation_url\":\"https://docs.github.com/rest\",\"status\":\"401\"}\n"
     ]
    }
   ],
   "source": [
    "import requests\n",
    "\n",
    "#예시로 사용자 정보를 가져오는 API\n",
    "url='https://api.github.com/user'\n",
    "\n",
    "#github token설정: settings>developer settings<personal access tokens에서 생성\n",
    "headers={'Authorization':'Bearer YOUR_TOKEN'}\n",
    "#headers={'User-Agent':'Mozilla/5.0 (Windows NT 10.0; Win64; x64) AppleWebKit/537.36 (KHTML, like Gecko) Chrome/131.0.0.0 Safari/537.36'}\n",
    "\n",
    "#get 요청 보내기\n",
    "response=requests.get(url,headers=headers)\n",
    "\n",
    "#응답 상태 코드 출력\n",
    "print(\"상태 코드:\", response.status_code)\n",
    "\n",
    "#응답 내용 확인\n",
    "if response.status_code==200:\n",
    "    print(\"응답 내용:\", response.json())  #json형식으로 응답 내용 출력\n",
    "else:\n",
    "    print(\"오류 발생:\", response.text)  #텍스트 형식\n",
    "\n",
    "#print(response.content)바이너리 형식"
   ]
  },
  {
   "cell_type": "code",
   "execution_count": 208,
   "id": "6f47b0bf-f8c4-494c-87c9-1edf158b0620",
   "metadata": {},
   "outputs": [
    {
     "name": "stdout",
     "output_type": "stream",
     "text": [
      "제목: Example Domain\n",
      "메인 제목: Example Domain\n",
      "본문: This domain is for use in illustrative examples in documents. You may use this domain in literature without prior coordination or asking for permission.\n",
      "\n",
      "링크 목록:\n",
      " - #\n"
     ]
    }
   ],
   "source": [
    "#http://lecture.pul.kr/ex1.html\n",
    "#타이틀\n",
    "#메인제목(h1)\n",
    "#본문(p)\n",
    "#링크 목록 표시\n",
    "\n",
    "import requests\n",
    "from bs4 import BeautifulSoup\n",
    "\n",
    "url='http://lecture.pul.kr/ex1.html'\n",
    "response=requests.get(url)\n",
    "\n",
    "soup=BeautifulSoup(response.text,\"html.parser\")\n",
    "title=soup.title.text\n",
    "main_heading=soup.find(\"h1\").text\n",
    "paragraph=soup.find(\"p\").text\n",
    "links=soup.find_all(\"a\")\n",
    "\n",
    "print(f\"제목: {title}\")\n",
    "print(f\"메인 제목: {main_heading}\")\n",
    "print(f\"본문: {paragraph}\")\n",
    "print(\"\\n링크 목록:\")\n",
    "for link in links:\n",
    "    print(f\" - {link.get(\"href\")}\")"
   ]
  },
  {
   "cell_type": "code",
   "execution_count": 252,
   "id": "f89d9a44-ac21-4048-979c-a7d79bc5e52f",
   "metadata": {},
   "outputs": [
    {
     "name": "stdout",
     "output_type": "stream",
     "text": [
      "상품명: 스마트폰 A, 가격: 899,000원\n",
      "상품명: 노트북 B, 가격: 1,299,000원\n",
      "상품명: 태블릿 C, 가격: 599,000원\n",
      "상품명: 스마트워치 D, 가격: 299,000원\n"
     ]
    }
   ],
   "source": [
    "import requests\n",
    "from bs4 import BeautifulSoup\n",
    "url='http://lecture.pul.kr/ex2.html'\n",
    "\n",
    "response=requests.get(url)\n",
    "soup=BeautifulSoup(response.text,\"html.parser\")\n",
    "\n",
    "products=soup.select(\"div.product\")\n",
    "for product in products:\n",
    "    name=product.select_one(\"h2.name\").text\n",
    "    price=product.select_one(\"span.price\").text\n",
    "    print(f\"상품명: {name}, 가격: {price}\")"
   ]
  },
  {
   "cell_type": "code",
   "execution_count": 268,
   "id": "a5cb8ca3-6ab2-4f8f-b7f9-a8cb201593ab",
   "metadata": {},
   "outputs": [
    {
     "name": "stdout",
     "output_type": "stream",
     "text": [
      "상품명: 커피 머신, 가격:150,000원, \n",
      "설명:향긋한 커피를 즐길 수 있는 머신입니다.\n",
      "\n",
      "상품명: 믹서기, 가격:75,000원, \n",
      "설명:신선한 스무디를 만들어주는 믹서기입니다.\n",
      "\n",
      "상품명: 전자레인지, 가격:120,000원, \n",
      "설명:빠른 조리를 도와주는 전자레인지입니다.\n",
      "\n",
      "상품명: 헤어 드라이어, 가격:50,000원, \n",
      "설명:강력한 바람의 헤어 드라이어입니다.\n",
      "\n"
     ]
    }
   ],
   "source": [
    "import requests\n",
    "from bs4 import BeautifulSoup\n",
    "url='http://10.0.66.99/ex1.html'\n",
    "\n",
    "response=requests.get(url)\n",
    "response.encoding='utf-8'\n",
    "soup=BeautifulSoup(response.text,\"html.parser\")\n",
    "\n",
    "products=soup.select(\"div.item\")\n",
    "for product in products:\n",
    "    name=product.select_one(\"h3.title\").text\n",
    "    cost=product.select_one(\"span.cost\").text\n",
    "    details=product.select_one(\"p.details\").text\n",
    "    print(f\"상품명: {name}, 가격:{cost}, \\n설명:{details}\\n\")"
   ]
  },
  {
   "cell_type": "code",
   "execution_count": 289,
   "id": "5e9b3569-1af8-4f6e-84ec-b178b1f7249b",
   "metadata": {},
   "outputs": [
    {
     "name": "stdout",
     "output_type": "stream",
     "text": [
      "상품명: 스마트폰 A, 가격: 899,000원, 설명:최신 프리미엄 스마트폰\n",
      "상품명: 노트북 B, 가격: 1,299,000원, 설명:최신 프리미엄 스마트폰\n",
      "상품명: 태블릿 C, 가격: 599,000원, 설명:최신 프리미엄 스마트폰\n",
      "상품명: 스마트워치 D, 가격: 299,000원, 설명:최신 프리미엄 스마트폰\n"
     ]
    }
   ],
   "source": [
    "import requests\n",
    "from bs4 import BeautifulSoup\n",
    "url='http://lecture.pul.kr/ex3.html'\n",
    "\n",
    "response=requests.get(url)\n",
    "soup=BeautifulSoup(response.text,\"html.parser\")\n",
    "\n",
    "products=soup.select(\"div.product\")\n",
    "for product in products:\n",
    "    name=product.select_one(\"h2.name\").text\n",
    "    price=product.select_one(\"span.price\").text\n",
    "    detail=product.select_one(\"p.description\").text\n",
    "    print(f\"상품명: {name}, 가격: {price}, 설명:{a}\")"
   ]
  },
  {
   "cell_type": "code",
   "execution_count": 313,
   "id": "0df0d69a-4cb2-4004-95f3-83754f566ec4",
   "metadata": {},
   "outputs": [
    {
     "data": {
      "text/plain": [
       "[{'상품': '스마트폰 A', '가격': '899,000원', '설명': '최신 프리미엄 스마트폰'},\n",
       " {'상품': '노트북 B', '가격': '1,299,000원', '설명': '고성능 비즈니스 노트북'},\n",
       " {'상품': '태블릿 C', '가격': '599,000원', '설명': '휴대성 좋은 태블릿'},\n",
       " {'상품': '스마트워치 D', '가격': '299,000원', '설명': '건강관리 스마트워치'}]"
      ]
     },
     "execution_count": 313,
     "metadata": {},
     "output_type": "execute_result"
    }
   ],
   "source": [
    "import requests\n",
    "from bs4 import BeautifulSoup\n",
    "url='http://lecture.pul.kr/ex3.html'\n",
    "\n",
    "response=requests.get(url)\n",
    "soup=BeautifulSoup(response.text,\"html.parser\")\n",
    "\n",
    "a={}\n",
    "b=[]\n",
    "products=soup.select(\"div.product\")\n",
    "\n",
    "\n",
    "for product in products:\n",
    "    a ={\n",
    "        '상품':product.select_one(\"h2.name\").text,\n",
    "        '가격':product.select_one(\"span.price\").text,\n",
    "        '설명':product.select_one(\"p.description\").text,\n",
    "    }\n",
    "    b.append(a)\n",
    "b"
   ]
  },
  {
   "cell_type": "code",
   "execution_count": 335,
   "id": "6c7faa66-28a3-4eb3-b979-31fcc6d80195",
   "metadata": {},
   "outputs": [
    {
     "data": {
      "text/plain": [
       "[{'상품': '스마트폰 A', '가격': '899,000원', '설명': '최신 프리미엄 스마트폰'},\n",
       " {'상품': '노트북 B', '가격': '1,299,000원', '설명': '고성능 비즈니스 노트북'},\n",
       " {'상품': '태블릿 C', '가격': '599,000원', '설명': '휴대성 좋은 태블릿'},\n",
       " {'상품': '스마트워치 D', '가격': '299,000원', '설명': '건강관리 스마트워치'}]"
      ]
     },
     "execution_count": 335,
     "metadata": {},
     "output_type": "execute_result"
    }
   ],
   "source": [
    "import requests\n",
    "from bs4 import BeautifulSoup\n",
    "url='http://lecture.pul.kr/ex3.html'\n",
    "\n",
    "response=requests.get(url)\n",
    "soup=BeautifulSoup(response.text,\"html.parser\")\n",
    "\n",
    "products=soup.select(\"div.product\")\n",
    "\n",
    "p=[\n",
    "    {   \"상품\":product.select_one(\"h2.name\").text,\n",
    "        '가격':product.select_one(\"span.price\").text,\n",
    "        '설명':product.select_one(\"p.description\").text,\n",
    "    } for product in products\n",
    "]\n",
    "p"
   ]
  },
  {
   "cell_type": "code",
   "execution_count": null,
   "id": "034fa4f4-ac54-47a4-b8f1-d577f350869b",
   "metadata": {},
   "outputs": [],
   "source": []
  },
  {
   "cell_type": "code",
   "execution_count": null,
   "id": "a0192211-1221-4372-8757-9fcbd0a09293",
   "metadata": {},
   "outputs": [],
   "source": []
  }
 ],
 "metadata": {
  "kernelspec": {
   "display_name": "Python 3 (ipykernel)",
   "language": "python",
   "name": "python3"
  },
  "language_info": {
   "codemirror_mode": {
    "name": "ipython",
    "version": 3
   },
   "file_extension": ".py",
   "mimetype": "text/x-python",
   "name": "python",
   "nbconvert_exporter": "python",
   "pygments_lexer": "ipython3",
   "version": "3.12.7"
  }
 },
 "nbformat": 4,
 "nbformat_minor": 5
}
