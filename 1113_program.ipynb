{
 "cells": [
  {
   "cell_type": "code",
   "execution_count": 5,
   "id": "78a8079c-1d21-4ef7-a9ff-557d0292f608",
   "metadata": {},
   "outputs": [
    {
     "name": "stdout",
     "output_type": "stream",
     "text": [
      "2024\n"
     ]
    }
   ],
   "source": [
    "import datetime\n",
    "now = datetime.datetime.now()\n",
    "print(now.year)"
   ]
  },
  {
   "cell_type": "code",
   "execution_count": 10,
   "id": "6a38dea0-1a06-40c3-b334-5e30031799a5",
   "metadata": {},
   "outputs": [
    {
     "name": "stdout",
     "output_type": "stream",
     "text": [
      "현재시간: 2024-11-13 12:18:14\n"
     ]
    }
   ],
   "source": [
    "from datetime import datetime\n",
    "now=datetime.now()\n",
    "formatted_date=now.strftime(\"%Y-%m-%d %H:%M:%S\")\n",
    "print(\"현재시간:\", formatted_date)"
   ]
  },
  {
   "cell_type": "code",
   "execution_count": null,
   "id": "a358e325-f5e8-4263-bf68-0b20b1e842fd",
   "metadata": {},
   "outputs": [],
   "source": [
    "%Y: 4자리 연도 (예: 2023)\n",
    "%y: 2자리 연도 (예: 23)\n",
    "%m: 2자리 월 (01-12)\n",
    "%d: 2자리 일 (01-31)\n",
    "%H: 24시간제 시 (00-23)\n",
    "%I: 12시간제 시 (01-12)\n",
    "%M: 분 (00-59)\n",
    "%S: 초 (00-59)\n",
    "%A: 요일 이름 (예: Monday)\n",
    "%B: 월 이름 (예: January)"
   ]
  },
  {
   "cell_type": "markdown",
   "id": "ffe41408-ea1c-43bb-bcf2-cf9e73c80fbe",
   "metadata": {},
   "source": [
    "### timedelta모듈"
   ]
  },
  {
   "cell_type": "code",
   "execution_count": 17,
   "id": "7ed23eb6-0071-490e-98c8-73aeaad24401",
   "metadata": {},
   "outputs": [
    {
     "name": "stdout",
     "output_type": "stream",
     "text": [
      "5 days, 0:00:00 3:00:00 0:30:00\n"
     ]
    }
   ],
   "source": [
    "from datetime import timedelta\n",
    "t1=timedelta(days=5)  #5일\n",
    "t2=timedelta(hours=3)\n",
    "t3=timedelta(minutes=30)\n",
    "print(t1,t2,t3)"
   ]
  },
  {
   "cell_type": "code",
   "execution_count": null,
   "id": "7ba74152-ef04-4584-8522-3cb75868ada0",
   "metadata": {},
   "outputs": [],
   "source": [
    "days: 일 수 (정수)\n",
    "seconds: 초 (정수)\n",
    "microseconds: 마이크로초 (정수)\n",
    "milliseconds: 밀리초 (정수)\n",
    "minutes: 분 (정수)\n",
    "hours: 시간 (정수)\n",
    "weeks: 주 (정수)"
   ]
  },
  {
   "cell_type": "code",
   "execution_count": 21,
   "id": "ef5521ae-8e8b-4b7a-b626-6146b574aabc",
   "metadata": {},
   "outputs": [
    {
     "name": "stdout",
     "output_type": "stream",
     "text": [
      "현재시간: 2024-11-13 12:26:19.710104\n",
      "10일 후: 2024-11-23 12:26:19.710104\n",
      "3시간 전: 2024-11-13 17:26:19.710104\n"
     ]
    }
   ],
   "source": [
    "from datetime import datetime, timedelta\n",
    "now=datetime.now()\n",
    "print(\"현재시간:\",now)\n",
    "\n",
    "#10일후\n",
    "future_date=now+timedelta(days=10)\n",
    "print(\"10일 후:\", future_date)\n",
    "\n",
    "#3시간전\n",
    "past_time=now+timedelta(hours=5)\n",
    "print(\"3시간 전:\", past_time)"
   ]
  },
  {
   "cell_type": "code",
   "execution_count": 26,
   "id": "b263b6fe-e0f6-4b79-b029-272ecc8a7bf5",
   "metadata": {},
   "outputs": [
    {
     "name": "stdout",
     "output_type": "stream",
     "text": [
      "일 수: 1\n",
      "초 수: 19800\n",
      "총 초 수: 106200.0\n"
     ]
    }
   ],
   "source": [
    "delta=timedelta(days=1, hours=5, minutes=30)\n",
    "print(\"일 수:\", delta.days)\n",
    "print(\"초 수:\", delta.seconds)\n",
    "print(\"총 초 수:\", delta.total_seconds())"
   ]
  },
  {
   "cell_type": "code",
   "execution_count": null,
   "id": "2879ad2b-072d-450a-b8cc-f824c2f6946b",
   "metadata": {},
   "outputs": [],
   "source": [
    "[timedelta 객체는 다음과 같은 속성 제공]\n",
    "days: 타임델타 객체의 일 수\n",
    "seconds: 타임델타 객체의 초 수 (일에 포함되지 않는)\n",
    "microseconds: 타임델타 객체의 마이크로초 수\n",
    "total_seconds(): 타임델타 객체를 초 단위로 변환한 값"
   ]
  },
  {
   "cell_type": "code",
   "execution_count": 33,
   "id": "6fdb308e-7ce7-4d39-a24d-2e20a80211ec",
   "metadata": {},
   "outputs": [
    {
     "name": "stdin",
     "output_type": "stream",
     "text": [
      "날짜를 입력하세요 (YYYY-MM-DD 형식):  2024-12-25\n"
     ]
    },
    {
     "name": "stdout",
     "output_type": "stream",
     "text": [
      "2024-12-25에서 10일 후: 2025-01-04\n",
      "2024-12-25에서 5일 전: 2024-12-20\n"
     ]
    }
   ],
   "source": [
    "from datetime import datetime, timedelta\n",
    "\n",
    "input_date = input(\"날짜를 입력하세요 (YYYY-MM-DD 형식): \")\n",
    "date_obj = datetime.strptime(input_date, '%Y-%m-%d')\n",
    "\n",
    "# 10일 더하기\n",
    "new_date = date_obj + timedelta(days=10)\n",
    "print(f\"{input_date}에서 10일 후: {new_date.strftime('%Y-%m-%d')}\")\n",
    "\n",
    "# 5일 빼기\n",
    "previous_date = date_obj + timedelta(days=-5)\n",
    "print(f\"{input_date}에서 5일 전: {previous_date.strftime('%Y-%m-%d')}\")"
   ]
  },
  {
   "cell_type": "markdown",
   "id": "4d9a9c80-ddff-4873-8272-dfac62fabe56",
   "metadata": {},
   "source": [
    "### time 모듈"
   ]
  },
  {
   "cell_type": "code",
   "execution_count": 43,
   "id": "6de7abd6-dc95-49ee-b18b-e5825656c526",
   "metadata": {},
   "outputs": [
    {
     "name": "stdout",
     "output_type": "stream",
     "text": [
      "현재 시간(초): 1731469176.1510804\n",
      "현재 시간: 2024-11-13 12:39:36\n"
     ]
    }
   ],
   "source": [
    "import time\n",
    "\n",
    "# 현재 시간을 초 단위로 출력\n",
    "current_time = time.time()\n",
    "print(\"현재 시간(초):\", current_time)\n",
    "\n",
    "# 로컬 시간을 구조체로 가져오기\n",
    "local_time = time.localtime()\n",
    "print(\"현재 시간:\", time.strftime('%Y-%m-%d %H:%M:%S', local_time))"
   ]
  },
  {
   "cell_type": "code",
   "execution_count": 37,
   "id": "4683f1d9-a403-4c7a-8254-23e57ab76111",
   "metadata": {},
   "outputs": [
    {
     "name": "stdout",
     "output_type": "stream",
     "text": [
      "시작\n",
      "5초 후\n"
     ]
    }
   ],
   "source": [
    "import time\n",
    "print(\"시작\")\n",
    "time.sleep(5)\n",
    "print(\"5초 후\")"
   ]
  },
  {
   "cell_type": "code",
   "execution_count": 46,
   "id": "330159a6-078e-4f37-857b-00750bff68ff",
   "metadata": {},
   "outputs": [
    {
     "name": "stdin",
     "output_type": "stream",
     "text": [
      "타이머를 몇 분으로 설정하시겠습니까?  1\n"
     ]
    },
    {
     "name": "stdout",
     "output_type": "stream",
     "text": [
      "타이머 시작: 1분 후에 알림이 옵니다.\n",
      "남은 시간: 0:00:00.972517\n",
      "타이머 완료! 시간입니다!\n"
     ]
    }
   ],
   "source": [
    "from datetime import datetime, timedelta\n",
    "import time\n",
    "\n",
    "def start_timer(minutes):\n",
    "    \"\"\"타이머를 시작하는 함수\"\"\"\n",
    "    duration = timedelta(minutes=minutes)  # 타이머 시간 설정\n",
    "    end_time = datetime.now() + duration  # 종료 시간 계산\n",
    "\n",
    "    print(f\"타이머 시작: {minutes}분 후에 알림이 옵니다.\")\n",
    "    while datetime.now() < end_time:\n",
    "        time_left = end_time - datetime.now()\n",
    "\n",
    "        # 같은 줄에 남은 시간 출력\n",
    "        print(f\"남은 시간: {time_left}\", end='\\r') \n",
    "        time.sleep(1)  # 1초 대기\n",
    "\n",
    "    print(\"\\n타이머 완료! 시간입니다!\")\n",
    "\n",
    "# 프로그램 실행\n",
    "\n",
    "# 사용자로부터 분 단위 입력 받기\n",
    "try:\n",
    "    minutes = int(input(\"타이머를 몇 분으로 설정하시겠습니까? \"))\n",
    "    if minutes <= 0:\n",
    "        raise ValueError(\"0 또는 그 이하의 값은 입력할 수 없습니다.\")\n",
    "    start_timer(minutes)\n",
    "except ValueError as e:\n",
    "    print(f\"잘못된 입력: {e}\")"
   ]
  },
  {
   "cell_type": "markdown",
   "id": "11ac68f8-4204-49e1-b7ed-5078810638aa",
   "metadata": {},
   "source": [
    "### 일정 추가해서 일정을 events.txt파일에 저장"
   ]
  },
  {
   "cell_type": "code",
   "execution_count": 2,
   "id": "c76acf48-fefa-43e3-b047-3a1df919248f",
   "metadata": {},
   "outputs": [
    {
     "ename": "ValueError",
     "evalue": "not enough values to unpack (expected 2, got 1)",
     "output_type": "error",
     "traceback": [
      "\u001b[1;31m---------------------------------------------------------------------------\u001b[0m",
      "\u001b[1;31mValueError\u001b[0m                                Traceback (most recent call last)",
      "Cell \u001b[1;32mIn[2], line 87\u001b[0m\n\u001b[0;32m     84\u001b[0m         \u001b[38;5;28;01melse\u001b[39;00m:\n\u001b[0;32m     85\u001b[0m             \u001b[38;5;28mprint\u001b[39m(\u001b[38;5;124m\"\u001b[39m\u001b[38;5;124m잘못된 선택입니다. 다시 시도하세요\u001b[39m\u001b[38;5;124m\"\u001b[39m)\n\u001b[1;32m---> 87\u001b[0m main()\n",
      "Cell \u001b[1;32mIn[2], line 62\u001b[0m, in \u001b[0;36mmain\u001b[1;34m()\u001b[0m\n\u001b[0;32m     61\u001b[0m \u001b[38;5;28;01mdef\u001b[39;00m \u001b[38;5;21mmain\u001b[39m():\n\u001b[1;32m---> 62\u001b[0m     load_events()\n\u001b[0;32m     63\u001b[0m     \u001b[38;5;28;01mwhile\u001b[39;00m \u001b[38;5;28;01mTrue\u001b[39;00m:\n\u001b[0;32m     64\u001b[0m         \u001b[38;5;28mprint\u001b[39m(\u001b[38;5;124m\"\u001b[39m\u001b[38;5;130;01m\\n\u001b[39;00m\u001b[38;5;124m일정 관리 프로그램\u001b[39m\u001b[38;5;124m\"\u001b[39m)\n",
      "Cell \u001b[1;32mIn[2], line 13\u001b[0m, in \u001b[0;36mload_events\u001b[1;34m(filename)\u001b[0m\n\u001b[0;32m     11\u001b[0m \u001b[38;5;28;01mwith\u001b[39;00m \u001b[38;5;28mopen\u001b[39m(filename,\u001b[38;5;124m'\u001b[39m\u001b[38;5;124mr\u001b[39m\u001b[38;5;124m'\u001b[39m) \u001b[38;5;28;01mas\u001b[39;00m f:\n\u001b[0;32m     12\u001b[0m     \u001b[38;5;28;01mfor\u001b[39;00m line \u001b[38;5;129;01min\u001b[39;00m f:\n\u001b[1;32m---> 13\u001b[0m         event_name,event_date_str\u001b[38;5;241m=\u001b[39mline\u001b[38;5;241m.\u001b[39mstrip()\u001b[38;5;241m.\u001b[39msplit(\u001b[38;5;124m\"\u001b[39m\u001b[38;5;124m|\u001b[39m\u001b[38;5;124m\"\u001b[39m)\n\u001b[0;32m     14\u001b[0m         event_date\u001b[38;5;241m=\u001b[39mdatetime\u001b[38;5;241m.\u001b[39mstrptime(event_date_str,\u001b[38;5;124m'\u001b[39m\u001b[38;5;124m%\u001b[39m\u001b[38;5;124mY-\u001b[39m\u001b[38;5;124m%\u001b[39m\u001b[38;5;124mm-\u001b[39m\u001b[38;5;132;01m%d\u001b[39;00m\u001b[38;5;124m \u001b[39m\u001b[38;5;124m%\u001b[39m\u001b[38;5;124mH:\u001b[39m\u001b[38;5;124m%\u001b[39m\u001b[38;5;124mM\u001b[39m\u001b[38;5;124m'\u001b[39m)\n\u001b[0;32m     15\u001b[0m         events\u001b[38;5;241m.\u001b[39mappend((event_name,event_date))\n",
      "\u001b[1;31mValueError\u001b[0m: not enough values to unpack (expected 2, got 1)"
     ]
    }
   ],
   "source": [
    "#일정추가,출력\n",
    "from datetime import datetime\n",
    "import os\n",
    "#일정목록 초기화\n",
    "events=[]\n",
    "def clear_screen():\n",
    "    os.system('cls' if os.name=='nt' else 'clear')\n",
    "\n",
    "def load_events(filename='events.txt'):\n",
    "    global events\n",
    "    with open(filename,'r') as f:\n",
    "        for line in f:\n",
    "            event_name,event_date_str=line.strip().split(\"|\")\n",
    "            event_date=datetime.strptime(event_date_str,'%Y-%m-%d %H:%M')\n",
    "            events.append((event_name,event_date))\n",
    "            \n",
    "#일정을 파일로 저장    \n",
    "def save_events(filename='events.txt'):\n",
    "    with open(filename,'w') as f:\n",
    "        for event_name,event_date in events:\n",
    "            f.write(f\"{event_name} | {event_date.strftime('%Y-%m-%d %H:%M')}\\n\")\n",
    "\n",
    "#일정 추가\n",
    "def add_event(event_name, event_date):\n",
    "    events.append((event_name,event_date))\n",
    "\n",
    "#모든 일정 출력\n",
    "def show_events():\n",
    "\n",
    "    if not events:\n",
    "        print(\"일정이 없습니다.\")\n",
    "        return\n",
    "        \n",
    "    print(\"[모든 일정]\")\n",
    "    for event_name,event_time in events:\n",
    "        print(f\"- {event_name}: {event_time.strftime('%Y-%m-%d %H:%M')}\")\n",
    "\n",
    "#남은 일정 출력\n",
    "def show_upcoming_events():\n",
    "    now=datetime.now()\n",
    "    upcoming_events=[event for event in events if event[1]>=now]\n",
    "\n",
    "    print()\n",
    "    print(\"[남은 일정]\")\n",
    "    for event_name, event_date in upcoming_events:\n",
    "        days_left = (event_date - now).days\n",
    "        print(f\"- {event_name}: {event_date.strftime('%Y-%m-%d %H:%M')} (남은 일수: {days_left}일)\")\n",
    "\n",
    "#일정 추가하기\n",
    "# add_event(\"회의\", datetime(2024,11,20,14,0))\n",
    "# add_event(\"생일파티\", datetime(2024,12,5,18,30))\n",
    "#print(events)\n",
    "\n",
    "\n",
    "# #모든일정보기\n",
    "# show_events()\n",
    "\n",
    "# #남은 일정보기\n",
    "# show_upcoming_events()\n",
    "\n",
    "def main():\n",
    "    load_events()\n",
    "    while True:\n",
    "        print(\"\\n일정 관리 프로그램\")\n",
    "        print(\"1. 일정추가\")\n",
    "        print(\"2. 모든 일정 보기\")\n",
    "        print(\"3. 다가오는 일정 보기\")\n",
    "        print(\"4. 종료\")\n",
    "        \n",
    "        choice=input(\"원하는 작업을 선택하세요 (1-4)\")\n",
    "        if choice=='1':\n",
    "            event_name=input(\"일정 이름을 입력하세요:\")\n",
    "            event_date_str=input(\"일정 날짜와 시간을 입력하세요 (YYYY-MM-DD HH:MM)\")\n",
    "            event_date=datetime.strptime(event_date_str,'%Y-%m-%d %H:%M')\n",
    "            add_event(event_name,event_date)\n",
    "        elif choice=='2':\n",
    "            show_events()\n",
    "        elif choice=='3':\n",
    "            show_upcoming_events()\n",
    "        elif choice=='4':\n",
    "            print(\"프로그램을 종료합니다\")\n",
    "            save_events()\n",
    "            break\n",
    "        else:\n",
    "            print(\"잘못된 선택입니다. 다시 시도하세요\")\n",
    "\n",
    "main()"
   ]
  },
  {
   "cell_type": "markdown",
   "id": "2efeb211-c513-4cf9-83e3-8f8f8b07d341",
   "metadata": {},
   "source": [
    "### 자판기 프로그램"
   ]
  },
  {
   "cell_type": "code",
   "execution_count": 19,
   "id": "5488728a-fa64-4cc3-b4f3-079f805e8054",
   "metadata": {},
   "outputs": [
    {
     "name": "stdout",
     "output_type": "stream",
     "text": [
      "\n",
      "현재 잔액: 10000원\n",
      "1. 콜라(1000원)\n",
      "2. 물(500원)\n",
      "3. 커피(1500원)\n",
      "4. 종료\n"
     ]
    },
    {
     "name": "stdin",
     "output_type": "stream",
     "text": [
      "메뉴를 선택하세요 3\n"
     ]
    },
    {
     "name": "stdout",
     "output_type": "stream",
     "text": [
      "커피가 나왔습니다\n",
      "\n",
      "현재 잔액: 8500원\n",
      "1. 콜라(1000원)\n",
      "2. 물(500원)\n",
      "3. 커피(1500원)\n",
      "4. 종료\n"
     ]
    },
    {
     "name": "stdin",
     "output_type": "stream",
     "text": [
      "메뉴를 선택하세요 2\n"
     ]
    },
    {
     "name": "stdout",
     "output_type": "stream",
     "text": [
      "물이 나왔습니다\n",
      "\n",
      "현재 잔액: 8000원\n",
      "1. 콜라(1000원)\n",
      "2. 물(500원)\n",
      "3. 커피(1500원)\n",
      "4. 종료\n"
     ]
    },
    {
     "name": "stdin",
     "output_type": "stream",
     "text": [
      "메뉴를 선택하세요 4\n"
     ]
    },
    {
     "name": "stdout",
     "output_type": "stream",
     "text": [
      "프로그램 종료\n"
     ]
    }
   ],
   "source": [
    "#함수 사용하지 않았을 때\n",
    "balance = 10000  # 초기 잔액 설정\n",
    "\n",
    "while True:\n",
    "    print(f\"\\n현재 잔액: {balance}원\")\n",
    "    print(\"1. 콜라(1000원)\")\n",
    "    print(\"2. 물(500원)\")\n",
    "    print(\"3. 커피(1500원)\")\n",
    "    print(\"4. 종료\")\n",
    "    \n",
    "    choice = input(\"메뉴를 선택하세요\")\n",
    "\n",
    "    if choice == '1':\n",
    "        if balance >= 1000:\n",
    "            balance -= 1000\n",
    "            print(\"콜라가 나왔습니다\")\n",
    "        else:\n",
    "            print(\"잔액이 부족합니다\")\n",
    "    elif choice == '2':\n",
    "        if balance >= 500:\n",
    "            balance -= 500\n",
    "            print(\"물이 나왔습니다\")\n",
    "        else:\n",
    "            print(\"잔액이 부족합니다\")\n",
    "    elif choice == '3':\n",
    "        if balance >= 1500:\n",
    "            balance -= 1500\n",
    "            print(\"커피가 나왔습니다\")\n",
    "        else:\n",
    "            print(\"잔액이 부족합니다\")\n",
    "    elif choice == '4':\n",
    "        print(\"프로그램 종료\")\n",
    "        break"
   ]
  },
  {
   "cell_type": "code",
   "execution_count": 17,
   "id": "20314446-24b7-41d5-89d9-fa06a9475b08",
   "metadata": {},
   "outputs": [
    {
     "name": "stdout",
     "output_type": "stream",
     "text": [
      "\n",
      "현재 잔액: 10000원\n",
      "1. 콜라(1000원)\n",
      "2. 물(500원)\n",
      "3. 커피(1500원)\n",
      "4. 종료\n"
     ]
    },
    {
     "name": "stdin",
     "output_type": "stream",
     "text": [
      "메뉴를 선택하세요 1\n"
     ]
    },
    {
     "name": "stdout",
     "output_type": "stream",
     "text": [
      "콜라가 나왔습니다\n",
      "\n",
      "현재 잔액: 9000원\n",
      "1. 콜라(1000원)\n",
      "2. 물(500원)\n",
      "3. 커피(1500원)\n",
      "4. 종료\n"
     ]
    },
    {
     "name": "stdin",
     "output_type": "stream",
     "text": [
      "메뉴를 선택하세요 3\n"
     ]
    },
    {
     "name": "stdout",
     "output_type": "stream",
     "text": [
      "커피가 나왔습니다\n",
      "\n",
      "현재 잔액: 7500원\n",
      "1. 콜라(1000원)\n",
      "2. 물(500원)\n",
      "3. 커피(1500원)\n",
      "4. 종료\n"
     ]
    },
    {
     "name": "stdin",
     "output_type": "stream",
     "text": [
      "메뉴를 선택하세요 3\n"
     ]
    },
    {
     "name": "stdout",
     "output_type": "stream",
     "text": [
      "커피가 나왔습니다\n",
      "\n",
      "현재 잔액: 6000원\n",
      "1. 콜라(1000원)\n",
      "2. 물(500원)\n",
      "3. 커피(1500원)\n",
      "4. 종료\n"
     ]
    },
    {
     "name": "stdin",
     "output_type": "stream",
     "text": [
      "메뉴를 선택하세요 4\n"
     ]
    },
    {
     "name": "stdout",
     "output_type": "stream",
     "text": [
      "프로그램 종료\n"
     ]
    }
   ],
   "source": [
    "def show_menu(balance):\n",
    "    print(f\"\\n현재 잔액: {balance}원\")\n",
    "    print(\"1. 콜라(1000원)\")\n",
    "    print(\"2. 물(500원)\")\n",
    "    print(\"3. 커피(1500원)\")\n",
    "    print(\"4. 종료\")\n",
    "    \n",
    "def buy_drink(balance,price,drink_name):\n",
    "    if balance>=price:\n",
    "        balance-=price\n",
    "        print(f\"{drink_name}가 나왔습니다\")\n",
    "    else:\n",
    "        print(\"잔액이 부족합니다\")\n",
    "    return balance\n",
    "    \n",
    "def main():\n",
    "    balance=10000\n",
    "    while True:\n",
    "        show_menu(balance)\n",
    "        choice=input(\"메뉴를 선택하세요\")\n",
    "\n",
    "        if choice=='1':\n",
    "            print(f\"\\n현재 잔액: {balance}원\")\n",
    "        elif choice=='2':\n",
    "            balance=buy_drink(balance,500,\"물\")\n",
    "        elif choice=='3':\n",
    "            balance=buy_drink(balance,1500,\"커피\")\n",
    "        elif choice=='4':\n",
    "            print(\"프로그램 종료\")\n",
    "            break\n",
    "main()"
   ]
  },
  {
   "cell_type": "code",
   "execution_count": null,
   "id": "b41946c1-5598-4e23-a7a3-e232dd97cbbd",
   "metadata": {},
   "outputs": [],
   "source": [
    "#ATM 프로그램\n",
    "balance = 50000\n",
    "while True:\n",
    "    print(\"\\n=== ATM 시스템 ===\")\n",
    "    print(\"1. 잔액 조회\")\n",
    "    print(\"2. 입금\")\n",
    "    print(\"3. 출금\")\n",
    "    print(\"4. 종료\")\n",
    "\n",
    "    choice = input(\"선택: \")\n",
    "\n",
    "    if choice == \"1\":\n",
    "        print(f\"현재 잔액: {balance}원\")\n",
    "    elif choice == \"2\":\n",
    "        amount = int(input(\"입금액: \"))\n",
    "        balance += amount\n",
    "        print(f\"{amount}원이 입금되었습니다.\")\n",
    "    elif choice == \"3\":\n",
    "        amount = int(input(\"출금액: \"))\n",
    "        if amount <= balance:\n",
    "            balance -= amount\n",
    "            print(f\"{amount}원이 출금되었습니다.\")\n",
    "        else:\n",
    "            print(\"잔액이 부족합니다.\")\n",
    "    elif choice == \"4\":\n",
    "        print(\"이용해주셔서 감사합니다.\")\n",
    "        break"
   ]
  },
  {
   "cell_type": "code",
   "execution_count": 65,
   "id": "bf3e8c24-2bed-42e9-8014-579482cdddee",
   "metadata": {},
   "outputs": [
    {
     "name": "stdout",
     "output_type": "stream",
     "text": [
      "\n",
      "=== ATM 시스템 ===\n",
      "1. 잔액 조회\n",
      "2. 입금\n",
      "3. 출금\n",
      "4. 종료\n"
     ]
    },
    {
     "name": "stdin",
     "output_type": "stream",
     "text": [
      "선택:  1\n"
     ]
    },
    {
     "name": "stdout",
     "output_type": "stream",
     "text": [
      "현재 잔액: 50000원\n",
      "\n",
      "=== ATM 시스템 ===\n",
      "1. 잔액 조회\n",
      "2. 입금\n",
      "3. 출금\n",
      "4. 종료\n"
     ]
    },
    {
     "name": "stdin",
     "output_type": "stream",
     "text": [
      "선택:  2\n",
      "입금할 금액을 입력하세요:  100\n"
     ]
    },
    {
     "name": "stdout",
     "output_type": "stream",
     "text": [
      "100원이 입금되었습니다\n",
      "\n",
      "=== ATM 시스템 ===\n",
      "1. 잔액 조회\n",
      "2. 입금\n",
      "3. 출금\n",
      "4. 종료\n"
     ]
    },
    {
     "name": "stdin",
     "output_type": "stream",
     "text": [
      "선택:  3\n",
      "출금할 금액을 입력하세요:  3000\n"
     ]
    },
    {
     "name": "stdout",
     "output_type": "stream",
     "text": [
      "3000원이 출금되었습니다\n",
      "\n",
      "=== ATM 시스템 ===\n",
      "1. 잔액 조회\n",
      "2. 입금\n",
      "3. 출금\n",
      "4. 종료\n"
     ]
    },
    {
     "name": "stdin",
     "output_type": "stream",
     "text": [
      "선택:  4\n"
     ]
    },
    {
     "name": "stdout",
     "output_type": "stream",
     "text": [
      "프로그램 종료\n"
     ]
    }
   ],
   "source": [
    "#ATM 프로그램\n",
    "def show_atm(balance):\n",
    "    print(\"\\n=== ATM 시스템 ===\")\n",
    "    print(\"1. 잔액 조회\")\n",
    "    print(\"2. 입금\")\n",
    "    print(\"3. 출금\")\n",
    "    print(\"4. 종료\")\n",
    "\n",
    "def minus(balance,money,name):\n",
    "    if balance>=money:\n",
    "        balance-=money\n",
    "        print(f\"{money}원이 {name}되었습니다\")\n",
    "    else:\n",
    "        print(\"잔액이 부족합니다\")\n",
    "    return balance\n",
    "\n",
    "def plus(balance,money,name):\n",
    "    balance+=money\n",
    "    print(f\"{money}원이 {name}되었습니다\")\n",
    "    return balance\n",
    "    \n",
    "def main():\n",
    "    balance=50000\n",
    "    while True:\n",
    "        show_atm(balance)\n",
    "        choice=input(\"선택: \")\n",
    "        if choice=='1':\n",
    "            print(f\"현재 잔액: {balance}원\")\n",
    "        elif choice=='2':\n",
    "            money=int(input(\"입금할 금액을 입력하세요: \"))\n",
    "            balance=plus(balance, money, \"입금\")\n",
    "        elif choice=='3':\n",
    "            money=int(input(\"출금할 금액을 입력하세요: \"))\n",
    "            balance = minus(balance, money, \"출금\")\n",
    "        elif choice=='4':\n",
    "            print(\"프로그램 종료\")\n",
    "            break\n",
    "main()"
   ]
  }
 ],
 "metadata": {
  "kernelspec": {
   "display_name": "Python 3 (ipykernel)",
   "language": "python",
   "name": "python3"
  },
  "language_info": {
   "codemirror_mode": {
    "name": "ipython",
    "version": 3
   },
   "file_extension": ".py",
   "mimetype": "text/x-python",
   "name": "python",
   "nbconvert_exporter": "python",
   "pygments_lexer": "ipython3",
   "version": "3.12.7"
  }
 },
 "nbformat": 4,
 "nbformat_minor": 5
}
