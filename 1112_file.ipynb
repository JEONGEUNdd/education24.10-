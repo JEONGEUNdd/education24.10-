{
 "cells": [
  {
   "cell_type": "code",
   "execution_count": 5,
   "id": "1c65b737-5c24-4143-a44a-92287ec149d4",
   "metadata": {},
   "outputs": [
    {
     "name": "stdout",
     "output_type": "stream",
     "text": [
      "8\n"
     ]
    }
   ],
   "source": [
    "#메모화\n",
    "def fb(n,memo={}):\n",
    "    if n in memo:\n",
    "        return memo[n]\n",
    "    if n<=1:\n",
    "        return n\n",
    "    memo[n]=fb(n-1,memo)+fb(n-2,memo)\n",
    "    return memo[n]\n",
    "print(fb(6))"
   ]
  },
  {
   "cell_type": "markdown",
   "id": "8427ae45-b366-418f-b864-6d3b2c1c54b5",
   "metadata": {},
   "source": [
    "### 파일 다루기"
   ]
  },
  {
   "cell_type": "markdown",
   "id": "46f7b42b-e365-4f38-a3d3-be02e9cc14e1",
   "metadata": {},
   "source": [
    "### txt파일"
   ]
  },
  {
   "cell_type": "code",
   "execution_count": 14,
   "id": "2ac9101a-516b-4e37-bb62-c9c0baaea9d2",
   "metadata": {},
   "outputs": [],
   "source": [
    "f=open(\"새파일.txt\",'w') #쓰기 모드에서 새파일 만들거나 새로운 내용작성\n",
    "#파일 경로를 따로 지정 안할 경우 기본 경로에 저장됨 \n",
    "f.close()"
   ]
  },
  {
   "cell_type": "code",
   "execution_count": 26,
   "id": "115c468a-0ebe-4341-be65-fa7ed9244bc6",
   "metadata": {},
   "outputs": [],
   "source": [
    "f=open(\"C:/xampp/새파일.txt\",'w')  #이 경로에 파일 만듦\n",
    "f.close()"
   ]
  },
  {
   "cell_type": "code",
   "execution_count": 47,
   "id": "4ae642f6-a1b1-4363-b7a5-0d1b396051ec",
   "metadata": {},
   "outputs": [],
   "source": [
    "#f=open(\"새파일.txt\",'w',encoding='utf-8')\n",
    "f=open(\"새파일.txt\",'w',encoding='euc-kr')   \n",
    "for i in range(1,11):\n",
    "    data=\"%d번째 줄입니다. \\n\" % i\n",
    "    f.write(data)\n",
    "f.close()"
   ]
  },
  {
   "cell_type": "code",
   "execution_count": 65,
   "id": "ecc492d2-6ce9-41d0-905c-ef532da5a31a",
   "metadata": {},
   "outputs": [
    {
     "name": "stdout",
     "output_type": "stream",
     "text": [
      "2번째 줄입니다. \n",
      "\n",
      "3번째 줄입니다. \n",
      "\n",
      "4번째 줄입니다. \n",
      "\n",
      "5번째 줄입니다. \n",
      "\n",
      "6번째 줄입니다. \n",
      "\n",
      "7번째 줄입니다. \n",
      "\n",
      "8번째 줄입니다. \n",
      "\n",
      "9번째 줄입니다. 하하하\n",
      "\n",
      "10번째 줄입니다. \n",
      "\n",
      "\n"
     ]
    }
   ],
   "source": [
    "f=open(\"새파일.txt\",'r')  #읽기모드\n",
    "line=f.readline()   #한 줄만 불러옴\n",
    "while True:\n",
    "    line=f.readline()\n",
    "    if not line:break\n",
    "    print(line)\n",
    "print(line)\n",
    "f.close()"
   ]
  },
  {
   "cell_type": "code",
   "execution_count": 67,
   "id": "24ab75ea-c9ab-43f1-9985-2b8baf13f1ee",
   "metadata": {},
   "outputs": [
    {
     "name": "stdout",
     "output_type": "stream",
     "text": [
      "1번째 줄입니다. \n",
      "2번째 줄입니다. \n",
      "3번째 줄입니다. \n",
      "4번째 줄입니다. \n",
      "5번째 줄입니다. \n",
      "6번째 줄입니다. \n",
      "7번째 줄입니다. \n",
      "8번째 줄입니다. \n",
      "9번째 줄입니다. 하하하\n",
      "10번째 줄입니다. \n"
     ]
    }
   ],
   "source": [
    "f=open(\"새파일.txt\",'r') \n",
    "lines=f.readlines() #리스트로 만들어 불러옴\n",
    "#print(lines)\n",
    "for line in lines:\n",
    "    print(line, end=\"\")  #리스트로 불러오고 한 줄씩 출력\n",
    "f.close()"
   ]
  },
  {
   "cell_type": "code",
   "execution_count": 71,
   "id": "354b05b5-9b15-4d06-a216-1ce84431fe6a",
   "metadata": {},
   "outputs": [
    {
     "name": "stdout",
     "output_type": "stream",
     "text": [
      "1번째 줄입니다.2번째 줄입니다.3번째 줄입니다.4번째 줄입니다.5번째 줄입니다.6번째 줄입니다.7번째 줄입니다.8번째 줄입니다.9번째 줄입니다. 하하하10번째 줄입니다."
     ]
    }
   ],
   "source": [
    "f=open(\"새파일.txt\",'r') \n",
    "lines=f.readlines() \n",
    "#print(lines)\n",
    "for line in lines:\n",
    "    line=line.strip()   #strip():공백과 줄바꿈 제거\n",
    "    print(line, end=\"\")  \n",
    "f.close()"
   ]
  },
  {
   "cell_type": "code",
   "execution_count": 77,
   "id": "6595c490-fc88-4eee-b5c6-29b364d395e2",
   "metadata": {},
   "outputs": [
    {
     "name": "stdout",
     "output_type": "stream",
     "text": [
      "1번째 줄입니다. \n",
      "2번째 줄입니다. \n",
      "3번째 줄입니다. \n",
      "4번째 줄입니다. \n",
      "5번째 줄입니다. \n",
      "6번째 줄입니다. \n",
      "7번째 줄입니다. \n",
      "8번째 줄입니다. \n",
      "9번째 줄입니다. 하하하\n",
      "10번째 줄입니다. \n",
      "\n"
     ]
    }
   ],
   "source": [
    "f=open(\"새파일.txt\",'r') \n",
    "data=f.read() # 파일 전체 내용을 한 번에 읽어서 출력\n",
    "print(data)\n",
    "f.close()"
   ]
  },
  {
   "cell_type": "code",
   "execution_count": 81,
   "id": "9e142f8f-471e-40c5-b5ef-ee38f44a4387",
   "metadata": {},
   "outputs": [
    {
     "name": "stdout",
     "output_type": "stream",
     "text": [
      "1번째 줄입니다. \n",
      "2번째 줄입니다. \n",
      "3번째 줄입니다. \n",
      "4번째 줄입니다. \n",
      "5번째 줄입니다. \n",
      "6번째 줄입니다. \n",
      "7번째 줄입니다. \n",
      "8번째 줄입니다. \n",
      "9번째 줄입니다. 하하하\n",
      "10번째 줄입니다. \n",
      "\n"
     ]
    }
   ],
   "source": [
    "f=open(\"새파일.txt\",'r') \n",
    "data=f.read() # 파일 전체 내용을 한 번에 읽어서 출력\n",
    "print(data)\n",
    "f.close()\n",
    "f=open(\"새파일2.txt\",'w')    #새파일.txt와 내용 똑같은 새파일2.txt를 새로 만듦\n",
    "f.write(data)\n",
    "f.close()"
   ]
  },
  {
   "cell_type": "markdown",
   "id": "ead6b379-5e10-47ac-8a0d-7451cb9d6664",
   "metadata": {},
   "source": [
    "##### 'a':파일의 기존 내용은 그대로 유지하고, 새로운 내용을 파일 끝에 추가,파일이 없으면 새로 생성 후 추가\n",
    "##### 'w':파일을 쓰기 위해 열 때, 기존 파일의 내용이 모두 삭제되고 새로 작성"
   ]
  },
  {
   "cell_type": "code",
   "execution_count": 97,
   "id": "91e4612b-3967-4ad8-b3ee-9feb75bc30be",
   "metadata": {},
   "outputs": [],
   "source": [
    "f=open(\"새파일.txt\",'a')   \n",
    "for i in range(11,21):\n",
    "    data=f\"{i}번째 줄입니다. ^^\\n\"\n",
    "    f.write(data)\n",
    "f.close()"
   ]
  },
  {
   "cell_type": "code",
   "execution_count": null,
   "id": "120d1ee7-a44a-41f1-942c-22cd2899ea44",
   "metadata": {},
   "outputs": [],
   "source": [
    "f=open(\"새파일.txt\",'r')\n"
   ]
  },
  {
   "cell_type": "markdown",
   "id": "e91ff304-56be-44de-b607-9654c5500624",
   "metadata": {},
   "source": [
    "#### with 써서 f.close()안해도 됨."
   ]
  },
  {
   "cell_type": "code",
   "execution_count": 111,
   "id": "eed72c2d-e0d6-4da3-9c1a-c5b62ca86ffa",
   "metadata": {},
   "outputs": [
    {
     "name": "stdout",
     "output_type": "stream",
     "text": [
      "1번째 줄입니다. \n",
      "2번째 줄입니다. \n",
      "3번째 줄입니다. \n",
      "4번째 줄입니다. \n",
      "5번째 줄입니다. \n",
      "6번째 줄입니다. \n",
      "7번째 줄입니다. \n",
      "8번째 줄입니다. \n",
      "9번째 줄입니다. 하하하\n",
      "10번째 줄입니다. \n",
      "11번째 줄입니다. ^^\n",
      "12번째 줄입니다. ^^\n",
      "13번째 줄입니다. ^^\n",
      "14번째 줄입니다. ^^\n",
      "15번째 줄입니다. ^^\n",
      "16번째 줄입니다. ^^\n",
      "17번째 줄입니다. ^^\n",
      "18번째 줄입니다. ^^\n",
      "19번째 줄입니다. ^^\n",
      "20번째 줄입니다. ^^\n",
      "\n"
     ]
    }
   ],
   "source": [
    "with open(\"새파일.txt\",'r') as f:\n",
    "    data=f.read()\n",
    "    print(data)"
   ]
  },
  {
   "cell_type": "code",
   "execution_count": 114,
   "id": "0aaa17a5-70f5-4d78-9b99-0f65acd3b884",
   "metadata": {},
   "outputs": [],
   "source": [
    "#랜덤하게 1000명의 키와 몸무게 만들기\n",
    "import random \n",
    "hanguls=list(\"가나다라마바사아자차카타파하\")\n",
    "with open(\"info.txt\",'w') as file:\n",
    "    for i in range(1000):\n",
    "        name=random.choice(hanguls)+random.choice(hanguls)\n",
    "        weight=random.randrange(40,100)\n",
    "        height=random.randrange(140,200)\n",
    "        file.write(\"{},{},{}\\n\".format(name,weight,height))"
   ]
  },
  {
   "cell_type": "code",
   "execution_count": 116,
   "id": "23bb1c1e-c15f-4e14-97e2-3fb09afdeeb6",
   "metadata": {},
   "outputs": [
    {
     "name": "stdout",
     "output_type": "stream",
     "text": [
      "1번째 줄입니다. \n",
      "2번째 줄입니다. \n",
      "3번째 줄입니다. \n",
      "4번째 줄입니다. \n",
      "5번째 줄입니다. \n",
      "6번째 줄입니다. \n",
      "7번째 줄입니다. \n",
      "8번째 줄입니다. \n",
      "9번째 줄입니다. 하하하\n",
      "10번째 줄입니다. \n",
      "11번째 줄입니다. ^^\n",
      "12번째 줄입니다. ^^\n",
      "13번째 줄입니다. ^^\n",
      "14번째 줄입니다. ^^\n",
      "15번째 줄입니다. ^^\n",
      "16번째 줄입니다. ^^\n",
      "17번째 줄입니다. ^^\n",
      "18번째 줄입니다. ^^\n",
      "19번째 줄입니다. ^^\n",
      "20번째 줄입니다. ^^\n"
     ]
    }
   ],
   "source": [
    "!type 새파일.txt"
   ]
  },
  {
   "cell_type": "code",
   "execution_count": 122,
   "id": "27de093a-477c-4e51-bd48-66783ca787d5",
   "metadata": {},
   "outputs": [],
   "source": [
    "lines=['Hello','World!','Hello','again!']\n",
    "with open(\"새파일4.txt\",'w') as f:\n",
    "    for line in lines:\n",
    "        f.write(f\"{lines}/n\")"
   ]
  },
  {
   "cell_type": "code",
   "execution_count": 135,
   "id": "750b375d-b4a0-4c01-8574-76b3050764fd",
   "metadata": {},
   "outputs": [],
   "source": [
    "lines=['Hello World!\\n','Hello again!']\n",
    "with open(\"새파일5.txt\",'w') as f:\n",
    "    f.writelines(lines)"
   ]
  },
  {
   "cell_type": "code",
   "execution_count": 137,
   "id": "a7c1fa71-6712-4578-843f-86015e6154b0",
   "metadata": {},
   "outputs": [
    {
     "name": "stdout",
     "output_type": "stream",
     "text": [
      "Hello World!\n",
      "Hello again!\n"
     ]
    }
   ],
   "source": [
    "!type 새파일5.txt"
   ]
  },
  {
   "cell_type": "code",
   "execution_count": 216,
   "id": "fd905556-9e8b-41cb-a79a-24e30a6bc2d5",
   "metadata": {},
   "outputs": [],
   "source": [
    "with open (\"매수종목.txt\",'w') as d: \n",
    "    d.write(\"005930\\n005380\\n035420\\n\")"
   ]
  },
  {
   "cell_type": "code",
   "execution_count": 155,
   "id": "81bb201f-e802-45f1-8b28-c886465bd7c6",
   "metadata": {},
   "outputs": [],
   "source": [
    "#매수종목2.txt\n",
    "with open (\"매수종목2.txt\",'w') as d: \n",
    "    d.write(\"005930 삼성전자\\n\")\n",
    "    d.write(\"005380 현대차\\n\")\n",
    "    d.write(\"035420 카카오\\n\")"
   ]
  },
  {
   "cell_type": "code",
   "execution_count": 157,
   "id": "5f397377-79a3-4031-8933-001876e6e75b",
   "metadata": {},
   "outputs": [
    {
     "name": "stdout",
     "output_type": "stream",
     "text": [
      "005930 삼성전자\n",
      "005380 현대차\n",
      "035420 카카오\n"
     ]
    }
   ],
   "source": [
    "!type 매수종목2.txt"
   ]
  },
  {
   "cell_type": "code",
   "execution_count": 218,
   "id": "cd4a93ce-1101-474b-b43f-07301d5d8c47",
   "metadata": {},
   "outputs": [
    {
     "name": "stdout",
     "output_type": "stream",
     "text": [
      "['005930\\n', '005380\\n', '035420\\n']\n",
      "['005930', '005380', '035420']\n"
     ]
    }
   ],
   "source": [
    "# d=open(\"종목코드.txt\",'r') \n",
    "# lines=d.readlines() #리스트로 만들어 불러옴\n",
    "# for line in lines:\n",
    "#     print(line, end=\"\")  #리스트로 불러오고 한 줄씩 출력\n",
    "# d.close()\n",
    "\n",
    "with open (\"매수종목.txt\",\"r\") as d:\n",
    "    lines=d.readlines()\n",
    "    codes=[]\n",
    "    for line in lines:\n",
    "        c=line.strip()\n",
    "        codes.append(c)\n",
    "print(lines)\n",
    "print(codes)"
   ]
  },
  {
   "cell_type": "code",
   "execution_count": 200,
   "id": "7a238c88-1901-4a53-a687-e87546ca259b",
   "metadata": {},
   "outputs": [
    {
     "name": "stdout",
     "output_type": "stream",
     "text": [
      "{'005930': '삼성전자', '005380': '현대차', '035420': '카카오'}\n"
     ]
    }
   ],
   "source": [
    "#매수종목2.txt를 읽어서 딕셔너리로 만들기(key:종목명,value:종목번호)\n",
    "with open(\"매수종목2.txt\",\"r\")as d:\n",
    "    lines=d.readlines()\n",
    "    data={}\n",
    "    for line in lines:\n",
    "        line=line.strip()\n",
    "        k,v=line.split()\n",
    "        data[k]=v\n",
    "print(data)"
   ]
  },
  {
   "cell_type": "code",
   "execution_count": 209,
   "id": "64b649a1-3d89-4fc6-8d64-ef297b886d60",
   "metadata": {},
   "outputs": [
    {
     "name": "stdout",
     "output_type": "stream",
     "text": [
      "{'005930': '삼성전자', '005380': '현대차', '035420': '카카오'}\n"
     ]
    }
   ],
   "source": [
    " #매수종목2.txt를 읽어서 딕셔너리로 만들기(key:종목명,value:종목번호)\n",
    "with open(\"매수종목2.txt\",\"r\")as d:\n",
    "    lines=d.readlines()\n",
    "    data={}\n",
    "    for line in lines:\n",
    "        line=line.strip()\n",
    "        t=line.split()\n",
    "        data[t[0]]=t[1]\n",
    "print(data)"
   ]
  },
  {
   "cell_type": "code",
   "execution_count": 211,
   "id": "a22dd2ed-858e-48fe-b737-11821330f1fe",
   "metadata": {},
   "outputs": [
    {
     "name": "stdout",
     "output_type": "stream",
     "text": [
      "{'005930': '삼성전자', '005380': '현대차', '035420': '카카오'}\n"
     ]
    }
   ],
   "source": [
    "#매수종목2.txt를 읽어서 딕셔너리로 만들기(key:종목명,value:종목번호)\n",
    "with open(\"매수종목2.txt\",\"r\")as d:\n",
    "    data={t.split()[0]:t.split()[1] for t in d.readlines()}\n",
    "print(data)"
   ]
  },
  {
   "cell_type": "markdown",
   "id": "ec89f353-3a27-48bc-8e46-117f242ede5f",
   "metadata": {},
   "source": [
    "### csv파일"
   ]
  },
  {
   "cell_type": "code",
   "execution_count": 223,
   "id": "b9e0109e-89bd-48a2-a8e0-a866087cb870",
   "metadata": {},
   "outputs": [],
   "source": [
    "#한 줄씩 입력(리스트)\n",
    "import csv\n",
    "with open(\"매수종목.csv\",mode=\"w\",encoding=\"utf-8\",newline='') as f:\n",
    "    writer=csv.writer(f)\n",
    "    writer.writerow([\"종목명\",\"종목코드\",\"PER\"])\n",
    "    writer.writerow([\"삼성, 전자\", \"005930\", 15.59])\n",
    "    writer.writerow([\"NAVER\",\"035420\",55.82])"
   ]
  },
  {
   "cell_type": "code",
   "execution_count": 229,
   "id": "6f8fe28e-8e9a-4223-990a-0fbfd113b71b",
   "metadata": {},
   "outputs": [],
   "source": [
    "#여러줄 입력(2차원 리스트)\n",
    "import csv\n",
    "data=[\n",
    "    ['이름','나이','도시'],\n",
    "    ['김철수','25','서울'],\n",
    "    ['이영희','28','부산']\n",
    "]\n",
    "with open('data.csv','w',newline='',encoding='utf-8') as f:\n",
    "    wr=csv.writer(f)\n",
    "    wr.writerows(data)"
   ]
  },
  {
   "cell_type": "code",
   "execution_count": 233,
   "id": "f285ebdc-16e7-4627-a1dd-fbd3911db648",
   "metadata": {},
   "outputs": [
    {
     "name": "stdout",
     "output_type": "stream",
     "text": [
      "['종목명', '종목코드', 'PER']\n",
      "['삼성, 전자', '005930', '15.59']\n",
      "['NAVER', '035420', '55.82']\n"
     ]
    }
   ],
   "source": [
    "import csv\n",
    "f=open(\"매수종목.csv\",mode=\"r\",encoding=\"utf-8\")\n",
    "reader=csv.reader(f)\n",
    "for row in reader:\n",
    "    print(row)\n",
    "f.close()\n",
    "\n",
    "'''\n",
    "with open(\"매수종목.csv\",mode=\"r\",encoding=\"utf-8\")\n",
    "    reader=csv.reader(f)\n",
    "    for row in reader:\n",
    "        print(row)\n",
    "''''"
   ]
  },
  {
   "cell_type": "code",
   "execution_count": 235,
   "id": "fa329256-2819-4e27-b54f-fa1836400b31",
   "metadata": {},
   "outputs": [
    {
     "name": "stdout",
     "output_type": "stream",
     "text": [
      "[['이름', '나이', '도시'], ['김철수', '25', '서울'], ['이영희', '28', '부산']]\n"
     ]
    }
   ],
   "source": [
    "with open(\"data.csv\",\"r\",encoding=\"utf-8\") as f:\n",
    "    data=[]\n",
    "    reader=csv.reader(f)\n",
    "    for row in reader:\n",
    "        data.append(row)\n",
    "print(data)"
   ]
  },
  {
   "cell_type": "code",
   "execution_count": 237,
   "id": "860777a7-a36c-4362-9428-8000815f802f",
   "metadata": {},
   "outputs": [
    {
     "name": "stdout",
     "output_type": "stream",
     "text": [
      "[['이름', '나이', '도시'], ['김철수', '25', '서울'], ['이영희', '28', '부산']]\n"
     ]
    }
   ],
   "source": [
    "with open(\"data.csv\",\"r\",encoding=\"utf-8\") as f:\n",
    "    data=[row for row in csv.reader(f)]\n",
    "print(data)"
   ]
  },
  {
   "cell_type": "code",
   "execution_count": 247,
   "id": "87eb2df7-0d99-4ab5-a65a-2c53825e99b0",
   "metadata": {},
   "outputs": [
    {
     "name": "stdout",
     "output_type": "stream",
     "text": [
      "[['이름', '나이', '키', '몸무게'], ['박철수', '25', '190', '90'], ['이영철', '28', '180', '80']]\n"
     ]
    }
   ],
   "source": [
    "#data 리스트를 data2.csv 파일에 저장한 후, 해당 파일을 다시 읽어서 내용을 출력\n",
    "data=[\n",
    "    ['이름','나이','키','몸무게'],\n",
    "    ['박철수','25','190','90'],\n",
    "    ['이영철','28','180','80']\n",
    "] \n",
    "filename='data2.csv'  #filename 변수에 저장할 CSV 파일 이름을 지정\n",
    "def write_csv(data,filename):\n",
    "    with open(filename,'w',newline='',encoding='utf-8')as f:\n",
    "        wr=csv.writer(f)\n",
    "        wr.writerows(data)\n",
    "\n",
    "def read_csv(filename):\n",
    "    with open(filename, \"r\", encoding=\"utf-8\") as f:\n",
    "        return [row for row in csv.reader(f)]\n",
    "    \n",
    "write_csv(data,filename)\n",
    "result=read_csv(filename)\n",
    "print(result)"
   ]
  },
  {
   "cell_type": "code",
   "execution_count": 260,
   "id": "679319b2-fa96-484d-b3bf-ad1ee44e5737",
   "metadata": {},
   "outputs": [
    {
     "name": "stdout",
     "output_type": "stream",
     "text": [
      "[['이름', '과목', '점수'], ['김철수', '수학', '90'], ['이영희', '영어', '85'], ['박민수', '과학', '88']]\n"
     ]
    }
   ],
   "source": [
    "#학생 성적 관리\n",
    "grades_data=[\n",
    "    ['김철수','수학','90'],\n",
    "    ['이영희','영어','85'],\n",
    "    ['박민수','과학','88']\n",
    "]\n",
    "filename='grades.csv'\n",
    "def write_grades(data,filename):\n",
    "    with open(filename, 'w', newline='', encoding='utf-8')as f:\n",
    "        writer=csv.writer(f)\n",
    "        writer.writerow(['이름','과목','점수'])   #헤더 추가\n",
    "        writer.writerows(data)  #여러 행을 한 번에 CSV 파일에 작성\n",
    "\n",
    "def read_grades(filename):\n",
    "    with open(filename, \"r\", encoding=\"utf-8\") as f:\n",
    "        reader=csv.reader(f)\n",
    "        return [row for row in csv.reader(f)]\n",
    "\n",
    "write_grades(grades_data,filename)\n",
    "result=read_grades(filename)\n",
    "print(result)"
   ]
  },
  {
   "cell_type": "code",
   "execution_count": 269,
   "id": "c55e0bf3-7e68-4310-9e31-d68ef5bf7018",
   "metadata": {},
   "outputs": [
    {
     "name": "stdout",
     "output_type": "stream",
     "text": [
      "[['ID', '이름', '부서'], ['001', '김영희', '인사부'], ['002', '이철수', '개발부'], ['003', '박지민', '마케팅부']]\n"
     ]
    }
   ],
   "source": [
    "#직원 정보 관리\n",
    "employees_data=[\n",
    "    ['001','김영희','인사부'],\n",
    "    ['002','이철수','개발부'],\n",
    "    ['003','박지민','마케팅부']\n",
    "]\n",
    "filename='employees.csv'\n",
    "def write_employees(data,filename):\n",
    "    with open(filename, 'w', newline='', encoding='utf-8')as f:\n",
    "        writer=csv.writer(f)\n",
    "        writer.writerow(['ID','이름','부서'])   #헤더 추가\n",
    "        writer.writerows(data)  #여러 행을 한 번에 CSV 파일에 작성\n",
    "\n",
    "def read_employees(filename):\n",
    "    with open(filename, \"r\", encoding=\"utf-8\") as f:\n",
    "        reader=csv.reader(f)\n",
    "        return [row for row in csv.reader(f)]\n",
    "\n",
    "write_employees(employees_data,filename)\n",
    "result=read_employees(filename)\n",
    "print(result)"
   ]
  },
  {
   "cell_type": "code",
   "execution_count": 271,
   "id": "4bd793b3-195c-4763-8863-19fb715e30bb",
   "metadata": {},
   "outputs": [
    {
     "name": "stdout",
     "output_type": "stream",
     "text": [
      "[['제목', '감독', '개봉 연도'], ['인셉션', '크리스토퍼 놀란', '2010'], ['타이타닉', '제임스 카메론', '1997'], ['겨울왕국', '크리스 벅', '2013']]\n"
     ]
    }
   ],
   "source": [
    "#영화 정보 관리\n",
    "movies_data=[\n",
    "    ['인셉션','크리스토퍼 놀란','2010'],\n",
    "    ['타이타닉','제임스 카메론','1997'],\n",
    "    ['겨울왕국','크리스 벅','2013']\n",
    "]\n",
    "\n",
    "filename='movies.csv'\n",
    "def write_movies(data,filename):\n",
    "    with open(filename, 'w', newline='', encoding='utf-8')as f:\n",
    "        writer=csv.writer(f)\n",
    "        writer.writerow(['제목','감독','개봉 연도'])   #헤더 추가\n",
    "        writer.writerows(data)  #여러 행을 한 번에 CSV 파일에 작성\n",
    "\n",
    "def read_movies(filename):\n",
    "    with open(filename, \"r\", encoding=\"utf-8\") as f:\n",
    "        reader=csv.reader(f)\n",
    "        return [row for row in csv.reader(f)]\n",
    "\n",
    "write_movies(movies_data,filename)\n",
    "result=read_movies(filename)\n",
    "print(result)"
   ]
  },
  {
   "cell_type": "markdown",
   "id": "24e12c40-e47e-450c-a8d0-e0278274bb94",
   "metadata": {},
   "source": [
    "%load_ext autoreload\n",
    "%autoreload 2"
   ]
  },
  {
   "cell_type": "code",
   "execution_count": 290,
   "id": "accbbb0a-c3b8-492d-83ce-28d77da4df88",
   "metadata": {},
   "outputs": [
    {
     "name": "stdout",
     "output_type": "stream",
     "text": [
      "[['제목', '저자', '출판 연도'], ['파이썬 완벽 가이드', '존 스미스', '2020'], ['모두의 데이터 분석', '김예린', '2021'], ['안전한 웹 개발', '이민호', '2022']]\n"
     ]
    }
   ],
   "source": [
    "import csv\n",
    "import minfo as mf  #minfo파일 가져와서 씀\n",
    "\n",
    "books_data=[\n",
    "    ['파이썬 완벽 가이드','존 스미스','2020'],\n",
    "    ['모두의 데이터 분석','김예린','2021'],\n",
    "    ['안전한 웹 개발','이민호','2022']\n",
    "]\n",
    "\n",
    "filename='books.csv'\n",
    "mf.write_books(books_data,filename)\n",
    "result=mf.read_books(filename)\n",
    "print(result)"
   ]
  },
  {
   "cell_type": "code",
   "execution_count": 327,
   "id": "edbc77b3-49e8-4222-a212-7b8d4656d455",
   "metadata": {},
   "outputs": [
    {
     "name": "stdout",
     "output_type": "stream",
     "text": [
      "[['상품명', '수량', '가격'], ['사과', '5', '1000'], ['바나나', '10', '500'], ['우유', '2', '1500']]\n"
     ]
    }
   ],
   "source": [
    "import minfo as sf \n",
    "\n",
    "shopping_data=[\n",
    "    ['사과','5','1000'],\n",
    "    ['바나나','10','500'],\n",
    "    ['우유','2','1500']\n",
    "]\n",
    "\n",
    "filename='shopping_list.csv'\n",
    "sf.write_shopping_list(shopping_data,filename)\n",
    "result=sf.read_shopping_list(filename)\n",
    "print(result)"
   ]
  },
  {
   "cell_type": "markdown",
   "id": "4de2e8df-6039-4a31-8188-c35f0d54b0b2",
   "metadata": {},
   "source": [
    "#### 내장 모듈"
   ]
  },
  {
   "cell_type": "code",
   "execution_count": 347,
   "id": "b0a984d9-5f51-411b-910e-ae76b49a589f",
   "metadata": {},
   "outputs": [
    {
     "name": "stdout",
     "output_type": "stream",
     "text": [
      "9\n"
     ]
    }
   ],
   "source": [
    "import random\n",
    "print(random.randint(1,10))  #1~10사이 랜덤 정수"
   ]
  },
  {
   "cell_type": "code",
   "execution_count": 363,
   "id": "7aebbd43-3969-4236-8b19-8eb11b717079",
   "metadata": {},
   "outputs": [
    {
     "name": "stdout",
     "output_type": "stream",
     "text": [
      "1\n",
      "5\n",
      "50\n",
      "0.4495273406036633\n",
      "4.219378108458686\n"
     ]
    }
   ],
   "source": [
    "print(random.randrange(1,10))  #1~9사이 랜덤 정수\n",
    "print(random.randrange(10))  #0~9사이 랜덤 정수\n",
    "print(random.randrange(0,101,2))  #0~100까지 짝수만\n",
    "print(random.random())   #0~1사이 랜덤 실수 (1포함X)\n",
    "print(random.random()*9+1) #1~10사이 랜덤실수 (10포함X)"
   ]
  },
  {
   "cell_type": "code",
   "execution_count": 365,
   "id": "2687302f-26ee-4241-8980-752556341c46",
   "metadata": {},
   "outputs": [
    {
     "name": "stdout",
     "output_type": "stream",
     "text": [
      "1.156428270302906\n"
     ]
    }
   ],
   "source": [
    "print(random.uniform(1,10))   #1~10사이 랜덤 실수"
   ]
  },
  {
   "cell_type": "code",
   "execution_count": 393,
   "id": "fe806599-1223-4e0f-b976-5cb6b4d87efe",
   "metadata": {},
   "outputs": [
    {
     "data": {
      "text/plain": [
       "[6, 6, 3]"
      ]
     },
     "execution_count": 393,
     "metadata": {},
     "output_type": "execute_result"
    }
   ],
   "source": [
    "#시퀀스함수\n",
    "a=[1,2,3,4,5,6,7]\n",
    "b=random.choices(a,k=3)   #k개 무작위 선택(중복 가능)\n",
    "b"
   ]
  },
  {
   "cell_type": "code",
   "execution_count": 496,
   "id": "915ad4ab-6d0f-46b4-bf30-d3876a64dd15",
   "metadata": {},
   "outputs": [
    {
     "data": {
      "text/plain": [
       "[6, 7, 4]"
      ]
     },
     "execution_count": 496,
     "metadata": {},
     "output_type": "execute_result"
    }
   ],
   "source": [
    "c=random.sample(a,3)   #n개 무작위 선택(중복 불가)\n",
    "c"
   ]
  },
  {
   "cell_type": "code",
   "execution_count": 528,
   "id": "a70d9e33-ddeb-44b8-a307-0fd3f1600952",
   "metadata": {},
   "outputs": [
    {
     "data": {
      "text/plain": [
       "['B']"
      ]
     },
     "execution_count": 528,
     "metadata": {},
     "output_type": "execute_result"
    }
   ],
   "source": [
    "items=['A','B','C']\n",
    "weights=[1,2,3]  #가중치줘서 확률 다르게함\n",
    "val=['A','B','B','C','C','C']\n",
    "random.choices(items,weights=weights,k=1)"
   ]
  },
  {
   "cell_type": "markdown",
   "id": "578fa15e-909b-40af-93f8-fbd119669752",
   "metadata": {},
   "source": [
    "random.gauss(0,1)  #정규분포 따르는 난수생성"
   ]
  },
  {
   "cell_type": "code",
   "execution_count": 545,
   "id": "02621ea4-f3ef-4252-a0e0-3162d9c90733",
   "metadata": {},
   "outputs": [
    {
     "name": "stdin",
     "output_type": "stream",
     "text": [
      "오늘 점심메뉴? 마라탕\n",
      "오늘 점심메뉴? 순댓국\n",
      "오늘 점심메뉴? 치킨\n",
      "오늘 점심메뉴? 돈까스\n",
      "오늘 점심메뉴? 제육덮밥\n",
      "오늘 점심메뉴? 칼국수\n",
      "오늘 점심메뉴? 떡볶이\n",
      "오늘 점심메뉴? \n"
     ]
    },
    {
     "name": "stdout",
     "output_type": "stream",
     "text": [
      "점심메뉴는 떡볶이 으로 하세요\n"
     ]
    }
   ],
   "source": [
    "import random\n",
    "menulist=[]\n",
    "while True:\n",
    "    menu=input(\"오늘 점심메뉴?\")\n",
    "    if (menu==''):\n",
    "        break\n",
    "    menulist.append(menu)\n",
    "print(\"점심메뉴는\", random.choice(menulist),\"으로 하세요\")"
   ]
  },
  {
   "cell_type": "code",
   "execution_count": 547,
   "id": "3b67946c-48d8-4bbd-9a49-eedb89c417f0",
   "metadata": {},
   "outputs": [
    {
     "name": "stdout",
     "output_type": "stream",
     "text": [
      "로또번호: [6, 15, 17, 21, 25, 29]\n"
     ]
    }
   ],
   "source": [
    "def generate_lotto():\n",
    "    return sorted(random.sample(range(1,46),6))\n",
    "print(\"로또번호:\", generate_lotto())"
   ]
  },
  {
   "cell_type": "code",
   "execution_count": 553,
   "id": "ea4ef6a6-e14f-44fb-b50d-2e10a2d83968",
   "metadata": {},
   "outputs": [
    {
     "name": "stdout",
     "output_type": "stream",
     "text": [
      "랜덤 비밀번호: KAC2eS2XC6Mk\n"
     ]
    }
   ],
   "source": [
    "def generate_password(length=8):\n",
    "    chars='abcdefghijklmnopqrstuvwxyzABCDEFGHIJKLMNOPQRSTUVWXYZ1234567890'\n",
    "    return ''.join(random.choices(chars,k=length))\n",
    "print(\"랜덤 비밀번호:\",generate_password(12))"
   ]
  },
  {
   "cell_type": "markdown",
   "id": "f1f04012-a6a7-4308-bb52-fe73e0351f74",
   "metadata": {},
   "source": [
    "#### 가중치 다르게 줘서 랜덤"
   ]
  },
  {
   "cell_type": "code",
   "execution_count": 567,
   "id": "7cbba6fc-3747-400b-8235-6fb1350c353b",
   "metadata": {},
   "outputs": [
    {
     "name": "stdout",
     "output_type": "stream",
     "text": [
      "선택된 과일: 바나나\n"
     ]
    }
   ],
   "source": [
    "fruits=['사과','바나나','오렌지']\n",
    "weights=[0.5,0.3,0.2]\n",
    "print(\"선택된 과일:\",random.choices(fruits,weights=weights, k=1)[0])"
   ]
  },
  {
   "cell_type": "code",
   "execution_count": 572,
   "id": "1f04e0c2-36b3-4765-acac-cd7c83845b98",
   "metadata": {},
   "outputs": [
    {
     "name": "stdout",
     "output_type": "stream",
     "text": [
      "Your hand: ['K of ♣', '3 of ◆', '10 of ♥', '8 of ♣', '5 of ♠']\n"
     ]
    }
   ],
   "source": [
    "import random\n",
    "suits = ['♥', '♠', '♣', '◆']\n",
    "ranks = ['2', '3', '4', '5', '6', '7', '8', '9', '10', 'J', 'Q', 'K', 'A']\n",
    "deck = [f\"{rank} of {suit}\" for suit in suits for rank in ranks]\n",
    "\n",
    "random.shuffle(deck)\n",
    "\n",
    "hand = deck[:5]\n",
    "print(\"Your hand:\", hand)"
   ]
  },
  {
   "cell_type": "code",
   "execution_count": 590,
   "id": "3e40c85a-0beb-459f-8273-22e9179ac27a",
   "metadata": {},
   "outputs": [
    {
     "name": "stdout",
     "output_type": "stream",
     "text": [
      "3.141592653589793\n",
      "1\n",
      "2\n",
      "1\n"
     ]
    }
   ],
   "source": [
    "import math\n",
    "print(math.pi)  #원주율\n",
    "print(math.floor(1.4))  #내림\n",
    "print(math.ceil(1.4))   #올림\n",
    "print(round(1.4))  #반올림"
   ]
  },
  {
   "cell_type": "markdown",
   "id": "e8f19131-ab79-4970-a86d-5206454385bb",
   "metadata": {},
   "source": [
    "### 날짜"
   ]
  },
  {
   "cell_type": "code",
   "execution_count": 597,
   "id": "e7387709-d7c3-4a46-892e-bac156faf09e",
   "metadata": {},
   "outputs": [
    {
     "name": "stdout",
     "output_type": "stream",
     "text": [
      "2024-11-12 17:49:33.031749\n",
      "2024-11-12\n",
      "2024-08-05\n",
      "2025-07-19\n",
      "249\n"
     ]
    }
   ],
   "source": [
    "import datetime\n",
    "now = datetime.datetime.now()\n",
    "print(now)\n",
    "today = datetime.date.today()\n",
    "print(today)\n",
    "setdate = datetime.date(2024,8,5)\n",
    "print(setdate)\n",
    "mydate = \"2025-07-19\"\n",
    "tmp1 = mydate.split(\"-\")\n",
    "setdate2 = datetime.date(int(tmp1[0]),int(tmp1[1]),int(tmp1[2]))\n",
    "print(setdate2)\n",
    "rday = setdate2 - today\n",
    "print(rday.days)"
   ]
  },
  {
   "cell_type": "code",
   "execution_count": 599,
   "id": "8bb1eaed-711b-4098-a86f-ebf581fce5ef",
   "metadata": {},
   "outputs": [
    {
     "name": "stdout",
     "output_type": "stream",
     "text": [
      "2024 년\n",
      "11 월\n",
      "12 일\n",
      "17\n",
      "49\n",
      "34\n",
      "1\n",
      "2\n"
     ]
    }
   ],
   "source": [
    "now = datetime.datetime.now() # 현재날짜 및 현재시간\n",
    "print(now.year,\"년\")\n",
    "print(now.month,\"월\")\n",
    "print(now.day,\"일\")\n",
    "print(now.hour)\n",
    "print(now.minute)\n",
    "print(now.second)\n",
    "print(now.weekday()) #0~6 (월~일)\n",
    "print(now.isoweekday()) #1~7 (월~일)"
   ]
  },
  {
   "cell_type": "code",
   "execution_count": 36,
   "id": "1befcf32-1851-4e06-92af-2b54a7b58057",
   "metadata": {},
   "outputs": [
    {
     "name": "stdout",
     "output_type": "stream",
     "text": [
      "{'홍길동': 20, '김민수': 22, '이영희': 19, '박지훈': 21, '최지혜': 20, '이수진': 23, '김철수': 24, '정하늘': 22, '유재석': 25, '신동엽': 30}\n"
     ]
    }
   ],
   "source": [
    "#students.txt파일을 딕셔너리로 불러오기(방법1)\n",
    "def read_students(filename):\n",
    "    students={}\n",
    "    with open(filename, \"r\", encoding=\"utf-8\") as f:\n",
    "       next(f)\n",
    "       for line in f:\n",
    "           info=line.strip().split(\",\")\n",
    "           students[info[0]]=int(info[1])\n",
    "    return students\n",
    "                                \n",
    "filename_students='students.txt'\n",
    "students_dict=read_students(filename_students)\n",
    "print(students_dict)"
   ]
  },
  {
   "cell_type": "code",
   "execution_count": 50,
   "id": "b8ebc37a-4f7c-4900-851d-f0450582d8fb",
   "metadata": {},
   "outputs": [
    {
     "name": "stdout",
     "output_type": "stream",
     "text": [
      "{'홍길동': 20, '김민수': 22, '이영희': 19, '박지훈': 21, '최지혜': 20, '이수진': 23, '김철수': 24, '정하늘': 22, '유재석': 25, '신동엽': 30}\n"
     ]
    }
   ],
   "source": [
    "#students.txt파일을 딕셔너리로 불러오기(방법2)\n",
    "def read_students(filename):\n",
    "    data = {}\n",
    "    with open(filename, \"r\", encoding=\"utf-8\") as f:\n",
    "        lines = f.readlines()  # 모든 줄을 리스트로 읽어옴\n",
    "        for line in lines[1:]:  # 첫 줄 제외하고 읽음\n",
    "            line = line.strip()  # 양쪽 공백 제거\n",
    "            k, v = line.split(\",\")  # 쉼표 기준으로 나눔\n",
    "            data[k] = int(v)  # v 값을 정수로 변환하여 저장\n",
    "    return data\n",
    "\n",
    "filename_students = 'students.txt'\n",
    "students_dict = read_students(filename_students)\n",
    "print(students_dict)"
   ]
  },
  {
   "cell_type": "code",
   "execution_count": 138,
   "id": "97f17553-8f5c-4ac3-b967-e4bade550f18",
   "metadata": {},
   "outputs": [
    {
     "name": "stdout",
     "output_type": "stream",
     "text": [
      "{'이름': ['홍길동', '김민수', '이영희', '박지훈', '최지혜', '이수진', '김철수', '정하늘', '유재석', '신동엽'], '나이': ['20', '22', '19', '21', '20', '23', '24', '22', '25', '30']}\n"
     ]
    }
   ],
   "source": [
    "#students.txt파일을 딕셔너리로 불러오기\n",
    "def read_students(filename):\n",
    "    students={}\n",
    "    with open(filename, \"r\", encoding=\"utf-8\") as f:\n",
    "        header=f.readline().strip().split(',')\n",
    "\n",
    "        #헤더를 키로 초기화\n",
    "        for key in header:\n",
    "            students[key]=[]\n",
    "            \n",
    "        for line in f:\n",
    "            values=line.strip().split(',')\n",
    "            for i in range(len(header)):\n",
    "                students[header[i]].append(values[i])\n",
    "    return students\n",
    "            \n",
    "filename_students='students.txt'\n",
    "students_dict=read_students(filename_students)\n",
    "print(students_dict)"
   ]
  },
  {
   "cell_type": "code",
   "execution_count": 144,
   "id": "d5f20eab-3c10-424b-ba06-4845b13b304b",
   "metadata": {},
   "outputs": [
    {
     "name": "stdout",
     "output_type": "stream",
     "text": [
      "{'이름': ['홍길동', '김민수', '이영희', '박지훈', '최지혜', '이수진', '김철수', '정하늘', '유재석', '신동엽'], '나이': ['20', '22', '19', '21', '20', '23', '24', '22', '25', '30']}\n"
     ]
    }
   ],
   "source": [
    "#students.txt파일을 딕셔너리로 불러오기\n",
    "def read_students(filename):\n",
    "    students={}\n",
    "    with open(filename, \"r\", encoding=\"utf-8\") as f:\n",
    "        header=f.readline().strip().split(',')\n",
    "\n",
    "        #헤더를 키로 초기화\n",
    "        for key in header:\n",
    "            students[key]=[]\n",
    "            \n",
    "        for line in f:\n",
    "            values=line.strip().split(',')\n",
    "            for k,v in zip(header,values):\n",
    "                students[k].append(v)\n",
    "    return students\n",
    "            \n",
    "filename_students='students.txt'\n",
    "students_dict=read_students(filename_students)\n",
    "print(students_dict)"
   ]
  },
  {
   "cell_type": "code",
   "execution_count": 169,
   "id": "7e285d31-97d3-4ac9-9527-a3ca5545d5e8",
   "metadata": {},
   "outputs": [
    {
     "name": "stdout",
     "output_type": "stream",
     "text": [
      "{'상품명': ['사과', '바나나', '오렌지', '포도', '망고', '딸기', '복숭아', '수박', '키위', '배'], '가격': ['1000', '500', '700', '1500', '2000', '2500', '1200', '3000', '1000', '1300']}\n"
     ]
    }
   ],
   "source": [
    "#products.txt파일 딕셔너리로 불러오기\n",
    "def read_products(filename):\n",
    "    products={}\n",
    "    with open(filename, \"r\",encoding=\"utf-8\") as f:\n",
    "        header=f.readline().strip().split(',')\n",
    "\n",
    "        for key in header:\n",
    "            products[key]=[]\n",
    "            \n",
    "        for line in f:\n",
    "            values=line.strip().split(',')\n",
    "            \n",
    "            for i in range(len(products)):\n",
    "                products[header[i]].append(values[i])\n",
    "                \n",
    "    return products\n",
    "\n",
    "print(read_products('products.txt'))"
   ]
  },
  {
   "cell_type": "code",
   "execution_count": 177,
   "id": "e996aa99-6a35-48bc-9762-004cb6d6391c",
   "metadata": {},
   "outputs": [
    {
     "name": "stdout",
     "output_type": "stream",
     "text": [
      "{'상품명': ['사과', '바나나', '오렌지', '포도', '망고', '딸기', '복숭아', '수박', '키위', '배'], '가격': ['1000', '500', '700', '1500', '2000', '2500', '1200', '3000', '1000', '1300']}\n"
     ]
    }
   ],
   "source": [
    "#products.txt파일 딕셔너리로 불러오기\n",
    "def read_products(filename):\n",
    "    products={}\n",
    "    with open(filename, \"r\",encoding=\"utf-8\") as f:\n",
    "        header=f.readline().strip().split(',')\n",
    "\n",
    "        for key in header:\n",
    "            products[key]=[]\n",
    "            \n",
    "        for line in f:\n",
    "            values=line.strip().split(',')\n",
    "            \n",
    "            for i in range(len(products)):\n",
    "                products[header[i]].append(values[i])\n",
    "                \n",
    "    return products\n",
    "\n",
    "print(read_products('products.txt'))"
   ]
  },
  {
   "cell_type": "code",
   "execution_count": 181,
   "id": "633ed2ca-561a-427e-91f6-9a9c44a19eb5",
   "metadata": {},
   "outputs": [
    {
     "name": "stdout",
     "output_type": "stream",
     "text": [
      "{'이름': ['홍길동', '김민수', '이영희', '박지훈', '최지혜', '이수진', '김철수', '정하늘', '유재석', '신동엽'], '나이': ['20', '22', '19', '21', '20', '23', '24', '22', '25', '30']}\n"
     ]
    }
   ],
   "source": [
    "def read_students(filename):\n",
    "    students = {}\n",
    "    with open(filename, \"r\", encoding=\"utf-8\") as f:\n",
    "        header = f.readline().strip().split(',')  # 첫 줄에서 헤더 읽기\n",
    "        \n",
    "        # 헤더를 키로 사용하여 빈 리스트 초기화\n",
    "        for key in header:\n",
    "            students[key] = []\n",
    "\n",
    "        # 파일의 각 줄을 읽어와서 키에 맞는 리스트에 추가\n",
    "        for line in f:\n",
    "            values = line.strip().split(',')\n",
    "            for i, key in enumerate(header):\n",
    "                students[key].append(values[i])\n",
    "    \n",
    "    return students\n",
    "\n",
    "filename_students = 'students.txt'\n",
    "students_dict = read_students(filename_students)\n",
    "print(students_dict)"
   ]
  },
  {
   "cell_type": "code",
   "execution_count": null,
   "id": "c15d83ca-f5c9-444e-88c5-2e841cb39e99",
   "metadata": {},
   "outputs": [],
   "source": []
  },
  {
   "cell_type": "code",
   "execution_count": null,
   "id": "d657712c-67f6-42e1-9c8b-c24611fead90",
   "metadata": {},
   "outputs": [],
   "source": []
  }
 ],
 "metadata": {
  "kernelspec": {
   "display_name": "Python 3 (ipykernel)",
   "language": "python",
   "name": "python3"
  },
  "language_info": {
   "codemirror_mode": {
    "name": "ipython",
    "version": 3
   },
   "file_extension": ".py",
   "mimetype": "text/x-python",
   "name": "python",
   "nbconvert_exporter": "python",
   "pygments_lexer": "ipython3",
   "version": "3.12.7"
  }
 },
 "nbformat": 4,
 "nbformat_minor": 5
}
