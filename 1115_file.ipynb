{
 "cells": [
  {
   "cell_type": "markdown",
   "id": "ce4bfedd-bdac-42f6-a85d-9fab091e79b6",
   "metadata": {},
   "source": [
    "### JSON"
   ]
  },
  {
   "cell_type": "code",
   "execution_count": 6,
   "id": "e12dd099-bd9c-412f-a63d-11856308fb4c",
   "metadata": {},
   "outputs": [
    {
     "name": "stdout",
     "output_type": "stream",
     "text": [
      "<class 'dict'> {'이름': '홍길동', '나이': 30, '몸무게': 77}\n"
     ]
    }
   ],
   "source": [
    "import json\n",
    "data={\n",
    "    \"이름\":\"홍길동\",\n",
    "    \"나이\":30,\n",
    "    \"몸무게\":77\n",
    "}\n",
    "print(type(data),data)\n"
   ]
  },
  {
   "cell_type": "markdown",
   "id": "aca8bb10-966c-4e08-b9e0-05ff73f7b4e3",
   "metadata": {},
   "source": [
    "#### json.dumps(): 딕셔너리 -> 문자열\n",
    "#### json.load(): 문자열 -> 딕셔너리"
   ]
  },
  {
   "cell_type": "code",
   "execution_count": 32,
   "id": "3f272f45-48b0-4dc3-8c4f-0e087d5474fa",
   "metadata": {},
   "outputs": [
    {
     "name": "stdout",
     "output_type": "stream",
     "text": [
      "<class 'str'> {\"\\uc774\\ub984\": \"\\ud64d\\uae38\\ub3d9\", \"\\ub098\\uc774\": 30, \"\\ubab8\\ubb34\\uac8c\": 77}\n"
     ]
    }
   ],
   "source": [
    "json_str=json.dumps(data)  #파이썬 객체(data)를 JSON 문자열로 변환\n",
    "#json_str=json.dumps(data,ensure_ascii=False)  #utf-8로 인코딩\n",
    "print(type(json_str),json_str)"
   ]
  },
  {
   "cell_type": "code",
   "execution_count": 39,
   "id": "8f478ef1-e28c-4b55-b377-9b55f115ea58",
   "metadata": {},
   "outputs": [
    {
     "name": "stdout",
     "output_type": "stream",
     "text": [
      "<class 'str'> {\"이름\": \"홍길동\", \"나이\": 30, \"몸무게\": 77}\n",
      "<class 'dict'> {'이름': '홍길동', '나이': 30, '몸무게': 77}\n"
     ]
    }
   ],
   "source": [
    "json_str2='{\"이름\": \"홍길동\", \"나이\": 30, \"몸무게\": 77}'\n",
    "print(type(json_str2),json_str2) \n",
    "data2=json.loads(json_str)  #JSON 문자열을 파이썬 객체(딕셔너리)로 변환\n",
    "print(type(data2),data2)"
   ]
  },
  {
   "cell_type": "code",
   "execution_count": 41,
   "id": "44ac4b78-4716-4b26-833b-8fc7bb703f60",
   "metadata": {},
   "outputs": [],
   "source": [
    "#json을 파일로 저장\n",
    "\n",
    "data={\n",
    "    'name':'김철수',\n",
    "    'age':25,\n",
    "    'cities':['서울','대구','부산']\n",
    "}\n",
    "\n",
    "with open('data.json','w',encoding='utf-8') as f:\n",
    "    json.dump(data,f,ensure_ascii=False)"
   ]
  },
  {
   "cell_type": "code",
   "execution_count": 45,
   "id": "d59eda63-1d09-4b68-b2ba-d304f0591f69",
   "metadata": {},
   "outputs": [
    {
     "name": "stdout",
     "output_type": "stream",
     "text": [
      "<class 'dict'> {'name': '김철수', 'age': 25, 'cities': ['서울', '대구', '부산']}\n"
     ]
    }
   ],
   "source": [
    "with open('data.json','r',encoding='utf-8') as f:\n",
    "    data=json.load(f)\n",
    "print(type(data),data)"
   ]
  },
  {
   "cell_type": "markdown",
   "id": "ed5bc807-beb8-4230-9f0c-7b34deb7402b",
   "metadata": {},
   "source": [
    "### os모듈"
   ]
  },
  {
   "cell_type": "code",
   "execution_count": 48,
   "id": "08189594-34fb-446c-9dfc-d86bc993039d",
   "metadata": {},
   "outputs": [
    {
     "data": {
      "text/plain": [
       "'C:\\\\Users\\\\enjoy\\\\python_202411'"
      ]
     },
     "execution_count": 48,
     "metadata": {},
     "output_type": "execute_result"
    }
   ],
   "source": [
    "import os\n",
    "os.getcwd()"
   ]
  },
  {
   "cell_type": "code",
   "execution_count": 52,
   "id": "811d8001-45b9-430b-bf5a-8b9a2a589d65",
   "metadata": {},
   "outputs": [],
   "source": [
    "#디렉토리 생성\n",
    "new_dir='example_dir'\n",
    "os.makedirs(new_dir,exist_ok=True)"
   ]
  },
  {
   "cell_type": "code",
   "execution_count": 56,
   "id": "15622a70-b716-49b7-91f5-394f0e054f45",
   "metadata": {
    "scrolled": true
   },
   "outputs": [
    {
     "data": {
      "text/plain": [
       "['.csv',\n",
       " '.ipynb_checkpoints',\n",
       " '1107_list.ipynb',\n",
       " '1108_def.ipynb',\n",
       " '1111_lambda.ipynb',\n",
       " '1112_file.ipynb',\n",
       " '1113_program.ipynb',\n",
       " '1114_exception.ipynb',\n",
       " '1115.ipynb',\n",
       " 'books.csv',\n",
       " 'cal.html',\n",
       " 'ch1.ipynb',\n",
       " 'ch2.ipynb',\n",
       " 'corona.html',\n",
       " 'data.csv',\n",
       " 'data.json',\n",
       " 'data2.csv',\n",
       " 'datatable.html',\n",
       " 'datatable2.html',\n",
       " 'employees.csv',\n",
       " 'error_log.txt',\n",
       " 'events.txt',\n",
       " 'example_dir',\n",
       " 'grades.csv',\n",
       " 'info.txt',\n",
       " 'library.ipynb',\n",
       " 'minfo.py',\n",
       " 'mng_events.py',\n",
       " 'movies.csv',\n",
       " 'products.txt',\n",
       " 'school.html',\n",
       " 'seoulair.html',\n",
       " 'shopping_list.csv',\n",
       " 'students.txt',\n",
       " 'Untitled Folder',\n",
       " 'Untitled Folder 1',\n",
       " 'weather.html',\n",
       " '__pycache__',\n",
       " '매수종목.csv',\n",
       " '매수종목.txt',\n",
       " '매수종목2.txt',\n",
       " '새파일.txt',\n",
       " '새파일2.txt',\n",
       " '새파일4.txt',\n",
       " '새파일5.txt',\n",
       " '아무거나.txt']"
      ]
     },
     "execution_count": 56,
     "metadata": {},
     "output_type": "execute_result"
    }
   ],
   "source": [
    "#현재 디렉토리의 파일 및 폴더 목록\n",
    "files=os.listdir(\".\")\n",
    "files"
   ]
  },
  {
   "cell_type": "code",
   "execution_count": 60,
   "id": "6b34aaf2-7039-43e5-8be7-46e0aa22f67a",
   "metadata": {},
   "outputs": [
    {
     "name": "stdout",
     "output_type": "stream",
     "text": [
      "삭제할 파일이 없습니다.\n"
     ]
    }
   ],
   "source": [
    "dfile='example.txt'\n",
    "if os.path.exists(dfile):  #현재경로에 example.txt파일 있으면 삭제\n",
    "    os.remove(dfile)\n",
    "else:\n",
    "    print(\"삭제할 파일이 없습니다.\")"
   ]
  },
  {
   "cell_type": "code",
   "execution_count": 68,
   "id": "d51c9384-6cfb-417b-aa00-402af9fd0964",
   "metadata": {},
   "outputs": [
    {
     "name": "stdout",
     "output_type": "stream",
     "text": [
      "True\n",
      "False\n"
     ]
    }
   ],
   "source": [
    "#파일여부확인\n",
    "print(os.path.isfile(\"sample.txt\"))\n",
    "print(os.path.isfile(\"example_dir\"))"
   ]
  },
  {
   "cell_type": "code",
   "execution_count": 70,
   "id": "b1e8fa95-3fdd-4606-b720-4e43918644a8",
   "metadata": {},
   "outputs": [
    {
     "name": "stdout",
     "output_type": "stream",
     "text": [
      "False\n",
      "True\n"
     ]
    }
   ],
   "source": [
    "#디렉토리여부\n",
    "print(os.path.isdir(\"sample.txt\"))\n",
    "print(os.path.isdir(\"example_dir\"))"
   ]
  },
  {
   "cell_type": "code",
   "execution_count": 72,
   "id": "916cdfa1-da82-4ff2-b0de-fd749e38179e",
   "metadata": {},
   "outputs": [],
   "source": [
    "#디렉토리 변경\n",
    "cdir=\"example_dir\"\n",
    "os.chdir(cdir)"
   ]
  },
  {
   "cell_type": "code",
   "execution_count": 74,
   "id": "9f2a7ca5-2ff8-4543-877d-c2bd4ce392d2",
   "metadata": {},
   "outputs": [
    {
     "data": {
      "text/plain": [
       "'C:\\\\Users\\\\enjoy\\\\python_202411\\\\example_dir'"
      ]
     },
     "execution_count": 74,
     "metadata": {},
     "output_type": "execute_result"
    }
   ],
   "source": [
    "os.getcwd()"
   ]
  },
  {
   "cell_type": "code",
   "execution_count": 76,
   "id": "f0449516-a40a-4c41-bf2b-3afe20672ce1",
   "metadata": {},
   "outputs": [],
   "source": [
    "os.chdir(\"..\")"
   ]
  },
  {
   "cell_type": "code",
   "execution_count": 78,
   "id": "528c3974-05f0-432d-b103-8e632e94abb6",
   "metadata": {},
   "outputs": [
    {
     "data": {
      "text/plain": [
       "'C:\\\\Users\\\\enjoy\\\\python_202411'"
      ]
     },
     "execution_count": 78,
     "metadata": {},
     "output_type": "execute_result"
    }
   ],
   "source": [
    "os.getcwd()"
   ]
  },
  {
   "cell_type": "code",
   "execution_count": 88,
   "id": "cbecf164-7f40-4bd0-af4f-b4768cab0561",
   "metadata": {},
   "outputs": [],
   "source": [
    "#파일 이름 변경\n",
    "os.rename(\"sample.txt\",\"sample_new.txt\")"
   ]
  },
  {
   "cell_type": "code",
   "execution_count": null,
   "id": "589331f1-bd7c-4dd0-8434-7ab63bf665fe",
   "metadata": {},
   "outputs": [],
   "source": [
    "os.rmdir(\"example_dir\")"
   ]
  },
  {
   "cell_type": "code",
   "execution_count": 96,
   "id": "960e825f-f4b8-49c3-b194-27038129a363",
   "metadata": {},
   "outputs": [
    {
     "data": {
      "text/plain": [
       "6"
      ]
     },
     "execution_count": 96,
     "metadata": {},
     "output_type": "execute_result"
    }
   ],
   "source": [
    "os.cpu_count()"
   ]
  },
  {
   "cell_type": "code",
   "execution_count": null,
   "id": "13c4d0b3-7d8f-4044-a4b0-745492c2b4e3",
   "metadata": {},
   "outputs": [],
   "source": [
    "os.system(\"cd example_dir\") # 현재 디렉터리를 example_dir로 변경하려"
   ]
  },
  {
   "cell_type": "code",
   "execution_count": 98,
   "id": "ef231f98-2f77-4cac-b2fc-5b608f5ce33f",
   "metadata": {},
   "outputs": [
    {
     "data": {
      "text/plain": [
       "0"
      ]
     },
     "execution_count": 98,
     "metadata": {},
     "output_type": "execute_result"
    }
   ],
   "source": [
    "os.system('dir>111.txt') \n",
    "#운영 체제 명령어 dir(현재 디렉터리의 파일과 폴더 목록을 출력)을 실행하고,\n",
    "#그 결과를 111.txt 파일에 저장"
   ]
  },
  {
   "cell_type": "code",
   "execution_count": 102,
   "id": "245074b4-92fe-4d88-a75d-d4951e301e7e",
   "metadata": {
    "scrolled": true
   },
   "outputs": [
    {
     "name": "stdout",
     "output_type": "stream",
     "text": [
      " C 드라이브의 볼륨에는 이름이 없습니다.\n",
      " 볼륨 일련 번호: FAD7-CFB8\n",
      "\n",
      " C:\\Users\\enjoy\\python_202411 디렉터리\n",
      "\n",
      "2024-11-15  오후 12:44    <DIR>          .\n",
      "2024-11-14  오전 09:07    <DIR>          ..\n",
      "2024-11-12  오후 02:25                79 .csv\n",
      "2024-11-15  오전 10:51    <DIR>          .ipynb_checkpoints\n",
      "2024-11-12  오전 09:25            44,860 1107_list.ipynb\n",
      "2024-11-12  오전 09:25            21,460 1108_def.ipynb\n",
      "2024-11-15  오후 12:40             2,896 111.txt\n",
      "2024-11-12  오전 09:26            28,677 1111_lambda.ipynb\n",
      "2024-11-13  오후 12:14            42,392 1112_file.ipynb\n",
      "2024-11-14  오전 09:48            25,532 1113_program.ipynb\n",
      "2024-11-14  오후 05:41            28,089 1114_exception.ipynb\n",
      "2024-11-15  오후 12:44            14,274 1115.ipynb\n",
      "2024-11-12  오후 04:27               156 books.csv\n",
      "2024-11-05  오후 12:46             1,314 cal.html\n",
      "2024-11-05  오후 05:40            14,324 ch1.ipynb\n",
      "2024-11-06  오후 05:40            42,698 ch2.ipynb\n",
      "2024-11-05  오전 09:30               736 corona.html\n",
      "2024-11-12  오후 02:35                64 data.csv\n",
      "2024-11-15  오전 10:51                74 data.json\n",
      "2024-11-12  오후 03:31                71 data2.csv\n",
      "2024-11-07  오전 09:48             2,121 datatable.html\n",
      "2024-11-07  오전 09:56             1,721 datatable2.html\n",
      "2024-11-12  오후 04:04                96 employees.csv\n",
      "2024-11-14  오후 12:49               204 error_log.txt\n",
      "2024-11-13  오후 05:16                 2 events.txt\n",
      "2024-11-12  오후 03:53                85 grades.csv\n",
      "2024-11-12  오전 11:50            13,000 info.txt\n",
      "2024-11-14  오후 12:40            10,032 library.ipynb\n",
      "2024-11-12  오후 04:39               803 minfo.py\n",
      "2024-11-13  오후 04:55             2,664 mng_events.py\n",
      "2024-11-12  오후 04:06               140 movies.csv\n",
      "2024-11-13  오전 11:18               150 products.txt\n",
      "2024-11-15  오전 11:47                 0 sample_new.txt\n",
      "2024-11-05  오전 11:45             6,111 school.html\n",
      "2024-11-05  오전 08:55             2,587 seoulair.html\n",
      "2024-11-12  오후 04:40                73 shopping_list.csv\n",
      "2024-11-13  오전 09:28               153 students.txt\n",
      "2024-11-06  오전 10:20    <DIR>          Untitled Folder\n",
      "2024-11-13  오전 09:27    <DIR>          Untitled Folder 1\n",
      "2024-11-05  오후 02:08             3,449 weather.html\n",
      "2024-11-12  오후 04:39    <DIR>          __pycache__\n",
      "2024-11-12  오후 02:28                79 매수종목.csv\n",
      "2024-11-12  오후 02:24                24 매수종목.txt\n",
      "2024-11-12  오후 12:19                47 매수종목2.txt\n",
      "2024-11-12  오전 11:19               397 새파일.txt\n",
      "2024-11-12  오전 10:44               187 새파일2.txt\n",
      "2024-11-12  오후 12:07               160 새파일4.txt\n",
      "2024-11-12  오후 12:11                26 새파일5.txt\n",
      "2024-11-14  오후 12:13                11 아무거나.txt\n",
      "              43개 파일             312,018 바이트\n",
      "               6개 디렉터리  197,213,511,680 바이트 남음\n",
      "\n"
     ]
    }
   ],
   "source": [
    "with os.popen(\"dir\") as p:\n",
    "    output=p.read()\n",
    "print(output)\n",
    "#명령어 dir을 실행하고, 그 출력 결과를 output 변수에 저장한 뒤 출력"
   ]
  },
  {
   "cell_type": "code",
   "execution_count": 5,
   "id": "e67830d7-e0b1-4541-825f-f8bf430dea2e",
   "metadata": {},
   "outputs": [
    {
     "name": "stdout",
     "output_type": "stream",
     "text": [
      "백업폴더 생성\n",
      "C:\\Users\\enjoy\\python_202411/example_dir\\.csv - 백업완료\n",
      "C:\\Users\\enjoy\\python_202411/example_dir\\002 (1).ipynb - 백업완료\n",
      "C:\\Users\\enjoy\\python_202411/example_dir\\1107_list.ipynb - 백업완료\n",
      "C:\\Users\\enjoy\\python_202411/example_dir\\1108_def.ipynb - 백업완료\n",
      "C:\\Users\\enjoy\\python_202411/example_dir\\111.txt - 백업완료\n",
      "C:\\Users\\enjoy\\python_202411/example_dir\\1111_lambda.ipynb - 백업완료\n",
      "C:\\Users\\enjoy\\python_202411/example_dir\\1112_file.ipynb - 백업완료\n",
      "C:\\Users\\enjoy\\python_202411/example_dir\\1113_program.ipynb - 백업완료\n",
      "C:\\Users\\enjoy\\python_202411/example_dir\\1114_exception.ipynb - 백업완료\n",
      "C:\\Users\\enjoy\\python_202411/example_dir\\1115.ipynb - 백업완료\n",
      "C:\\Users\\enjoy\\python_202411/example_dir\\books.csv - 백업완료\n",
      "C:\\Users\\enjoy\\python_202411/example_dir\\cal.html - 백업완료\n",
      "C:\\Users\\enjoy\\python_202411/example_dir\\ch1.ipynb - 백업완료\n",
      "C:\\Users\\enjoy\\python_202411/example_dir\\ch2.ipynb - 백업완료\n",
      "C:\\Users\\enjoy\\python_202411/example_dir\\corona.html - 백업완료\n",
      "C:\\Users\\enjoy\\python_202411/example_dir\\data.csv - 백업완료\n",
      "C:\\Users\\enjoy\\python_202411/example_dir\\data.json - 백업완료\n",
      "C:\\Users\\enjoy\\python_202411/example_dir\\data2.csv - 백업완료\n",
      "C:\\Users\\enjoy\\python_202411/example_dir\\datatable.html - 백업완료\n",
      "C:\\Users\\enjoy\\python_202411/example_dir\\datatable2.html - 백업완료\n",
      "C:\\Users\\enjoy\\python_202411/example_dir\\employees.csv - 백업완료\n",
      "C:\\Users\\enjoy\\python_202411/example_dir\\error_log.txt - 백업완료\n",
      "C:\\Users\\enjoy\\python_202411/example_dir\\events.txt - 백업완료\n",
      "C:\\Users\\enjoy\\python_202411/example_dir\\grades.csv - 백업완료\n",
      "C:\\Users\\enjoy\\python_202411/example_dir\\info.txt - 백업완료\n",
      "C:\\Users\\enjoy\\python_202411/example_dir\\library.ipynb - 백업완료\n",
      "C:\\Users\\enjoy\\python_202411/example_dir\\minfo.py - 백업완료\n",
      "C:\\Users\\enjoy\\python_202411/example_dir\\mng_events.py - 백업완료\n",
      "C:\\Users\\enjoy\\python_202411/example_dir\\movies.csv - 백업완료\n",
      "C:\\Users\\enjoy\\python_202411/example_dir\\products.txt - 백업완료\n",
      "C:\\Users\\enjoy\\python_202411/example_dir\\sample_new.txt - 백업완료\n",
      "C:\\Users\\enjoy\\python_202411/example_dir\\school.html - 백업완료\n",
      "C:\\Users\\enjoy\\python_202411/example_dir\\seoulair.html - 백업완료\n",
      "C:\\Users\\enjoy\\python_202411/example_dir\\shopping_list.csv - 백업완료\n",
      "C:\\Users\\enjoy\\python_202411/example_dir\\students.txt - 백업완료\n",
      "C:\\Users\\enjoy\\python_202411/example_dir\\Untitled.ipynb - 백업완료\n",
      "C:\\Users\\enjoy\\python_202411/example_dir\\weather.html - 백업완료\n",
      "C:\\Users\\enjoy\\python_202411/example_dir\\매수종목.csv - 백업완료\n",
      "C:\\Users\\enjoy\\python_202411/example_dir\\매수종목.txt - 백업완료\n",
      "C:\\Users\\enjoy\\python_202411/example_dir\\매수종목2.txt - 백업완료\n",
      "C:\\Users\\enjoy\\python_202411/example_dir\\새파일.txt - 백업완료\n",
      "C:\\Users\\enjoy\\python_202411/example_dir\\새파일2.txt - 백업완료\n",
      "C:\\Users\\enjoy\\python_202411/example_dir\\새파일4.txt - 백업완료\n",
      "C:\\Users\\enjoy\\python_202411/example_dir\\새파일5.txt - 백업완료\n",
      "C:\\Users\\enjoy\\python_202411/example_dir\\아무거나.txt - 백업완료\n"
     ]
    }
   ],
   "source": [
    "# 백업\n",
    "import os\n",
    "\n",
    "def backup_files(source_directory, backup_directory):\n",
    "\n",
    "    '''\n",
    "    1) 백업폴더가 존재하는지\n",
    "    2) 백업폴더가 없으면 생성 아니면 계속 진행\n",
    "    3) 원본폴더의 파일목록 불러오기\n",
    "    4) 파일목록 순서대로 돌기\n",
    "    5) 목록이 파일인지 확인 (파일일 경우에만 백업진행)\n",
    "    6) 작업폴더의 파일을 rb로 읽어오기\n",
    "    7) rb로 읽어온 데이터를 백업폴더의 파일에 wb로 저장\n",
    "    '''\n",
    "    \n",
    "    # os.path.exists : 백업폴더가 존재하는지\n",
    "    # os.makedirs : 백업폴더가 없으면 생성\n",
    "    # os.listdir : 원본폴더의 파일목록 불러오기\n",
    "    # for fname in os.listdir(source_directory): 파일 목록 순서대로 돌기\n",
    "        # if os.path.isfile(fname) : 목록이 파일인지 확인\n",
    "            # with open(source_directory + \"/\" + fname,\"rb\") as f1: # 작업폴더\n",
    "                # data = f1.read()\n",
    "            # with open(backup_directory + \"/\" + fname\",\"wb\") as f2:# 백업폴더\n",
    "                # f2.write(data)\n",
    "\n",
    "    if not os.path.exists(backup_directory):\n",
    "        os.makedirs(backup_directory)\n",
    "        print(\"백업폴더 생성\")\n",
    "\n",
    "    for filename in os.listdir(source_directory):\n",
    "        \n",
    "        #source_path = source_directory + '/' + filename\n",
    "        #backup_path = backup_directory + '/' + filename\n",
    "\n",
    "        # 경로연결 메소드\n",
    "        source_path = os.path.join(source_directory, filename)\n",
    "        backup_path = os.path.join(backup_directory, filename)\n",
    "        \n",
    "        if os.path.isfile(source_path): # 절대경로\n",
    "            \n",
    "            with open(source_path,'rb') as f1:\n",
    "                data = f1.read()\n",
    "            with open(backup_path,'wb') as f2:\n",
    "                f2.write(data)\n",
    "\n",
    "            #with open(source_path,'rb') as f1:\n",
    "            #    with open(backup_path,'wb') as f2:\n",
    "            #        f2.write(f1.read())\n",
    "                \n",
    "            print(f\"{backup_path} - 백업완료\")\n",
    "\n",
    "source_directory = os.getcwd()\n",
    "backup_directory = os.getcwd() + '/example_dir'\n",
    "\n",
    "backup_files(source_directory, backup_directory)"
   ]
  },
  {
   "cell_type": "code",
   "execution_count": 7,
   "id": "34ada4b7-f2f3-494d-b217-39b0f2a0413f",
   "metadata": {},
   "outputs": [
    {
     "name": "stdout",
     "output_type": "stream",
     "text": [
      "D:/test/sample.txt\n",
      "D:/test\\sample.txt\n",
      "sample.txt\n"
     ]
    }
   ],
   "source": [
    "source_directory = \"D:/test\"\n",
    "filename = \"sample.txt\"\n",
    "\n",
    "# 문자열 연결\n",
    "source_path = source_directory + '/' + filename\n",
    "print(source_path)\n",
    "\n",
    "# 경로연결 메소드\n",
    "source_path = os.path.join(source_directory, filename)\n",
    "print(source_path)\n",
    "\n",
    "# 파일 이름가져오기\n",
    "filename = os.path.basename(source_path)\n",
    "print(filename)\n",
    "\n",
    "# 파일이름 변경 (파일 이동)\n",
    "os.rename(\"sample_new.txt\",\"sample_new1.txt\")"
   ]
  },
  {
   "cell_type": "code",
   "execution_count": 31,
   "id": "3628b042-551c-4243-8882-4654ac1e9eae",
   "metadata": {},
   "outputs": [
    {
     "name": "stdout",
     "output_type": "stream",
     "text": [
      "매수종목.csv파일이 C:\\Users\\enjoy\\python_202411\\sample\\csv로 옮겨졌습니다.\n",
      "매수종목.txt파일이 C:\\Users\\enjoy\\python_202411\\sample\\txt로 옮겨졌습니다.\n"
     ]
    }
   ],
   "source": [
    "# 디렉토리(target_dir) 내 파일들을 확장자별 폴더로 분류\n",
    "# 확장자를 기준으로 폴더를 생성한 뒤, 해당 폴더로 파일을 이동\n",
    "# 파일분류 (확장자별 폴더로 파일정리[이동])\n",
    "import os\n",
    "\n",
    "'''\n",
    "[목표] 타겟 경로내의 파일들의 확장자를 기준으로 폴더를 만들고 해당 파일들을 각 확장자 폴더로 이동시켜서 정리하고자 합니다.\n",
    "[순서]\n",
    "1) 타겟 경로내 파일목록 불러오기\n",
    "2) 파일인지 아닌지 확인 (파일인 경우만 진행)\n",
    "3) 확장자 확인(분리)\n",
    "4) 타겟 경로와 확장자 합치기 (생성할 확장자 폴더 경로)\n",
    "5) 확장자 폴더가 존재하지 않을때만 확장자 폴더생성\n",
    "6) 타겟 경로와 경로내 파일 연결 (절대경로 생성)\n",
    "7) 해당 확장자 경로로 파일 이동\n",
    "'''\n",
    "\n",
    "'''\n",
    "os.listdir : 타겟 경로내 파일목록 부르기\n",
    "    os.path.isfile : 파일여부 확인 (절대경로 기준으로 확인)\n",
    "        split -> 리스트 -> [-1] : 확장자 확인\n",
    "        os.path.join : 타겟경로 + 확장자폴더  -> 생성 위해서\n",
    "        os.path.exists : 타겟경로 + 확장자폴더 path가 존재하는지 확인\n",
    "            os.makedirs : 존재하지 않으면 생성\n",
    "            \n",
    "        os.path.join : 타겟경로 + 확장자폴더 + 파일명\n",
    "        os.rename : 타겟경로 + 파일명(기존 경로) ---> 타겟경로 + 확장자폴더 + 파일명(이동할 경로)\n",
    "'''\n",
    "def organize_files(target_dir):   #디렉토리에서 파일 목록을 읽고, 확장자별로 분류\n",
    "    for filename in os.listdir(target_dir):  #target_dir 내의 모든 파일과 폴더를 리스트로 반환\n",
    "        source_file=os.path.join(target_dir,filename) #filename과 target_dir를 결합해 파일의 절대 경로 생성\n",
    "        if(os.path.isfile(source_file)):\n",
    "            ext=filename.split('.')[-1]  #리스트의 마지막 요소를 가져와 확장자를 추출\n",
    "            ext_dir=os.path.join(target_dir,ext)  #target_dir와 확장자 이름(ext)을 결합해 확장자 폴더 경로 생성.\n",
    "            if not os.path.exists(ext_dir):    #확장자 폴더가 없으면 생성\n",
    "                os.makedirs(ext_dir)\n",
    "                print(f\"확장자가 생성되었습니다. - {ext}\")\n",
    "            new_file=os.path.join(ext_dir,filename)\n",
    "            os.rename(source_file,new_file)\n",
    "            print(f\"{filename}파일이 {ext_dir}로 옮겨졌습니다.\")\n",
    "            \n",
    "\n",
    "target_directory = os.path.join(os.getcwd(),\"sample\")\n",
    "organize_files(target_directory)\n",
    "\n",
    "# 파일 크기 확인: os.path.getsize(file_path)"
   ]
  },
  {
   "cell_type": "code",
   "execution_count": 63,
   "id": "e34eda8a-76b5-4a07-883b-cc8e9ada6378",
   "metadata": {},
   "outputs": [
    {
     "name": "stdout",
     "output_type": "stream",
     "text": [
      " 파일이 삭제되었습니다. -새 텍스트 문서.tmp\n"
     ]
    }
   ],
   "source": [
    "#특정폴더나 특정확장자를 가진 파일 일괄 삭제\n",
    "import os\n",
    "\n",
    "def delete_files_with_extension(target_directory,file_extension):   #디렉토리에서 파일 목록을 읽고, 확장자별로 분류\n",
    "    for filename in os.listdir(target_directory):  #target_dir 내의 모든 파일과 폴더를 리스트로 반환\n",
    "        source_file=os.path.join(target_directory,filename) #filename과 target_dir를 결합해 파일의 절대 경로 생성\n",
    "        if(os.path.isfile(source_file)):\n",
    "            file_extension=filename.split('.')[-1] \n",
    "            os.remove(source_file)\n",
    "            print(f\" 파일이 삭제되었습니다. -{filename}\")\n",
    "\n",
    "# def delete_files_with_extension(target_directory,file_extension):   #디렉토리에서 파일 목록을 읽고, 확장자별로 분류\n",
    "#     for filename in os.listdir(target_directory):\n",
    "#         if filename.endswith(file_extension):\n",
    "#             file_path=target_directory +'/' +filename\n",
    "#             if os.path.isfile(file_path):\n",
    "#                 os.remove(file_path)\n",
    "#                 print(f\" 파일이 삭제되었습니다. -{filename}\")\n",
    "                \n",
    "\n",
    "target_directory= os.path.join(os.getcwd(),\"sample\")\n",
    "file_extension='.tmp'\n",
    "delete_files_with_extension(target_directory,file_extension)"
   ]
  }
 ],
 "metadata": {
  "kernelspec": {
   "display_name": "Python 3 (ipykernel)",
   "language": "python",
   "name": "python3"
  },
  "language_info": {
   "codemirror_mode": {
    "name": "ipython",
    "version": 3
   },
   "file_extension": ".py",
   "mimetype": "text/x-python",
   "name": "python",
   "nbconvert_exporter": "python",
   "pygments_lexer": "ipython3",
   "version": "3.12.7"
  }
 },
 "nbformat": 4,
 "nbformat_minor": 5
}
