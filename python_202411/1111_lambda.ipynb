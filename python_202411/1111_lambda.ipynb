{
 "cells": [
  {
   "cell_type": "code",
   "execution_count": 30,
   "id": "87dbbe0d-c5b7-4cb8-86f2-fcccecb0f30b",
   "metadata": {},
   "outputs": [
    {
     "name": "stdout",
     "output_type": "stream",
     "text": [
      "4166666\n"
     ]
    }
   ],
   "source": [
    "#월급계산\n",
    "def cal_monthly_salary(annual_pay):\n",
    "    monthly_pay=int(annual_pay/12)\n",
    "    return monthly_pay\n",
    "print(cal_monthly_salary(50000000))"
   ]
  },
  {
   "cell_type": "code",
   "execution_count": 32,
   "id": "5dba8bbe-d9c1-48f5-abf1-f40d7ab1c2ea",
   "metadata": {},
   "outputs": [
    {
     "name": "stdout",
     "output_type": "stream",
     "text": [
      "https://www.naver.com\n"
     ]
    }
   ],
   "source": [
    "def make_url(domain):\n",
    "    #return \"https://\" + \"www.\" +domain+ \".com\"\n",
    "    #return(f\" https://www.{domain}.com\")\n",
    "    return \"https://www.{}.com\".format(domain)\n",
    "print(make_url(\"naver\")) "
   ]
  },
  {
   "cell_type": "code",
   "execution_count": 60,
   "id": "a5068e1f-58ed-42e0-98e3-7d7e3ec06a39",
   "metadata": {},
   "outputs": [
    {
     "name": "stdout",
     "output_type": "stream",
     "text": [
      "4.1점은 백분율로 91.11점입니다.\n"
     ]
    }
   ],
   "source": [
    "#학점 백분율 구하기\n",
    "def grade(score,total):\n",
    "    percent= (score/total)*100\n",
    "    return percent\n",
    "\n",
    "score=4.1\n",
    "total=4.5\n",
    "percent=grade(score,total)\n",
    "print(f\"{score}점은 백분율로 {percent:.2f}점입니다.\")"
   ]
  },
  {
   "cell_type": "markdown",
   "id": "12e83111-d907-408a-9878-e6147ea18669",
   "metadata": {},
   "source": [
    "##### 표만들기"
   ]
  },
  {
   "cell_type": "code",
   "execution_count": 101,
   "id": "513878f7-94ba-484d-966f-d9e8ea834ec5",
   "metadata": {},
   "outputs": [
    {
     "name": "stdout",
     "output_type": "stream",
     "text": [
      "<table border=\"1\">\n",
      " <tr>\n",
      " <td>1,1</td>\n",
      " <td>1,2</td>\n",
      " <td>1,3</td>\n",
      " </tr>\n",
      " <tr>\n",
      " <td>2,1</td>\n",
      " <td>2,2</td>\n",
      " <td>2,3</td>\n",
      " </tr>\n",
      " <tr>\n",
      " <td>3,1</td>\n",
      " <td>3,2</td>\n",
      " <td>3,3</td>\n",
      " </tr>\n",
      " <tr>\n",
      " <td>4,1</td>\n",
      " <td>4,2</td>\n",
      " <td>4,3</td>\n",
      " </tr>\n",
      " <tr>\n",
      " <td>5,1</td>\n",
      " <td>5,2</td>\n",
      " <td>5,3</td>\n",
      " </tr>\n",
      "</table>\n"
     ]
    }
   ],
   "source": [
    "def generate_html_table(rows, cols):\n",
    "    table = '<table border=\"1\">\\n'\n",
    "    \n",
    "    for i in range(rows):\n",
    "        table += ' <tr>\\n'\n",
    "        for j in range(cols):  \n",
    "            table += f' <td>{i+1},{j+1}</td>\\n'\n",
    "        table += ' </tr>\\n'\n",
    "        \n",
    "    table += '</table>'\n",
    "    return table\n",
    "\n",
    "print(generate_html_table(5, 3))"
   ]
  },
  {
   "cell_type": "code",
   "execution_count": 107,
   "id": "e5b57247-7b00-47be-b41f-0efcf33121ba",
   "metadata": {},
   "outputs": [
    {
     "data": {
      "text/html": [
       "<table border=\"1\">\n",
       " <tr>\n",
       " <td style=\"border: 1px solid black; padding:8px;\">1,1</td>\n",
       " <td style=\"border: 1px solid black; padding:8px;\">1,2</td>\n",
       " </tr>\n",
       " <tr>\n",
       " <td style=\"border: 1px solid black; padding:8px;\">2,1</td>\n",
       " <td style=\"border: 1px solid black; padding:8px;\">2,2</td>\n",
       " </tr>\n",
       " <tr>\n",
       " <td style=\"border: 1px solid black; padding:8px;\">3,1</td>\n",
       " <td style=\"border: 1px solid black; padding:8px;\">3,2</td>\n",
       " </tr>\n",
       "</table>"
      ],
      "text/plain": [
       "<IPython.core.display.HTML object>"
      ]
     },
     "metadata": {},
     "output_type": "display_data"
    }
   ],
   "source": [
    "from IPython.display import HTML, display\n",
    "\n",
    "def generate_html_table(rows, cols):\n",
    "    table = '<table border=\"1\">\\n'\n",
    "    \n",
    "    for i in range(rows):\n",
    "        table += ' <tr>\\n'\n",
    "        for j in range(cols):  \n",
    "            table += f' <td style=\"border: 1px solid black; padding:8px;\">{i+1},{j+1}</td>\\n'\n",
    "        table += ' </tr>\\n'\n",
    "        \n",
    "    table += '</table>'\n",
    "    return table\n",
    "\n",
    "display(HTML(generate_html_table(3, 2)))"
   ]
  },
  {
   "cell_type": "code",
   "execution_count": 134,
   "id": "ab3ada4b-d6f9-40d1-811f-fe554a530537",
   "metadata": {},
   "outputs": [
    {
     "name": "stdout",
     "output_type": "stream",
     "text": [
      "15\n",
      "5\n"
     ]
    }
   ],
   "source": [
    "def calculate(i,j):\n",
    "    sum=i+j\n",
    "    diff=i-j\n",
    "    return sum,diff\n",
    "    \n",
    "sum,diff=calculate(10,5)  \n",
    "print(sum)\n",
    "print(diff)"
   ]
  },
  {
   "cell_type": "code",
   "execution_count": 138,
   "id": "b88b54a3-cfa4-4366-85c6-f7e75370fbdd",
   "metadata": {},
   "outputs": [
    {
     "name": "stdout",
     "output_type": "stream",
     "text": [
      "함수 안에서 호출한 x와 y값: 20 20\n",
      "함수 밖에서 호출한 x와 y값: 20 5\n"
     ]
    }
   ],
   "source": [
    "x=10\n",
    "y=5\n",
    "\n",
    "def update_x():\n",
    "    global x  \n",
    "    x=20\n",
    "    y=20\n",
    "    print(\"함수 안에서 호출한 x와 y값:\", x,y)\n",
    "\n",
    "update_x()\n",
    "print(\"함수 밖에서 호출한 x와 y값:\", x,y)   #y는 함수안에서만 , x는 global써서 전역변수로 수정됨"
   ]
  },
  {
   "cell_type": "markdown",
   "id": "1a2f237b-3f11-41d5-b245-c28da06cd61b",
   "metadata": {},
   "source": [
    "### 집합\n",
    "##### 순서가 없고, 중복을 허용하지 않음"
   ]
  },
  {
   "cell_type": "code",
   "execution_count": 142,
   "id": "19ca3758-4f2f-4322-aff6-2e98284a0978",
   "metadata": {},
   "outputs": [
    {
     "data": {
      "text/plain": [
       "{'H', 'e', 'l', 'o'}"
      ]
     },
     "execution_count": 142,
     "metadata": {},
     "output_type": "execute_result"
    }
   ],
   "source": [
    "s=set(\"Hello\")\n",
    "s"
   ]
  },
  {
   "cell_type": "code",
   "execution_count": 148,
   "id": "421edc7a-afaf-40c4-b1bc-324f2f1fad39",
   "metadata": {},
   "outputs": [
    {
     "data": {
      "text/plain": [
       "{1, 2, 3, 4, 5}"
      ]
     },
     "execution_count": 148,
     "metadata": {},
     "output_type": "execute_result"
    }
   ],
   "source": [
    "s1=[1,2,3,4,5]\n",
    "s2=set(s1)\n",
    "s2"
   ]
  },
  {
   "cell_type": "code",
   "execution_count": 150,
   "id": "6707e143-6063-49ed-a9ed-8d9918c41101",
   "metadata": {},
   "outputs": [
    {
     "data": {
      "text/plain": [
       "{1, 2, 3, 4, 5}"
      ]
     },
     "execution_count": 150,
     "metadata": {},
     "output_type": "execute_result"
    }
   ],
   "source": [
    "t1=tuple(s2)\n",
    "s2"
   ]
  },
  {
   "cell_type": "code",
   "execution_count": 158,
   "id": "7514f03a-fb7d-4bec-ad74-3c1a1016dcc0",
   "metadata": {},
   "outputs": [
    {
     "data": {
      "text/plain": [
       "{3, 4, 5}"
      ]
     },
     "execution_count": 158,
     "metadata": {},
     "output_type": "execute_result"
    }
   ],
   "source": [
    "s1=set([1,2,3,4,5])\n",
    "s2=set([3,4,5,6,7,8])\n",
    "s1&s2  #교집합"
   ]
  },
  {
   "cell_type": "code",
   "execution_count": 162,
   "id": "9833ecfb-be0d-4905-a7c0-f773a553ea10",
   "metadata": {},
   "outputs": [
    {
     "data": {
      "text/plain": [
       "{3, 4, 5}"
      ]
     },
     "execution_count": 162,
     "metadata": {},
     "output_type": "execute_result"
    }
   ],
   "source": [
    "s1.intersection(s2)  #교집합"
   ]
  },
  {
   "cell_type": "code",
   "execution_count": 168,
   "id": "dcb293d0-cb62-41a7-b254-f622f9075ed3",
   "metadata": {},
   "outputs": [
    {
     "data": {
      "text/plain": [
       "{1, 2, 3, 4, 5, 6, 7, 8}"
      ]
     },
     "execution_count": 168,
     "metadata": {},
     "output_type": "execute_result"
    }
   ],
   "source": [
    "s1|s2  #합집합(union)"
   ]
  },
  {
   "cell_type": "code",
   "execution_count": 172,
   "id": "455cf8ec-2594-49b1-84a1-34c9d79f7aa6",
   "metadata": {},
   "outputs": [
    {
     "data": {
      "text/plain": [
       "{1, 2}"
      ]
     },
     "execution_count": 172,
     "metadata": {},
     "output_type": "execute_result"
    }
   ],
   "source": [
    "s1-s2  #차집합(difference)"
   ]
  },
  {
   "cell_type": "code",
   "execution_count": 178,
   "id": "f7a48db1-995b-44ba-a83f-c1d1ddac2044",
   "metadata": {},
   "outputs": [
    {
     "data": {
      "text/plain": [
       "{1, 3}"
      ]
     },
     "execution_count": 178,
     "metadata": {},
     "output_type": "execute_result"
    }
   ],
   "source": [
    "s1=set([1,2,3])\n",
    "s1.remove(2)   #특정값 제거\n",
    "s1"
   ]
  },
  {
   "cell_type": "markdown",
   "id": "6f6e7da1-7850-460d-a7fe-aef8eb3dd54e",
   "metadata": {},
   "source": [
    "### 람다함수"
   ]
  },
  {
   "cell_type": "code",
   "execution_count": 181,
   "id": "b004ed16-fbe7-4373-860f-6b22bcc60324",
   "metadata": {},
   "outputs": [
    {
     "data": {
      "text/plain": [
       "<function __main__.<lambda>(x, y)>"
      ]
     },
     "execution_count": 181,
     "metadata": {},
     "output_type": "execute_result"
    }
   ],
   "source": [
    "lambda x: x*2\n",
    "lambda x,y: x+y"
   ]
  },
  {
   "cell_type": "code",
   "execution_count": 185,
   "id": "e1b08e48-00f2-466a-aa7d-f56503164408",
   "metadata": {},
   "outputs": [
    {
     "data": {
      "text/plain": [
       "15"
      ]
     },
     "execution_count": 185,
     "metadata": {},
     "output_type": "execute_result"
    }
   ],
   "source": [
    "def add(a,b):\n",
    "    return a+b\n",
    "r=add(7,8)\n",
    "r"
   ]
  },
  {
   "cell_type": "code",
   "execution_count": 195,
   "id": "2759a073-9559-4381-be17-6ce83f6391fa",
   "metadata": {},
   "outputs": [
    {
     "data": {
      "text/plain": [
       "9"
      ]
     },
     "execution_count": 195,
     "metadata": {},
     "output_type": "execute_result"
    }
   ],
   "source": [
    "add2=lambda a,b:a+b\n",
    "k=add2(4,5)\n",
    "k"
   ]
  },
  {
   "cell_type": "code",
   "execution_count": 199,
   "id": "9f61e4ef-abc9-4680-a553-c5167c87c7b8",
   "metadata": {},
   "outputs": [
    {
     "data": {
      "text/plain": [
       "20"
      ]
     },
     "execution_count": 199,
     "metadata": {},
     "output_type": "execute_result"
    }
   ],
   "source": [
    "def getStrLength(s):\n",
    "    return len(s)\n",
    "getStrLength2=lambda s:len(s)\n",
    "getStrLength2(\"This is my computer!\")"
   ]
  },
  {
   "cell_type": "code",
   "execution_count": 201,
   "id": "a737a590-8f67-4e8d-9d88-ea91beac625a",
   "metadata": {},
   "outputs": [
    {
     "name": "stdout",
     "output_type": "stream",
     "text": [
      "False\n"
     ]
    }
   ],
   "source": [
    "is_even=lambda x:x%2==0\n",
    "print(is_even(7))"
   ]
  },
  {
   "cell_type": "code",
   "execution_count": 207,
   "id": "d153c26c-0ae9-4656-8a7e-cfb262ef6729",
   "metadata": {},
   "outputs": [
    {
     "name": "stdout",
     "output_type": "stream",
     "text": [
      "[2, 3, 4, 5]\n"
     ]
    }
   ],
   "source": [
    "a=([1,2,3,4])\n",
    "r=[]\n",
    "for i in a:\n",
    "    r.append(i+1)\n",
    "print(r)"
   ]
  },
  {
   "cell_type": "code",
   "execution_count": 211,
   "id": "d321b15b-566b-40b4-a936-51ac43ea5f49",
   "metadata": {},
   "outputs": [
    {
     "name": "stdout",
     "output_type": "stream",
     "text": [
      "[2, 3, 4, 5]\n"
     ]
    }
   ],
   "source": [
    "aList=[1,2,3,4]\n",
    "def add1(x):\n",
    "    return x+1\n",
    "r=map(add1,aList)\n",
    "print(list(r))"
   ]
  },
  {
   "cell_type": "code",
   "execution_count": 213,
   "id": "962c626e-41a1-413a-891b-5531aac84369",
   "metadata": {},
   "outputs": [
    {
     "name": "stdout",
     "output_type": "stream",
     "text": [
      "[2, 3, 4, 5]\n"
     ]
    }
   ],
   "source": [
    "aList=[1,2,3,4]\n",
    "r=map(lambda x:x+1, aList)\n",
    "print(list(r))"
   ]
  },
  {
   "cell_type": "code",
   "execution_count": 217,
   "id": "ab5478c0-30cb-418c-98ee-8cdfbd7b1c66",
   "metadata": {},
   "outputs": [
    {
     "data": {
      "text/plain": [
       "['1', '2', '3', '4']"
      ]
     },
     "execution_count": 217,
     "metadata": {},
     "output_type": "execute_result"
    }
   ],
   "source": [
    "aList=[1,2,3,4]\n",
    "rr=list(map(str,aList))\n",
    "rr"
   ]
  },
  {
   "cell_type": "code",
   "execution_count": 221,
   "id": "2f1a77fe-2afa-4008-9019-50f64c3fa60d",
   "metadata": {},
   "outputs": [
    {
     "name": "stdout",
     "output_type": "stream",
     "text": [
      "[1, 4, 9, 16, 25]\n"
     ]
    }
   ],
   "source": [
    "numbers=[1,2,3,4,5]\n",
    "squared=list(map(lambda x:x**2, numbers))\n",
    "print(squared)"
   ]
  },
  {
   "cell_type": "code",
   "execution_count": 225,
   "id": "2e12bb69-4e96-47b8-92d1-21f80462f12c",
   "metadata": {},
   "outputs": [
    {
     "name": "stdout",
     "output_type": "stream",
     "text": [
      "20\n"
     ]
    }
   ],
   "source": [
    "max_value= lambda x,y:x if x>y else y\n",
    "print(max_value(10,20))"
   ]
  },
  {
   "cell_type": "code",
   "execution_count": 230,
   "id": "cc417769-89ad-44ee-a3ef-a606df03927f",
   "metadata": {},
   "outputs": [
    {
     "name": "stdout",
     "output_type": "stream",
     "text": [
      "9\n",
      "1\n"
     ]
    }
   ],
   "source": [
    "numbers=[1,3,5,7,9]\n",
    "max_value=lambda lst:max(lst) if lst else None\n",
    "first_value=lambda lst:lst[0] if lst else None\n",
    "print(max_value(numbers))\n",
    "print(first_value(numbers))"
   ]
  },
  {
   "cell_type": "code",
   "execution_count": 232,
   "id": "97f439be-9086-4705-9d63-b9ed3bf88489",
   "metadata": {},
   "outputs": [
    {
     "name": "stdout",
     "output_type": "stream",
     "text": [
      "[2, 4, 6, 8, 10]\n"
     ]
    }
   ],
   "source": [
    "alist=[1,2,3,4,5,6,7,8,9,10]\n",
    "def is_even(x):\n",
    "    return x%2==0\n",
    "r=filter(is_even,alist)\n",
    "print(list(r))"
   ]
  },
  {
   "cell_type": "code",
   "execution_count": 236,
   "id": "7a8e1324-e7da-47da-b900-e9713651cbb2",
   "metadata": {},
   "outputs": [
    {
     "name": "stdout",
     "output_type": "stream",
     "text": [
      "[2, 4, 6, 8, 10]\n"
     ]
    }
   ],
   "source": [
    "alist=[1,2,3,4,5,6,7,8,9,10]\n",
    "r=list(filter(lambda x:x%2==0, alist))\n",
    "print(r)"
   ]
  },
  {
   "cell_type": "code",
   "execution_count": 254,
   "id": "b9b2172c-26ed-4d6e-a864-3d6aff63c693",
   "metadata": {},
   "outputs": [
    {
     "name": "stdout",
     "output_type": "stream",
     "text": [
      "[5, 5, 6]\n"
     ]
    }
   ],
   "source": [
    "words = [\"hello\", \"world\", \"python\"]\n",
    "length=list(map(lambda words:len(words),words))\n",
    "print(length)"
   ]
  },
  {
   "cell_type": "code",
   "execution_count": 256,
   "id": "9f266849-a2f7-4ac8-9c58-afd7aa98a0b2",
   "metadata": {},
   "outputs": [
    {
     "name": "stdout",
     "output_type": "stream",
     "text": [
      "[5, 7, 9]\n"
     ]
    }
   ],
   "source": [
    "list1=[1,2,3]\n",
    "list2=[4,5,6]\n",
    "addlist=list(map(lambda x,y: x+y, list1,list2))\n",
    "print(addlist)"
   ]
  },
  {
   "cell_type": "code",
   "execution_count": 262,
   "id": "86df97d7-8963-4bb3-8d07-f1b7f5649bf2",
   "metadata": {},
   "outputs": [
    {
     "name": "stdout",
     "output_type": "stream",
     "text": [
      "['apple', 'banana', 'cherry']\n"
     ]
    }
   ],
   "source": [
    "words=[\"banana\",\"apple\",\"cherry\"]\n",
    "sorted_words=sorted(words,key=lambda x:len(x))\n",
    "print(sorted_words)"
   ]
  },
  {
   "cell_type": "markdown",
   "id": "79c7611a-dba9-4127-842c-60bff9da6693",
   "metadata": {},
   "source": [
    "### sorted(ierable,key=None, reverse=False)\n",
    "<li>iterable:정렬할 대상</li>\n",
    "<li>key:함수</li>\n",
    "<li>reverse:True로 설정하면 내림차순 정렬</li>"
   ]
  },
  {
   "cell_type": "code",
   "execution_count": 266,
   "id": "d5be2f69-25a9-4c30-8d82-5886e12d3901",
   "metadata": {},
   "outputs": [
    {
     "name": "stdout",
     "output_type": "stream",
     "text": [
      "[(1, 'one'), (2, 'two'), (3, 'three')]\n"
     ]
    }
   ],
   "source": [
    "tuples=[(1,'one'),(3,'three'),(2,'two')]\n",
    "sorted_tuples=sorted(tuples, key=lambda x:x[0])\n",
    "print(sorted_tuples)"
   ]
  },
  {
   "cell_type": "code",
   "execution_count": 270,
   "id": "b27a7a45-05ba-4c9d-838f-87f00c3b722a",
   "metadata": {},
   "outputs": [
    {
     "name": "stdout",
     "output_type": "stream",
     "text": [
      "{1: 'one', 2: 'two', 3: 'three'}\n"
     ]
    }
   ],
   "source": [
    "mydict={3:'three', 1:'one', 2:'two'}\n",
    "sorted_dict_by_key=dict(sorted(mydict.items(), key=lambda x:x[0]))\n",
    "print(sorted_dict_by_key)"
   ]
  },
  {
   "cell_type": "code",
   "execution_count": 284,
   "id": "b97f6533-bd17-404f-a3c4-a7685b40f654",
   "metadata": {},
   "outputs": [
    {
     "name": "stdout",
     "output_type": "stream",
     "text": [
      "['HELLO', 'WORLD', 'PYTHON']\n"
     ]
    }
   ],
   "source": [
    "words=[\"hello\",\"world\",\"python\"]\n",
    "w=list(map(lambda words:words.upper(),words))\n",
    "print(w)"
   ]
  },
  {
   "cell_type": "code",
   "execution_count": 286,
   "id": "51b463f7-abf0-45f4-87e6-581719637e74",
   "metadata": {},
   "outputs": [
    {
     "name": "stdout",
     "output_type": "stream",
     "text": [
      "['HELLO', 'WORLD', 'PYTHON']\n"
     ]
    }
   ],
   "source": [
    "words = [\"hello\", \"world\", \"python\"]\n",
    "uppercase_words = list(map(str.upper, words))\n",
    "print(uppercase_words) "
   ]
  },
  {
   "cell_type": "code",
   "execution_count": 288,
   "id": "1cc924b8-f20e-4677-940d-3e215dafb42e",
   "metadata": {},
   "outputs": [
    {
     "data": {
      "text/plain": [
       "[('사과', 1000), ('자두', 3000), ('딸기', 2500), ('망고', 6000)]"
      ]
     },
     "execution_count": 288,
     "metadata": {},
     "output_type": "execute_result"
    }
   ],
   "source": [
    "fruit=['사과','자두','딸기','망고']\n",
    "price=[1000,3000,2500,6000]\n",
    "a=list(zip(fruit,price))\n",
    "a"
   ]
  },
  {
   "cell_type": "markdown",
   "id": "9af21b20-01e5-4e96-8eea-f52ea70c008e",
   "metadata": {},
   "source": [
    "### 재귀함수"
   ]
  },
  {
   "cell_type": "code",
   "execution_count": 300,
   "id": "39e86385-cc17-4be9-adf4-363ab4ae01c7",
   "metadata": {},
   "outputs": [
    {
     "name": "stdout",
     "output_type": "stream",
     "text": [
      "120\n"
     ]
    }
   ],
   "source": [
    "def f(n):\n",
    "    if n==1:\n",
    "        return 1\n",
    "    return n*f(n-1)\n",
    "print(f(5))"
   ]
  },
  {
   "cell_type": "code",
   "execution_count": 309,
   "id": "bfb31824-7fc3-4a27-bdf1-1067413570bb",
   "metadata": {},
   "outputs": [
    {
     "name": "stdout",
     "output_type": "stream",
     "text": [
      "120\n"
     ]
    }
   ],
   "source": [
    "def factorial_iterative(n):\n",
    "    result=1\n",
    "    for i in range(1,n+1):\n",
    "        result*=i\n",
    "    return result\n",
    "print(factorial_iterative(5))"
   ]
  },
  {
   "cell_type": "code",
   "execution_count": 314,
   "id": "a48cbd44-053b-4d67-9d0b-15eb62944cc4",
   "metadata": {},
   "outputs": [
    {
     "name": "stdout",
     "output_type": "stream",
     "text": [
      "34\n"
     ]
    }
   ],
   "source": [
    "def fibonacci(n):\n",
    "    if n<=1:\n",
    "        return n\n",
    "    return fibonacci(n-1)+fibonacci(n-2)\n",
    "print(fibonacci(9))\n",
    "#0,1,1,2,3,5,8,13,21,34"
   ]
  },
  {
   "cell_type": "code",
   "execution_count": 318,
   "id": "8d7054fd-9c3d-43de-898d-62f19d3469d4",
   "metadata": {},
   "outputs": [
    {
     "name": "stdout",
     "output_type": "stream",
     "text": [
      "15\n"
     ]
    }
   ],
   "source": [
    "def list_sum(arr):\n",
    "    if len(arr)==0:\n",
    "        return 0\n",
    "    return arr[0] + list_sum(arr[1:])\n",
    "print(list_sum([1,2,3,4,5]))"
   ]
  },
  {
   "cell_type": "markdown",
   "id": "bfd1f1e8-7c62-4113-964b-f648f53eb9ce",
   "metadata": {},
   "source": [
    "## 가변인자 *args,  **kwargs\n",
    "인자의 개수 자유롭게 조절"
   ]
  },
  {
   "cell_type": "code",
   "execution_count": 345,
   "id": "c1399a64-2709-427a-a11b-fdb1b6d3d5a4",
   "metadata": {},
   "outputs": [
    {
     "name": "stdout",
     "output_type": "stream",
     "text": [
      "10\n"
     ]
    }
   ],
   "source": [
    "del sum\n",
    "def sum_numbers(*args):\n",
    "    return sum(args)\n",
    "print(sum_numbers(1,2,3,4))"
   ]
  },
  {
   "cell_type": "code",
   "execution_count": 339,
   "id": "9f9c2214-278e-4ac3-9bb9-ce3be2dfd05c",
   "metadata": {},
   "outputs": [
    {
     "name": "stdout",
     "output_type": "stream",
     "text": [
      "('Hello', 'World', 'How are you?')\n",
      "HelloWorldHow are you?\n"
     ]
    }
   ],
   "source": [
    "def concatenate_strings(*args):\n",
    "    print(args)\n",
    "    return ''.join(args)\n",
    "print(concatenate_strings('Hello','World','How are you?'))"
   ]
  },
  {
   "cell_type": "code",
   "execution_count": 341,
   "id": "d990db7e-e052-4f31-a31c-556143c930ae",
   "metadata": {},
   "outputs": [
    {
     "name": "stdout",
     "output_type": "stream",
     "text": [
      "50\n"
     ]
    }
   ],
   "source": [
    "def max_value(*args):\n",
    "    return max(args)\n",
    "print(max_value(10,20,50,3))"
   ]
  },
  {
   "cell_type": "code",
   "execution_count": 365,
   "id": "2a3e70ea-7351-4599-9b9f-3d4cb96d930e",
   "metadata": {},
   "outputs": [
    {
     "name": "stdout",
     "output_type": "stream",
     "text": [
      "20.0\n"
     ]
    }
   ],
   "source": [
    "def average_num(*args):\n",
    "    return sum(args)/len(args)\n",
    "print(average_num(10,20,30))"
   ]
  },
  {
   "cell_type": "code",
   "execution_count": 367,
   "id": "3cce41b2-a2e1-4391-97c0-e65e12e27278",
   "metadata": {},
   "outputs": [
    {
     "name": "stdout",
     "output_type": "stream",
     "text": [
      "[1, 2, 3, 4, 5, 6]\n"
     ]
    }
   ],
   "source": [
    "def remove_duplicates(*args):\n",
    "    return list(set(args))\n",
    "print(remove_duplicates(1,2,3,3,4,4,5,5,5,6))"
   ]
  },
  {
   "cell_type": "code",
   "execution_count": 369,
   "id": "130a87c6-6314-441a-9b8e-fecdd0d5ed4a",
   "metadata": {},
   "outputs": [
    {
     "name": "stdout",
     "output_type": "stream",
     "text": [
      "Name: Alice\n",
      "Age: 30\n",
      "Addtional Information:\n",
      "- New York\n",
      "- 555-1234\n",
      "- Like Python\n",
      "Name: Bob\n",
      "Age: 25\n"
     ]
    }
   ],
   "source": [
    "def print_user_info(name,age,*args):\n",
    "    print(f\"Name: {name}\")\n",
    "    print(f\"Age: {age}\")\n",
    "\n",
    "    if args:\n",
    "        print(\"Addtional Information:\")\n",
    "        for info in args:\n",
    "            print(f\"- {info}\")\n",
    "print_user_info(\"Alice\",30,\"New York\", \"555-1234\",\"Like Python\")\n",
    "print_user_info(\"Bob\",25)"
   ]
  },
  {
   "cell_type": "code",
   "execution_count": 383,
   "id": "2c4720ec-961d-423f-8aed-33194886d643",
   "metadata": {},
   "outputs": [
    {
     "name": "stdout",
     "output_type": "stream",
     "text": [
      "name: Alice\n",
      "age: 30\n",
      "city: New York\n"
     ]
    }
   ],
   "source": [
    "def print_user_info(**kwargs):\n",
    "    #print(type(kwargs))\n",
    "    #print(kwargs)\n",
    "    for key, value in kwargs.items():\n",
    "        print(f\"{key}: {value}\")\n",
    "print_user_info(name='Alice', age=30, city='New York')"
   ]
  },
  {
   "cell_type": "code",
   "execution_count": 377,
   "id": "6505a18b-9a2d-474d-b7e0-e30253e55f1d",
   "metadata": {},
   "outputs": [
    {
     "name": "stdout",
     "output_type": "stream",
     "text": [
      "Hello, Bob!\n",
      "Hello, Guest!\n"
     ]
    }
   ],
   "source": [
    "def greet(**kwargs):\n",
    "    name=kwargs.get('name','Guest')\n",
    "    print(f\"Hello, {name}!\")\n",
    "greet(name='Bob')\n",
    "greet()"
   ]
  },
  {
   "cell_type": "code",
   "execution_count": 389,
   "id": "84c879c3-dbdd-44e0-953c-7ba4b613f86f",
   "metadata": {},
   "outputs": [
    {
     "data": {
      "text/plain": [
       "{'volume': 75, 'brightness': 80, 'theme': 'dark'}"
      ]
     },
     "execution_count": 389,
     "metadata": {},
     "output_type": "execute_result"
    }
   ],
   "source": [
    "def save_settings(**kwargs):\n",
    "    settings={}\n",
    "    for key, value in kwargs.items():\n",
    "        settings[key]=value\n",
    "    return settings\n",
    "    \n",
    "save_settings(volume=75, brightness=80, theme='dark')"
   ]
  },
  {
   "cell_type": "code",
   "execution_count": 399,
   "id": "be60656c-be54-4f2c-bafe-6c2858417149",
   "metadata": {},
   "outputs": [
    {
     "name": "stdout",
     "output_type": "stream",
     "text": [
      "Error: File not found\n",
      "filename: example.txt\n",
      "line: 42\n"
     ]
    }
   ],
   "source": [
    "def custom_error(message, **kwargs):\n",
    "    error_details = f\"Error: {message}\"\n",
    "    for key, value in kwargs.items():\n",
    "        error_details += f\"\\n{key}: {value}\" \n",
    "    return error_details\n",
    "\n",
    "print(custom_error(\"File not found\", filename=\"example.txt\", line=42))"
   ]
  },
  {
   "cell_type": "code",
   "execution_count": 407,
   "id": "0542f585-80ac-4659-9050-f535d9d0e628",
   "metadata": {},
   "outputs": [
    {
     "data": {
      "text/plain": [
       "15"
      ]
     },
     "execution_count": 407,
     "metadata": {},
     "output_type": "execute_result"
    }
   ],
   "source": [
    "def add_mul(choice,*args):\n",
    "    if choice==\"add\":   #choice:add 또는 mul 중 하나의 문자열을 받아 함수가 덧셈을 할지 곱셈을 할지 결정\n",
    "        result=0\n",
    "        for i in args:\n",
    "            result=result+i\n",
    "    elif choice==\"mul\":\n",
    "        result=1\n",
    "        for i in args:\n",
    "            result=result*i\n",
    "    return result\n",
    "\n",
    "add_mul('add',1,2,3,4,5)"
   ]
  },
  {
   "cell_type": "code",
   "execution_count": 411,
   "id": "56d5b11e-7fb2-4387-834b-1c8ba73a02cb",
   "metadata": {},
   "outputs": [
    {
     "data": {
      "text/plain": [
       "{'customer': 'Alice', 'items': ['Burger', 'Fries', 'Soda']}"
      ]
     },
     "execution_count": 411,
     "metadata": {},
     "output_type": "execute_result"
    }
   ],
   "source": [
    "def take_order(customer_name, *menu_items):  #*args는 관례적인 이름일 뿐, * 뒤에 오는 이름은 마음대로 정할 수 있\n",
    "    # print(f\"Order for {customer_name}:\")\n",
    "    # for item in menu_items:\n",
    "    #     print(f\"- {item}\")\n",
    "    order={\n",
    "        \"customer\":customer_name,\n",
    "        \"items\":list(menu_items)\n",
    "    }\n",
    "    return order\n",
    "take_order(\"Alice\",\"Burger\",\"Fries\",\"Soda\")"
   ]
  },
  {
   "cell_type": "code",
   "execution_count": 417,
   "id": "4e6a08e3-1edf-491b-a430-a242cca21dce",
   "metadata": {},
   "outputs": [
    {
     "data": {
      "text/plain": [
       "45.0"
      ]
     },
     "execution_count": 417,
     "metadata": {},
     "output_type": "execute_result"
    }
   ],
   "source": [
    "def average_workout_duration(*durations):\n",
    "    if not durations:\n",
    "        return 0\n",
    "    return sum(durations)/len(durations)\n",
    "average_workout_duration(30,45,60)"
   ]
  }
 ],
 "metadata": {
  "kernelspec": {
   "display_name": "Python 3 (ipykernel)",
   "language": "python",
   "name": "python3"
  },
  "language_info": {
   "codemirror_mode": {
    "name": "ipython",
    "version": 3
   },
   "file_extension": ".py",
   "mimetype": "text/x-python",
   "name": "python",
   "nbconvert_exporter": "python",
   "pygments_lexer": "ipython3",
   "version": "3.12.7"
  }
 },
 "nbformat": 4,
 "nbformat_minor": 5
}
