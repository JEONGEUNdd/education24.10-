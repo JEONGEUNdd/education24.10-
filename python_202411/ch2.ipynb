{
 "cells": [
  {
   "cell_type": "markdown",
   "id": "c5715b8f-17e0-43a2-a5d1-3fe8662223da",
   "metadata": {},
   "source": [
    "//:몫\n",
    "%:나머지"
   ]
  },
  {
   "cell_type": "code",
   "execution_count": 47,
   "id": "62fa0532-e3b3-4e05-a853-bc6e273e67aa",
   "metadata": {},
   "outputs": [
    {
     "name": "stdout",
     "output_type": "stream",
     "text": [
      "7\n",
      "14\n",
      "2.0\n"
     ]
    }
   ],
   "source": [
    "c=5\n",
    "c+=2\n",
    "print(c)\n",
    "c*=2\n",
    "print(c)\n",
    "c/=7\n",
    "print(c)"
   ]
  },
  {
   "cell_type": "code",
   "execution_count": 49,
   "id": "6a23315f-c01d-4158-a9e8-61225fa5ab46",
   "metadata": {},
   "outputs": [
    {
     "name": "stdout",
     "output_type": "stream",
     "text": [
      "25\n"
     ]
    }
   ],
   "source": [
    "c=5\n",
    "d=c**2     # **:제곱\n",
    "print(d)"
   ]
  },
  {
   "cell_type": "markdown",
   "id": "5844900e-dfa3-46f5-b398-bb89b92a35db",
   "metadata": {},
   "source": [
    "포맷팅"
   ]
  },
  {
   "cell_type": "code",
   "execution_count": 5,
   "id": "9b6b34f5-9621-4032-a17f-95aa6eb7bba3",
   "metadata": {},
   "outputs": [
    {
     "name": "stdout",
     "output_type": "stream",
     "text": [
      "I eat 3 apples.\n"
     ]
    }
   ],
   "source": [
    "a=\"I eat %d apples.\" % 3\n",
    "print(a)"
   ]
  },
  {
   "cell_type": "code",
   "execution_count": 6,
   "id": "54803ae0-80da-4a0e-80e7-05bfe078723f",
   "metadata": {},
   "outputs": [
    {
     "name": "stdout",
     "output_type": "stream",
     "text": [
      "I eat five apples.\n"
     ]
    }
   ],
   "source": [
    "a=\"I eat %s apples.\" % \"five\"\n",
    "print(a)"
   ]
  },
  {
   "cell_type": "code",
   "execution_count": 7,
   "id": "8b5ae436-9234-418c-9dc6-98e252ce2833",
   "metadata": {},
   "outputs": [
    {
     "name": "stdout",
     "output_type": "stream",
     "text": [
      "I eat five apples.\n"
     ]
    }
   ],
   "source": [
    "number=3\n",
    "\"I eat %d apples.\" % number\n",
    "print(a)"
   ]
  },
  {
   "cell_type": "markdown",
   "id": "4a81db7d-68f0-4aef-9795-0f02e31d9c1c",
   "metadata": {},
   "source": [
    "%쓰고싶을 땐 %%를 연달아쓰기"
   ]
  },
  {
   "cell_type": "code",
   "execution_count": 9,
   "id": "eb17e9be-883c-4134-99dd-81d5c4cbb8a5",
   "metadata": {},
   "outputs": [
    {
     "name": "stdout",
     "output_type": "stream",
     "text": [
      "I ate 10% apple, so I was sick for three days.\n"
     ]
    }
   ],
   "source": [
    "number=10\n",
    "day=\"three\"\n",
    "a=\"I ate %d%% apple, so I was sick for %s days.\" % (number,day)\n",
    "print(a)"
   ]
  },
  {
   "cell_type": "code",
   "execution_count": 10,
   "id": "d9bea8a7-28e3-4081-a065-1926f6c1624b",
   "metadata": {},
   "outputs": [
    {
     "name": "stdout",
     "output_type": "stream",
     "text": [
      "|        hi|\n",
      "|hi        |\n"
     ]
    }
   ],
   "source": [
    "str1=\"|%10s|\" % \"hi\"\n",
    "print(str1)\n",
    "str2=\"|%-10s|\" % \"hi\"    #음수로 하면 글자는 왼쪽 두고 공백\n",
    "print(str2)"
   ]
  },
  {
   "cell_type": "code",
   "execution_count": 11,
   "id": "f1ef8284-c7d2-4a0d-bf19-2d2d48d1a93f",
   "metadata": {},
   "outputs": [
    {
     "name": "stdout",
     "output_type": "stream",
     "text": [
      "|3.4213| |      3.42|\n"
     ]
    }
   ],
   "source": [
    "a=\"|%.4f|\" % 3.42134234\n",
    "b=\"|%10.2f|\" % 3.42134234   #10자리 공간확보후 소수점 둘째자리까지\n",
    "print(a,b)"
   ]
  },
  {
   "cell_type": "markdown",
   "id": "d82d5ca6-d945-4b2a-a142-cb7279efd40e",
   "metadata": {},
   "source": [
    "format함수를 활용한 포맷"
   ]
  },
  {
   "cell_type": "code",
   "execution_count": 13,
   "id": "424127ac-f8cb-4900-b4b9-d2b269ea4219",
   "metadata": {},
   "outputs": [
    {
     "name": "stdout",
     "output_type": "stream",
     "text": [
      "김철수님은 25살입니다.\n"
     ]
    }
   ],
   "source": [
    "이름=\"김철수\"\n",
    "나이=25\n",
    "print(\"{}님은 {}살입니다.\" .format(이름,나이))"
   ]
  },
  {
   "cell_type": "code",
   "execution_count": 14,
   "id": "77de3785-48e2-4d56-96be-32b774de53dc",
   "metadata": {},
   "outputs": [
    {
     "name": "stdout",
     "output_type": "stream",
     "text": [
      "I eat 3 apples.\n"
     ]
    }
   ],
   "source": [
    "a=\"I eat {} apples.\".format(3)\n",
    "print(a)"
   ]
  },
  {
   "cell_type": "code",
   "execution_count": 15,
   "id": "3cf3d2ba-5290-440b-8c4f-89d66dc51493",
   "metadata": {},
   "outputs": [
    {
     "name": "stdout",
     "output_type": "stream",
     "text": [
      "I ate 10 apple, so I was sick for three days.\n"
     ]
    }
   ],
   "source": [
    "number=10\n",
    "day=\"three\"\n",
    "#a=\"I ate {} apple, so I was sick for {} days.\" .format(number,day)\n",
    "a=\"I ate {0} apple, so I was sick for {1} days.\" .format(number,day)  #인덱스로 조정 가능\n",
    "print(a)"
   ]
  },
  {
   "cell_type": "code",
   "execution_count": 16,
   "id": "42302c94-dcec-4a6a-9707-731c3a6b19fe",
   "metadata": {},
   "outputs": [
    {
     "name": "stdout",
     "output_type": "stream",
     "text": [
      "I ate 10 apples, so I was sick for 3 days.\n"
     ]
    }
   ],
   "source": [
    "b=\"I ate {number} apples, so I was sick for {days} days.\".format(number=10,days=3)\n",
    "print(b)"
   ]
  },
  {
   "cell_type": "code",
   "execution_count": 17,
   "id": "ecc4c29e-cffa-489b-9b30-c7724058138c",
   "metadata": {},
   "outputs": [
    {
     "name": "stdout",
     "output_type": "stream",
     "text": [
      "|hi        |\n",
      "|        hi|\n",
      "|    hi    |\n",
      "|####hi####|\n",
      "|@@@@@@@@hi|\n",
      "|hi00000000|\n"
     ]
    }
   ],
   "source": [
    "a=\"|{:<10}|\".format(\"hi\")\n",
    "b=\"|{:>10}|\".format(\"hi\")\n",
    "c=\"|{:^10}|\".format(\"hi\")\n",
    "d=\"|{:#^10}|\".format(\"hi\")\n",
    "e=\"|{:@>10}|\".format(\"hi\")\n",
    "f=\"|{:0<10}|\".format(\"hi\")\n",
    "print(a,b,c,d,e,f,sep=\"\\n\")\n"
   ]
  },
  {
   "cell_type": "code",
   "execution_count": 18,
   "id": "7d51ed40-3959-4f87-912c-37b34eb0e735",
   "metadata": {},
   "outputs": [
    {
     "name": "stdout",
     "output_type": "stream",
     "text": [
      "이름:김민수 나이:10\n",
      "이름:이철희 나이:13\n"
     ]
    }
   ],
   "source": [
    "name1=\"김민수\"\n",
    "age1=10\n",
    "name2=\"이철희\"\n",
    "age2=13\n",
    "print(\"이름:{} 나이:{}\" .format(name1,age1))\n",
    "print(\"이름:{} 나이:{}\" .format(name2,age2))"
   ]
  },
  {
   "cell_type": "code",
   "execution_count": 51,
   "id": "bba6a789-d895-42c9-b699-88e98fe8d88f",
   "metadata": {},
   "outputs": [
    {
     "name": "stdin",
     "output_type": "stream",
     "text": [
      "이름을 입력하세요: 홍길동\n",
      "나이를 입력하세요: 45\n"
     ]
    },
    {
     "name": "stdout",
     "output_type": "stream",
     "text": [
      "안녕하세요, 홍길동님! 당신의 나이는 45세입니다.\n"
     ]
    }
   ],
   "source": [
    "name3=input(\"이름을 입력하세요:\")\n",
    "age3=input(\"나이를 입력하세요:\")\n",
    "print(\"안녕하세요, {}님! 당신의 나이는 {}세입니다.\".format(name3,age3))"
   ]
  },
  {
   "cell_type": "code",
   "execution_count": 53,
   "id": "3c358ec2-3572-4d95-b014-6ae10d9ad628",
   "metadata": {},
   "outputs": [
    {
     "name": "stdout",
     "output_type": "stream",
     "text": [
      "3.4213\n"
     ]
    }
   ],
   "source": [
    "y=3.42134234\n",
    "a=\"{0:0.4f}\".format(y)\n",
    "print(a)"
   ]
  },
  {
   "cell_type": "code",
   "execution_count": 55,
   "id": "beeefa73-6d40-40e6-aa8e-b1f0aae07fcb",
   "metadata": {},
   "outputs": [
    {
     "name": "stdin",
     "output_type": "stream",
     "text": [
      "상품을 입력하세요 마라탕\n",
      "가격을 입력하세요 3546\n"
     ]
    },
    {
     "name": "stdout",
     "output_type": "stream",
     "text": [
      "상품명: 마라탕, 가격: 3546.00원\n"
     ]
    }
   ],
   "source": [
    "상품명=input(\"상품을 입력하세요\")\n",
    "가격=float(input(\"가격을 입력하세요\"))\n",
    "print(\"상품명: {}, 가격: {:.2f}원\".format(상품명, 가격))"
   ]
  },
  {
   "cell_type": "code",
   "execution_count": 57,
   "id": "ebe8fa0b-da19-4825-8eb6-5881edb1826d",
   "metadata": {},
   "outputs": [
    {
     "name": "stdout",
     "output_type": "stream",
     "text": [
      "숫자: 0005\n"
     ]
    }
   ],
   "source": [
    "number=5\n",
    "output=\"숫자: {:04d}\".format(number)   #4글자로 맞춤\n",
    "print(output)"
   ]
  },
  {
   "cell_type": "code",
   "execution_count": 59,
   "id": "0dd180c0-56fc-48b5-9d48-195a991fe583",
   "metadata": {},
   "outputs": [
    {
     "name": "stdout",
     "output_type": "stream",
     "text": [
      "가격: 123,456,789.00원\n"
     ]
    }
   ],
   "source": [
    "number=123456789\n",
    "output=\"가격: {:,.2f}원\".format(number)\n",
    "print(output)"
   ]
  },
  {
   "cell_type": "code",
   "execution_count": 61,
   "id": "52f890c6-93c9-4e91-a7cf-c744153dcfb7",
   "metadata": {},
   "outputs": [
    {
     "name": "stdout",
     "output_type": "stream",
     "text": [
      "3 4\n"
     ]
    }
   ],
   "source": [
    "a=\"{2} {3}\".format(1,2,3,4,5)    #인덱스로\n",
    "print(a)"
   ]
  },
  {
   "cell_type": "code",
   "execution_count": 63,
   "id": "7bc3e3cf-3327-484d-bda0-9d2dd410f24a",
   "metadata": {},
   "outputs": [
    {
     "name": "stdout",
     "output_type": "stream",
     "text": [
      "1 2 2\n"
     ]
    }
   ],
   "source": [
    "a=\"{0} {1} {1}\".format(1,2)    #인덱스로\n",
    "print(a)"
   ]
  },
  {
   "cell_type": "markdown",
   "id": "77d33325-1de9-4d65-ab52-41e0332b2648",
   "metadata": {},
   "source": [
    "f문자열 포맷팅"
   ]
  },
  {
   "cell_type": "code",
   "execution_count": 65,
   "id": "0f5f99b7-365d-45e4-aa5d-2d6b0305a8d7",
   "metadata": {},
   "outputs": [
    {
     "name": "stdout",
     "output_type": "stream",
     "text": [
      "나의 이름은 김철수입니다. 나이는 25살입니다.\n"
     ]
    }
   ],
   "source": [
    "이름1=\"김철수\"\n",
    "나이1=24\n",
    "print(f\"나의 이름은 {이름}입니다. 나이는 {나이}살입니다.\")"
   ]
  },
  {
   "cell_type": "code",
   "execution_count": 67,
   "id": "c60d7d2d-f289-47ef-8cbb-0dd6e250bfa8",
   "metadata": {},
   "outputs": [
    {
     "name": "stdout",
     "output_type": "stream",
     "text": [
      "나는 내년이면 31살이 된다.\n"
     ]
    }
   ],
   "source": [
    "age=30\n",
    "a=f'나는 내년이면 {age+1}살이 된다.'\n",
    "print(a)"
   ]
  },
  {
   "cell_type": "code",
   "execution_count": 69,
   "id": "92a463f6-22b0-499a-9716-0feac1ddbd1f",
   "metadata": {},
   "outputs": [
    {
     "name": "stdout",
     "output_type": "stream",
     "text": [
      "나의 이름은 홍길동입니다. 나이는 30살입니다.\n"
     ]
    }
   ],
   "source": [
    "d={'name':'홍길동',  'age':30}\n",
    "print(f\"나의 이름은 {d['name']}입니다. 나이는 {d['age']}살입니다.\")"
   ]
  },
  {
   "cell_type": "code",
   "execution_count": 71,
   "id": "09af648f-3136-4f5c-93db-b17d90223012",
   "metadata": {},
   "outputs": [
    {
     "name": "stdout",
     "output_type": "stream",
     "text": [
      "가격: 123,456,789원\n"
     ]
    }
   ],
   "source": [
    "number=123456789\n",
    "output=f\"가격: {number:,}원\"\n",
    "print(output)"
   ]
  },
  {
   "cell_type": "code",
   "execution_count": 73,
   "id": "e91e4e64-da2d-4f71-82ea-b33899cd47cb",
   "metadata": {},
   "outputs": [
    {
     "name": "stdout",
     "output_type": "stream",
     "text": [
      "x+y의 값은 15입니다.\n"
     ]
    }
   ],
   "source": [
    "x=10\n",
    "y=5\n",
    "print(f\"x+y의 값은 {x+y}입니다.\")"
   ]
  },
  {
   "cell_type": "code",
   "execution_count": 75,
   "id": "4d762d33-5314-469b-adcd-5c5ccda9e5d4",
   "metadata": {},
   "outputs": [
    {
     "name": "stdout",
     "output_type": "stream",
     "text": [
      "원래가격: 15000.00원, 할인율: 20%, 최종가격: 12000.00원\n"
     ]
    }
   ],
   "source": [
    "price=15000\n",
    "discount_rate=0.2\n",
    "finalprice=price*(1-discount_rate)\n",
    "print(f\"원래가격: {price:.2f}원, 할인율: {discount_rate*100:.0f}%, 최종가격: {finalprice:.2f}원\")"
   ]
  },
  {
   "cell_type": "code",
   "execution_count": 77,
   "id": "6584b525-0e9f-446f-9dcd-550e4468caf7",
   "metadata": {},
   "outputs": [
    {
     "name": "stdout",
     "output_type": "stream",
     "text": [
      "상품가격: 50000.00원, 세금:5000.00원, 최종가격: 55000.00원\n"
     ]
    }
   ],
   "source": [
    "price=50000\n",
    "tax_rate=0.1\n",
    "taxfinal=price*tax_rate\n",
    "final_price=price+taxfinal\n",
    "print(f\"상품가격: {price:.2f}원, 세금:{taxfinal:.2f}원, 최종가격: {price+taxfinal:.2f}원\")"
   ]
  },
  {
   "cell_type": "code",
   "execution_count": 79,
   "id": "84b63db0-9dcc-4e6e-a83c-454eae3affe2",
   "metadata": {},
   "outputs": [
    {
     "name": "stdout",
     "output_type": "stream",
     "text": [
      "5\n",
      "2\n",
      "2\n",
      "2\n",
      "-1\n"
     ]
    }
   ],
   "source": [
    "a=\"hobby\"\n",
    "print(len(a))\n",
    "print(a.count('b'))    #b가 몇개있는지\n",
    "print(a.find('b'))     #위치\n",
    "print(a.index('b'))    #위치\n",
    "print(a.find('i'))     #문자 없으면 -1나옴\n",
    "#print(a.index('i'))는 에러뜸"
   ]
  },
  {
   "cell_type": "code",
   "execution_count": 81,
   "id": "2d9cc321-6cad-4302-a235-9ab368659866",
   "metadata": {},
   "outputs": [
    {
     "name": "stdout",
     "output_type": "stream",
     "text": [
      "['1', '2', '3', '4', '5']\n"
     ]
    }
   ],
   "source": [
    "a=\"1,2,3,4,5\"\n",
    "print(a.split(\",\"))"
   ]
  },
  {
   "cell_type": "code",
   "execution_count": 83,
   "id": "fce0f70c-9330-4f23-bc2c-69a6713f2f98",
   "metadata": {},
   "outputs": [
    {
     "name": "stdout",
     "output_type": "stream",
     "text": [
      "a,b,c,d\n"
     ]
    }
   ],
   "source": [
    "a=\",\".join('abcd')\n",
    "print(a)"
   ]
  },
  {
   "cell_type": "markdown",
   "id": "87d048a0-1f25-4def-bd5f-f2b78e2630c5",
   "metadata": {},
   "source": [
    "strip: 문자열에서 앞뒤의 공백이나 특정 문자를 제거"
   ]
  },
  {
   "cell_type": "code",
   "execution_count": 88,
   "id": "1de6dc62-70a8-4dfa-a6c5-54aed37d83a3",
   "metadata": {},
   "outputs": [
    {
     "name": "stdout",
     "output_type": "stream",
     "text": [
      "| hi |\n",
      "|hi|\n"
     ]
    }
   ],
   "source": [
    "a=\" hi \"\n",
    "print(f\"|{a}|\")\n",
    "print(f\"|{a.strip()}|\")"
   ]
  },
  {
   "cell_type": "code",
   "execution_count": 90,
   "id": "f1d3a04c-a5cf-4fcf-8375-41c6d9b1c47e",
   "metadata": {},
   "outputs": [
    {
     "data": {
      "text/plain": [
       "'HI'"
      ]
     },
     "execution_count": 90,
     "metadata": {},
     "output_type": "execute_result"
    }
   ],
   "source": [
    "a=\"hi\"\n",
    "a.upper()"
   ]
  },
  {
   "cell_type": "code",
   "execution_count": 92,
   "id": "4e510aa3-0137-4a40-aece-83482140077f",
   "metadata": {},
   "outputs": [
    {
     "name": "stdout",
     "output_type": "stream",
     "text": [
      "최종 점수:65.00점\n"
     ]
    }
   ],
   "source": [
    "kor_data = \"10011110101010111011\"\n",
    "tot=len(kor_data)\n",
    "answer=(kor_data.count(\"1\")/tot)*100\n",
    "print(f\"최종 점수:{answer:.2f}점\")"
   ]
  },
  {
   "cell_type": "code",
   "execution_count": 102,
   "id": "d50ac5b2-47c3-4152-acab-436977ce41e0",
   "metadata": {},
   "outputs": [
    {
     "name": "stdin",
     "output_type": "stream",
     "text": [
      "전화번호를 입력하세요: 031-111-2222\n"
     ]
    },
    {
     "name": "stdout",
     "output_type": "stream",
     "text": [
      "031\n",
      "경기도입니다.\n"
     ]
    }
   ],
   "source": [
    "number=input(\"전화번호를 입력하세요:\")\n",
    "r=number[0:-9]\n",
    "print(r)\n",
    "if r==\"02\":\n",
    "    print(\"서울입니다.\")\n",
    "elif r==\"031\":\n",
    "    print(\"경기도입니다.\")"
   ]
  },
  {
   "cell_type": "code",
   "execution_count": 104,
   "id": "6573f354-621f-4209-bc78-5bc8eb0fe091",
   "metadata": {},
   "outputs": [
    {
     "name": "stdin",
     "output_type": "stream",
     "text": [
      "날짜를 입력하세요 (YYYY-MM-DD): 2012-12-12\n"
     ]
    },
    {
     "name": "stdout",
     "output_type": "stream",
     "text": [
      "2012\n"
     ]
    }
   ],
   "source": [
    "date_input=input(\"날짜를 입력하세요 (YYYY-MM-DD):\").strip()\n",
    "year=date_input[0:4]\n",
    "print(year)"
   ]
  },
  {
   "cell_type": "code",
   "execution_count": 106,
   "id": "2ec0a113-e54f-4eed-b9aa-d38f9482b5b7",
   "metadata": {},
   "outputs": [
    {
     "name": "stdin",
     "output_type": "stream",
     "text": [
      "상품 코드를 입력하세요 (예: A123-B456): A123-E456\n"
     ]
    },
    {
     "name": "stdout",
     "output_type": "stream",
     "text": [
      "전자제품입니다.\n"
     ]
    }
   ],
   "source": [
    "product_code=input(\"상품 코드를 입력하세요 (예: A123-B456):\").strip()\n",
    "category=product_code[:2]\n",
    "if category==\"A1\":\n",
    "    print(\"전자제품입니다.\")\n",
    "elif category==\"B4\":\n",
    "    print(\"가전제품입니다.\")\n",
    "else:\n",
    "    print(\"알 수 없는 상품 카테고리입니다.\")"
   ]
  },
  {
   "cell_type": "code",
   "execution_count": 108,
   "id": "898b5938-a833-4354-8c18-997006c0a1eb",
   "metadata": {},
   "outputs": [
    {
     "name": "stdout",
     "output_type": "stream",
     "text": [
      "True\n",
      "False\n"
     ]
    }
   ],
   "source": [
    "print(\"안녕\" in \"안녕하세요\")\n",
    "print(\"하이\" in \"안녕하세요\")"
   ]
  },
  {
   "cell_type": "markdown",
   "id": "ccbcbd12-12cc-4733-831d-87efc67a00d3",
   "metadata": {},
   "source": [
    "조건"
   ]
  },
  {
   "cell_type": "code",
   "execution_count": 110,
   "id": "7884dda8-940c-48cc-a33c-875deff55d50",
   "metadata": {},
   "outputs": [
    {
     "name": "stdout",
     "output_type": "stream",
     "text": [
      "H가 문자열에 포함되어 있어요\n",
      "잘했어1\n",
      "The end!\n"
     ]
    }
   ],
   "source": [
    "text=\"Hello, Wolrd!\"\n",
    "if 'H' in text:\n",
    "    print(\"H가 문자열에 포함되어 있어요\")\n",
    "    print(\"잘했어1\")\n",
    "elif 'W' in text:\n",
    "    print(\"W가 문자열에 포함되어 있어요\")\n",
    "    print(\"잘했어2\")\n",
    "else: \n",
    "    print(\"H가 문자열에 포함되어 있지 않습니다.\")\n",
    "    print(\"잘했어3\")\n",
    "\n",
    "print(\"The end!\")"
   ]
  },
  {
   "cell_type": "code",
   "execution_count": 112,
   "id": "768a6e14-1374-4851-9b41-e99caa1cc20e",
   "metadata": {},
   "outputs": [
    {
     "name": "stdout",
     "output_type": "stream",
     "text": [
      "내꺼\n"
     ]
    }
   ],
   "source": [
    "a=\"사과\"\n",
    "if a==\"사과\":\n",
    "    print(\"내꺼\")\n",
    "elif a==\"수박\":\n",
    "    print(\"네꺼\")\n",
    "else: \n",
    "    print(\"안먹어유\")"
   ]
  },
  {
   "cell_type": "code",
   "execution_count": 114,
   "id": "271c6a68-d17e-46e3-af18-573d0d5e29f8",
   "metadata": {},
   "outputs": [
    {
     "name": "stdin",
     "output_type": "stream",
     "text": [
      "점수를 입력하세요:  45\n"
     ]
    },
    {
     "name": "stdout",
     "output_type": "stream",
     "text": [
      "F\n"
     ]
    }
   ],
   "source": [
    "score=int(input(\"점수를 입력하세요: \"))\n",
    "if score>=90:\n",
    "    print(\"A\")\n",
    "elif score>=80:\n",
    "    print(\"B\")\n",
    "elif score>=70:\n",
    "    print(\"C\")\n",
    "elif score>=60:\n",
    "    print(\"D\")\n",
    "else:\n",
    "    print(\"F\")"
   ]
  },
  {
   "cell_type": "code",
   "execution_count": 116,
   "id": "27b006e8-a235-4714-94e0-228377ff6dff",
   "metadata": {},
   "outputs": [
    {
     "name": "stdout",
     "output_type": "stream",
     "text": [
      "1\n"
     ]
    }
   ],
   "source": [
    "a=3\n",
    "b=4\n",
    "if a==3 and b==4:\n",
    "    print (\"1\")\n",
    "else: \n",
    "    print (\"2\")"
   ]
  },
  {
   "cell_type": "code",
   "execution_count": 118,
   "id": "2fb88546-26e3-4f27-a95f-4aeafb220866",
   "metadata": {},
   "outputs": [
    {
     "name": "stdin",
     "output_type": "stream",
     "text": [
      "점수를 입력하세요:  5\n"
     ]
    },
    {
     "name": "stdout",
     "output_type": "stream",
     "text": [
      " 5는 홀수입니다.\n"
     ]
    }
   ],
   "source": [
    "number=int(input(\"점수를 입력하세요: \"))\n",
    "if number%2==0:\n",
    "    print(f\" {number}는 짝수입니다.\")\n",
    "else:\n",
    "    print(f\" {number}는 홀수입니다.\")"
   ]
  },
  {
   "cell_type": "code",
   "execution_count": 120,
   "id": "5ee71214-769c-498b-bb78-959949f03651",
   "metadata": {},
   "outputs": [
    {
     "name": "stdin",
     "output_type": "stream",
     "text": [
      "나이를 입력하세요: 54\n"
     ]
    },
    {
     "name": "stdout",
     "output_type": "stream",
     "text": [
      "54세는 성인입니다.\n"
     ]
    }
   ],
   "source": [
    "age=int(input(\"나이를 입력하세요:\"))  #노인, 성인(65), 청소년(20), 어린이(13) 구분\n",
    "if age>=65:\n",
    "    print(f\"{age}세는 노인입니다.\")\n",
    "elif age>=20:\n",
    "    print(f\"{age}세는 성인입니다.\")\n",
    "elif age>=14:\n",
    "    print(f\"{age}세는 청소년입니다.\")\n",
    "else:\n",
    "    print(f\"{age}세는 어린이입니다.\")\n"
   ]
  },
  {
   "cell_type": "code",
   "execution_count": 122,
   "id": "5ca7d131-f10b-4b21-9f8d-b0f37271a2a2",
   "metadata": {},
   "outputs": [
    {
     "name": "stdin",
     "output_type": "stream",
     "text": [
      "사용자 이름을 입력하세요: wjddms\n",
      "비밀번호를 입력하세요: 1234\n"
     ]
    },
    {
     "name": "stdout",
     "output_type": "stream",
     "text": [
      "로그인 성공\n"
     ]
    }
   ],
   "source": [
    "username=input(\"사용자 이름을 입력하세요:\")\n",
    "password=input(\"비밀번호를 입력하세요:\")\n",
    "if username==\"wjddms\" and password==\"1234\":\n",
    "    print(\"로그인 성공\")\n",
    "else: \n",
    "    print(\"로그인 실패\")"
   ]
  },
  {
   "cell_type": "code",
   "execution_count": 124,
   "id": "15dab329-0e2a-46f1-907f-0fe4c41565fc",
   "metadata": {},
   "outputs": [
    {
     "name": "stdin",
     "output_type": "stream",
     "text": [
      "현재온도를 입력하세요 : 45\n"
     ]
    },
    {
     "name": "stdout",
     "output_type": "stream",
     "text": [
      "날씨가 덥습니다.\n"
     ]
    }
   ],
   "source": [
    "temperature=float(input(\"현재온도를 입력하세요 :\"))\n",
    "if temperature<0:\n",
    "    print(\"날씨가 춥습니다.\")\n",
    "elif 0<=temperature<=20:\n",
    "    print(\"날씨가 시원합니다.\")\n",
    "elif 20<temperature<=30:\n",
    "    print(\"날씨가 따뜻합니다.\")\n",
    "else: \n",
    "    print(\"날씨가 덥습니다.\")"
   ]
  },
  {
   "cell_type": "code",
   "execution_count": 126,
   "id": "891e72fa-7bd5-4bd5-9b37-19ed9d1a613f",
   "metadata": {},
   "outputs": [
    {
     "name": "stdout",
     "output_type": "stream",
     "text": [
      "s\n",
      "e\n",
      "j\n",
      "o\n",
      "n\n",
      "g\n"
     ]
    }
   ],
   "source": [
    "for i in \"sejong\":\n",
    "    print(i,end=\"\\n\")"
   ]
  },
  {
   "cell_type": "code",
   "execution_count": 128,
   "id": "4bc2f7ea-ae50-4bf4-9e93-39bc855b9c6b",
   "metadata": {},
   "outputs": [
    {
     "name": "stdout",
     "output_type": "stream",
     "text": [
      "0\n",
      "1\n",
      "2\n",
      "3\n",
      "4\n",
      "5\n",
      "6\n",
      "7\n",
      "8\n",
      "9\n"
     ]
    }
   ],
   "source": [
    "for i in range(10):\n",
    "    print(i)"
   ]
  },
  {
   "cell_type": "markdown",
   "id": "735965d0-05ec-445b-9489-c91b9bb3f7cb",
   "metadata": {},
   "source": [
    "구구단"
   ]
  },
  {
   "cell_type": "code",
   "execution_count": 130,
   "id": "fc693f55-bbf5-42ad-8a1f-1e565f1b6a3b",
   "metadata": {},
   "outputs": [
    {
     "name": "stdout",
     "output_type": "stream",
     "text": [
      "2 X 1 = 2\n",
      "2 X 2 = 4\n",
      "2 X 3 = 6\n",
      "2 X 4 = 8\n",
      "2 X 5 = 10\n",
      "2 X 6 = 12\n",
      "2 X 7 = 14\n",
      "2 X 8 = 16\n",
      "2 X 9 = 18\n"
     ]
    }
   ],
   "source": [
    "i=2\n",
    "for j in range(1,10):\n",
    "    print(f\"{i} X {j} = {i*j}\")"
   ]
  },
  {
   "cell_type": "code",
   "execution_count": 132,
   "id": "f66ceba8-e2ca-4de3-b4d3-6ce8369b1996",
   "metadata": {},
   "outputs": [
    {
     "name": "stdout",
     "output_type": "stream",
     "text": [
      "2X1=2\t3X1=3\t4X1=4\t5X1=5\t6X1=6\t7X1=7\t8X1=8\t9X1=9\t\n",
      "2X2=4\t3X2=6\t4X2=8\t5X2=10\t6X2=12\t7X2=14\t8X2=16\t9X2=18\t\n",
      "2X3=6\t3X3=9\t4X3=12\t5X3=15\t6X3=18\t7X3=21\t8X3=24\t9X3=27\t\n",
      "2X4=8\t3X4=12\t4X4=16\t5X4=20\t6X4=24\t7X4=28\t8X4=32\t9X4=36\t\n",
      "2X5=10\t3X5=15\t4X5=20\t5X5=25\t6X5=30\t7X5=35\t8X5=40\t9X5=45\t\n",
      "2X6=12\t3X6=18\t4X6=24\t5X6=30\t6X6=36\t7X6=42\t8X6=48\t9X6=54\t\n",
      "2X7=14\t3X7=21\t4X7=28\t5X7=35\t6X7=42\t7X7=49\t8X7=56\t9X7=63\t\n",
      "2X8=16\t3X8=24\t4X8=32\t5X8=40\t6X8=48\t7X8=56\t8X8=64\t9X8=72\t\n",
      "2X9=18\t3X9=27\t4X9=36\t5X9=45\t6X9=54\t7X9=63\t8X9=72\t9X9=81\t\n"
     ]
    }
   ],
   "source": [
    "for i in range(1,10):\n",
    "    for j in range(2,10):\n",
    "            print(f\"{j}X{i}={j*i}\", end=\"\\t\")\n",
    "    print()"
   ]
  },
  {
   "cell_type": "code",
   "execution_count": 134,
   "id": "0cd74817-e09b-4a20-9b4b-51441937e27d",
   "metadata": {},
   "outputs": [
    {
     "name": "stdout",
     "output_type": "stream",
     "text": [
      "*\n",
      "**\n",
      "***\n",
      "****\n",
      "*****\n",
      "******\n",
      "*******\n",
      "********\n",
      "*********\n",
      "**********\n"
     ]
    }
   ],
   "source": [
    "for i in range(1,11):\n",
    "    print(i* \"*\")"
   ]
  },
  {
   "cell_type": "code",
   "execution_count": 136,
   "id": "d11b803f-f405-4768-9be3-888b349713a7",
   "metadata": {},
   "outputs": [
    {
     "name": "stdout",
     "output_type": "stream",
     "text": [
      "*\n",
      "**\n",
      "***\n",
      "****\n",
      "*****\n",
      "******\n",
      "*******\n",
      "********\n",
      "*********\n",
      "**********\n"
     ]
    }
   ],
   "source": [
    "for i in range(1,11):\n",
    "    for j in range(i):\n",
    "        print(\"*\",end=\"\")\n",
    "    print()"
   ]
  },
  {
   "cell_type": "code",
   "execution_count": 138,
   "id": "5779b9cf-c25e-4808-87e9-93cdc5a8ad08",
   "metadata": {},
   "outputs": [
    {
     "name": "stdout",
     "output_type": "stream",
     "text": [
      "55\n"
     ]
    }
   ],
   "source": [
    "#1부터 10까지의 합\n",
    "total=0\n",
    "for i in range(1,11):\n",
    "    total+=i\n",
    "print(total)"
   ]
  },
  {
   "cell_type": "code",
   "execution_count": 140,
   "id": "042cdd57-4e6d-4338-95fd-4cfbddf1c628",
   "metadata": {},
   "outputs": [
    {
     "name": "stdout",
     "output_type": "stream",
     "text": [
      "과일: 사과\n",
      "과일: 바나나\n",
      "과일: 체리\n"
     ]
    }
   ],
   "source": [
    "fruits=[\"사과\",\"바나나\",\"체리\"]\n",
    "for fruit in fruits:\n",
    "    print(f\"과일: {fruit}\")"
   ]
  },
  {
   "cell_type": "code",
   "execution_count": 142,
   "id": "e34c668a-fd6e-430b-a035-1fd2e2738566",
   "metadata": {},
   "outputs": [
    {
     "name": "stdout",
     "output_type": "stream",
     "text": [
      "2\n",
      "4\n",
      "6\n",
      "8\n",
      "10\n"
     ]
    }
   ],
   "source": [
    "for i in range(1,11):\n",
    "    if i%2==0:   #pass는 조건 실행X\n",
    "        print(i)"
   ]
  },
  {
   "cell_type": "code",
   "execution_count": 144,
   "id": "2f9a942e-74ef-46a2-843b-530c3b3c63d0",
   "metadata": {},
   "outputs": [
    {
     "name": "stdout",
     "output_type": "stream",
     "text": [
      "30이 리스트에 있습니다.\n"
     ]
    }
   ],
   "source": [
    "numbers=[10,20,30,40,50]\n",
    "target=30\n",
    "found=False\n",
    "\n",
    "for number in numbers:\n",
    "    if number==target:\n",
    "        found=True\n",
    "        break\n",
    "\n",
    "if found:\n",
    "    print(f\"{target}이 리스트에 있습니다.\")\n",
    "else:\n",
    "    print(f\"{target}이 리스트에 없습니다.\")"
   ]
  },
  {
   "cell_type": "code",
   "execution_count": 146,
   "id": "b3d30182-39c2-48b3-a7db-75ca4c954937",
   "metadata": {},
   "outputs": [
    {
     "name": "stdout",
     "output_type": "stream",
     "text": [
      "1\n",
      "4\n",
      "7\n",
      "10\n"
     ]
    }
   ],
   "source": [
    "for i in range(1,11,3):\n",
    "    print(i)"
   ]
  },
  {
   "cell_type": "code",
   "execution_count": 148,
   "id": "b54669c0-4a60-4c83-8cd1-eb7705295cd4",
   "metadata": {},
   "outputs": [
    {
     "name": "stdout",
     "output_type": "stream",
     "text": [
      "1번 학생은 합격입니다.\n",
      "2번 학생은 불합격입니다.\n",
      "3번 학생은 합격입니다.\n",
      "4번 학생은 불합격입니다.\n",
      "5번 학생은 합격입니다.\n"
     ]
    }
   ],
   "source": [
    "marks=[90,25,67,45,80]\n",
    "number=0\n",
    "for i in marks:\n",
    "    number+=1\n",
    "    if i>=60:\n",
    "        print(f\"{number}번 학생은 합격입니다.\")\n",
    "    else: \n",
    "        print(f\"{number}번 학생은 불합격입니다.\")"
   ]
  },
  {
   "cell_type": "code",
   "execution_count": 150,
   "id": "dbcffdb5-afa4-4cae-a81e-de269c5af5b3",
   "metadata": {},
   "outputs": [
    {
     "name": "stdout",
     "output_type": "stream",
     "text": [
      "1번 학생 축하합니다. 합격입니다.\n",
      "3번 학생 축하합니다. 합격입니다.\n",
      "5번 학생 축하합니다. 합격입니다.\n"
     ]
    }
   ],
   "source": [
    "marks=[90,25,67,45,80]\n",
    "number=0\n",
    "for i in marks:\n",
    "    number+=1\n",
    "    if i < 60:\n",
    "        continue\n",
    "    print(f\"{number}번 학생 축하합니다. 합격입니다.\")"
   ]
  },
  {
   "cell_type": "code",
   "execution_count": 152,
   "id": "e0d26b88-2a3b-430e-8669-64a3a3eaf1e2",
   "metadata": {},
   "outputs": [
    {
     "name": "stdout",
     "output_type": "stream",
     "text": [
      "1번 학생 축하합니다. 합격입니다.\n",
      "3번 학생 축하합니다. 합격입니다.\n",
      "5번 학생 축하합니다. 합격입니다.\n"
     ]
    }
   ],
   "source": [
    "marks=[90,25,67,45,80]\n",
    "for i in range(len(marks)):\n",
    "    if marks[i]<60:\n",
    "        continue\n",
    "    print(f\"{i+1}번 학생 축하합니다. 합격입니다.\")"
   ]
  },
  {
   "cell_type": "code",
   "execution_count": 154,
   "id": "d7fe9fe7-b580-4007-bb13-992a24ca3e4b",
   "metadata": {},
   "outputs": [
    {
     "name": "stdout",
     "output_type": "stream",
     "text": [
      "모음 개수: 3\n"
     ]
    }
   ],
   "source": [
    "#모음 개수\n",
    "text=\"Hello, World\"\n",
    "vowels=\"aeiouAEIOU\"\n",
    "number=0\n",
    "for i in text:\n",
    "    if i in vowels:\n",
    "        number+=1\n",
    "print(f\"모음 개수: {number}\")"
   ]
  },
  {
   "cell_type": "markdown",
   "id": "b8f6b404-0201-4834-a0e9-abef6dfd9dba",
   "metadata": {},
   "source": [
    "isalpha():문자열이 알파벳 문자로만 구성되어있는지"
   ]
  },
  {
   "cell_type": "markdown",
   "id": "867b10e1-3fc0-46c8-ac22-a56c4718ceb3",
   "metadata": {},
   "source": [
    "isdigit():문자열이 알파벳 숫자로만 구성되어있는지"
   ]
  },
  {
   "cell_type": "markdown",
   "id": "8d5c94c8-cb6f-40c5-a8c4-49bb1a28eb21",
   "metadata": {},
   "source": [
    "isalnum():문자열이 알파벳 문자와 숫자만 포함하고 있는지"
   ]
  },
  {
   "cell_type": "markdown",
   "id": "061a6b18-f4f1-4ed3-8b8d-15ba6b275cad",
   "metadata": {},
   "source": [
    "isspace():문자열이 공백문자(스페이스, 탭 등)으로만 구성되어있는지"
   ]
  },
  {
   "cell_type": "code",
   "execution_count": 157,
   "id": "56c30d85-b0f1-4434-9153-2e573f953a13",
   "metadata": {},
   "outputs": [
    {
     "name": "stdout",
     "output_type": "stream",
     "text": [
      "False\n"
     ]
    }
   ],
   "source": [
    "text=\"Hello2\"\n",
    "print(text.isalpha())   "
   ]
  },
  {
   "cell_type": "code",
   "execution_count": 159,
   "id": "02c1ae07-ada0-47b1-a5de-78b898baf913",
   "metadata": {},
   "outputs": [
    {
     "name": "stdout",
     "output_type": "stream",
     "text": [
      "True\n"
     ]
    }
   ],
   "source": [
    "text=\"hello\"\n",
    "print(text.islower())   #문자열의 모든 문자가 소문자인지"
   ]
  },
  {
   "cell_type": "code",
   "execution_count": 161,
   "id": "25d0dc45-ffb8-431a-851b-f6b1fd2f24e0",
   "metadata": {},
   "outputs": [
    {
     "name": "stdout",
     "output_type": "stream",
     "text": [
      "False\n"
     ]
    }
   ],
   "source": [
    "text=\"hello    \"\n",
    "print(text.isspace())   #문자열이 공백문자(스페이스, 탭 등)으로만 구성되어있는지"
   ]
  },
  {
   "cell_type": "code",
   "execution_count": 163,
   "id": "d6cec9b5-f978-40cd-9cb1-408b29d88a62",
   "metadata": {},
   "outputs": [
    {
     "name": "stdout",
     "output_type": "stream",
     "text": [
      "추출된 숫자: 123456\n"
     ]
    }
   ],
   "source": [
    "text=\"Hello123, World456!\"\n",
    "numbers=\"\"\n",
    "for i in text:\n",
    "    if i.isdigit():\n",
    "        numbers+=i\n",
    "print(f\"추출된 숫자: {numbers}\")"
   ]
  },
  {
   "cell_type": "code",
   "execution_count": 165,
   "id": "130c344c-adaf-49dc-9d3f-f63f3ceba79d",
   "metadata": {},
   "outputs": [
    {
     "name": "stdout",
     "output_type": "stream",
     "text": [
      "대문자만 추출된 문자열: HW\n"
     ]
    }
   ],
   "source": [
    "text=\"Hello123, World456!\"\n",
    "upper=\"\"\n",
    "for i in text:\n",
    "    if i.isupper():\n",
    "        upper+=i\n",
    "print(f\"대문자만 추출된 문자열: {upper}\")"
   ]
  },
  {
   "cell_type": "code",
   "execution_count": 167,
   "id": "08804370-5171-4591-ace0-4f3f12e42150",
   "metadata": {},
   "outputs": [
    {
     "name": "stdout",
     "output_type": "stream",
     "text": [
      "역순 문자열: !dlroW ,olleH\n"
     ]
    }
   ],
   "source": [
    "text=\"Hello, World!\"\n",
    "reversed_text=\"\"\n",
    "\n",
    "for i in text:\n",
    "    reversed_text=i+reversed_text\n",
    "print(f\"역순 문자열: {reversed_text}\")"
   ]
  },
  {
   "cell_type": "code",
   "execution_count": 169,
   "id": "3648fd52-662b-4272-80ae-ae3395ee0046",
   "metadata": {},
   "outputs": [
    {
     "name": "stdout",
     "output_type": "stream",
     "text": [
      "나무를 1번 찍었습니다.\n",
      "나무를 2번 찍었습니다.\n",
      "나무를 3번 찍었습니다.\n",
      "나무를 4번 찍었습니다.\n",
      "나무를 5번 찍었습니다.\n",
      "나무를 6번 찍었습니다.\n",
      "나무를 7번 찍었습니다.\n",
      "나무를 8번 찍었습니다.\n",
      "나무를 9번 찍었습니다.\n",
      "나무를 10번 찍었습니다.\n",
      "나무 넘어갑니다\n"
     ]
    }
   ],
   "source": [
    "treeHit=0\n",
    "while treeHit<10:\n",
    "    treeHit=treeHit+1\n",
    "    print(f\"나무를 {treeHit}번 찍었습니다.\")\n",
    "    if treeHit==10:\n",
    "        print(\"나무 넘어갑니다\")"
   ]
  },
  {
   "cell_type": "code",
   "execution_count": 171,
   "id": "245f007c-7a0f-472c-bdf4-44e1e443f8ad",
   "metadata": {},
   "outputs": [
    {
     "name": "stdout",
     "output_type": "stream",
     "text": [
      "돈을 받았으니 커피를 줍니다.\n",
      "남은 커피 양은 2개 입니다.\n",
      "돈을 받았으니 커피를 줍니다.\n",
      "남은 커피 양은 1개 입니다.\n",
      "돈을 받았으니 커피를 줍니다.\n",
      "남은 커피 양은 0개 입니다.\n",
      "커피가 떨어졌어요. 판매중지합니다\n"
     ]
    }
   ],
   "source": [
    "coffee=3\n",
    "money=300\n",
    "while money:\n",
    "    print(\"돈을 받았으니 커피를 줍니다.\")\n",
    "    coffee-=1\n",
    "    print(f\"남은 커피 양은 {coffee}개 입니다.\")\n",
    "    if coffee==0:\n",
    "        print(\"커피가 떨어졌어요. 판매중지합니다\")\n",
    "        break"
   ]
  },
  {
   "cell_type": "code",
   "execution_count": 175,
   "id": "015ebac4-83d1-4452-86f2-39923f90dca4",
   "metadata": {},
   "outputs": [
    {
     "name": "stdin",
     "output_type": "stream",
     "text": [
      "돈을 넣어주세요 300\n"
     ]
    },
    {
     "name": "stdout",
     "output_type": "stream",
     "text": [
      "커피를 줍니다\n"
     ]
    },
    {
     "name": "stdin",
     "output_type": "stream",
     "text": [
      "돈을 넣어주세요 5222\n"
     ]
    },
    {
     "name": "stdout",
     "output_type": "stream",
     "text": [
      "커피를 줍니다.\n",
      "거스름돈을 줍니다\n"
     ]
    },
    {
     "name": "stdin",
     "output_type": "stream",
     "text": [
      "돈을 넣어주세요 600\n"
     ]
    },
    {
     "name": "stdout",
     "output_type": "stream",
     "text": [
      "커피를 줍니다.\n",
      "거스름돈을 줍니다\n"
     ]
    },
    {
     "name": "stdin",
     "output_type": "stream",
     "text": [
      "돈을 넣어주세요 41515\n"
     ]
    },
    {
     "name": "stdout",
     "output_type": "stream",
     "text": [
      "커피를 줍니다.\n",
      "거스름돈을 줍니다\n"
     ]
    },
    {
     "name": "stdin",
     "output_type": "stream",
     "text": [
      "돈을 넣어주세요 1616\n"
     ]
    },
    {
     "name": "stdout",
     "output_type": "stream",
     "text": [
      "커피를 줍니다.\n",
      "거스름돈을 줍니다\n"
     ]
    },
    {
     "name": "stdin",
     "output_type": "stream",
     "text": [
      "돈을 넣어주세요 215\n"
     ]
    },
    {
     "name": "stdout",
     "output_type": "stream",
     "text": [
      "커피를 주지 않습니다\n",
      "돈을 돌려 줍니다\n",
      "금액이 부족합니다\n"
     ]
    },
    {
     "name": "stdin",
     "output_type": "stream",
     "text": [
      "돈을 넣어주세요 222\n"
     ]
    },
    {
     "name": "stdout",
     "output_type": "stream",
     "text": [
      "커피를 주지 않습니다\n",
      "돈을 돌려 줍니다\n",
      "금액이 부족합니다\n"
     ]
    },
    {
     "name": "stdin",
     "output_type": "stream",
     "text": [
      "돈을 넣어주세요 300\n"
     ]
    },
    {
     "name": "stdout",
     "output_type": "stream",
     "text": [
      "커피를 줍니다\n"
     ]
    },
    {
     "name": "stdin",
     "output_type": "stream",
     "text": [
      "돈을 넣어주세요 500\n"
     ]
    },
    {
     "name": "stdout",
     "output_type": "stream",
     "text": [
      "커피를 줍니다.\n",
      "거스름돈을 줍니다\n"
     ]
    },
    {
     "name": "stdin",
     "output_type": "stream",
     "text": [
      "돈을 넣어주세요 500\n"
     ]
    },
    {
     "name": "stdout",
     "output_type": "stream",
     "text": [
      "커피를 줍니다.\n",
      "거스름돈을 줍니다\n"
     ]
    },
    {
     "name": "stdin",
     "output_type": "stream",
     "text": [
      "돈을 넣어주세요 500\n"
     ]
    },
    {
     "name": "stdout",
     "output_type": "stream",
     "text": [
      "커피를 줍니다.\n",
      "거스름돈을 줍니다\n"
     ]
    },
    {
     "name": "stdin",
     "output_type": "stream",
     "text": [
      "돈을 넣어주세요 5000\n"
     ]
    },
    {
     "name": "stdout",
     "output_type": "stream",
     "text": [
      "커피를 줍니다.\n",
      "거스름돈을 줍니다\n",
      "커피가 다 떨어졌습니다. 판매를 중지합니다.\n"
     ]
    }
   ],
   "source": [
    "#커피 한 잔 300원\n",
    "#300원초과시 커피랑 거스름돈\n",
    "#300원 미만 거스름돈 돌려주고 커피 안줌\n",
    "#커피 10잔 다 떨어지면 판매중지\n",
    "\n",
    "coffee=10\n",
    "perMoney=300\n",
    "while True:\n",
    "    money=int(input(\"돈을 넣어주세요\"))\n",
    "    if money==perMoney:\n",
    "        coffee-=1\n",
    "        print(\"커피를 줍니다\")\n",
    "    elif money>perMoney:\n",
    "        coffee-=1\n",
    "        print(\"커피를 줍니다.\")\n",
    "        print(\"거스름돈을 줍니다\")\n",
    "    else:\n",
    "        print(\"커피를 주지 않습니다\")\n",
    "        print(\"돈을 돌려 줍니다\")\n",
    "        print(\"금액이 부족합니다\")\n",
    "    if coffee==0:\n",
    "        print(\"커피가 다 떨어졌습니다.\",\"판매를 중지합니다.\")\n",
    "        break"
   ]
  },
  {
   "cell_type": "code",
   "execution_count": null,
   "id": "d2b91c17-8613-4e3b-a9ad-82011c878f71",
   "metadata": {},
   "outputs": [],
   "source": []
  }
 ],
 "metadata": {
  "kernelspec": {
   "display_name": "Python 3 (ipykernel)",
   "language": "python",
   "name": "python3"
  },
  "language_info": {
   "codemirror_mode": {
    "name": "ipython",
    "version": 3
   },
   "file_extension": ".py",
   "mimetype": "text/x-python",
   "name": "python",
   "nbconvert_exporter": "python",
   "pygments_lexer": "ipython3",
   "version": "3.12.7"
  }
 },
 "nbformat": 4,
 "nbformat_minor": 5
}
