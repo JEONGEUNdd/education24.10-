{
 "cells": [
  {
   "cell_type": "markdown",
   "id": "2d9448e3-20c2-4f1f-b1d1-630328b5ef89",
   "metadata": {},
   "source": [
    "### 리스트 정리"
   ]
  },
  {
   "cell_type": "code",
   "execution_count": 2,
   "id": "8038e631-a1fe-43c7-8d64-204bae4c5b7a",
   "metadata": {},
   "outputs": [
    {
     "data": {
      "text/plain": [
       "[1, 2, 3, 4]"
      ]
     },
     "execution_count": 2,
     "metadata": {},
     "output_type": "execute_result"
    }
   ],
   "source": [
    "numbers=[]\n",
    "numbers=[1,2,3]\n",
    "numbers.append(4)\n",
    "numbers"
   ]
  },
  {
   "cell_type": "code",
   "execution_count": 6,
   "id": "7005276b-85db-4ac8-b6c8-95d432284d2a",
   "metadata": {},
   "outputs": [
    {
     "data": {
      "text/plain": [
       "['사과', '바나나', '배']"
      ]
     },
     "execution_count": 6,
     "metadata": {},
     "output_type": "execute_result"
    }
   ],
   "source": [
    "f=['사과','바나나']\n",
    "f.append('배')\n",
    "f"
   ]
  },
  {
   "cell_type": "code",
   "execution_count": 10,
   "id": "7ba74cf2-d8e3-46a7-98db-6fb68162bbfd",
   "metadata": {},
   "outputs": [
    {
     "data": {
      "text/plain": [
       "[{'item': '노트북', 'price': 1000000}, {'item': '마우스', 'price': 500000}]"
      ]
     },
     "execution_count": 10,
     "metadata": {},
     "output_type": "execute_result"
    }
   ],
   "source": [
    "shopping_cart=[]\n",
    "slist={'item':'노트북','price':1000000}\n",
    "shopping_cart.append(slist)\n",
    "shopping_cart\n",
    "shopping_cart.append({'item':'마우스','price':500000})\n",
    "shopping_cart"
   ]
  },
  {
   "cell_type": "code",
   "execution_count": 14,
   "id": "0f43d548-b645-4351-bf6c-3483808beebe",
   "metadata": {},
   "outputs": [
    {
     "data": {
      "text/plain": [
       "[['노트북', 1000000, '상'], ['마우스', 50000, '중']]"
      ]
     },
     "execution_count": 14,
     "metadata": {},
     "output_type": "execute_result"
    }
   ],
   "source": [
    "shopping_cart2=[]\n",
    "shopping_cart2.append(['노트북',1000000,'상'])\n",
    "shopping_cart2.append(['마우스',50000,'중'])\n",
    "shopping_cart2"
   ]
  },
  {
   "cell_type": "code",
   "execution_count": 16,
   "id": "d0bf96af-0c9d-4a21-9c26-b6ea3d49fa9b",
   "metadata": {},
   "outputs": [
    {
     "data": {
      "text/plain": [
       "1000000"
      ]
     },
     "execution_count": 16,
     "metadata": {},
     "output_type": "execute_result"
    }
   ],
   "source": [
    "shopping_cart2[0][1]"
   ]
  },
  {
   "cell_type": "code",
   "execution_count": 18,
   "id": "d31eefcc-1530-4029-976f-a9d8abe83225",
   "metadata": {},
   "outputs": [
    {
     "data": {
      "text/plain": [
       "[('노트북', 1000000, '상'), ('마우스', 50000, '중')]"
      ]
     },
     "execution_count": 18,
     "metadata": {},
     "output_type": "execute_result"
    }
   ],
   "source": [
    "shopping_cart2=[]\n",
    "shopping_cart2.append(('노트북',1000000,'상'))\n",
    "shopping_cart2.append(('마우스',50000,'중'))\n",
    "shopping_cart2"
   ]
  },
  {
   "cell_type": "code",
   "execution_count": 30,
   "id": "13ffd3b7-92eb-4a83-a63f-8221d12f089a",
   "metadata": {},
   "outputs": [
    {
     "data": {
      "text/plain": [
       "[1, 2, 3, 4, 5, [6, 7], '4', '5']"
      ]
     },
     "execution_count": 30,
     "metadata": {},
     "output_type": "execute_result"
    }
   ],
   "source": [
    "##extend\n",
    "list1=[1,2,3]\n",
    "list1.extend([4,5])\n",
    "list1.append([6,7])\n",
    "list1.extend('45')\n",
    "list1"
   ]
  },
  {
   "cell_type": "code",
   "execution_count": 32,
   "id": "530d1bac-0b01-47cd-b96d-9675fd972869",
   "metadata": {},
   "outputs": [
    {
     "data": {
      "text/plain": [
       "['red', 'blue', 'green', 'purple']"
      ]
     },
     "execution_count": 32,
     "metadata": {},
     "output_type": "execute_result"
    }
   ],
   "source": [
    "colors=['red','blue']\n",
    "colors.extend(['green','purple'])\n",
    "colors"
   ]
  },
  {
   "cell_type": "code",
   "execution_count": 36,
   "id": "d4a7d75d-f051-4174-bb64-b98ef6e0de82",
   "metadata": {},
   "outputs": [
    {
     "data": {
      "text/plain": [
       "['Jone', 'Kim', 'K', 'i', 'm']"
      ]
     },
     "execution_count": 36,
     "metadata": {},
     "output_type": "execute_result"
    }
   ],
   "source": [
    "names=['Jone']\n",
    "names.append('Kim')\n",
    "names.extend('Kim')\n",
    "names"
   ]
  },
  {
   "cell_type": "markdown",
   "id": "b3110736-ad4f-4ff9-918c-d661c7babe28",
   "metadata": {},
   "source": [
    "### insert(index,value))"
   ]
  },
  {
   "cell_type": "code",
   "execution_count": 47,
   "id": "90fbeadb-f325-4cb0-b192-dd6bde359a91",
   "metadata": {},
   "outputs": [
    {
     "data": {
      "text/plain": [
       "[1, 2, 3, 4]"
      ]
     },
     "execution_count": 47,
     "metadata": {},
     "output_type": "execute_result"
    }
   ],
   "source": [
    "#insert:특정 위치에 요소 삽입\n",
    "n=[1,3,4]\n",
    "n.insert(1,2)   \n",
    "n"
   ]
  },
  {
   "cell_type": "code",
   "execution_count": 49,
   "id": "7c7bf4d9-1899-4f23-bc83-a09647c56a23",
   "metadata": {},
   "outputs": [
    {
     "data": {
      "text/plain": [
       "['Hello', 'Beautiful', 'World']"
      ]
     },
     "execution_count": 49,
     "metadata": {},
     "output_type": "execute_result"
    }
   ],
   "source": [
    "words=['Hello','World']\n",
    "words.insert(1,'Beautiful')\n",
    "words"
   ]
  },
  {
   "cell_type": "code",
   "execution_count": 51,
   "id": "daa75a8d-621d-41d1-bea0-802f355743eb",
   "metadata": {},
   "outputs": [
    {
     "data": {
      "text/plain": [
       "['음료', '커피', '우유']"
      ]
     },
     "execution_count": 51,
     "metadata": {},
     "output_type": "execute_result"
    }
   ],
   "source": [
    "menu=['커피','우유']\n",
    "menu.insert(0,'음료')\n",
    "menu"
   ]
  },
  {
   "cell_type": "markdown",
   "id": "00af7c48-ce37-498a-adc0-7e5b482d242a",
   "metadata": {},
   "source": [
    "### remove 값으로 특정 요소 제거"
   ]
  },
  {
   "cell_type": "code",
   "execution_count": 58,
   "id": "1f313bc4-a69b-4576-b667-ad4187454078",
   "metadata": {},
   "outputs": [
    {
     "data": {
      "text/plain": [
       "[1, 3]"
      ]
     },
     "execution_count": 58,
     "metadata": {},
     "output_type": "execute_result"
    }
   ],
   "source": [
    "numbers=[1,2,3,2]\n",
    "numbers=list(set(numbers))  #중복제거\n",
    "numbers.remove(2)\n",
    "numbers"
   ]
  },
  {
   "cell_type": "code",
   "execution_count": 60,
   "id": "7a48caab-4747-49cc-ba4c-a997e6beae3a",
   "metadata": {},
   "outputs": [
    {
     "data": {
      "text/plain": [
       "['banana', 'apple']"
      ]
     },
     "execution_count": 60,
     "metadata": {},
     "output_type": "execute_result"
    }
   ],
   "source": [
    "fruits=['apple','banana','apple']\n",
    "fruits.remove('apple')\n",
    "fruits"
   ]
  },
  {
   "cell_type": "code",
   "execution_count": 62,
   "id": "6c0ad3ef-c8a3-4e80-9a57-6cd433d51447",
   "metadata": {},
   "outputs": [
    {
     "name": "stdout",
     "output_type": "stream",
     "text": [
      "[1, 2]\n",
      "3\n"
     ]
    }
   ],
   "source": [
    "## pop:마지막 또는 인덱스 요소를 제거하고, 제거된 요소를 반환\n",
    "stack=[1,2,3]\n",
    "last=stack.pop()\n",
    "print(stack,last,sep=\"\\n\")"
   ]
  },
  {
   "cell_type": "code",
   "execution_count": 64,
   "id": "4a50b188-8d2d-401b-a794-dc4818df58b5",
   "metadata": {},
   "outputs": [
    {
     "name": "stdout",
     "output_type": "stream",
     "text": [
      "['second', 'third']\n",
      "first\n"
     ]
    }
   ],
   "source": [
    "queue=['first','second','third']\n",
    "first=queue.pop(0)\n",
    "print(queue,first,sep='\\n')"
   ]
  },
  {
   "cell_type": "code",
   "execution_count": 66,
   "id": "24180e20-f9e2-4cd8-893d-ce54fa18eedb",
   "metadata": {},
   "outputs": [
    {
     "data": {
      "text/plain": [
       "2"
      ]
     },
     "execution_count": 66,
     "metadata": {},
     "output_type": "execute_result"
    }
   ],
   "source": [
    "#index:값의 첫번째 위치(인덱스)반환\n",
    "numbers=[10,20,30,40,50]\n",
    "pos=numbers.index(30)\n",
    "pos"
   ]
  },
  {
   "cell_type": "code",
   "execution_count": 76,
   "id": "3f427b5c-5eef-48b0-81ed-1f36260bf6ff",
   "metadata": {},
   "outputs": [
    {
     "name": "stdout",
     "output_type": "stream",
     "text": [
      "[1, 3, 5]\n"
     ]
    }
   ],
   "source": [
    "my_list=[1,2,3,2,4,2,5]\n",
    "tvalue=2\n",
    "\n",
    "y=[]\n",
    "i=0\n",
    "\n",
    "for x in my_list:\n",
    "    if x==tvalue:\n",
    "        y.append(i)\n",
    "    i+=1\n",
    "print(y)"
   ]
  },
  {
   "cell_type": "code",
   "execution_count": 78,
   "id": "d209048f-c7fd-47ea-b119-6427430c0613",
   "metadata": {},
   "outputs": [
    {
     "name": "stdout",
     "output_type": "stream",
     "text": [
      "[1, 3, 5]\n"
     ]
    }
   ],
   "source": [
    "y=[]\n",
    "for i,x in enumerate(my_list):\n",
    "    if x==tvalue:\n",
    "        y.append(i)\n",
    "print(y)"
   ]
  },
  {
   "cell_type": "code",
   "execution_count": 82,
   "id": "225057f2-d2eb-4cc2-8948-6866fffc2bd3",
   "metadata": {},
   "outputs": [
    {
     "name": "stdout",
     "output_type": "stream",
     "text": [
      "[1, 3, 5]\n"
     ]
    }
   ],
   "source": [
    "y1=[i for i,x in enumerate(my_list) if x==tvalue]\n",
    "print(y1)"
   ]
  },
  {
   "cell_type": "code",
   "execution_count": 102,
   "id": "7e50955b-3e93-423a-9be0-0e3916a00a8e",
   "metadata": {},
   "outputs": [
    {
     "name": "stdout",
     "output_type": "stream",
     "text": [
      "(97, 95, 99)\n",
      "(87, 93, 90)\n",
      "(85, 83, 80)\n",
      "97 95 99\n",
      "87 93 90\n",
      "85 83 80\n",
      "[95, 93, 83]\n",
      "[291, 270, 248]\n",
      "[97.0, 90.0, 82.66666666666667]\n",
      "[(291, 97.0), (270, 90.0), (248, 82.66666666666667)]\n"
     ]
    }
   ],
   "source": [
    "scores=[(97,95,99),(87,93,90),(85,83,80)]\n",
    "for score in scores:\n",
    "    print(score)\n",
    "\n",
    "for a,b,c in scores:\n",
    "    print(a,b,c)\n",
    "\n",
    "print([m for k,m,e in scores])  #수학\n",
    "print([k+m+e for k,m,e in scores])  #사용자별 총점\n",
    "print([(k+m+e)/3 for k,m,e in scores])  #사용자별 평균\n",
    "print([(k+m+e,(k+m+e)/3) for k,m,e in scores])  #사용자별 총점과 평균"
   ]
  },
  {
   "cell_type": "code",
   "execution_count": 104,
   "id": "8a025c6a-7fa5-40fb-842c-ffcebe84d9fa",
   "metadata": {},
   "outputs": [
    {
     "name": "stdout",
     "output_type": "stream",
     "text": [
      "[(97, 95, 99), (87, 93, 90), (85, 83, 80)]\n"
     ]
    }
   ],
   "source": [
    "print([v for k,v in enumerate(scores)])"
   ]
  },
  {
   "cell_type": "code",
   "execution_count": 120,
   "id": "70e759c4-f2df-4ac2-9846-4f2f9f38da57",
   "metadata": {},
   "outputs": [
    {
     "name": "stdout",
     "output_type": "stream",
     "text": [
      "[(291, 97.0), (270, 90.0), (248, 82.66666666666667)]\n"
     ]
    }
   ],
   "source": [
    "#사용자별 총점, 평균\n",
    "print([(v[0]+v[1]+v[2],(v[0]+v[1]+v[2])/3) for k,v in enumerate (scores)])"
   ]
  },
  {
   "cell_type": "code",
   "execution_count": 118,
   "id": "a5a3bee9-3df8-4b09-a5af-efb469e01d1e",
   "metadata": {},
   "outputs": [
    {
     "name": "stdout",
     "output_type": "stream",
     "text": [
      "{0: (291, 97.0), 1: (270, 90.0), 2: (248, 82.66666666666667)}\n"
     ]
    }
   ],
   "source": [
    "print({k:(v[0]+v[1]+v[2],(v[0]+v[1]+v[2])/3) for k,v in enumerate(scores)})"
   ]
  },
  {
   "cell_type": "code",
   "execution_count": 130,
   "id": "3f3d87b2-a9cb-4def-89e3-1c4d53984384",
   "metadata": {},
   "outputs": [
    {
     "name": "stdout",
     "output_type": "stream",
     "text": [
      "{0: (291, 97.0), 1: (270, 90.0)}\n"
     ]
    }
   ],
   "source": [
    "#평균 85이상 사용자만\n",
    "print({k:(sum(v),sum(v)/len(v)) for k,v in enumerate(scores) if(v[0]+v[1]+v[2])/3>85})"
   ]
  },
  {
   "cell_type": "code",
   "execution_count": 128,
   "id": "cfa1dd0f-1d5f-463f-ace8-72bc47000327",
   "metadata": {},
   "outputs": [
    {
     "data": {
      "text/plain": [
       "['와우', '와우', '와우', '와우', '와우']"
      ]
     },
     "execution_count": 128,
     "metadata": {},
     "output_type": "execute_result"
    }
   ],
   "source": [
    "rs=[\"와우\" for _ in range(5)]   # - : 횟수만큼 돌리기(값을 받을 필요 없을때)\n",
    "rs"
   ]
  },
  {
   "cell_type": "code",
   "execution_count": 134,
   "id": "53ad0f57-060c-4658-923e-6e6adc68f868",
   "metadata": {},
   "outputs": [
    {
     "data": {
      "text/plain": [
       "3"
      ]
     },
     "execution_count": 134,
     "metadata": {},
     "output_type": "execute_result"
    }
   ],
   "source": [
    "##count :값이 등장하는 횟수\n",
    "numbers=[1,2,2,3,2]\n",
    "numbers.count(2)"
   ]
  },
  {
   "cell_type": "code",
   "execution_count": 138,
   "id": "06ef186d-170e-49b1-b935-598ea0234eb6",
   "metadata": {},
   "outputs": [
    {
     "data": {
      "text/plain": [
       "[3, 2, 2, 2, 1]"
      ]
     },
     "execution_count": 138,
     "metadata": {},
     "output_type": "execute_result"
    }
   ],
   "source": [
    "## sort(오름차순)\n",
    "numbers.sort(reverse=True)  #내림차순\n",
    "numbers"
   ]
  },
  {
   "cell_type": "code",
   "execution_count": 144,
   "id": "c81b8ac6-6c23-427d-8dbb-af008b706df7",
   "metadata": {},
   "outputs": [
    {
     "data": {
      "text/plain": [
       "[('Kim', 85), ('Park', 88), ('Lee', 90)]"
      ]
     },
     "execution_count": 144,
     "metadata": {},
     "output_type": "execute_result"
    }
   ],
   "source": [
    "scores=[('Lee',90),('Park',88),('Kim',85)]\n",
    "scores.sort(key=lambda x:x[1])\n",
    "scores"
   ]
  },
  {
   "cell_type": "code",
   "execution_count": 148,
   "id": "c71b3cb0-88f4-42b7-9862-3ad9a22f1763",
   "metadata": {},
   "outputs": [
    {
     "name": "stdout",
     "output_type": "stream",
     "text": [
      "총 금액: 1800000원\n"
     ]
    }
   ],
   "source": [
    "class ShoppingCart:\n",
    "    def __init__(self):\n",
    "        self.items=[]\n",
    "        \n",
    "    def add_item(self,item,price,quantity=1):\n",
    "        self.items.append({\"item\":item, \"price\":price, \"quantity\":quantity})\n",
    "        \n",
    "    def remove_item(self,item):\n",
    "        self.items=[i for i in self.items if i[\"item\"]!=item]\n",
    "        \n",
    "    def get_total(self):\n",
    "        return sum(item[\"price\"]*item[\"quantity\"] for item in self.items)\n",
    "        \n",
    "cart=ShoppingCart()\n",
    "cart.add_item(\"노트북\",1200000)\n",
    "cart.add_item(\"마우스\",300000,2)\n",
    "print(f\"총 금액: {cart.get_total()}원\")"
   ]
  },
  {
   "cell_type": "code",
   "execution_count": 156,
   "id": "b205db28-ef93-46ad-b993-aa76b59a4f7f",
   "metadata": {},
   "outputs": [
    {
     "name": "stdout",
     "output_type": "stream",
     "text": [
      "[('김철수', 89.0), ('이영희', 93.0), ('박민수', 84.0)]\n",
      "최고 성적 학생: 이영희, 평균: 93.00\n"
     ]
    }
   ],
   "source": [
    "grades=[\n",
    "    {\"name\":\"김철수\", \"scores\":[85,90,92]},\n",
    "    {\"name\":\"이영희\", \"scores\":[88,95,96]},\n",
    "    {\"name\":\"박민수\", \"scores\":[78,85,89]}\n",
    "]\n",
    "averages=[(student[\"name\"],sum(student[\"scores\"])/len(student[\"scores\"]))for student in grades]\n",
    "print(averages)\n",
    "\n",
    "top_student=max(averages,key=lambda x:x[1])\n",
    "print(f\"최고 성적 학생: {top_student[0]}, 평균: {top_student[1]:.2f}\")"
   ]
  },
  {
   "cell_type": "code",
   "execution_count": 214,
   "id": "3d19dd0a-99be-4c54-8f8c-10423505cde0",
   "metadata": {},
   "outputs": [
    {
     "name": "stdout",
     "output_type": "stream",
     "text": [
      "{'name': '짜장면', 'category': '중식', 'price': 6000}\n"
     ]
    }
   ],
   "source": [
    "#점심메뉴 고르기\n",
    "import random\n",
    "\n",
    "menu_list=[\n",
    "    {\"name\":\"김치찌개\",\"category\":\"한식\",\"price\":8000},\n",
    "    {\"name\":\"파스타\",\"category\":\"양식\",\"price\":12000},\n",
    "    {\"name\":\"초밥\",\"category\":\"일식\",\"price\":15000},\n",
    "    {\"name\":\"불고기\",\"category\":\"한식\",\"price\":10000},\n",
    "    {\"name\":\"된장찌개\",\"category\":\"한식\",\"price\":7000},\n",
    "    {\"name\":\"치킨\",\"category\":\"양식\",\"price\":15000},\n",
    "    {\"name\":\"햄버거\",\"category\":\"양식\",\"price\":9000},\n",
    "    {\"name\":\"타코\",\"category\":\"양식\",\"price\":11000},\n",
    "    {\"name\":\"돈부리\",\"category\":\"일식\",\"price\":12000},\n",
    "    {\"name\":\"마라탕\",\"category\":\"중식\",\"price\":13000},\n",
    "    {\"name\":\"짜장면\",\"category\":\"중식\",\"price\":6000},\n",
    "]\n",
    "\n",
    "def recommend_menu(budget, category=None):\n",
    "    filtered_menu=[menu for menu in menu_list\n",
    "                   if menu[\"price\"]<=budget and\n",
    "                   (category is None or menu[\"category\"]==category)]\n",
    "    return random.choice(filtered_menu) if filtered_menu else None\n",
    "print(recommend_menu(10000))\n",
    "    "
   ]
  },
  {
   "cell_type": "code",
   "execution_count": 234,
   "id": "9a3f83de-0bdd-49e9-b896-d9e244059709",
   "metadata": {},
   "outputs": [
    {
     "name": "stdout",
     "output_type": "stream",
     "text": [
      "[{'name': '불고기', 'category': '한식', 'price': 10000}]\n"
     ]
    }
   ],
   "source": [
    "#가중치 적용 \n",
    "import random\n",
    "\n",
    "menu_list=[\n",
    "    {\"name\":\"김치찌개\",\"category\":\"한식\",\"price\":8000},\n",
    "    {\"name\":\"파스타\",\"category\":\"양식\",\"price\":12000},\n",
    "    {\"name\":\"초밥\",\"category\":\"일식\",\"price\":15000},\n",
    "    {\"name\":\"불고기\",\"category\":\"한식\",\"price\":10000},\n",
    "    {\"name\":\"된장찌개\",\"category\":\"한식\",\"price\":7000},\n",
    "    {\"name\":\"치킨\",\"category\":\"양식\",\"price\":15000},\n",
    "    {\"name\":\"햄버거\",\"category\":\"양식\",\"price\":9000},\n",
    "    {\"name\":\"타코\",\"category\":\"양식\",\"price\":11000},\n",
    "    {\"name\":\"돈부리\",\"category\":\"일식\",\"price\":12000},\n",
    "    {\"name\":\"마라탕\",\"category\":\"중식\",\"price\":13000},\n",
    "    {\"name\":\"짜장면\",\"category\":\"중식\",\"price\":6000},\n",
    "]\n",
    "\n",
    "def recommend_menu(budget, category=None):\n",
    "    filtered_menu=[menu for menu in menu_list\n",
    "                   if menu[\"price\"]<=budget and\n",
    "                   (category is None or menu[\"category\"]==category)]\n",
    "    if filtered_menu:\n",
    "        weights=[menu[\"price\"] for menu in filtered_menu]\n",
    "        chosen_menu=random.choices(filtered_menu,weights=weights,k=1)  #k는 출력개수\n",
    "        return chosen_menu\n",
    "    return None\n",
    "    \n",
    "print(recommend_menu(10000,\"한식\"))"
   ]
  },
  {
   "cell_type": "code",
   "execution_count": 248,
   "id": "305c142a-3b57-4451-a65b-f254496152fc",
   "metadata": {},
   "outputs": [
    {
     "data": {
      "text/plain": [
       "[{'task': '프로젝트 미팅', 'deadline': '2024-11-25'},\n",
       " {'task': '보고서 제출', 'deadline': '2024-12-01'}]"
      ]
     },
     "execution_count": 248,
     "metadata": {},
     "output_type": "execute_result"
    }
   ],
   "source": [
    "from datetime import datetime\n",
    "class Schedule:\n",
    "    def __init__(self):\n",
    "        self.tasks=[]\n",
    "\n",
    "    def add_task(self,task,deadline):\n",
    "        self.tasks.append({\"task\":task, \"deadline\":deadline})\n",
    "        self.tasks.sort(key=lambda x:datetime.strptime(x[\"deadline\"], \"%Y-%m-%d\"))\n",
    "                        \n",
    "    def get_upcoming_tasks(self):\n",
    "        today=datetime.now()\n",
    "        return [task for task in self.tasks\n",
    "                if datetime.strptime(task[\"deadline\"], \"%Y-%m-%d\")>=today]\n",
    "schedule=Schedule()\n",
    "schedule.add_task(\"보고서 제출\",\"2024-12-01\")\n",
    "schedule.add_task(\"프로젝트 미팅\",\"2024-11-25\")\n",
    "schedule.get_upcoming_tasks()"
   ]
  },
  {
   "cell_type": "markdown",
   "id": "a6cb23b6-95db-4148-99a6-bbb58446a166",
   "metadata": {},
   "source": [
    "## 튜플"
   ]
  },
  {
   "cell_type": "code",
   "execution_count": 251,
   "id": "70cca125-a0c5-40ad-b1e6-5a5368a8302b",
   "metadata": {},
   "outputs": [
    {
     "data": {
      "text/plain": [
       "3"
      ]
     },
     "execution_count": 251,
     "metadata": {},
     "output_type": "execute_result"
    }
   ],
   "source": [
    "numbers=(1,2,2,3,2,4)\n",
    "cnt=numbers.count(2)\n",
    "cnt"
   ]
  },
  {
   "cell_type": "code",
   "execution_count": 269,
   "id": "e68742c0-9f3f-4180-aaa2-3b9d5ba2129c",
   "metadata": {},
   "outputs": [
    {
     "data": {
      "text/plain": [
       "2"
      ]
     },
     "execution_count": 269,
     "metadata": {},
     "output_type": "execute_result"
    }
   ],
   "source": [
    "coordinates=(10,20,30,40,30)\n",
    "coordinates.index(30)"
   ]
  },
  {
   "cell_type": "code",
   "execution_count": 271,
   "id": "12facba3-d061-4379-bbd7-41c94a8d52d2",
   "metadata": {},
   "outputs": [
    {
     "data": {
      "text/plain": [
       "4"
      ]
     },
     "execution_count": 271,
     "metadata": {},
     "output_type": "execute_result"
    }
   ],
   "source": [
    "coordinates.index(30,3)  #30찾기 시작점 인덱스3부터"
   ]
  },
  {
   "cell_type": "code",
   "execution_count": 257,
   "id": "8c64b1eb-5d71-42fc-bb0a-23d67d008f4b",
   "metadata": {},
   "outputs": [
    {
     "data": {
      "text/plain": [
       "4"
      ]
     },
     "execution_count": 257,
     "metadata": {},
     "output_type": "execute_result"
    }
   ],
   "source": [
    "coordinates.index(30,3)"
   ]
  },
  {
   "cell_type": "code",
   "execution_count": 265,
   "id": "bdb26987-b3ad-446c-8971-beedeeeacb4a",
   "metadata": {},
   "outputs": [
    {
     "data": {
      "text/plain": [
       "4"
      ]
     },
     "execution_count": 265,
     "metadata": {},
     "output_type": "execute_result"
    }
   ],
   "source": [
    "values=(1,2,3,4,5,3,2)\n",
    "values.index(5,3,6) #5찾기 인덱스3에서 인덱스6사이 위치에서"
   ]
  },
  {
   "cell_type": "code",
   "execution_count": 275,
   "id": "cec81053-06e1-450f-b2b5-18b968268542",
   "metadata": {},
   "outputs": [
    {
     "name": "stdout",
     "output_type": "stream",
     "text": [
      "3\n",
      "4\n"
     ]
    }
   ],
   "source": [
    "#언팩킹\n",
    "point=(3,4)\n",
    "x,y=point\n",
    "print(x,y,sep=\"\\n\")"
   ]
  },
  {
   "cell_type": "code",
   "execution_count": 273,
   "id": "0214aa18-4b12-4a14-b025-453891c82a0b",
   "metadata": {},
   "outputs": [
    {
     "name": "stdout",
     "output_type": "stream",
     "text": [
      "1 2 3\n"
     ]
    }
   ],
   "source": [
    "tpl=(1,2,3)\n",
    "a,b,c=tpl\n",
    "print(a,b,c)"
   ]
  },
  {
   "cell_type": "code",
   "execution_count": 277,
   "id": "8f195193-4bde-4801-b844-18197e44a5b8",
   "metadata": {},
   "outputs": [
    {
     "name": "stdout",
     "output_type": "stream",
     "text": [
      "1\n",
      "2\n",
      "[3, 4, 5]\n"
     ]
    }
   ],
   "source": [
    "my_tuple=(1,2,3,4,5)\n",
    "a,b,*rest=my_tuple\n",
    "print(a,b,rest,sep=\"\\n\")"
   ]
  },
  {
   "cell_type": "code",
   "execution_count": 279,
   "id": "e6f4eccc-527f-4714-8ce5-3b876e7917ed",
   "metadata": {},
   "outputs": [
    {
     "name": "stdout",
     "output_type": "stream",
     "text": [
      "이름: John, 나이:30, 도시: New York\n"
     ]
    }
   ],
   "source": [
    "person=('John',30,'New York')\n",
    "name,age,city=person\n",
    "print(f\"이름: {name}, 나이:{age}, 도시: {city}\")"
   ]
  },
  {
   "cell_type": "code",
   "execution_count": 281,
   "id": "4fc82414-2ace-4174-8bc9-4cb581425cb9",
   "metadata": {},
   "outputs": [
    {
     "ename": "TypeError",
     "evalue": "'tuple' object does not support item assignment",
     "output_type": "error",
     "traceback": [
      "\u001b[1;31m---------------------------------------------------------------------------\u001b[0m",
      "\u001b[1;31mTypeError\u001b[0m                                 Traceback (most recent call last)",
      "Cell \u001b[1;32mIn[281], line 1\u001b[0m\n\u001b[1;32m----> 1\u001b[0m person[\u001b[38;5;241m0\u001b[39m]\u001b[38;5;241m=\u001b[39m\u001b[38;5;124m'\u001b[39m\u001b[38;5;124mJoseph\u001b[39m\u001b[38;5;124m'\u001b[39m\n",
      "\u001b[1;31mTypeError\u001b[0m: 'tuple' object does not support item assignment"
     ]
    }
   ],
   "source": [
    "person[0]='Joseph'   #튜플은 값 바꾸기 못함"
   ]
  },
  {
   "cell_type": "code",
   "execution_count": 285,
   "id": "e7bc3f5b-7fa9-40a3-9a84-eb9d5846411b",
   "metadata": {},
   "outputs": [
    {
     "name": "stdout",
     "output_type": "stream",
     "text": [
      "시작 지점: Start\n"
     ]
    }
   ],
   "source": [
    "locations={(0,0): 'Start', (1,1):'Middle', (2,2):'End'}\n",
    "print(f\"시작 지점: {locations[(0,0)]}\")"
   ]
  },
  {
   "cell_type": "code",
   "execution_count": 289,
   "id": "482360f1-7121-49f0-9fdc-3f9e89dbd807",
   "metadata": {},
   "outputs": [
    {
     "name": "stdout",
     "output_type": "stream",
     "text": [
      "이동 경로: [(37.5665, 126.978), (35.6895, 139.6917)]\n"
     ]
    }
   ],
   "source": [
    "class LocationTracker:\n",
    "    def __init__(self):\n",
    "        self.locations=[]\n",
    "\n",
    "    def add_position(self,position):\n",
    "        x,y=position\n",
    "        self.locations.append((x,y))\n",
    "        \n",
    "    def get_path(self):\n",
    "        return self.locations\n",
    "\n",
    "tracker=LocationTracker()\n",
    "tracker.add_position((37.5665,126.9780))\n",
    "tracker.add_position((35.6895,139.6917))\n",
    "print(f\"이동 경로: {tracker.get_path()}\")"
   ]
  },
  {
   "cell_type": "code",
   "execution_count": 291,
   "id": "b2d70b63-e09c-4cab-bfdd-628af512acc3",
   "metadata": {},
   "outputs": [
    {
     "name": "stdout",
     "output_type": "stream",
     "text": [
      "기본 색상: [(255, 0, 0), (0, 255, 0), (0, 0, 255)]\n"
     ]
    }
   ],
   "source": [
    "def create_color_palette():\n",
    "    red=(255,0,0)\n",
    "    green=(0,255,0)\n",
    "    blue=(0,0,255)\n",
    "    return [red,green,blue]\n",
    "palette=create_color_palette()\n",
    "print(f\"기본 색상: {palette}\")"
   ]
  },
  {
   "cell_type": "code",
   "execution_count": 297,
   "id": "f6d6f1c9-1fe8-485b-8629-372ab6f5687a",
   "metadata": {},
   "outputs": [
    {
     "name": "stdout",
     "output_type": "stream",
     "text": [
      "김철수의 평균 점수는 90.0입니다.\n",
      "이영희의 평균 점수는 92.0입니다.\n",
      "박민수의 평균 점수는 91.0입니다.\n"
     ]
    }
   ],
   "source": [
    "#국영수\n",
    "students=[\n",
    "    (\"김철수\",90,85,95),\n",
    "    (\"이영희\",88,92,96),\n",
    "    (\"박민수\",95,88,90)\n",
    "]\n",
    "\n",
    "for name,k,e,m in students:\n",
    "    avg=(k+e+m)/3\n",
    "    print(f\"{name}의 평균 점수는 {avg}입니다.\")"
   ]
  },
  {
   "cell_type": "code",
   "execution_count": 299,
   "id": "2160bcbd-9bc7-484c-a7c9-2a9085176a97",
   "metadata": {},
   "outputs": [
    {
     "name": "stdout",
     "output_type": "stream",
     "text": [
      "2024-01-01: 5.2℃, 습도 60%, 강수확률: 10%\n",
      "2024-01-02: 4.8℃, 습도 63%, 강수확률: 30%\n",
      "2024-01-03: 3.9℃, 습도 70%, 강수확률: 55%\n"
     ]
    }
   ],
   "source": [
    "weather_data=[\n",
    "    (\"2024-01-01\",5.2,60,10),\n",
    "    (\"2024-01-02\",4.8,63,30),\n",
    "    (\"2024-01-03\",3.9,70,55)\n",
    "]\n",
    "for date,temp,humidity, rain_prob in weather_data:\n",
    "    print(f\"{date}: {temp}℃, 습도 {humidity}%, 강수확률: {rain_prob}%\")"
   ]
  },
  {
   "cell_type": "code",
   "execution_count": 311,
   "id": "7e8825d0-677f-4e01-9779-3cb2008ec65e",
   "metadata": {},
   "outputs": [
    {
     "name": "stdout",
     "output_type": "stream",
     "text": [
      "아메리카노: 4500원 (HOT/ICE)\n",
      "메뉴에 없는 상품입니다.\n"
     ]
    }
   ],
   "source": [
    "def process_order(order):\n",
    "\n",
    "    menu={\n",
    "        \"아메리카노\":(4500,\"HOT/ICE\"),\n",
    "        \"카페라떼\":(5000,\"HOT/ICE\"),\n",
    "        \"녹차\":(4500,\"HOT only\")\n",
    "    }\n",
    "\n",
    "    if order in menu:\n",
    "        price,option=menu[order]\n",
    "        return f\"{order}: {price}원 ({option})\"\n",
    "    else: \n",
    "        return(\"메뉴에 없는 상품입니다.\")\n",
    "    \n",
    "print(process_order(\"아메리카노\"))\n",
    "print(process_order(\"바닐라라떼\"))"
   ]
  },
  {
   "cell_type": "markdown",
   "id": "7329f3ce-428b-4ecb-8a02-f1a912f31298",
   "metadata": {},
   "source": [
    "### 딕셔너리"
   ]
  },
  {
   "cell_type": "code",
   "execution_count": 320,
   "id": "67b69506-c0b4-46e5-b82e-e33a61ddbde0",
   "metadata": {},
   "outputs": [
    {
     "name": "stdout",
     "output_type": "stream",
     "text": [
      "25 None\n"
     ]
    }
   ],
   "source": [
    "user_info={'name':'Kim','age':25}\n",
    "# age=user_info['age']\n",
    "# email=user_info['email']\n",
    "\n",
    "age=user_info.get('age')\n",
    "email=user_info.get('email')\n",
    "#user_info.get('email','없음')  # None대신 출력값 지정\n",
    "print(age,email)\n"
   ]
  },
  {
   "cell_type": "code",
   "execution_count": 322,
   "id": "e630d142-69a4-4b95-9a0e-d97690f04374",
   "metadata": {},
   "outputs": [
    {
     "name": "stdout",
     "output_type": "stream",
     "text": [
      "0\n"
     ]
    }
   ],
   "source": [
    "score={'math':90,'english':85}\n",
    "print(score.get('science',0))"
   ]
  },
  {
   "cell_type": "code",
   "execution_count": 326,
   "id": "2e074b5e-81da-4bc7-b697-4956b12f8a96",
   "metadata": {},
   "outputs": [
    {
     "data": {
      "text/plain": [
       "{'name': 'Lee', 'age': 31, 'job': 'developer'}"
      ]
     },
     "execution_count": 326,
     "metadata": {},
     "output_type": "execute_result"
    }
   ],
   "source": [
    "profile={'name':'Lee','age':30}\n",
    "new_info={'age':31, 'job':'developer'}\n",
    "profile.update(new_info)\n",
    "profile"
   ]
  },
  {
   "cell_type": "code",
   "execution_count": 328,
   "id": "d002ad26-238d-47e6-8305-b6a4799f3771",
   "metadata": {},
   "outputs": [
    {
     "name": "stdout",
     "output_type": "stream",
     "text": [
      "{'item2': 2000}\n",
      "1000\n"
     ]
    }
   ],
   "source": [
    "### pop\n",
    "cart={'item1':1000,'item2':2000}\n",
    "price=cart.pop('item1')\n",
    "print(cart,price,sep=\"\\n\")"
   ]
  }
 ],
 "metadata": {
  "kernelspec": {
   "display_name": "Python 3 (ipykernel)",
   "language": "python",
   "name": "python3"
  },
  "language_info": {
   "codemirror_mode": {
    "name": "ipython",
    "version": 3
   },
   "file_extension": ".py",
   "mimetype": "text/x-python",
   "name": "python",
   "nbconvert_exporter": "python",
   "pygments_lexer": "ipython3",
   "version": "3.12.7"
  }
 },
 "nbformat": 4,
 "nbformat_minor": 5
}
