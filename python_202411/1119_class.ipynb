{
 "cells": [
  {
   "cell_type": "markdown",
   "id": "a4b00a56-3591-4e6b-896f-f655f7369696",
   "metadata": {},
   "source": [
    "### shutil 모듈"
   ]
  },
  {
   "cell_type": "code",
   "execution_count": 4,
   "id": "17b0a67e-0078-4aa3-a177-036c2730977e",
   "metadata": {},
   "outputs": [
    {
     "data": {
      "text/plain": [
       "'test_copy.txt'"
      ]
     },
     "execution_count": 4,
     "metadata": {},
     "output_type": "execute_result"
    }
   ],
   "source": [
    "#파일 복사\n",
    "import shutil\n",
    "shutil.copy(\"test.txt\",\"test_copy.txt\")   #text.txt에 있는 내용을 복사해 text_copy.txt파일 새로만듦"
   ]
  },
  {
   "cell_type": "code",
   "execution_count": 8,
   "id": "9c854503-3a44-4f01-b2d6-75eef1ec2181",
   "metadata": {},
   "outputs": [
    {
     "data": {
      "text/plain": [
       "'example_dir_bak'"
      ]
     },
     "execution_count": 8,
     "metadata": {},
     "output_type": "execute_result"
    }
   ],
   "source": [
    "#디렉토리 전체 복사\n",
    "shutil.copytree(\"example_dir\",\"example_dir_bak\")"
   ]
  },
  {
   "cell_type": "code",
   "execution_count": 10,
   "id": "c39e7985-d2d4-4d3f-9091-ccd87d10fb1f",
   "metadata": {},
   "outputs": [
    {
     "data": {
      "text/plain": [
       "'example_dir_bak/1111.txt'"
      ]
     },
     "execution_count": 10,
     "metadata": {},
     "output_type": "execute_result"
    }
   ],
   "source": [
    "#파일 이동\n",
    "shutil.move(\"example_dir/111.txt\",\"example_dir_bak/1111.txt\")\n",
    "#example_dir폴더에 111.txt파일을 example_dir_bak폴더에 1111.txt파일이라는 이름으로 바꾸어 이동"
   ]
  },
  {
   "cell_type": "code",
   "execution_count": 14,
   "id": "6e24271d-c852-41b2-9f9a-d9bc518f284d",
   "metadata": {},
   "outputs": [],
   "source": [
    "#디렉토리 전체 삭제\n",
    "shutil.rmtree('example_dir_bak')\n",
    "\n",
    "#비어있는 디렉토리만 삭제\n",
    "# import os\n",
    "# os.rmdir('test_dir_bak')"
   ]
  },
  {
   "cell_type": "code",
   "execution_count": 16,
   "id": "fefe6e1c-b128-47c6-bfc1-b90fb2965ab2",
   "metadata": {},
   "outputs": [
    {
     "name": "stdout",
     "output_type": "stream",
     "text": [
      "\n",
      "===디스크 사용량===\n",
      "전체: 238 GiB\n",
      "사용: 55 GiB\n",
      "여유: 182 GiB\n"
     ]
    }
   ],
   "source": [
    "print(\"\\n===디스크 사용량===\")\n",
    "total, used, free=shutil.disk_usage('/')\n",
    "print(f\"전체: {total//(2**30)} GiB\")\n",
    "print(f\"사용: {used//(2**30)} GiB\")\n",
    "print(f\"여유: {free//(2**30)} GiB\")"
   ]
  },
  {
   "cell_type": "code",
   "execution_count": 20,
   "id": "2e27da78-d230-4c79-8191-dcb734801001",
   "metadata": {},
   "outputs": [
    {
     "name": "stdout",
     "output_type": "stream",
     "text": [
      "전체: 114.98 GiB\n"
     ]
    }
   ],
   "source": [
    "def format_size(bytes):\n",
    "    units=['B','KiB','MiB','GiB','TiB']\n",
    "    if bytes==0:\n",
    "        return \"0 B\"\n",
    "    size=bytes\n",
    "    unit_index=0\n",
    "    while size>=1024 and unit_index<len(units)-1:\n",
    "        size/=1024\n",
    "        unit_index+=1\n",
    "\n",
    "    return f\"{size:.2f} {units[unit_index]}\"\n",
    "\n",
    "total_bytes=123456789012     #123456789012 바이트가 몇 GiB(기가바이트)가 되는지\n",
    "formatted_size=format_size(total_bytes)\n",
    "print(f\"전체: {formatted_size}\")"
   ]
  },
  {
   "cell_type": "markdown",
   "id": "8d9e3576-b757-4e00-a7d5-814eeebf362c",
   "metadata": {},
   "source": [
    "### class(클래스)"
   ]
  },
  {
   "cell_type": "code",
   "execution_count": 55,
   "id": "7aa71b4b-d3b7-4448-8f8e-666d83df549d",
   "metadata": {},
   "outputs": [],
   "source": [
    "result1=0\n",
    "result2=0\n",
    "\n",
    "def add1(num):\n",
    "    global result1\n",
    "    result1 += num\n",
    "    return result1\n",
    "    \n",
    "def add2(num):\n",
    "    global result2\n",
    "    result2 += num\n",
    "    return result2"
   ]
  },
  {
   "cell_type": "code",
   "execution_count": 57,
   "id": "5a4512d6-c335-46d2-a96a-3946e11bdc9b",
   "metadata": {},
   "outputs": [
    {
     "name": "stdout",
     "output_type": "stream",
     "text": [
      "3\n",
      "7\n",
      "3\n",
      "10\n"
     ]
    }
   ],
   "source": [
    "print(add1(3))\n",
    "print(add1(4))\n",
    "print(add2(3))\n",
    "print(add2(7))"
   ]
  },
  {
   "cell_type": "code",
   "execution_count": 67,
   "id": "c5c8f6ec-0a46-4a22-9f7b-50223ecd9ab1",
   "metadata": {},
   "outputs": [
    {
     "name": "stdout",
     "output_type": "stream",
     "text": [
      "3\n",
      "7\n",
      "3\n",
      "10\n",
      "10\n",
      "5\n"
     ]
    }
   ],
   "source": [
    "class Calculate:\n",
    "    \n",
    "    def __init__(self):\n",
    "        self.result=0\n",
    "\n",
    "    def add(self,num):\n",
    "        self.result+=num\n",
    "        return self.result\n",
    "\n",
    "    def sub(self,num):\n",
    "        self.result-=num\n",
    "        return self.result\n",
    "        \n",
    "cal1=Calculate()\n",
    "cal2=Calculate()\n",
    "\n",
    "print(cal1.add(3))\n",
    "print(cal1.add(4))\n",
    "print(cal2.add(3))\n",
    "print(cal2.add(7))\n",
    "print(cal2.result)\n",
    "\n",
    "print(cal1.sub(2))"
   ]
  },
  {
   "cell_type": "code",
   "execution_count": 87,
   "id": "d7d83acd-4603-4ba6-ba0f-dbd765171a18",
   "metadata": {},
   "outputs": [
    {
     "name": "stdout",
     "output_type": "stream",
     "text": [
      "6,2,8,2.0\n",
      "12,4,32,2.0\n"
     ]
    }
   ],
   "source": [
    "#값을 2개 입력받아 연산하는 클래스 생성\n",
    "class FourCal:\n",
    "    \n",
    "    def __init__(self,first,second):\n",
    "        self.first=first\n",
    "        self.second=second\n",
    "\n",
    "    def add(self):\n",
    "        result=self.first+self.second\n",
    "        return result\n",
    "        \n",
    "    def sub(self):\n",
    "        result=self.first-self.second\n",
    "        return result\n",
    "\n",
    "    def mul(self):\n",
    "        result=self.first*self.second\n",
    "        return result\n",
    "        \n",
    "    def div(self):\n",
    "        result=self.first/self.second\n",
    "        return result\n",
    "\n",
    "a=FourCal(4,2)\n",
    "b=FourCal(8,4)\n",
    "#a.setdata(4,2)\n",
    "\n",
    "#a.first=5\n",
    "#a.second=3\n",
    "\n",
    "#print(a.first,a.second)\n",
    "\n",
    "print(a.add(),a.sub(),a.mul(),a.div(),sep=\",\")\n",
    "print(b.add(),b.sub(),b.mul(),b.div(),sep=\",\")"
   ]
  },
  {
   "cell_type": "code",
   "execution_count": 93,
   "id": "b5d2fa99-83a2-427f-b123-4832a051d471",
   "metadata": {},
   "outputs": [
    {
     "name": "stdout",
     "output_type": "stream",
     "text": [
      "8\n",
      "125\n"
     ]
    }
   ],
   "source": [
    "class AddFourCal(FourCal):\n",
    "    def pow(self):\n",
    "        result=self.first **self.second\n",
    "        return result\n",
    "\n",
    "c=AddFourCal(5,3)\n",
    "print(c.add())\n",
    "print(c.pow())"
   ]
  },
  {
   "cell_type": "code",
   "execution_count": 100,
   "id": "3fe99c59-c872-473d-bdf1-fba4366249ca",
   "metadata": {},
   "outputs": [
    {
     "name": "stdout",
     "output_type": "stream",
     "text": [
      "버디가 멍멍합니다.\n",
      "리트리버의 나이는 10세 입니다.\n"
     ]
    }
   ],
   "source": [
    "class Dog:\n",
    "    def __init__(self,name,age):\n",
    "        self.name=name\n",
    "        self.age=age\n",
    "        \n",
    "    def bark(self):\n",
    "        return f\"{self.name}가 멍멍합니다.\"\n",
    "\n",
    "    def get_age(self):\n",
    "        return f\"{self.name}의 나이는 {self.age}세 입니다.\"\n",
    "\n",
    "dog1=Dog(\"버디\",3)\n",
    "dog2=Dog(\"리트리버\",10)\n",
    "\n",
    "print(dog1.bark())\n",
    "print(dog2.get_age())"
   ]
  },
  {
   "cell_type": "code",
   "execution_count": 110,
   "id": "8243adfa-f77d-4f87-ba2d-4a5df4aa8145",
   "metadata": {},
   "outputs": [
    {
     "name": "stdout",
     "output_type": "stream",
     "text": [
      "치와와가 멍멍합니다.\n",
      "치와와의 주인은 영수입니다.\n"
     ]
    }
   ],
   "source": [
    "class Puppy(Dog):\n",
    "    def __init__(self,name,age,owner):\n",
    "        super().__init__(name,age)  #부모의 생성자 호출\n",
    "        self.owner=owner\n",
    "        \n",
    "    def get_owner(self):\n",
    "        return f\"{self.name}의 주인은 {self.owner}입니다.\"\n",
    "        \n",
    "puppy1=Puppy(\"치와와\",1,\"영수\")\n",
    "print(puppy1.bark())\n",
    "print(puppy1.get_owner())"
   ]
  },
  {
   "cell_type": "code",
   "execution_count": 112,
   "id": "21620077-a062-4e7c-affb-d4886c69a87c",
   "metadata": {},
   "outputs": [
    {
     "name": "stdout",
     "output_type": "stream",
     "text": [
      "4\n",
      "4\n",
      "0\n"
     ]
    },
    {
     "ename": "ZeroDivisionError",
     "evalue": "division by zero",
     "output_type": "error",
     "traceback": [
      "\u001b[1;31m---------------------------------------------------------------------------\u001b[0m",
      "\u001b[1;31mZeroDivisionError\u001b[0m                         Traceback (most recent call last)",
      "Cell \u001b[1;32mIn[112], line 5\u001b[0m\n\u001b[0;32m      3\u001b[0m \u001b[38;5;28mprint\u001b[39m(d\u001b[38;5;241m.\u001b[39msub())\n\u001b[0;32m      4\u001b[0m \u001b[38;5;28mprint\u001b[39m(d\u001b[38;5;241m.\u001b[39mmul())\n\u001b[1;32m----> 5\u001b[0m \u001b[38;5;28mprint\u001b[39m(d\u001b[38;5;241m.\u001b[39mdiv())\n",
      "Cell \u001b[1;32mIn[87], line 21\u001b[0m, in \u001b[0;36mFourCal.div\u001b[1;34m(self)\u001b[0m\n\u001b[0;32m     20\u001b[0m \u001b[38;5;28;01mdef\u001b[39;00m \u001b[38;5;21mdiv\u001b[39m(\u001b[38;5;28mself\u001b[39m):\n\u001b[1;32m---> 21\u001b[0m     result\u001b[38;5;241m=\u001b[39m\u001b[38;5;28mself\u001b[39m\u001b[38;5;241m.\u001b[39mfirst\u001b[38;5;241m/\u001b[39m\u001b[38;5;28mself\u001b[39m\u001b[38;5;241m.\u001b[39msecond\n\u001b[0;32m     22\u001b[0m     \u001b[38;5;28;01mreturn\u001b[39;00m result\n",
      "\u001b[1;31mZeroDivisionError\u001b[0m: division by zero"
     ]
    }
   ],
   "source": [
    "d=FourCal(4,0)\n",
    "print(d.add())\n",
    "print(d.sub())\n",
    "print(d.mul())\n",
    "print(d.div())"
   ]
  },
  {
   "cell_type": "code",
   "execution_count": 120,
   "id": "ff8c73d6-2592-47d8-9157-c5e7e0edb174",
   "metadata": {},
   "outputs": [
    {
     "name": "stdout",
     "output_type": "stream",
     "text": [
      "3\n",
      "3\n",
      "0\n",
      "0\n"
     ]
    }
   ],
   "source": [
    "class SafeFourCal(FourCal):\n",
    "    def div(self):\n",
    "        if self.second==0:\n",
    "            return 0\n",
    "        else:\n",
    "            return self.first/self.second\n",
    "            \n",
    "e=SafeFourCal(3,0)\n",
    "print(e.add())\n",
    "print(e.sub())\n",
    "print(e.mul())\n",
    "print(e.div())"
   ]
  },
  {
   "cell_type": "code",
   "execution_count": 136,
   "id": "57c342eb-2bfe-4622-80bd-f1bf6fa44711",
   "metadata": {},
   "outputs": [
    {
     "name": "stdout",
     "output_type": "stream",
     "text": [
      "10000\n"
     ]
    },
    {
     "ename": "AttributeError",
     "evalue": "'BankAccount' object has no attribute '__balance'",
     "output_type": "error",
     "traceback": [
      "\u001b[1;31m---------------------------------------------------------------------------\u001b[0m",
      "\u001b[1;31mAttributeError\u001b[0m                            Traceback (most recent call last)",
      "Cell \u001b[1;32mIn[136], line 16\u001b[0m\n\u001b[0;32m     13\u001b[0m account\u001b[38;5;241m.\u001b[39mdeposit(\u001b[38;5;241m10000\u001b[39m)\n\u001b[0;32m     15\u001b[0m \u001b[38;5;28mprint\u001b[39m(account\u001b[38;5;241m.\u001b[39mget_balance())\n\u001b[1;32m---> 16\u001b[0m \u001b[38;5;28mprint\u001b[39m(account\u001b[38;5;241m.\u001b[39m__balance)\n",
      "\u001b[1;31mAttributeError\u001b[0m: 'BankAccount' object has no attribute '__balance'"
     ]
    }
   ],
   "source": [
    "class BankAccount:\n",
    "    def __init__(self,owner,balance=0):\n",
    "        self.__owner=owner   #__:클래스 내부에서만 사용하도록, 외부 접근을 어렵게 만듦\n",
    "        self.__balance=balance\n",
    "\n",
    "    def deposit(self,amount):\n",
    "        self.__balance+=amount\n",
    "\n",
    "    def get_balance(self):\n",
    "        return self.__balance\n",
    "        \n",
    "account=BankAccount(\"홍길동\")\n",
    "account.deposit(10000)\n",
    "\n",
    "print(account.get_balance())\n",
    "print(account.__balance)"
   ]
  },
  {
   "cell_type": "code",
   "execution_count": 142,
   "id": "4ae93524-46f7-46dc-a440-38bd319e51a6",
   "metadata": {},
   "outputs": [
    {
     "name": "stdout",
     "output_type": "stream",
     "text": [
      "78.5\n"
     ]
    }
   ],
   "source": [
    "class Shape:\n",
    "    def area(self):\n",
    "        raise NotImplementedError(\"하위 클래스에서 적용해야 함\")\n",
    "class Circle(Shape):\n",
    "    def __init__(self,radius):\n",
    "        self.radius=radius\n",
    "\n",
    "    def area(self):\n",
    "        return 3.14*(self.radius**2)\n",
    "\n",
    "a=Shape()\n",
    "#print(a.area())\n",
    "circle=Circle(5)\n",
    "print(circle.area())"
   ]
  },
  {
   "cell_type": "markdown",
   "id": "6c967756-a9cc-4ecb-8ab8-6186fb6531f7",
   "metadata": {},
   "source": [
    "### 식당 주문"
   ]
  },
  {
   "cell_type": "code",
   "execution_count": 165,
   "id": "b3b0f11b-d506-44a5-b591-ac7ccf2808d8",
   "metadata": {},
   "outputs": [
    {
     "name": "stdout",
     "output_type": "stream",
     "text": [
      "[현재 대기 중인 주문]\n",
      "[{'id': 1, 'table': 5, 'items': ['피자', '콜라'], 'time': datetime.datetime(2024, 11, 19, 15, 41, 17, 422459), 'status': 'waiting'}, {'id': 2, 'table': 7, 'items': ['햄버거', '감자튀김'], 'time': datetime.datetime(2024, 11, 19, 15, 41, 17, 422459), 'status': 'waiting'}, {'id': 3, 'table': 9, 'items': ['햄버거', '감자튀김'], 'time': datetime.datetime(2024, 11, 19, 15, 41, 17, 422459), 'status': 'waiting'}]\n",
      "----------------------------------------------------------------------\n",
      "[완료된 첫 번째 주문]\n",
      "{'id': 1, 'table': 5, 'items': ['피자', '콜라'], 'time': datetime.datetime(2024, 11, 19, 15, 41, 17, 422459), 'status': 'completed'}\n",
      "\n",
      "[남아 있는 대기 중인 주문]\n",
      "[{'id': 2, 'table': 7, 'items': ['햄버거', '감자튀김'], 'time': datetime.datetime(2024, 11, 19, 15, 41, 17, 422459), 'status': 'waiting'}, {'id': 3, 'table': 9, 'items': ['햄버거', '감자튀김'], 'time': datetime.datetime(2024, 11, 19, 15, 41, 17, 422459), 'status': 'waiting'}]\n",
      "----------------------------------------------------------------------\n",
      "[완료된 두 번째 주문]\n",
      "{'id': 2, 'table': 7, 'items': ['햄버거', '감자튀김'], 'time': datetime.datetime(2024, 11, 19, 15, 41, 17, 422459), 'status': 'completed'}\n",
      "----------------------------------------------------------------------\n",
      "[남아 있는 대기 중인 주문]\n",
      "[{'id': 3, 'table': 9, 'items': ['햄버거', '감자튀김'], 'time': datetime.datetime(2024, 11, 19, 15, 41, 17, 422459), 'status': 'waiting'}]\n"
     ]
    }
   ],
   "source": [
    "'''\n",
    "-주문대기열\n",
    "-완료된 주문\n",
    "1)주문하기\n",
    "2)주문완료\n",
    "'''\n",
    "from datetime import datetime\n",
    "class OrderSystem:\n",
    "    def __init__(self):\n",
    "        self.orders=[]  #주문대기열\n",
    "        self.completed=[]  #완료된주문\n",
    "        \n",
    "    #주문하기    \n",
    "    def place_order(self,table_num,items):\n",
    "        #테이블번호,음식들,시간,상태\n",
    "        order={\n",
    "            'id':len(self.orders)+1,\n",
    "            'table':table_num,\n",
    "            'items':items,\n",
    "            'time':datetime.now(),\n",
    "            'status':'waiting'\n",
    "        }\n",
    "        self.orders.append(order)\n",
    "\n",
    "    def complete_order(self):\n",
    "        if self.orders:\n",
    "            order=self.orders[0]\n",
    "            order['status']='completed'\n",
    "            self.completed.append(order)\n",
    "            self.orders.pop(0)\n",
    "            return order\n",
    "        return None\n",
    "\n",
    "r1=OrderSystem()\n",
    "r1.place_order(5,['피자','콜라'])\n",
    "r1.place_order(7,['햄버거','감자튀김'])\n",
    "r1.place_order(9,['햄버거','감자튀김'])\n",
    "\n",
    "# 주문 대기열 출력\n",
    "print(\"[현재 대기 중인 주문]\")\n",
    "print(r1.orders)\n",
    "print(\"-\" * 70)\n",
    "\n",
    "# 첫 번째 주문 완료 처리\n",
    "completed = r1.complete_order()\n",
    "print(\"[완료된 첫 번째 주문]\")\n",
    "print(completed)\n",
    "print(\"\\n[남아 있는 대기 중인 주문]\")\n",
    "print(r1.orders)\n",
    "print(\"-\" * 70)\n",
    "\n",
    "# 두 번째 주문 완료 처리\n",
    "completed = r1.complete_order()\n",
    "print(\"[완료된 두 번째 주문]\")\n",
    "print(completed)\n",
    "print(\"-\" * 70)\n",
    "\n",
    "# 남아 있는 대기 중인 주문 출력\n",
    "print(\"[남아 있는 대기 중인 주문]\")\n",
    "print(r1.orders)"
   ]
  },
  {
   "cell_type": "markdown",
   "id": "7392b9e2-2652-41c4-b623-fe24fcfb862a",
   "metadata": {},
   "source": [
    "### 도서 대출"
   ]
  },
  {
   "cell_type": "code",
   "execution_count": null,
   "id": "8bec2e88-d13f-44d4-81a3-21f4ec5072a7",
   "metadata": {},
   "outputs": [],
   "source": [
    "'''\n",
    "-책리스트(책번호,책정보)\n",
    "-대출리스트(책번호,대출자,대출기한)\n",
    "-책정보(도서번호,책명,대출여부)\n",
    "1)입고\n",
    "2)대출\n",
    "3)반납\n",
    "'''"
   ]
  },
  {
   "cell_type": "code",
   "execution_count": 180,
   "id": "31eb8061-1ffa-499b-9da8-10fbc85b797b",
   "metadata": {
    "collapsed": true,
    "jupyter": {
     "outputs_hidden": true
    }
   },
   "outputs": [
    {
     "name": "stdout",
     "output_type": "stream",
     "text": [
      "{'ISBN001': {'title': '혼자하는 파이썬', 'available': True}, 'ISBN002': {'title': '둘이하는 파이썬', 'available': True}}\n",
      "{}\n",
      "----------------------------------------------------------------------------------------------------\n",
      "{'ISBN001': {'title': '혼자하는 파이썬', 'available': False}, 'ISBN002': {'title': '둘이하는 파이썬', 'available': True}}\n",
      "{'ISBN001': {'user': '홍길동', 'due_date': datetime.datetime(2024, 12, 3, 16, 33, 14, 637903)}}\n",
      "----------------------------------------------------------------------------------------------------\n",
      "{'ISBN001': {'title': '혼자하는 파이썬', 'available': False}, 'ISBN002': {'title': '둘이하는 파이썬', 'available': True}}\n",
      "{'ISBN001': {'user': '홍길동', 'due_date': datetime.datetime(2024, 12, 3, 16, 33, 14, 637903)}}\n"
     ]
    }
   ],
   "source": [
    "from datetime import datetime,timedelta\n",
    "\n",
    "class Library:\n",
    "    def __init__(self):\n",
    "        self.books={} \n",
    "        self.borrowed={}  #완료된대출\n",
    "        \n",
    "    #도서 입고(대출 가능)   \n",
    "    def add_book(self,book_code,title):\n",
    "        self.books[book_code]={\n",
    "            'title':title,\n",
    "            'available':True,\n",
    "        }\n",
    "        \n",
    "    #대출처리\n",
    "    def borrow_book(self,book_code,user_id):\n",
    "        if book_code in self.books and self.books[book_code]['available']:\n",
    "            self.books[book_code]['available']=False\n",
    "            self.borrowed[book_code]={\n",
    "                'user':user_id,\n",
    "                'due_date':datetime.now()+timedelta(days=14)\n",
    "            }\n",
    "            return True\n",
    "        return False\n",
    "        \n",
    "    #반환처리\n",
    "    def return_book(self,book_code):\n",
    "        if book_code in self.borrowed:\n",
    "            self.books[book_code]['available']=True\n",
    "            del self.borrowed[book_code]\n",
    "            return True\n",
    "        return False  #대출 성공 시 True 반환, 실패 시 False\n",
    "\n",
    "lb1=Library()\n",
    "lb1.add_book(\"ISBN001\",\"혼자하는 파이썬\")\n",
    "lb1.add_book(\"ISBN002\",\"둘이하는 파이썬\")\n",
    "\n",
    "print(lb1.books)\n",
    "print(lb1.borrowed)\n",
    "\n",
    "print(\"-\"*100)\n",
    "\n",
    "#대출실행\n",
    "lb1.borrow_book(\"ISBN001\",\"홍길동\")\n",
    "print(lb1.books)\n",
    "print(lb1.borrowed) \n",
    "\n",
    "print(\"-\"*100)\n",
    "\n",
    "#반납\n",
    "lb1.return_book(\"ISBN002\")\n",
    "print(lb1.books)\n",
    "print(lb1.borrowed)"
   ]
  },
  {
   "cell_type": "markdown",
   "id": "1d6c827c-c0f4-4fe4-8f7c-997b36eb9c0e",
   "metadata": {},
   "source": [
    "### 주차장 관리 시스템"
   ]
  },
  {
   "cell_type": "code",
   "execution_count": null,
   "id": "0dca919c-eceb-4b1c-a2ee-e7b7a2b7b41c",
   "metadata": {},
   "outputs": [],
   "source": [
    "'''\n",
    "주차장:크기(몇 대까지 가능한지)\n",
    "주차위치:인덱스, 차량번호\n",
    "1)입차\n",
    "2)출차\n",
    "'''"
   ]
  },
  {
   "cell_type": "code",
   "execution_count": 199,
   "id": "8cd555c7-768f-4ea4-8ac0-7f4dfe5b25a9",
   "metadata": {
    "scrolled": true
   },
   "outputs": [
    {
     "name": "stdout",
     "output_type": "stream",
     "text": [
      "주차 완료: '서울1234'차량 1번 위치 주차\n",
      "['서울1234', None, None, None, None, None, None, None, None, None, None, None, None, None, None, None, None, None, None, None]\n",
      "{'서울1234': 0}\n",
      "------------------------------------------------------------------------------------------------------------------------\n",
      "주차 완료: '경기5678'차량 2번 위치 주차\n",
      "['서울1234', '경기5678', None, None, None, None, None, None, None, None, None, None, None, None, None, None, None, None, None, None]\n",
      "{'서울1234': 0, '경기5678': 1}\n",
      "------------------------------------------------------------------------------------------------------------------------\n",
      "출차 완료: 1번 자리\n",
      "[None, '경기5678', None, None, None, None, None, None, None, None, None, None, None, None, None, None, None, None, None, None]\n",
      "{'서울1234': 0, '경기5678': 1}\n",
      "------------------------------------------------------------------------------------------------------------------------\n",
      "주차 완료: '강원9900'차량 1번 위치 주차\n",
      "['강원9900', '경기5678', None, None, None, None, None, None, None, None, None, None, None, None, None, None, None, None, None, None]\n",
      "{'서울1234': 0, '경기5678': 1, '강원9900': 0}\n"
     ]
    }
   ],
   "source": [
    "class ParkingLot:\n",
    "    def __init__(self,capa):\n",
    "        self.capa=capa\n",
    "        self.spots=[None]*capa  #주차공간\n",
    "        self.car_location={}  #주차 차량 정보\n",
    "\n",
    "    def park(self,car_number):\n",
    "        if len(self.car_location)>=self.capa:\n",
    "            return False,\"주차장이 다 찼습니다.\"\n",
    "            \n",
    "        for i in range(self.capa):\n",
    "            if self.spots[i] is None:\n",
    "                self.spots[i]=car_number\n",
    "                self.car_location[car_number]=i\n",
    "                return True, f\"주차 완료: '{car_number}'차량 {i+1}번 위치 주차\"\n",
    "\n",
    "    def exit_car(self,car_number):\n",
    "        if car_number in self.car_location:\n",
    "            spot=self.car_location[car_number]\n",
    "            self.spots[spot]=None   #해당 주차 공간을 비움\n",
    "            self.car_location[car_number]  # 차량 정보를 삭제\n",
    "            return True, f\"출차 완료: {spot+1}번 자리\"\n",
    "            \n",
    "        return False,\"해당 차량을 찾을 수 없습니다.\"\n",
    "  \n",
    "p1=ParkingLot(20)\n",
    "result,message=p1.park(\"서울1234\")\n",
    "print(message)\n",
    "print(p1.spots)\n",
    "print(p1.car_location)\n",
    "\n",
    "print(\"-\"*120)\n",
    "\n",
    "result,message=p1.park(\"경기5678\")\n",
    "print(message)\n",
    "print(p1.spots)\n",
    "print(p1.car_location)\n",
    "\n",
    "print(\"-\"*120)\n",
    "\n",
    "result,message=p1.exit_car(\"서울1234\")\n",
    "print(message)\n",
    "print(p1.spots)\n",
    "print(p1.car_location)\n",
    "\n",
    "print(\"-\"*120)\n",
    "\n",
    "result,message=p1.park(\"강원9900\")\n",
    "print(message)\n",
    "print(p1.spots)\n",
    "print(p1.car_location)"
   ]
  }
 ],
 "metadata": {
  "kernelspec": {
   "display_name": "Python 3 (ipykernel)",
   "language": "python",
   "name": "python3"
  },
  "language_info": {
   "codemirror_mode": {
    "name": "ipython",
    "version": 3
   },
   "file_extension": ".py",
   "mimetype": "text/x-python",
   "name": "python",
   "nbconvert_exporter": "python",
   "pygments_lexer": "ipython3",
   "version": "3.12.7"
  }
 },
 "nbformat": 4,
 "nbformat_minor": 5
}
