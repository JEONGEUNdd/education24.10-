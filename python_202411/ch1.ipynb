{
 "cells": [
  {
   "cell_type": "code",
   "execution_count": 10,
   "id": "7e27d8bc-3f23-4f80-8a41-98aa4de776b3",
   "metadata": {},
   "outputs": [
    {
     "name": "stdout",
     "output_type": "stream",
     "text": [
      "Hello Wolrd\n"
     ]
    }
   ],
   "source": [
    "print(\"Hello\",\"Wolrd\")"
   ]
  },
  {
   "cell_type": "code",
   "execution_count": 12,
   "id": "9c71ff61-95af-4483-bc49-84a51dfd432c",
   "metadata": {},
   "outputs": [
    {
     "name": "stdout",
     "output_type": "stream",
     "text": [
      "HelloWorld\n"
     ]
    }
   ],
   "source": [
    "print(\"Hello\" + \"World\")"
   ]
  },
  {
   "cell_type": "code",
   "execution_count": 14,
   "id": "1b83a4d4-bd86-43da-80b1-74d63f152388",
   "metadata": {},
   "outputs": [
    {
     "name": "stdout",
     "output_type": "stream",
     "text": [
      "Hello\n",
      "World\n"
     ]
    }
   ],
   "source": [
    "print(\"Hello\")\n",
    "print(\"World\")"
   ]
  },
  {
   "cell_type": "code",
   "execution_count": 18,
   "id": "35b56d19-90b7-4edd-b7c6-dd981f8c70f0",
   "metadata": {},
   "outputs": [
    {
     "name": "stdout",
     "output_type": "stream",
     "text": [
      "Hello-World-!\n"
     ]
    }
   ],
   "source": [
    "print(\"Hello\",\"World\",\"!\",sep=\"-\")"
   ]
  },
  {
   "cell_type": "code",
   "execution_count": 23,
   "id": "a6a0774a-7f6c-467c-a33e-79ba65eb6aa7",
   "metadata": {},
   "outputs": [
    {
     "name": "stdout",
     "output_type": "stream",
     "text": [
      "HelloWorld\n"
     ]
    }
   ],
   "source": [
    "print(\"Hello\",end=\"\")  # 줄나누기\n",
    "print(\"World\") "
   ]
  },
  {
   "cell_type": "code",
   "execution_count": 35,
   "id": "5d0e2ae6-baa7-433c-b600-db3e333931be",
   "metadata": {},
   "outputs": [
    {
     "name": "stdout",
     "output_type": "stream",
     "text": [
      "111   \n",
      "   222\n",
      "333\n"
     ]
    }
   ],
   "source": [
    "print(\"\"\"111   \n",
    "   222\n",
    "333\"\"\")      # \"\"\"\"\"\"줄 나누면서 형식 유지      "
   ]
  },
  {
   "cell_type": "code",
   "execution_count": 39,
   "id": "369e65fc-6a88-4465-81ee-2bd745c6d3df",
   "metadata": {},
   "outputs": [
    {
     "name": "stdout",
     "output_type": "stream",
     "text": [
      "<class 'str'>\n"
     ]
    }
   ],
   "source": [
    "aaa=\"27\"\n",
    "print(type(aaa))"
   ]
  },
  {
   "cell_type": "code",
   "execution_count": 41,
   "id": "069bf1c4-cd7c-4649-bdcb-25f465b78c05",
   "metadata": {},
   "outputs": [
    {
     "name": "stdout",
     "output_type": "stream",
     "text": [
      "<class 'int'>\n"
     ]
    }
   ],
   "source": [
    "bbb=27\n",
    "print(type(bbb))"
   ]
  },
  {
   "cell_type": "code",
   "execution_count": 43,
   "id": "2053139b-b518-4605-a987-f0ef988d73a8",
   "metadata": {},
   "outputs": [
    {
     "name": "stdout",
     "output_type": "stream",
     "text": [
      "<class 'float'>\n"
     ]
    }
   ],
   "source": [
    "ccc=27.5\n",
    "print(type(ccc))"
   ]
  },
  {
   "cell_type": "code",
   "execution_count": 45,
   "id": "78529da5-0fce-4b9b-a2b2-9c7a6213852d",
   "metadata": {},
   "outputs": [
    {
     "name": "stdout",
     "output_type": "stream",
     "text": [
      "'동해물'과 '백두산'이\n"
     ]
    }
   ],
   "source": [
    "print(\"'동해물'과 '백두산'이\")"
   ]
  },
  {
   "cell_type": "code",
   "execution_count": 51,
   "id": "3eafe279-20f7-4f87-a887-87400147affe",
   "metadata": {},
   "outputs": [
    {
     "name": "stdout",
     "output_type": "stream",
     "text": [
      "동해물과 \t 백두산이\n",
      "111 \t\t 222\n"
     ]
    }
   ],
   "source": [
    "print(\"동해물과 \\t 백두산이\")   # \\t써서 위아래 들여쓰기 맞추기 가능\n",
    "print(\"111 \\t\\t 222\")"
   ]
  },
  {
   "cell_type": "code",
   "execution_count": 55,
   "id": "35332177-f71a-4bf8-be90-a7b20ea1f52d",
   "metadata": {},
   "outputs": [
    {
     "name": "stdout",
     "output_type": "stream",
     "text": [
      "3 + 5 = 8\n"
     ]
    }
   ],
   "source": [
    "print(\"3 + 5 =\",3+5)"
   ]
  },
  {
   "cell_type": "code",
   "execution_count": 2,
   "id": "21a389a8-341a-45be-ad99-31242f87bb9a",
   "metadata": {},
   "outputs": [
    {
     "name": "stdout",
     "output_type": "stream",
     "text": [
      "first second\n"
     ]
    }
   ],
   "source": [
    "print(\"first\", end=\" \")\n",
    "print(\"second\")"
   ]
  },
  {
   "cell_type": "markdown",
   "id": "d84d9c2f-e4cc-4b8e-8fed-104959bf0b2b",
   "metadata": {},
   "source": [
    "#변수할당"
   ]
  },
  {
   "cell_type": "code",
   "execution_count": 16,
   "id": "cfa13461-7634-430e-9cd4-e787e59421e0",
   "metadata": {},
   "outputs": [
    {
     "name": "stdout",
     "output_type": "stream",
     "text": [
      "3 4\n"
     ]
    }
   ],
   "source": [
    "a=3\n",
    "b=4\n",
    "print(a,b)"
   ]
  },
  {
   "cell_type": "code",
   "execution_count": 20,
   "id": "4d4d58de-4d55-4a79-a538-372ad1bf8757",
   "metadata": {},
   "outputs": [
    {
     "name": "stdout",
     "output_type": "stream",
     "text": [
      "1 3 5\n",
      "9\n"
     ]
    }
   ],
   "source": [
    "z,x,c=1,3,5\n",
    "print(z,x,c)\n",
    "print(z+x+c)"
   ]
  },
  {
   "cell_type": "markdown",
   "id": "3d2d647b-3065-4320-9cd7-3584eb936383",
   "metadata": {},
   "source": [
    "#연산자"
   ]
  },
  {
   "cell_type": "code",
   "execution_count": 27,
   "id": "2a57890c-450f-4da6-8744-41de47dfae96",
   "metadata": {},
   "outputs": [
    {
     "name": "stdout",
     "output_type": "stream",
     "text": [
      "500000\n"
     ]
    }
   ],
   "source": [
    "삼성전자=50000\n",
    "총평가금액=삼성전자*10\n",
    "print(총평가금액)"
   ]
  },
  {
   "cell_type": "code",
   "execution_count": 29,
   "id": "1675be59-17f0-42ab-81f8-1282cf8fcdd8",
   "metadata": {},
   "outputs": [
    {
     "name": "stdout",
     "output_type": "stream",
     "text": [
      "hello! python\n"
     ]
    }
   ],
   "source": [
    "s=\"hello\"\n",
    "t=\"python\"\n",
    "# hello! python\n",
    "print(s+\"!\",t)"
   ]
  },
  {
   "cell_type": "code",
   "execution_count": 31,
   "id": "6df6c4d3-ec44-4540-b011-40de47768d52",
   "metadata": {},
   "outputs": [
    {
     "name": "stdin",
     "output_type": "stream",
     "text": [
      "이름이 어떻게 되세요? 홍길동\n"
     ]
    },
    {
     "name": "stdout",
     "output_type": "stream",
     "text": [
      "홍길동 님 환영합니다.\n"
     ]
    }
   ],
   "source": [
    "name=input(\"이름이 어떻게 되세요?\")\n",
    "print(name, \"님 환영합니다.\")"
   ]
  },
  {
   "cell_type": "code",
   "execution_count": 35,
   "id": "5e43d66c-f832-4998-b753-b6d0627257a0",
   "metadata": {
    "scrolled": true
   },
   "outputs": [
    {
     "name": "stdin",
     "output_type": "stream",
     "text": [
      "올해 나이는요? 25\n"
     ]
    },
    {
     "name": "stdout",
     "output_type": "stream",
     "text": [
      "5년 뒤 나이는 30 살이 되는군요\n"
     ]
    }
   ],
   "source": [
    "age=int(input(\"올해 나이는요?\"))\n",
    "print(\"5년 뒤 나이는\",age+5, \"살이 되는군요\")"
   ]
  },
  {
   "cell_type": "code",
   "execution_count": 43,
   "id": "5be10129-b473-446e-a68c-d5d4b0322805",
   "metadata": {},
   "outputs": [
    {
     "name": "stdin",
     "output_type": "stream",
     "text": [
      "화씨 온도는? 88\n"
     ]
    },
    {
     "name": "stdout",
     "output_type": "stream",
     "text": [
      "화씨온도 88 도는 섭씨 온도 31.111111111111114 입니다\n",
      "<class 'int'>\n",
      "<class 'float'>\n"
     ]
    }
   ],
   "source": [
    "f=int(input(\"화씨 온도는?\"))\n",
    "c=(f-32)*(5/9)\n",
    "print(\"화씨온도\",f,\"도는 섭씨 온도\",c,\"입니다\")\n",
    "print(type(f))\n",
    "print(type(c))"
   ]
  },
  {
   "cell_type": "code",
   "execution_count": 45,
   "id": "cb64cca9-a79e-4f8f-a1df-1e89c3faac26",
   "metadata": {},
   "outputs": [
    {
     "name": "stdout",
     "output_type": "stream",
     "text": [
      "15\n",
      "3333333333\n",
      "바보바보바보바보바보\n"
     ]
    }
   ],
   "source": [
    "print(3*5)\n",
    "print(\"3\"*10)\n",
    "print(\"바보\"*5)"
   ]
  },
  {
   "cell_type": "code",
   "execution_count": 47,
   "id": "80937389-b01f-425d-a962-ae9eb8fd3196",
   "metadata": {},
   "outputs": [
    {
     "name": "stdout",
     "output_type": "stream",
     "text": [
      "홍\n",
      "길\n",
      "동\n"
     ]
    }
   ],
   "source": [
    "name=\"홍길동\"\n",
    "print(name[0])\n",
    "print(name[1])\n",
    "print(name[2])"
   ]
  },
  {
   "cell_type": "code",
   "execution_count": 51,
   "id": "d4cf5a87-21e4-4f89-84a8-f56a78ebe4c5",
   "metadata": {},
   "outputs": [
    {
     "name": "stdin",
     "output_type": "stream",
     "text": [
      "이름은? 김영희\n"
     ]
    },
    {
     "name": "stdout",
     "output_type": "stream",
     "text": [
      "당신은 김씨 성씨군요!\n"
     ]
    }
   ],
   "source": [
    "name=input(\"이름은?\")\n",
    "print(\"당신은 \",name[0],\"씨 성씨군요!\",sep=\"\")"
   ]
  },
  {
   "cell_type": "code",
   "execution_count": 53,
   "id": "5549af05-98cf-4814-9576-c97bd8157187",
   "metadata": {},
   "outputs": [
    {
     "name": "stdout",
     "output_type": "stream",
     "text": [
      "영희\n"
     ]
    }
   ],
   "source": [
    "print(name[1:])"
   ]
  },
  {
   "cell_type": "code",
   "execution_count": 67,
   "id": "0f588b6e-95b5-43b1-8000-b9ea33443877",
   "metadata": {},
   "outputs": [
    {
     "name": "stdout",
     "output_type": "stream",
     "text": [
      "sjn dcto\n",
      "n\n"
     ]
    }
   ],
   "source": [
    "txt=\"sejong education\"\n",
    "print(txt[::2])   #시작:끝:스텝   2칸씩 띄워서 출력\n",
    "print(txt[-1])"
   ]
  },
  {
   "cell_type": "code",
   "execution_count": 69,
   "id": "2eec44c2-6144-4e23-a333-2ceb731019e5",
   "metadata": {},
   "outputs": [
    {
     "name": "stdout",
     "output_type": "stream",
     "text": [
      "나는 복숭아를 엄청 좋아합니다.\n"
     ]
    }
   ],
   "source": [
    "a=\"나는 사과를 엄청 좋아합니다.\"\n",
    "print(a.replace(\"사과\",\"복숭아\"))"
   ]
  },
  {
   "cell_type": "code",
   "execution_count": 71,
   "id": "3859cbde-0614-4651-affc-49c377ecd168",
   "metadata": {},
   "outputs": [
    {
     "name": "stdout",
     "output_type": "stream",
     "text": [
      "2210\n"
     ]
    }
   ],
   "source": [
    "license_plate=\"24가 2210\"\n",
    "print(license_plate[-4:])"
   ]
  },
  {
   "cell_type": "code",
   "execution_count": 73,
   "id": "032a6696-c34f-4985-b875-710fa8631cc7",
   "metadata": {},
   "outputs": [
    {
     "name": "stdout",
     "output_type": "stream",
     "text": [
      "홀홀홀\n"
     ]
    }
   ],
   "source": [
    "string=\"홀짝홀짝홀짝\"\n",
    "print(string[::2])"
   ]
  },
  {
   "cell_type": "code",
   "execution_count": 77,
   "id": "7087e09c-873e-4213-9e0e-3ba38398483a",
   "metadata": {},
   "outputs": [
    {
     "name": "stdout",
     "output_type": "stream",
     "text": [
      "NOHTYP\n"
     ]
    }
   ],
   "source": [
    "string=\"PYTHON\"\n",
    "print(string[::-1])"
   ]
  },
  {
   "cell_type": "code",
   "execution_count": 81,
   "id": "87f8db86-3e80-4e25-817c-67aefa0c874b",
   "metadata": {},
   "outputs": [
    {
     "name": "stdout",
     "output_type": "stream",
     "text": [
      "010-1234-5678\n",
      "01012345678\n"
     ]
    }
   ],
   "source": [
    "phone=\"010-1234-5678\"\n",
    "phone_number=phone.replace('-','')\n",
    "print(phone)\n",
    "print(phone_number)"
   ]
  },
  {
   "cell_type": "code",
   "execution_count": 87,
   "id": "00868d0d-3cf2-44b8-849f-f4e1daa55b47",
   "metadata": {},
   "outputs": [
    {
     "name": "stdout",
     "output_type": "stream",
     "text": [
      "['http://sharebook', 'kr']\n",
      "kr\n"
     ]
    }
   ],
   "source": [
    "url=\"http://sharebook.kr\"\n",
    "url_split=url.split('.')\n",
    "print(url_split)\n",
    "print(url_split[-1])"
   ]
  },
  {
   "cell_type": "code",
   "execution_count": 89,
   "id": "faae35b2-aedb-41c6-97e9-5027754f226d",
   "metadata": {},
   "outputs": [
    {
     "name": "stdout",
     "output_type": "stream",
     "text": [
      "['hong', 'gmail.com']\n",
      "hong#gmail.com\n"
     ]
    }
   ],
   "source": [
    "a=\"hong@gmail.com\"\n",
    "b=a.split('@')\n",
    "print(b)\n",
    "c='#'.join(b)\n",
    "print(c)"
   ]
  },
  {
   "cell_type": "code",
   "execution_count": 93,
   "id": "545fe36e-acb9-44f8-a709-e5ddd2648dfb",
   "metadata": {},
   "outputs": [
    {
     "name": "stdout",
     "output_type": "stream",
     "text": [
      "4\n"
     ]
    }
   ],
   "source": [
    "a=\"everyone!\"\n",
    "print(a.find(\"y\"))   #4번째 인덱스에 있음"
   ]
  },
  {
   "cell_type": "code",
   "execution_count": 101,
   "id": "1dc9728d-0dc5-441b-a9f4-d561faf21f65",
   "metadata": {},
   "outputs": [
    {
     "name": "stdin",
     "output_type": "stream",
     "text": [
      "이메일 주소? dkfjlk@gmail.com\n"
     ]
    },
    {
     "name": "stdout",
     "output_type": "stream",
     "text": [
      "아이디는 dkfjlk 이고 도메인은 gmail.com 입니다.\n"
     ]
    }
   ],
   "source": [
    "mail=input(\"이메일 주소?\")\n",
    "pos=mail.find('@')\n",
    "id=mail[:pos]\n",
    "domain=mail[pos+1:]\n",
    "print(\"아이디는\",id,\"이고 도메인은\",domain,\"입니다.\")"
   ]
  },
  {
   "cell_type": "code",
   "execution_count": null,
   "id": "775a381c-982d-4ddd-bc23-9da0dfc216ec",
   "metadata": {},
   "outputs": [],
   "source": []
  }
 ],
 "metadata": {
  "kernelspec": {
   "display_name": "Python 3 (ipykernel)",
   "language": "python",
   "name": "python3"
  },
  "language_info": {
   "codemirror_mode": {
    "name": "ipython",
    "version": 3
   },
   "file_extension": ".py",
   "mimetype": "text/x-python",
   "name": "python",
   "nbconvert_exporter": "python",
   "pygments_lexer": "ipython3",
   "version": "3.12.7"
  }
 },
 "nbformat": 4,
 "nbformat_minor": 5
}
