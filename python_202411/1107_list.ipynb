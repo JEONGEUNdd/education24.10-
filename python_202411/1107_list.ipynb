{
 "cells": [
  {
   "cell_type": "markdown",
   "id": "5f76d277-3f90-477b-8a82-90949ab73341",
   "metadata": {},
   "source": [
    "리스트"
   ]
  },
  {
   "cell_type": "code",
   "execution_count": 10,
   "id": "3dfa83ad-a06f-44e5-9c37-bf312b0b8d23",
   "metadata": {},
   "outputs": [
    {
     "data": {
      "text/plain": [
       "['Life', 'is', 'too', 'short']"
      ]
     },
     "execution_count": 10,
     "metadata": {},
     "output_type": "execute_result"
    }
   ],
   "source": [
    "a=[1,3,5,7,9]\n",
    "b=[]\n",
    "b=list()\n",
    "c=['Life','is','too','short']\n",
    "d=[1,2,'Life','is']\n",
    "e=[1,2,['Life','is']]\n",
    "c"
   ]
  },
  {
   "cell_type": "code",
   "execution_count": 12,
   "id": "5f45caa0-8be9-4b52-81c4-d9c45c197ad0",
   "metadata": {},
   "outputs": [
    {
     "data": {
      "text/plain": [
       "1"
      ]
     },
     "execution_count": 12,
     "metadata": {},
     "output_type": "execute_result"
    }
   ],
   "source": [
    "a[0]"
   ]
  },
  {
   "cell_type": "code",
   "execution_count": 18,
   "id": "45eac764-c373-469d-bfb2-64b9ee92eca0",
   "metadata": {},
   "outputs": [
    {
     "data": {
      "text/plain": [
       "'is'"
      ]
     },
     "execution_count": 18,
     "metadata": {},
     "output_type": "execute_result"
    }
   ],
   "source": [
    "e[2][1]"
   ]
  },
  {
   "cell_type": "code",
   "execution_count": 22,
   "id": "3223d52a-c255-49a5-a861-180aebbe51c4",
   "metadata": {},
   "outputs": [
    {
     "data": {
      "text/plain": [
       "8"
      ]
     },
     "execution_count": 22,
     "metadata": {},
     "output_type": "execute_result"
    }
   ],
   "source": [
    "a[0]+a[3]"
   ]
  },
  {
   "cell_type": "code",
   "execution_count": 26,
   "id": "156409ca-dbe0-4cd2-8f6f-0361e5e9b611",
   "metadata": {},
   "outputs": [
    {
     "data": {
      "text/plain": [
       "['Life', 'is']"
      ]
     },
     "execution_count": 26,
     "metadata": {},
     "output_type": "execute_result"
    }
   ],
   "source": [
    "e[-1]"
   ]
  },
  {
   "cell_type": "code",
   "execution_count": 28,
   "id": "ffcc16bf-1c0f-4baa-80af-fcfa1d25940b",
   "metadata": {},
   "outputs": [
    {
     "data": {
      "text/plain": [
       "[1, 3]"
      ]
     },
     "execution_count": 28,
     "metadata": {},
     "output_type": "execute_result"
    }
   ],
   "source": [
    "a=[1,3,5,7,9]\n",
    "a[0:2]"
   ]
  },
  {
   "cell_type": "code",
   "execution_count": 38,
   "id": "60da9c83-9f99-40ad-ba79-b74360b99623",
   "metadata": {},
   "outputs": [
    {
     "data": {
      "text/plain": [
       "[1, 3]"
      ]
     },
     "execution_count": 38,
     "metadata": {},
     "output_type": "execute_result"
    }
   ],
   "source": [
    "b=a[:2]\n",
    "b"
   ]
  },
  {
   "cell_type": "code",
   "execution_count": 42,
   "id": "a491629c-9544-4409-b6a1-03622ad299ff",
   "metadata": {},
   "outputs": [
    {
     "data": {
      "text/plain": [
       "['a', 'b']"
      ]
     },
     "execution_count": 42,
     "metadata": {},
     "output_type": "execute_result"
    }
   ],
   "source": [
    "a=[1,2,3,['a','b','c'],4,5]\n",
    "a[3][:2]"
   ]
  },
  {
   "cell_type": "code",
   "execution_count": 54,
   "id": "87b6856f-9e1d-41ac-9689-96a6b109e969",
   "metadata": {},
   "outputs": [
    {
     "name": "stdout",
     "output_type": "stream",
     "text": [
      "[1, 2, 3, 4, 5, 6]\n",
      "[1, 2, 3, 1, 2, 3, 1, 2, 3]\n"
     ]
    }
   ],
   "source": [
    "a=[1,2,3]\n",
    "b=[4,5,6]\n",
    "print(a+b)\n",
    "print(a*3)"
   ]
  },
  {
   "cell_type": "code",
   "execution_count": 50,
   "id": "cdf6e9fd-fa23-4baa-8b63-0bdd61797d79",
   "metadata": {},
   "outputs": [
    {
     "data": {
      "text/plain": [
       "7"
      ]
     },
     "execution_count": 50,
     "metadata": {},
     "output_type": "execute_result"
    }
   ],
   "source": [
    "a=[1,2,3,4,5,6,7]\n",
    "len(a)"
   ]
  },
  {
   "cell_type": "code",
   "execution_count": 58,
   "id": "a4f77a83-7041-4cc6-a2a8-fa623aae8881",
   "metadata": {},
   "outputs": [
    {
     "data": {
      "text/plain": [
       "'3hi'"
      ]
     },
     "execution_count": 58,
     "metadata": {},
     "output_type": "execute_result"
    }
   ],
   "source": [
    "str(a[2])+\"hi\""
   ]
  },
  {
   "cell_type": "code",
   "execution_count": 78,
   "id": "40fb6faf-78a1-4e0a-b596-7fab49611acf",
   "metadata": {},
   "outputs": [
    {
     "name": "stdout",
     "output_type": "stream",
     "text": [
      "[1, 2, 3]\n",
      "[1, 2, 3]\n"
     ]
    }
   ],
   "source": [
    "a=[1,2,3]\n",
    "b=a\n",
    "c=a[:]   #a값 중 하나를 다른 값으로 변경해도 c에 영향을 미치지 않음\n",
    "print(b)\n",
    "print(c)"
   ]
  },
  {
   "cell_type": "code",
   "execution_count": 72,
   "id": "b902bc1f-7ae6-4403-8a98-adf01faf4eba",
   "metadata": {},
   "outputs": [
    {
     "name": "stdout",
     "output_type": "stream",
     "text": [
      "[1, 7, 3]\n",
      "[1, 7, 3]\n",
      "[1, 2, 3]\n"
     ]
    }
   ],
   "source": [
    "a[1]=7\n",
    "print(a)\n",
    "print(b)\n",
    "print(c)"
   ]
  },
  {
   "cell_type": "code",
   "execution_count": 97,
   "id": "eb3fe110-114d-41cb-a45b-c77c25131f4a",
   "metadata": {},
   "outputs": [
    {
     "data": {
      "text/plain": [
       "[1, 2]"
      ]
     },
     "execution_count": 97,
     "metadata": {},
     "output_type": "execute_result"
    }
   ],
   "source": [
    "a=[1,2,3,4,5]\n",
    "del a[2:]\n",
    "a"
   ]
  },
  {
   "cell_type": "markdown",
   "id": "58f32655-ae6b-45e7-8dfd-2b31e862c137",
   "metadata": {},
   "source": [
    "append(값): 값을 추가"
   ]
  },
  {
   "cell_type": "code",
   "execution_count": 99,
   "id": "739f1fbb-3af9-46e5-b9b6-bc3e23295d8c",
   "metadata": {},
   "outputs": [
    {
     "data": {
      "text/plain": [
       "[1, 2, 5]"
      ]
     },
     "execution_count": 99,
     "metadata": {},
     "output_type": "execute_result"
    }
   ],
   "source": [
    "a.append(5)\n",
    "a"
   ]
  },
  {
   "cell_type": "code",
   "execution_count": 101,
   "id": "17f4853e-82c6-46ca-a07c-4defb0512058",
   "metadata": {},
   "outputs": [
    {
     "data": {
      "text/plain": [
       "[1, 2, 5, [6, 7]]"
      ]
     },
     "execution_count": 101,
     "metadata": {},
     "output_type": "execute_result"
    }
   ],
   "source": [
    "a.append([6,7])\n",
    "a"
   ]
  },
  {
   "cell_type": "code",
   "execution_count": 103,
   "id": "cbf97ed1-9d9b-47d8-bfca-be4dde7816a3",
   "metadata": {},
   "outputs": [
    {
     "data": {
      "text/plain": [
       "[1, 2, 3, 4]"
      ]
     },
     "execution_count": 103,
     "metadata": {},
     "output_type": "execute_result"
    }
   ],
   "source": [
    "a=[1,4,3,2]\n",
    "a.sort()\n",
    "a"
   ]
  },
  {
   "cell_type": "code",
   "execution_count": 105,
   "id": "9be50183-0f25-4491-bdee-5f54580c3763",
   "metadata": {},
   "outputs": [
    {
     "data": {
      "text/plain": [
       "[4, 3, 2, 1]"
      ]
     },
     "execution_count": 105,
     "metadata": {},
     "output_type": "execute_result"
    }
   ],
   "source": [
    "a.reverse()\n",
    "a"
   ]
  },
  {
   "cell_type": "code",
   "execution_count": 111,
   "id": "027c3284-40c8-4987-89e8-bea05ad8e1b7",
   "metadata": {},
   "outputs": [
    {
     "data": {
      "text/plain": [
       "2"
      ]
     },
     "execution_count": 111,
     "metadata": {},
     "output_type": "execute_result"
    }
   ],
   "source": [
    "a=['a','c','b']\n",
    "a.index('b')    #값의 인덱스 위치"
   ]
  },
  {
   "cell_type": "markdown",
   "id": "e269742e-08ce-48e1-beb5-2f0bb5c7d32e",
   "metadata": {},
   "source": [
    "insert(위치,값)"
   ]
  },
  {
   "cell_type": "code",
   "execution_count": 115,
   "id": "bd422a68-6add-4af0-8c7b-33d2c484dcd1",
   "metadata": {},
   "outputs": [
    {
     "data": {
      "text/plain": [
       "[4, 1, 2, 3]"
      ]
     },
     "execution_count": 115,
     "metadata": {},
     "output_type": "execute_result"
    }
   ],
   "source": [
    "a=[1,2,3]\n",
    "a.insert(0,4)   #0번째 위치에 4값 넣기\n",
    "a"
   ]
  },
  {
   "cell_type": "markdown",
   "id": "f1de767d-b593-4684-a011-b9d3337d7e7a",
   "metadata": {},
   "source": [
    "### remove(값):처음 값만 삭제\n"
   ]
  },
  {
   "cell_type": "code",
   "execution_count": 129,
   "id": "91bf7394-9951-458e-85e0-278f02b2f31d",
   "metadata": {},
   "outputs": [
    {
     "data": {
      "text/plain": [
       "[1, 2, 1, 2, 3]"
      ]
     },
     "execution_count": 129,
     "metadata": {},
     "output_type": "execute_result"
    }
   ],
   "source": [
    "a=[1,2,3,1,2,3]\n",
    "a.remove(3)  #처음 3만 삭제\n",
    "a"
   ]
  },
  {
   "cell_type": "code",
   "execution_count": 193,
   "id": "3424b432-55d6-484b-b9f5-825effe8867a",
   "metadata": {},
   "outputs": [
    {
     "name": "stdout",
     "output_type": "stream",
     "text": [
      "[1, 3] 2\n"
     ]
    }
   ],
   "source": [
    "a=[1,2,3]\n",
    "b=a.pop(1)  #1인덱스의 값 삭제\n",
    "print(a,b)"
   ]
  },
  {
   "cell_type": "code",
   "execution_count": 153,
   "id": "6f3c72e2-be73-4f17-a7e8-a252dc23ac97",
   "metadata": {},
   "outputs": [
    {
     "name": "stdout",
     "output_type": "stream",
     "text": [
      "4\n",
      "1\n"
     ]
    }
   ],
   "source": [
    "a=[1,2,3,4]\n",
    "b=len(a)\n",
    "c=a.count(3)\n",
    "print(b,c,sep='\\n')"
   ]
  },
  {
   "cell_type": "code",
   "execution_count": 155,
   "id": "6380f1bf-d119-4900-9031-b6dbc29ff5ae",
   "metadata": {},
   "outputs": [
    {
     "name": "stdout",
     "output_type": "stream",
     "text": [
      "[3, 2, 3, 4, 5, 6, 7]/n[1, 2, 3, 4, 5, 6, 7]\n"
     ]
    }
   ],
   "source": [
    "a=[1,2,3,4,5,6,7]\n",
    "b=a.copy()\n",
    "a[0]=3\n",
    "print(a,b,sep='/n')"
   ]
  },
  {
   "cell_type": "code",
   "execution_count": 214,
   "id": "442595a4-09a5-4c76-92d8-3613930729e5",
   "metadata": {},
   "outputs": [],
   "source": [
    "# extend(): 여러 요소를 리스트 끝에 추가 (리스트 확장)\n",
    "# insert(): 하나의 요소를 리스트의 특정 위치에 삽입 (지정한 위치에 요소 삽입)"
   ]
  },
  {
   "cell_type": "code",
   "execution_count": 159,
   "id": "c090a807-0c9f-45c2-9ad5-fcf14b5bc312",
   "metadata": {},
   "outputs": [
    {
     "data": {
      "text/plain": [
       "[1, 2, 3, 4, 5]"
      ]
     },
     "execution_count": 159,
     "metadata": {},
     "output_type": "execute_result"
    }
   ],
   "source": [
    "a=[1,2,3]\n",
    "a.extend([4,5])\n",
    "a"
   ]
  },
  {
   "cell_type": "code",
   "execution_count": 161,
   "id": "ac27101b-2271-423e-9966-dcf9c3be4c12",
   "metadata": {},
   "outputs": [
    {
     "data": {
      "text/plain": [
       "[1, 2, 3, 4, 5, 'H', 'e', 'l', 'l', 'o']"
      ]
     },
     "execution_count": 161,
     "metadata": {},
     "output_type": "execute_result"
    }
   ],
   "source": [
    "a.extend(\"Hello\")\n",
    "a"
   ]
  },
  {
   "cell_type": "code",
   "execution_count": 125,
   "id": "eb9ece4f-6376-41c4-9318-bb4d64561ee8",
   "metadata": {},
   "outputs": [
    {
     "name": "stdout",
     "output_type": "stream",
     "text": [
      "2\n",
      "4\n",
      "6\n",
      "8\n",
      "10\n"
     ]
    }
   ],
   "source": [
    "mylist=[1,2,3,4,5,6,7,8,9,10]\n",
    "for i in mylist:\n",
    "    if i%2==0:\n",
    "        print(i)"
   ]
  },
  {
   "cell_type": "code",
   "execution_count": 127,
   "id": "3c20e076-f6a6-4fcf-b6a8-3f5070b207d1",
   "metadata": {},
   "outputs": [
    {
     "data": {
      "text/plain": [
       "[2, 4, 6, 8, 10]"
      ]
     },
     "execution_count": 127,
     "metadata": {},
     "output_type": "execute_result"
    }
   ],
   "source": [
    "mylist=[1,2,3,4,5,6,7,8,9,10]\n",
    "even2=[i for i in mylist if i%2==0]\n",
    "even2"
   ]
  },
  {
   "cell_type": "code",
   "execution_count": 133,
   "id": "0144f600-7afc-45c2-90bb-105dfd46b306",
   "metadata": {},
   "outputs": [
    {
     "name": "stdout",
     "output_type": "stream",
     "text": [
      "[0, 4, 16, 36, 64]\n"
     ]
    }
   ],
   "source": [
    "squares=[x**2 for x in range(10) if x%2==0]\n",
    "print(squares)"
   ]
  },
  {
   "cell_type": "code",
   "execution_count": 135,
   "id": "90d19693-19e6-40e3-b7c4-a05ee3af35fd",
   "metadata": {},
   "outputs": [
    {
     "data": {
      "text/plain": [
       "['사과', '바나나', '오렌지', '좋은파인애플']"
      ]
     },
     "execution_count": 135,
     "metadata": {},
     "output_type": "execute_result"
    }
   ],
   "source": [
    "f=['사과','바나나','오렌지','파인애플']\n",
    "f2=['좋은'+i if len(i)>3 else i for i in f]   #len(3)보다 크면 '좋은' 붙이고 아니면 그냥 i\n",
    "f2"
   ]
  },
  {
   "cell_type": "code",
   "execution_count": 139,
   "id": "bfdd9ffb-bc29-4537-be11-ddbe81c5b230",
   "metadata": {},
   "outputs": [
    {
     "data": {
      "text/plain": [
       "{2: 4, 4: 16, 6: 36, 8: 64, 10: 100}"
      ]
     },
     "execution_count": 139,
     "metadata": {},
     "output_type": "execute_result"
    }
   ],
   "source": [
    "even4={i:i**2 for i in mylist if i%2==0}\n",
    "even4"
   ]
  },
  {
   "cell_type": "code",
   "execution_count": 141,
   "id": "c7c1a394-e1a6-4b8e-b9cf-4d52006659a8",
   "metadata": {},
   "outputs": [
    {
     "data": {
      "text/plain": [
       "{'kim': 35, 'lee': 30}"
      ]
     },
     "execution_count": 141,
     "metadata": {},
     "output_type": "execute_result"
    }
   ],
   "source": [
    "d={\"kim\":35, \"lee\":30, \"park\":28}\n",
    "d2={k:v for (k,v) in d.items() if v>=30}\n",
    "d2"
   ]
  },
  {
   "cell_type": "code",
   "execution_count": 145,
   "id": "66339c9f-7646-4572-a4c4-dfeeae70e940",
   "metadata": {},
   "outputs": [
    {
     "data": {
      "text/plain": [
       "{'우유': 2073.0, '커피': 6219.0, '빵': 3455.0}"
      ]
     },
     "execution_count": 145,
     "metadata": {},
     "output_type": "execute_result"
    }
   ],
   "source": [
    "price={\"우유\":1.5,\"커피\":4.5,\"빵\":2.5}\n",
    "price2={k:v*1382 for (k,v) in price.items()}\n",
    "price2"
   ]
  },
  {
   "cell_type": "code",
   "execution_count": 149,
   "id": "9a81889d-cbb9-419d-88a2-a29eb88995f9",
   "metadata": {},
   "outputs": [
    {
     "name": "stdout",
     "output_type": "stream",
     "text": [
      "{'a': 97, 'b': 98, 'c': 99, 'd': 100, 'e': 101, 'f': 102, 'g': 103, 'h': 104, 'i': 105, 'j': 106, 'k': 107, 'l': 108, 'm': 109, 'n': 110, 'o': 111, 'p': 112, 'q': 113, 'r': 114, 's': 115, 't': 116, 'u': 117, 'v': 118, 'w': 119, 'x': 120, 'y': 121, 'z': 122}\n"
     ]
    }
   ],
   "source": [
    "ascil_value={chr(i): i for i in range(97,123)}\n",
    "print(ascil_value)"
   ]
  },
  {
   "cell_type": "markdown",
   "id": "b574a18c-8e81-437e-969f-caaf3a68fd02",
   "metadata": {},
   "source": [
    "리스트 추가 메서드"
   ]
  },
  {
   "cell_type": "code",
   "execution_count": 170,
   "id": "29e93299-492c-4f34-b258-4874dc5a68bf",
   "metadata": {},
   "outputs": [
    {
     "data": {
      "text/plain": [
       "[]"
      ]
     },
     "execution_count": 170,
     "metadata": {},
     "output_type": "execute_result"
    }
   ],
   "source": [
    "a=[1,2]\n",
    "a.clear()  #완전삭제\n",
    "a"
   ]
  },
  {
   "cell_type": "code",
   "execution_count": 176,
   "id": "49b2607e-89bd-4b4b-9715-9cb00ee6fa9a",
   "metadata": {},
   "outputs": [
    {
     "name": "stdout",
     "output_type": "stream",
     "text": [
      "3\n",
      "9\n",
      "17\n"
     ]
    }
   ],
   "source": [
    "list=[5,3,9]\n",
    "print(min(list))\n",
    "print(max(list))\n",
    "print(sum(list))"
   ]
  },
  {
   "cell_type": "markdown",
   "id": "53f7ea15-5ac5-4a42-b472-619e60dcf59f",
   "metadata": {},
   "source": [
    "튜플"
   ]
  },
  {
   "cell_type": "code",
   "execution_count": 187,
   "id": "442e52a9-eef7-42d4-84a0-2f20331f30a5",
   "metadata": {},
   "outputs": [
    {
     "name": "stdout",
     "output_type": "stream",
     "text": [
      "(1, 2, 3)\n",
      "<class 'tuple'>\n",
      "<class 'tuple'>\n"
     ]
    }
   ],
   "source": [
    "t1=()\n",
    "t3=(1,2,3)\n",
    "print(t3)\n",
    "print(type(t3))\n",
    "t4=1,2,3\n",
    "print(type(t4))"
   ]
  },
  {
   "cell_type": "code",
   "execution_count": 191,
   "id": "178ca8ab-2f5e-4166-a3c4-aeef57f32240",
   "metadata": {},
   "outputs": [
    {
     "name": "stdout",
     "output_type": "stream",
     "text": [
      "<class 'int'>\n",
      "<class 'tuple'>\n"
     ]
    }
   ],
   "source": [
    "t2=(1)   #int\n",
    "print(type(t2))\n",
    "t3=(1,)  #tuple\n",
    "print(type(t3))"
   ]
  },
  {
   "cell_type": "code",
   "execution_count": 199,
   "id": "f3a80ea4-b5d2-4485-9542-8a38fa32e77c",
   "metadata": {},
   "outputs": [
    {
     "data": {
      "text/plain": [
       "'b'"
      ]
     },
     "execution_count": 199,
     "metadata": {},
     "output_type": "execute_result"
    }
   ],
   "source": [
    "t5=('a','b',('ab','cd'))\n",
    "t5[1]   #튜플은 삭제못함 삭제하고 싶으면 list로"
   ]
  },
  {
   "cell_type": "markdown",
   "id": "55b06953-d590-48e5-bd3a-87a3729b21cc",
   "metadata": {},
   "source": [
    "딕셔너리"
   ]
  },
  {
   "cell_type": "code",
   "execution_count": 221,
   "id": "ee3a553b-ff93-4ac1-b2c0-01d7872b7a4d",
   "metadata": {},
   "outputs": [
    {
     "data": {
      "text/plain": [
       "'010-1234-5678'"
      ]
     },
     "execution_count": 221,
     "metadata": {},
     "output_type": "execute_result"
    }
   ],
   "source": [
    "a={'name':'pey','phone':'010-1234-5678','birth':'1118'}\n",
    "a1={1:'hi'}\n",
    "a2={'a':{1,2,3}}\n",
    "a['name']\n",
    "a['phone']"
   ]
  },
  {
   "cell_type": "code",
   "execution_count": 225,
   "id": "8a13c5eb-69f6-4dea-bb3c-7a3b022d5cf3",
   "metadata": {},
   "outputs": [
    {
     "data": {
      "text/plain": [
       "{'name': 'pey', 'phone': '010-1234-5678', 'birth': '1118', 'height': 180}"
      ]
     },
     "execution_count": 225,
     "metadata": {},
     "output_type": "execute_result"
    }
   ],
   "source": [
    "a['height']=180\n",
    "a"
   ]
  },
  {
   "cell_type": "code",
   "execution_count": 249,
   "id": "077d5714-fcb5-403e-9483-3b52851c4ffc",
   "metadata": {},
   "outputs": [
    {
     "data": {
      "text/plain": [
       "dict_keys(['name', 'phone', 'birth'])"
      ]
     },
     "execution_count": 249,
     "metadata": {},
     "output_type": "execute_result"
    }
   ],
   "source": [
    "a3={'name':'pey','phone':'010-1234-5678','birth':'1138'}\n",
    "b3=a3.keys()\n",
    "b3"
   ]
  },
  {
   "cell_type": "code",
   "execution_count": 239,
   "id": "d56b58fb-a089-4aff-a565-2fddb086c99d",
   "metadata": {},
   "outputs": [
    {
     "name": "stdout",
     "output_type": "stream",
     "text": [
      "name\n",
      "phone\n",
      "birth\n"
     ]
    }
   ],
   "source": [
    "for k in a.keys():\n",
    "    print(k)"
   ]
  },
  {
   "cell_type": "code",
   "execution_count": 237,
   "id": "046fada0-8ae1-4745-952c-1eb80e5f0b8f",
   "metadata": {},
   "outputs": [
    {
     "data": {
      "text/plain": [
       "dict_values(['pey', '010-1234-5678', '1118'])"
      ]
     },
     "execution_count": 237,
     "metadata": {},
     "output_type": "execute_result"
    }
   ],
   "source": [
    "a3.values()"
   ]
  },
  {
   "cell_type": "code",
   "execution_count": 251,
   "id": "3fb7b312-456d-4f1f-9e29-9f6f5756d3d8",
   "metadata": {},
   "outputs": [
    {
     "data": {
      "text/plain": [
       "dict_items([('name', 'pey'), ('phone', '010-1234-5678'), ('birth', '1118')])"
      ]
     },
     "execution_count": 251,
     "metadata": {},
     "output_type": "execute_result"
    }
   ],
   "source": [
    "a.items()"
   ]
  },
  {
   "cell_type": "code",
   "execution_count": 253,
   "id": "ec411c3d-7d45-4d7e-84ce-bd1f999ef424",
   "metadata": {},
   "outputs": [
    {
     "data": {
      "text/plain": [
       "'pey'"
      ]
     },
     "execution_count": 253,
     "metadata": {},
     "output_type": "execute_result"
    }
   ],
   "source": [
    "a['name']"
   ]
  },
  {
   "cell_type": "code",
   "execution_count": 255,
   "id": "df5eed78-014a-42c6-bc8b-aa0e213f304f",
   "metadata": {},
   "outputs": [
    {
     "data": {
      "text/plain": [
       "'pey'"
      ]
     },
     "execution_count": 255,
     "metadata": {},
     "output_type": "execute_result"
    }
   ],
   "source": [
    "a.get('name')"
   ]
  },
  {
   "cell_type": "code",
   "execution_count": 261,
   "id": "4c09c6c7-3bfc-4855-8105-48f39fc7db5b",
   "metadata": {},
   "outputs": [
    {
     "data": {
      "text/plain": [
       "False"
      ]
     },
     "execution_count": 261,
     "metadata": {},
     "output_type": "execute_result"
    }
   ],
   "source": [
    "a={'name':'pey','phone':'010-1234-5678','birth':'1138'}\n",
    "'age' in a  "
   ]
  },
  {
   "cell_type": "code",
   "execution_count": 263,
   "id": "12784482-6d22-47a5-a7ff-3a0823ebaaf2",
   "metadata": {},
   "outputs": [
    {
     "name": "stdout",
     "output_type": "stream",
     "text": [
      "학생: John, 등급: A, 점수:95\n",
      "학생: Lisa, 등급: B, 점수:85\n",
      "학생: Mike, 등급: A, 점수:92\n"
     ]
    }
   ],
   "source": [
    "student_records=[\n",
    "    ('John','A',95),\n",
    "    ('Lisa','B',85),\n",
    "    ('Mike','A',92),\n",
    "]\n",
    "\n",
    "for name, grade, score in student_records:\n",
    "    print(f\"학생: {name}, 등급: {grade}, 점수:{score}\")"
   ]
  },
  {
   "cell_type": "code",
   "execution_count": 287,
   "id": "e79ed902-ca4f-4e00-835b-70e9bc78a629",
   "metadata": {},
   "outputs": [
    {
     "data": {
      "text/plain": [
       "{'a': 1, 'b': 2, 'c': 3}"
      ]
     },
     "execution_count": 287,
     "metadata": {},
     "output_type": "execute_result"
    }
   ],
   "source": [
    "a=[('a',1),('b',2),('c',3)]\n",
    "b=dict(a)\n",
    "b"
   ]
  },
  {
   "cell_type": "code",
   "execution_count": 289,
   "id": "42465fe4-72f6-4183-ae1d-24c30f2ec756",
   "metadata": {},
   "outputs": [
    {
     "data": {
      "text/plain": [
       "{'김밥': 5000, '떡볶이': 5500, '튀김': 3000}"
      ]
     },
     "execution_count": 289,
     "metadata": {},
     "output_type": "execute_result"
    }
   ],
   "source": [
    "menu=dict(김밥=5000, 떡볶이=5500, 튀김=3000)\n",
    "menu"
   ]
  },
  {
   "cell_type": "markdown",
   "id": "dd78280f-aa16-4cc9-bfb6-80be047e4508",
   "metadata": {},
   "source": [
    "zip"
   ]
  },
  {
   "cell_type": "code",
   "execution_count": 291,
   "id": "c0a872eb-42da-414a-805d-4a8079f0bf25",
   "metadata": {},
   "outputs": [
    {
     "data": {
      "text/plain": [
       "{'a': 1, 'b': 2, 'c': 3}"
      ]
     },
     "execution_count": 291,
     "metadata": {},
     "output_type": "execute_result"
    }
   ],
   "source": [
    "a=['a','b','c']\n",
    "b=[1,2,3]\n",
    "dict(zip(a,b))"
   ]
  },
  {
   "cell_type": "code",
   "execution_count": 295,
   "id": "4518637f-eadb-4d10-a25f-9e0c4725cbd6",
   "metadata": {},
   "outputs": [
    {
     "name": "stdout",
     "output_type": "stream",
     "text": [
      "('a', 1)\n",
      "('b', 2)\n",
      "('c', 3)\n"
     ]
    }
   ],
   "source": [
    "z=zip(a,b)\n",
    "for i in z:\n",
    "    print(i)"
   ]
  },
  {
   "cell_type": "code",
   "execution_count": 307,
   "id": "932e8618-3fe6-4f61-89f7-a58323c7d594",
   "metadata": {},
   "outputs": [
    {
     "data": {
      "text/plain": [
       "{'C001': {'이름': '김철수',\n",
       "  '나이': 35,\n",
       "  '성별': '남성',\n",
       "  '구매금액': 150000,\n",
       "  '구매날짜': '2024-03-15'},\n",
       " 'C002': {'이름': '이영희',\n",
       "  '나이': 35,\n",
       "  '성별': '여성',\n",
       "  '구매금액': 280000,\n",
       "  '구매날짜': '2024-03-14'},\n",
       " 'C003': {'이름': '박민수',\n",
       "  '나이': 42,\n",
       "  '성별': '남성',\n",
       "  '구매금액': 95000,\n",
       "  '구매날짜': '2024-03-13'}}"
      ]
     },
     "execution_count": 307,
     "metadata": {},
     "output_type": "execute_result"
    }
   ],
   "source": [
    "customer_tuples=[\n",
    "    (\"C001\",\"김철수\",35,\"남성\",150000,\"2024-03-15\"),\n",
    "     (\"C002\",\"이영희\",35,\"여성\",280000,\"2024-03-14\"),\n",
    "     (\"C003\",\"박민수\",42,\"남성\",95000,\"2024-03-13\")\n",
    "]\n",
    "\n",
    "customer_dict={\n",
    "    customer[0]:{\n",
    "        \"이름\":customer[1],\n",
    "        \"나이\":customer[2],\n",
    "        \"성별\":customer[3],\n",
    "        \"구매금액\":customer[4],\n",
    "        \"구매날짜\":customer[5]\n",
    "    } for customer in customer_tuples\n",
    "}\n",
    "\n",
    "customer_dict"
   ]
  },
  {
   "cell_type": "code",
   "execution_count": 309,
   "id": "1b27e7ad-f533-4c2b-ac58-ebe180869fa9",
   "metadata": {},
   "outputs": [],
   "source": [
    "a=[{'이름':'홍길동','생일':'3월 1일'},\n",
    "   {'이름':'이순신','생일':'5월 6일'},\n",
    "   {'이름':'강감찬','생일':'8월16일'}]"
   ]
  },
  {
   "cell_type": "code",
   "execution_count": 317,
   "id": "9756557e-9627-4b33-9bef-07fd47a59195",
   "metadata": {},
   "outputs": [
    {
     "name": "stdin",
     "output_type": "stream",
     "text": [
      "이름은? 강감찬\n"
     ]
    },
    {
     "name": "stdout",
     "output_type": "stream",
     "text": [
      "8월16일\n"
     ]
    }
   ],
   "source": [
    "name=input(\"이름은?\")\n",
    "for i in range(len(a)):\n",
    "    if a[i][\"이름\"]==name:\n",
    "        print(a[i][\"생일\"])"
   ]
  },
  {
   "cell_type": "code",
   "execution_count": 366,
   "id": "b7ef52fd-3580-4481-891f-7eee030f2307",
   "metadata": {},
   "outputs": [
    {
     "data": {
      "text/plain": [
       "[{'제품코드': 'P001',\n",
       "  '제품명': '노트북',\n",
       "  '카테고리': '전자기기',\n",
       "  '재고수량': 50,\n",
       "  '가격': 120000,\n",
       "  '입고일': '2024-02-08'},\n",
       " {'제품코드': 'P002',\n",
       "  '제품명': '스마트폰',\n",
       "  '카테고리': '전자기기',\n",
       "  '재고수량': 100,\n",
       "  '가격': 34000,\n",
       "  '입고일': '2024-03-17'},\n",
       " {'제품코드': 'P003',\n",
       "  '제품명': '이어폰',\n",
       "  '카테고리': '액세서리',\n",
       "  '재고수량': 50,\n",
       "  '가격': 180000,\n",
       "  '입고일': '2024-11-12'}]"
      ]
     },
     "execution_count": 366,
     "metadata": {},
     "output_type": "execute_result"
    }
   ],
   "source": [
    "inventory_tuples=[\n",
    "    (\"P001\",\"노트북\",\"전자기기\",50,120000,\"2024-02-08\"),\n",
    "    (\"P002\",\"스마트폰\",\"전자기기\",100,34000,\"2024-03-17\"),\n",
    "    (\"P003\",\"이어폰\",\"액세서리\",50,180000,\"2024-11-12\")\n",
    "]\n",
    "\n",
    "inventory_dict=[\n",
    "    {\n",
    "        \"제품코드\":item[0],\n",
    "        \"제품명\":item[1],\n",
    "        \"카테고리\":item[2],\n",
    "        \"재고수량\":item[3],\n",
    "        \"가격\":item[4],\n",
    "        \"입고일\":item[5]\n",
    "    } for item in inventory_tuples\n",
    "]\n",
    "\n",
    "inventory_dict   "
   ]
  },
  {
   "cell_type": "code",
   "execution_count": 368,
   "id": "64b3ea75-89b7-4c72-86be-298961a24599",
   "metadata": {},
   "outputs": [
    {
     "name": "stdin",
     "output_type": "stream",
     "text": [
      "제품은? 노트북\n"
     ]
    },
    {
     "name": "stdout",
     "output_type": "stream",
     "text": [
      "120000\n"
     ]
    }
   ],
   "source": [
    "name=input(\"제품은?\")\n",
    "for i in range(len(inventory_dict)):\n",
    "    if inventory_dict[i][\"제품명\"]==name:\n",
    "        print(inventory_dict[i][\"가격\"])"
   ]
  },
  {
   "cell_type": "code",
   "execution_count": 372,
   "id": "fa80e615-c132-4c4b-a397-fdadb910f35c",
   "metadata": {},
   "outputs": [
    {
     "data": {
      "text/plain": [
       "[{'날짜': '2024-03-15', '방문자수': 1500, '페이지뷰': 4500, '평균체류시간': 185, '이탈률': 25.5},\n",
       " {'날짜': '2024-03-14', '방문자수': 1400, '페이지뷰': 4200, '평균체류시간': 190, '이탈률': 23.8},\n",
       " {'날짜': '2024-03-13', '방문자수': 1600, '페이지뷰': 4800, '평균체류시간': 178, '이탈률': 26.2}]"
      ]
     },
     "execution_count": 372,
     "metadata": {},
     "output_type": "execute_result"
    }
   ],
   "source": [
    "traffic_tuples = [\n",
    "    (\"2024-03-15\", 1500, 4500, 185, 25.5),\n",
    "    (\"2024-03-14\", 1400, 4200, 190, 23.8),\n",
    "    (\"2024-03-13\", 1600, 4800, 178, 26.2)\n",
    "]\n",
    "\n",
    "traffic_dict=[\n",
    "    {   \"날짜\":traffic[0],\n",
    "        \"방문자수\":traffic[1],\n",
    "        \"페이지뷰\":traffic[2],\n",
    "        \"평균체류시간\":traffic[3],\n",
    "        \"이탈률\":traffic[4]\n",
    "    } for traffic in traffic_tuples\n",
    "]\n",
    "\n",
    "traffic_dict   "
   ]
  },
  {
   "cell_type": "code",
   "execution_count": 402,
   "id": "43e2acfe-37c4-43c5-878f-1605a97dcf80",
   "metadata": {},
   "outputs": [
    {
     "name": "stdin",
     "output_type": "stream",
     "text": [
      "날짜는? 2024-03-15\n"
     ]
    },
    {
     "name": "stdout",
     "output_type": "stream",
     "text": [
      "방문자수: 1500\n",
      "페이지뷰: 4500\n",
      "평균체류시간: 185\n",
      "이탈률: 25.5\n"
     ]
    }
   ],
   "source": [
    "day=input(\"날짜는?\")\n",
    "for i in range(len(traffic_dict)):\n",
    "    if traffic_dict[i][\"날짜\"]==day:\n",
    "        print(\"방문자수:\",traffic_dict[i][\"방문자수\"])\n",
    "        print(\"페이지뷰:\",traffic_dict[i][\"페이지뷰\"])\n",
    "        print(\"평균체류시간:\",traffic_dict[i][\"평균체류시간\"])\n",
    "        print(\"이탈률:\",traffic_dict[i][\"이탈률\"])"
   ]
  },
  {
   "cell_type": "code",
   "execution_count": 404,
   "id": "e76cb5eb-68c9-49a9-a106-063a06730bef",
   "metadata": {},
   "outputs": [
    {
     "data": {
      "text/plain": [
       "[{'매장코드': 'S001',\n",
       "  '지역': '서울',\n",
       "  '일일판매액': 500000,\n",
       "  '방문객수': 200,\n",
       "  '평균구매액': 25000,\n",
       "  '직원수': 8},\n",
       " {'매장코드': 'S002',\n",
       "  '지역': '부산',\n",
       "  '일일판매액': 350000,\n",
       "  '방문객수': 150,\n",
       "  '평균구매액': 23000,\n",
       "  '직원수': 6},\n",
       " {'매장코드': 'S003',\n",
       "  '지역': '대구',\n",
       "  '일일판매액': 280000,\n",
       "  '방문객수': 120,\n",
       "  '평균구매액': 25500,\n",
       "  '직원수': 8}]"
      ]
     },
     "execution_count": 404,
     "metadata": {},
     "output_type": "execute_result"
    }
   ],
   "source": [
    "store_sales_tuples=[\n",
    "    (\"S001\",\"서울\",500000,200,25000,8),\n",
    "    (\"S002\",\"부산\",350000,150,23000,6),\n",
    "    (\"S003\",\"대구\",280000,120,25500,8)\n",
    "]\n",
    "store_sales_dict=[\n",
    "    {   \"매장코드\":item[0],\n",
    "        \"지역\":item[1],\n",
    "        \"일일판매액\":item[2],\n",
    "        \"방문객수\":item[3],\n",
    "        \"평균구매액\":item[4],\n",
    "        \"직원수\":item[5]\n",
    "    } for item in store_sales_tuples\n",
    "]\n",
    "\n",
    "store_sales_dict "
   ]
  },
  {
   "cell_type": "code",
   "execution_count": 418,
   "id": "90752af5-6925-4965-a516-9a808cdedb82",
   "metadata": {},
   "outputs": [
    {
     "name": "stdin",
     "output_type": "stream",
     "text": [
      "지역은? 부산\n"
     ]
    },
    {
     "name": "stdout",
     "output_type": "stream",
     "text": [
      "매장코드: S002\n",
      "일일판매액:350,000원\n",
      "방문객수: 150 명\n",
      "평균구매액: 23,000원\n",
      "직원수: 6 명\n"
     ]
    }
   ],
   "source": [
    "place=input(\"지역은?\")\n",
    "for i in range(len(store_sales_dict)):\n",
    "    if store_sales_dict[i][\"지역\"]==place:\n",
    "        print(\"매장코드:\",store_sales_dict[i][\"매장코드\"])\n",
    "        print(\"일일판매액:\" f\"{store_sales_dict[i]['일일판매액']:,}원\")\n",
    "        print(\"방문객수:\",store_sales_dict[i][\"방문객수\"],\"명\")\n",
    "        print(\"평균구매액:\",f\"{store_sales_dict[i][\"평균구매액\"]:,}원\")\n",
    "        print(\"직원수:\",store_sales_dict[i][\"직원수\"],\"명\")"
   ]
  },
  {
   "cell_type": "code",
   "execution_count": 420,
   "id": "71e980c2-4f5f-4af2-af9e-0a79b6e62ad3",
   "metadata": {},
   "outputs": [
    {
     "data": {
      "text/plain": [
       "'짝수'"
      ]
     },
     "execution_count": 420,
     "metadata": {},
     "output_type": "execute_result"
    }
   ],
   "source": [
    "x=10\n",
    "result=\"짝수\" if x%2==0 else \"홀수\"\n",
    "result"
   ]
  },
  {
   "cell_type": "code",
   "execution_count": 422,
   "id": "2d5c8a8f-bf34-437c-af98-4123ed0ece91",
   "metadata": {},
   "outputs": [
    {
     "name": "stdout",
     "output_type": "stream",
     "text": [
      "성인\n"
     ]
    }
   ],
   "source": [
    "age=18\n",
    "status=\"성인\" if age>=18 else \"미성년자\"\n",
    "print(status)"
   ]
  },
  {
   "cell_type": "code",
   "execution_count": 426,
   "id": "b6f4a137-936d-4d33-82a8-c747424da351",
   "metadata": {},
   "outputs": [
    {
     "name": "stdout",
     "output_type": "stream",
     "text": [
      "['합격', '불합격', '불합격', '합격', '합격']\n"
     ]
    }
   ],
   "source": [
    "numbers=[67,45,30,84,95]\n",
    "result=[\"합격\" if n>=60 else \"불합격\" for n in numbers]\n",
    "print(result)"
   ]
  },
  {
   "cell_type": "markdown",
   "id": "a689b960-1b32-45fd-b9dd-84e3b190f6b3",
   "metadata": {},
   "source": [
    "## enumerate()"
   ]
  },
  {
   "cell_type": "code",
   "execution_count": 430,
   "id": "4267437b-e7f1-4dab-b5de-c2364159119a",
   "metadata": {},
   "outputs": [
    {
     "name": "stdout",
     "output_type": "stream",
     "text": [
      "1 apple\n",
      "2 banana\n",
      "3 cherry\n"
     ]
    }
   ],
   "source": [
    "fruits=['apple','banana','cherry']\n",
    "\n",
    "for index, fruit in enumerate(fruits, start=1):\n",
    "    print(index,fruit)"
   ]
  },
  {
   "cell_type": "markdown",
   "id": "00344d39-4dd0-4a83-9809-b108782cc18b",
   "metadata": {},
   "source": [
    "### 집합(set):중복X"
   ]
  },
  {
   "cell_type": "code",
   "execution_count": 438,
   "id": "4e04fa3f-568c-4648-a26f-983f0d9156eb",
   "metadata": {},
   "outputs": [
    {
     "name": "stdout",
     "output_type": "stream",
     "text": [
      "{1, 2, 3, 4, 5}\n"
     ]
    }
   ],
   "source": [
    "my_list=[1,2,3,4,5]\n",
    "my_set=set(my_list)\n",
    "print(my_set)"
   ]
  },
  {
   "cell_type": "markdown",
   "id": "5b27aa55-b0e0-4498-b5c8-b42cf82194f8",
   "metadata": {},
   "source": [
    "### 성별 평균 구매금액"
   ]
  },
  {
   "cell_type": "code",
   "execution_count": 451,
   "id": "be2c36aa-cc82-4484-97bb-666333aa1b18",
   "metadata": {},
   "outputs": [
    {
     "name": "stdout",
     "output_type": "stream",
     "text": [
      "245000\n",
      "280000\n"
     ]
    }
   ],
   "source": [
    "customer_dict={\n",
    "    \"C001\":{\"이름\":\"김철수\",\"나이\":35,\"성별\":\"남성\",\"구매금액\":150000,\"구매날짜\":\"2024-03-15\"},\n",
    "    \"C002\":{\"이름\":\"이영희\",\"나이\":28,\"성별\":\"여성\",\"구매금액\":280000,\"구매날짜\":\"2024-03-14\"},\n",
    "    \"C003\":{\"이름\":\"박민수\",\"나이\":45,\"성별\":\"남성\",\"구매금액\":95000,\"구매날짜\":\"2024-03-13\"},\n",
    "}\n",
    "\n",
    "#성별 평균 구매금액 계산\n",
    "gender_totals={\"남성\": [], \"여성\":[]}\n",
    "for customer_id,info in customer_dict.items():   #customer_dict.items():딕셔너리의 모든 (키, 값) 쌍을 반환\n",
    "    gender_totals[info[\"성별\"]].append(info[\"구매금액\"])\n",
    "\n",
    "print(sum(gender_totals[\"남성\"]))\n",
    "print(sum(gender_totals[\"여성\"]))"
   ]
  },
  {
   "cell_type": "markdown",
   "id": "2065d73a-ad58-412a-ba9e-352091680f3f",
   "metadata": {},
   "source": [
    "### 카테고리별 재고 금액 계산"
   ]
  },
  {
   "cell_type": "code",
   "execution_count": 483,
   "id": "83091ae0-5442-4c03-9ec3-8fac5c8a2527",
   "metadata": {},
   "outputs": [
    {
     "name": "stdout",
     "output_type": "stream",
     "text": [
      "카테고리별 재고 금액: {'전자기기': 145000000, '액세서리': 36000000}\n"
     ]
    }
   ],
   "source": [
    "inventory_dict={\n",
    "    \"P001\":{\"제품명\":\"노트북\",\"카테고리\":\"전자기기\",\"재고수량\":50,\"가격\":1200000,\"입고일\":\"2024-02-08\"},\n",
    "    \"P002\":{\"제품명\":\"스마트폰\",\"카테고리\":\"전자기기\",\"재고수량\":100,\"가격\":850000,\"입고일\":\"2024-02-15\"},\n",
    "    \"P003\":{\"제품명\":\"이어폰\",\"카테고리\":\"액세서리\",\"재고수량\":200,\"가격\":180000,\"입고일\":\"2024-03-01\"}\n",
    "}\n",
    "\n",
    "#카테고리별 재고 금액 계산\n",
    "category_stock_value={}\n",
    "\n",
    "for product_id,info in inventory_dict.items():\n",
    "    if info[\"카테고리\"] in category_stock_value:\n",
    "        category_stock_value[info[\"카테고리\"]]+=info[\"재고수량\"]*info[\"가격\"]\n",
    "    else:\n",
    "        category_stock_value[info[\"카테고리\"]]=info[\"재고수량\"]*info[\"가격\"]\n",
    "print(\"카테고리별 재고 금액:\", category_stock_value)\n"
   ]
  },
  {
   "cell_type": "code",
   "execution_count": 494,
   "id": "acf69f12-b2e6-41a8-954c-585c31e0d0ef",
   "metadata": {},
   "outputs": [
    {
     "name": "stdout",
     "output_type": "stream",
     "text": [
      "일별 사용자당 페이지뷰: {'2024-03-15': 3.0, '2024-03-14': 4.4, '2024-03-13': 2.3}\n"
     ]
    }
   ],
   "source": [
    "traffic_dict = {\n",
    "    \"2024-03-15\": {\"방문자수\": 1500, \"페이지뷰\": 4500, \"평균체류시간\": 185, \"이탈률\": 25.5},\n",
    "    \"2024-03-14\": {\"방문자수\": 1400, \"페이지뷰\": 6200, \"평균체류시간\": 190, \"이탈률\": 23.8},\n",
    "    \"2024-03-13\": {\"방문자수\": 2100, \"페이지뷰\": 4800, \"평균체류시간\": 178, \"이탈률\": 26.2}\n",
    "}\n",
    "#일별 사용자당 페이지뷰 계산\n",
    "daily_pages_per_visitor={}\n",
    "for date_id, info in traffic_dict.items():\n",
    "    daily_pages_per_visitor[date_id]=round(info[\"페이지뷰\"]/info[\"방문자수\"],1)\n",
    "\n",
    "print(\"일별 사용자당 페이지뷰:\", daily_pages_per_visitor)"
   ]
  },
  {
   "cell_type": "code",
   "execution_count": 500,
   "id": "0d64133c-54d2-4480-8a22-82c0440a7a92",
   "metadata": {},
   "outputs": [
    {
     "name": "stdout",
     "output_type": "stream",
     "text": [
      "일별 사용자당 페이지뷰: {'2024-03-15': 3.0, '2024-03-14': 4.4, '2024-03-13': 2.3}\n"
     ]
    }
   ],
   "source": [
    "traffic_dict = {\n",
    "    \"2024-03-15\": {\"방문자수\": 1500, \"페이지뷰\": 4500, \"평균체류시간\": 185, \"이탈률\": 25.5},\n",
    "    \"2024-03-14\": {\"방문자수\": 1400, \"페이지뷰\": 6200, \"평균체류시간\": 190, \"이탈률\": 23.8},\n",
    "    \"2024-03-13\": {\"방문자수\": 2100, \"페이지뷰\": 4800, \"평균체류시간\": 178, \"이탈률\": 26.2}\n",
    "}\n",
    "\n",
    "daily_pages_per_visitor={\n",
    "    date_id:round(info[\"페이지뷰\"]/info[\"방문자수\"],1)\n",
    "    for date_id, info in traffic_dict.items()\n",
    "}\n",
    "print(\"일별 사용자당 페이지뷰:\", daily_pages_per_visitor)"
   ]
  },
  {
   "cell_type": "markdown",
   "id": "ad6fb17e-dd86-4946-a321-d613ebbacff9",
   "metadata": {},
   "source": [
    "### 직원 1인당 매출액 계산"
   ]
  },
  {
   "cell_type": "code",
   "execution_count": 35,
   "id": "527a4ec5-1039-48db-843e-f67fe6a33da0",
   "metadata": {},
   "outputs": [
    {
     "name": "stdout",
     "output_type": "stream",
     "text": [
      "직원 1인당 매출액: {'S001': 625000.0, 'S002': 583333.3333333334, 'S003': 560000.0}\n"
     ]
    }
   ],
   "source": [
    "store_sales_dict = {\n",
    "    \"S001\": {\"지역\": \"서울\", \"일일판매액\": 5000000, \"방문객수\": 200, \"평균구매액\": 25000, \"직원수\": 8},\n",
    "    \"S002\": {\"지역\": \"부산\", \"일일판매액\": 3500000, \"방문객수\": 150, \"평균구매액\": 23000, \"직원수\": 6},\n",
    "    \"S003\": {\"지역\": \"대구\", \"일일판매액\": 2800000, \"방문객수\": 120, \"평균구매액\": 23500, \"직원수\": 5}\n",
    "}\n",
    "\n",
    "#직원 1인당 매출액\n",
    "per_sales={\n",
    "    sales_id:info[\"일일판매액\"]/info[\"직원수\"]\n",
    "    for sales_id, info in store_sales_dict.items()\n",
    "}\n",
    "print(\"직원 1인당 매출액:\",per_sales)"
   ]
  },
  {
   "cell_type": "code",
   "execution_count": 80,
   "id": "e8596fa0-b90e-4407-9cde-ff4611278a7a",
   "metadata": {},
   "outputs": [
    {
     "name": "stdout",
     "output_type": "stream",
     "text": [
      "매장별 직원 생산성: {'S001': {'지역': '서울', '직원당매출': 625000.0}, 'S002': {'지역': '부산', '직원당매출': 583333.3333333334}, 'S003': {'지역': '대구', '직원당매출': 560000.0}}\n"
     ]
    }
   ],
   "source": [
    "employee_productivity={\n",
    "    store_id:{\n",
    "        \"지역\":info[\"지역\"],\n",
    "        \"직원당매출\":info[\"일일판매액\"]/info[\"직원수\"]\n",
    "    }\n",
    "    for store_id, info in store_sales_dict.items()\n",
    "}\n",
    "print(\"매장별 직원 생산성:\",employee_productivity)"
   ]
  },
  {
   "cell_type": "markdown",
   "id": "4bde7007-dc90-454e-a590-5c1fb2d1ef2d",
   "metadata": {},
   "source": [
    "### 제품별 평균 평점 계산"
   ]
  },
  {
   "cell_type": "code",
   "execution_count": 85,
   "id": "2fc9ac11-8670-4e0e-970f-37d22fb732e8",
   "metadata": {},
   "outputs": [
    {
     "name": "stdout",
     "output_type": "stream",
     "text": [
      "제품별 평균 평점: {'P001': 4.0, 'P002': 5.0}\n"
     ]
    }
   ],
   "source": [
    "feedback_dict = {\n",
    "    \"R001\": {\"제품ID\": \"P001\", \"평점\": 4.5, \"리뷰내용\": \"매우 만족합니다\", \"작성일\": \"2024-03-15\", \"추천수\": 10},\n",
    "    \"R002\": {\"제품ID\": \"P001\", \"평점\": 3.5, \"리뷰내용\": \"보통입니다\", \"작성일\": \"2024-03-14\", \"추천수\": 5},\n",
    "    \"R003\": {\"제품ID\": \"P002\", \"평점\": 5.0, \"리뷰내용\": \"최고의 제품\", \"작성일\": \"2024-03-13\", \"추천수\": 15}\n",
    "}\n",
    "\n",
    "#제품별 평균 평점\n",
    "product_rating={}\n",
    "for review_id, info in feedback_dict.items():\n",
    "    product_id=info[\"제품ID\"]\n",
    "    if product_id not in product_ratings:\n",
    "        product_ratings[product_id]={\"평점합계\":0, \"리뷰수\":0}\n",
    "    product_ratings[product_id][\"평점합계\"]+=info[\"평점\"]\n",
    "    product_ratings[product_id][\"리뷰수\"]+=1\n",
    "\n",
    "average_ratings={\n",
    "    product_id:info[\"평점합계\"]/info[\"리뷰수\"]\n",
    "    for product_id,info in product_ratings.items()\n",
    "}\n",
    "print(\"제품별 평균 평점:\", average_ratings)"
   ]
  },
  {
   "cell_type": "code",
   "execution_count": null,
   "id": "620a1014-6fe1-458e-90ed-433f82004830",
   "metadata": {},
   "outputs": [],
   "source": []
  }
 ],
 "metadata": {
  "kernelspec": {
   "display_name": "Python 3 (ipykernel)",
   "language": "python",
   "name": "python3"
  },
  "language_info": {
   "codemirror_mode": {
    "name": "ipython",
    "version": 3
   },
   "file_extension": ".py",
   "mimetype": "text/x-python",
   "name": "python",
   "nbconvert_exporter": "python",
   "pygments_lexer": "ipython3",
   "version": "3.12.7"
  }
 },
 "nbformat": 4,
 "nbformat_minor": 5
}
