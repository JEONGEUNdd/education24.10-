{
 "cells": [
  {
   "cell_type": "code",
   "execution_count": 2,
   "id": "c32bd460-c419-457b-837d-c07e3c3deb81",
   "metadata": {},
   "outputs": [
    {
     "name": "stdout",
     "output_type": "stream",
     "text": [
      "C:\\Temp\\2024\\class\\lab\\1115/example_dir\\001.ipynb - 백업완료\n",
      "C:\\Temp\\2024\\class\\lab\\1115/example_dir\\002.ipynb - 백업완료\n",
      "C:\\Temp\\2024\\class\\lab\\1115/example_dir\\111.txt - 백업완료\n",
      "C:\\Temp\\2024\\class\\lab\\1115/example_dir\\data.json - 백업완료\n",
      "C:\\Temp\\2024\\class\\lab\\1115/example_dir\\example.txt - 백업완료\n",
      "C:\\Temp\\2024\\class\\lab\\1115/example_dir\\sample_new.txt - 백업완료\n"
     ]
    }
   ],
   "source": [
    "# 백업\n",
    "import os\n",
    "\n",
    "def backup_files(source_directory, backup_directory):\n",
    "\n",
    "    '''\n",
    "    1) 백업폴더가 존재하는지\n",
    "    2) 백업폴더가 없으면 생성 아니면 계속 진행\n",
    "    3) 원본폴더의 파일목록 불러오기\n",
    "    4) 파일목록 순서대로 돌기\n",
    "    5) 목록이 파일인지 확인 (파일일 경우에만 백업진행)\n",
    "    6) 작업폴더의 파일을 rb로 읽어오기\n",
    "    7) rb로 읽어온 데이터를 백업폴더의 파일에 wb로 저장\n",
    "    '''\n",
    "    \n",
    "    # os.path.exists : 백업폴더가 존재하는지\n",
    "    # os.makedirs : 백업폴더가 없으면 생성\n",
    "    # os.listdir : 원본폴더의 파일목록 불러오기\n",
    "    # for fname in os.listdir(source_directory): 파일 목록 순서대로 돌기\n",
    "        # if os.path.isfile(fname) : 목록이 파일인지 확인\n",
    "            # with open(source_directory + \"/\" + fname,\"rb\") as f1: # 작업폴더\n",
    "                # data = f1.read()\n",
    "            # with open(backup_directory + \"/\" + fname\",\"wb\") as f2:# 백업폴더\n",
    "                # f2.write(data)\n",
    "\n",
    "    if not os.path.exists(backup_directory):\n",
    "        os.makedirs(backup_directory)\n",
    "        print(\"백업폴더 생성\")\n",
    "\n",
    "    for filename in os.listdir(source_directory):\n",
    "        \n",
    "        #source_path = source_directory + '/' + filename\n",
    "        #backup_path = backup_directory + '/' + filename\n",
    "\n",
    "        # 경로연결 메소드\n",
    "        source_path = os.path.join(source_directory, filename)\n",
    "        backup_path = os.path.join(backup_directory, filename)\n",
    "        \n",
    "        if os.path.isfile(source_path): # 절대경로\n",
    "            \n",
    "            with open(source_path,'rb') as f1:\n",
    "                data = f1.read()\n",
    "            with open(backup_path,'wb') as f2:\n",
    "                f2.write(data)\n",
    "\n",
    "            #with open(source_path,'rb') as f1:\n",
    "            #    with open(backup_path,'wb') as f2:\n",
    "            #        f2.write(f1.read())\n",
    "                \n",
    "            print(f\"{backup_path} - 백업완료\")\n",
    "\n",
    "source_directory = os.getcwd()\n",
    "backup_directory = os.getcwd() + '/example_dir'\n",
    "\n",
    "backup_files(source_directory, backup_directory)"
   ]
  },
  {
   "cell_type": "code",
   "execution_count": 12,
   "id": "93f9b88c-731a-4111-9d8d-0700350cadc9",
   "metadata": {},
   "outputs": [
    {
     "name": "stdout",
     "output_type": "stream",
     "text": [
      "D:/test/sample.txt\n",
      "D:/test\\sample.txt\n",
      "sample.txt\n"
     ]
    }
   ],
   "source": [
    "source_directory = \"D:/test\"\n",
    "filename = \"sample.txt\"\n",
    "\n",
    "# 문자열 연결\n",
    "source_path = source_directory + '/' + filename\n",
    "print(source_path)\n",
    "\n",
    "# 경로연결 메소드\n",
    "source_path = os.path.join(source_directory, filename)\n",
    "print(source_path)\n",
    "\n",
    "# 파일 이름가져오기\n",
    "filename = os.path.basename(source_path)\n",
    "print(filename)\n",
    "\n",
    "# 파일이름 변경 (파일 이동)\n",
    "os.rename(\"sample_new.txt\",\"sample_new1.txt\")"
   ]
  },
  {
   "cell_type": "code",
   "execution_count": null,
   "id": "befb1207-d736-4eb0-bf6f-fd5de72d3cc9",
   "metadata": {},
   "outputs": [],
   "source": [
    "# 파일분류 (확장자별 폴더로 파일정리[이동])\n",
    "'''\n",
    "[목표] 타겟 경로내의 파일들의 확장자를 기준으로 폴더를 만들고 해당 파일들을 각 확장자 폴더로 이동시켜서 정리하고자 합니다.\n",
    "[순서]\n",
    "1) 타겟 경로내 파일목록 불러오기\n",
    "2) 파일인지 아닌지 확인 (파일인 경우만 진행)\n",
    "3) 확장자 확인(분리)\n",
    "4) 타겟 경로와 확장자 합치기 (생성할 확장자 폴더 경로)\n",
    "5) 확장자 폴더가 존재하지 않을때만 확장자 폴더생성\n",
    "6) 타겟 경로와 경로내 파일 연결 (절대경로 생성)\n",
    "7) 해당 확장자 경로로 파일 이동\n",
    "'''\n",
    "\n",
    "'''\n",
    "os.listdir : 타겟 경로내 파일목록 부르기\n",
    "    os.path.isfile : 파일여부 확인 (절대경로 기준으로 확인)\n",
    "        split -> 리스트 -> [-1] : 확장자 확인\n",
    "        os.path.join : 타겟경로 + 확장자폴더  -> 생성 위해서\n",
    "        os.path.exists : 타겟경로 + 확장자폴더 path가 존재하는지 확인\n",
    "            os.makedirs : 존재하지 않으면 생성\n",
    "            \n",
    "        os.path.join : 타겟경로 + 확장자폴더 + 파일명\n",
    "        os.rename : 타겟경로 + 파일명(기존 경로) ---> 타겟경로 + 확장자폴더 + 파일명(이동할 경로)\n",
    "'''\n",
    "\n",
    "\n",
    "\n",
    "target_directory = 'path/to/target_directory'\n",
    "organize_files(target_directory)\n",
    "\n",
    "# 파일 크기 확인: os.path.getsize(file_path)"
   ]
  }
 ],
 "metadata": {
  "kernelspec": {
   "display_name": "Python 3 (ipykernel)",
   "language": "python",
   "name": "python3"
  },
  "language_info": {
   "codemirror_mode": {
    "name": "ipython",
    "version": 3
   },
   "file_extension": ".py",
   "mimetype": "text/x-python",
   "name": "python",
   "nbconvert_exporter": "python",
   "pygments_lexer": "ipython3",
   "version": "3.12.7"
  }
 },
 "nbformat": 4,
 "nbformat_minor": 5
}
