{
 "cells": [
  {
   "cell_type": "markdown",
   "id": "72f9057d-30df-46b5-b2f5-a53f9dec08b5",
   "metadata": {},
   "source": [
    "### 클래스"
   ]
  },
  {
   "cell_type": "code",
   "execution_count": 2,
   "id": "7d22f6f8-b2a2-4efd-afb3-50c73cb3cf36",
   "metadata": {},
   "outputs": [
    {
     "name": "stdout",
     "output_type": "stream",
     "text": [
      "우리집최고\n"
     ]
    }
   ],
   "source": [
    "class Human:\n",
    "    def __init__(self):\n",
    "        print(\"우리집최고\")\n",
    "\n",
    "a=Human()"
   ]
  },
  {
   "cell_type": "code",
   "execution_count": 3,
   "id": "0b1860ac-176b-412a-b833-87ef6a1260a7",
   "metadata": {},
   "outputs": [
    {
     "name": "stdout",
     "output_type": "stream",
     "text": [
      "홍길동\n",
      "31\n",
      "****************************************************************************************************\n",
      "유관순\n"
     ]
    }
   ],
   "source": [
    "#이름, 나이, 성별(name,age,gender)\n",
    "#이름만 출력\n",
    "class Human:\n",
    "    def __init__(self,name,age,gender):\n",
    "        self.name=name\n",
    "        self.age=age\n",
    "        self.gender=gender\n",
    "        \n",
    "    def who(self):\n",
    "        print(f\"이름: {self.name}, 나이:{self.age}, 성별:{self.gender}\")\n",
    "\n",
    "    def setInfo(self,name,age,gender):\n",
    "        self.name=name\n",
    "        self.age=age\n",
    "        self.gender=gender\n",
    "\n",
    "    def __del__(self):\n",
    "        print(\"삭제할 것\")\n",
    "        \n",
    "a=Human(\"홍길동\",31,\"남자\")\n",
    "print(a.name)\n",
    "print(a.age)\n",
    "\n",
    "print(\"*\"*100)\n",
    "\n",
    "a.setInfo(\"유관순\",19,\"여자\")\n",
    "print(a.name)"
   ]
  },
  {
   "cell_type": "code",
   "execution_count": 4,
   "id": "33a5db13-37e9-4ed3-8f05-482750d8e250",
   "metadata": {},
   "outputs": [
    {
     "name": "stdout",
     "output_type": "stream",
     "text": [
      "이름: 유관순, 나이:19, 성별:여자\n"
     ]
    }
   ],
   "source": [
    "a.who()"
   ]
  },
  {
   "cell_type": "code",
   "execution_count": 5,
   "id": "74a4dfad-4f37-4ee9-b1c0-8b9dfe8f5d1a",
   "metadata": {},
   "outputs": [
    {
     "name": "stdout",
     "output_type": "stream",
     "text": [
      "삭제할 것\n"
     ]
    }
   ],
   "source": [
    "del a  #인스턴스 삭제"
   ]
  },
  {
   "cell_type": "code",
   "execution_count": 6,
   "id": "5cb844dc-84c1-437e-9006-bd0698c2da46",
   "metadata": {},
   "outputs": [
    {
     "name": "stdout",
     "output_type": "stream",
     "text": [
      "Wow!\n"
     ]
    }
   ],
   "source": [
    "class OMG:\n",
    "    def print(self):\n",
    "        print(\"Wow!\")\n",
    "\n",
    "myi=OMG()\n",
    "myi.print()"
   ]
  },
  {
   "cell_type": "code",
   "execution_count": 7,
   "id": "12d02da9-1d36-4e5a-ad0a-ba5e7eb4abf1",
   "metadata": {},
   "outputs": [
    {
     "name": "stdout",
     "output_type": "stream",
     "text": [
      "====메뉴====\n",
      " - 아메리카노:3000원\n",
      " - 카페라떼:3500원\n",
      " - 바닐라라떼:4000원\n",
      " - 녹차라떼:3200원\n",
      "----------------------------------------------------------------------------------------------------\n"
     ]
    },
    {
     "name": "stdin",
     "output_type": "stream",
     "text": [
      "어떤 음료를 주문하시겠습니까? 아메리카노\n",
      "몇 잔을 주문하시겠습니까 2\n"
     ]
    },
    {
     "name": "stdout",
     "output_type": "stream",
     "text": [
      "주문하신 아메리카노 2잔의 가격은 6,000원 입니다.\n"
     ]
    }
   ],
   "source": [
    "def calculate_coffee_price():\n",
    "    drinks={\n",
    "        '아메리카노':3000,\n",
    "        '카페라떼':3500,\n",
    "        '바닐라라떼':4000,\n",
    "        '녹차라떼':3200\n",
    "    }\n",
    "    print(\"====메뉴====\")\n",
    "    for drink, price in drinks.items():\n",
    "        print(f\" - {drink}:{price}원\")\n",
    "    print(\"-\"*100)\n",
    "\n",
    "    order=input(\"어떤 음료를 주문하시겠습니까?\")\n",
    "    quantity=int(input(\"몇 잔을 주문하시겠습니까\"))\n",
    "\n",
    "    if order in drinks:\n",
    "        price=drinks[order]*quantity\n",
    "        print(f\"주문하신 {order} {quantity}잔의 가격은 {price:,}원 입니다.\")\n",
    "    else:\n",
    "        print(f\"죄송합니다. 주문하신 음료는 없습니다.\")\n",
    "\n",
    "calculate_coffee_price()"
   ]
  },
  {
   "cell_type": "code",
   "execution_count": 8,
   "id": "87d29b82-627e-40cc-83eb-dc57b024147d",
   "metadata": {},
   "outputs": [
    {
     "name": "stdout",
     "output_type": "stream",
     "text": [
      "=== 메뉴===\n",
      " -1) 아메리카노:3,000원\n",
      " -2) 카페라떼:3,500원\n",
      " -3) 바닐라라떼:4,000원\n",
      " -4) 녹차라떼:3,200원\n",
      "----------------------------------------------------------------------------------------------------\n"
     ]
    },
    {
     "name": "stdin",
     "output_type": "stream",
     "text": [
      "주문하실 상품 번호를 선택해 주세요 1\n",
      "몇 잔을 주문하시겠습니까 3\n"
     ]
    },
    {
     "name": "stdout",
     "output_type": "stream",
     "text": [
      "주문하신 아메리카노 3잔의 가격은 9,000원 입니다.\n"
     ]
    }
   ],
   "source": [
    "class CoffeeCalculator:\n",
    "\n",
    "    def __init__(self):\n",
    "        self.drinks={\n",
    "            '아메리카노':3000,\n",
    "            '카페라떼':3500,\n",
    "            '바닐라라떼':4000,\n",
    "            '녹차라떼':3200\n",
    "        }\n",
    "            \n",
    "    def show_menu(self):\n",
    "        print(\"=== 메뉴===\")\n",
    "        '''for drink, price in self.drinks.items():\n",
    "            print(f\"- {drink}:{price:,}원\")'''\n",
    "        for i, (drink,price) in enumerate(self.drinks.items(),1):\n",
    "            print(f\" -{i}) {drink}:{price:,}원\")\n",
    "\n",
    "        # num=1\n",
    "        # for drink,price in self.drinks.items():\n",
    "        #     print(f\"-{num}) {drink}: {price:,}원\")\n",
    "        #     num+=1   위의 for문 enumerate대신 이거 써도 됨\n",
    "            \n",
    "        print(\"-\"*100)\n",
    "    \n",
    "    def cal_price(self, order, quantity):\n",
    "        return self.drinks[order]*quantity\n",
    "    \n",
    "    def run(self):\n",
    "        self.show_menu()\n",
    "        chk=int(input(\"주문하실 상품 번호를 선택해 주세요\"))\n",
    "        order=[k for k in self.drinks.keys()][chk-1]\n",
    "        \n",
    "        quantity=int(input(\"몇 잔을 주문하시겠습니까\"))\n",
    "        \n",
    "        if order in self.drinks:\n",
    "            price=self.cal_price(order,quantity)\n",
    "            print(f\"주문하신 {order} {quantity}잔의 가격은 {price:,}원 입니다.\")\n",
    "        else:\n",
    "            print(f\"죄송합니다. 주문하신 음료는 없습니다.\")\n",
    "cafe=CoffeeCalculator()\n",
    "cafe.run()"
   ]
  },
  {
   "cell_type": "code",
   "execution_count": 9,
   "id": "e03ca47b-ef93-4abe-b859-c120f31b0bbd",
   "metadata": {},
   "outputs": [
    {
     "name": "stdin",
     "output_type": "stream",
     "text": [
      "주문하실 상품 번호를 선택해 주세요 2\n",
      "몇 잔을 주문하시겠습니까 5\n"
     ]
    },
    {
     "name": "stdout",
     "output_type": "stream",
     "text": [
      "주문하신 카페라떼 5잔의 가격은 17,500원 입니다.\n"
     ]
    }
   ],
   "source": [
    "data=[('아메리카노',2500),('카페라떼',3500),('바닐라라떼',4000),('녹차라떼',3000)]\n",
    " \n",
    "class CoffeeCalculator:\n",
    "\n",
    "    def __init__(self,data):\n",
    "        self.drinks={order:price for order,price in data}  # 리스트 data를 딕셔너리로 변환\n",
    "\n",
    "    def show_menu(self):\n",
    "        print(\"=== 메뉴===\")\n",
    "        '''for drink, price in self.drinks.items():\n",
    "            print(f\"- {drink}:{price:,}원\")'''\n",
    "        for i, (drink,price) in enumerate(self.drinks.items(),1):\n",
    "            print(f\" -{i}) {drink}:{price:,}원\")\n",
    "            \n",
    "    def cal_price(self, order, quantity):\n",
    "        return self.drinks[order]*quantity\n",
    "\n",
    "    def run(self): \n",
    "        chk=int(input(\"주문하실 상품 번호를 선택해 주세요\"))\n",
    "        tmp=[]\n",
    "        for k in self.drinks.keys():\n",
    "            tmp.append(k)\n",
    "        order=tmp[chk-1]\n",
    "        \n",
    "        quantity=int(input(\"몇 잔을 주문하시겠습니까\"))\n",
    "        \n",
    "        if order in self.drinks:\n",
    "            price=self.cal_price(order,quantity)\n",
    "            print(f\"주문하신 {order} {quantity}잔의 가격은 {price:,}원 입니다.\")\n",
    "        else:\n",
    "            print(f\"죄송합니다. 주문하신 음료는 없습니다.\")\n",
    "            \n",
    "cafe=CoffeeCalculator(data)\n",
    "cafe.run()"
   ]
  },
  {
   "cell_type": "code",
   "execution_count": 10,
   "id": "b07d575a-c718-4601-bb40-c8616c4b38cf",
   "metadata": {},
   "outputs": [
    {
     "name": "stdin",
     "output_type": "stream",
     "text": [
      "주문하실 상품 번호를 선택해 주세요 1\n",
      "몇 잔을 주문하시겠습니까 3\n"
     ]
    },
    {
     "name": "stdout",
     "output_type": "stream",
     "text": [
      "주문하신 아메리카노 3잔의 가격은 7,500원 입니다.\n"
     ]
    }
   ],
   "source": [
    "data = [\"태평점\", (('아메리카노', 2500), ('카페라떼', 3500), ('바닐라라떼', 4000), ('녹차라떼', 3000))]\n",
    "class CoffeeCalculator:\n",
    "\n",
    "    def __init__(self,name,data):\n",
    "        self.drinks={}\n",
    "        for order, price in data:\n",
    "            self.drinks[order]=price\n",
    "        self.name=name\n",
    "\n",
    "    def show_menu(self):\n",
    "        print(f\"=== {self.name}메뉴===\")\n",
    "        '''for drink, price in self.drinks.items():\n",
    "            print(f\"- {drink}:{price:,}원\")'''\n",
    "        for i, (drink,price) in enumerate(self.drinks.items(),1):\n",
    "            print(f\" -{i}) {drink}:{price:,}원\")\n",
    "            \n",
    "    def cal_price(self, order, quantity):\n",
    "        return self.drinks[order]*quantity\n",
    "\n",
    "    def run(self): \n",
    "        chk=int(input(\"주문하실 상품 번호를 선택해 주세요\"))\n",
    "        tmp=[]\n",
    "        for k in self.drinks.keys():\n",
    "            tmp.append(k)\n",
    "        order=tmp[chk-1]\n",
    "        \n",
    "        quantity=int(input(\"몇 잔을 주문하시겠습니까\"))\n",
    "        \n",
    "        if order in self.drinks:\n",
    "            price=self.cal_price(order,quantity)\n",
    "            print(f\"주문하신 {order} {quantity}잔의 가격은 {price:,}원 입니다.\")\n",
    "        else:\n",
    "            print(f\"죄송합니다. 주문하신 음료는 없습니다.\")\n",
    "            \n",
    "\n",
    "cafe=CoffeeCalculator(data[0], data[1])\n",
    "cafe.run()"
   ]
  },
  {
   "cell_type": "code",
   "execution_count": 32,
   "id": "dbc9cacc-39e6-4108-8226-20a97c14aa7a",
   "metadata": {},
   "outputs": [
    {
     "name": "stdout",
     "output_type": "stream",
     "text": [
      "학생이름: 홍길동\n",
      "국어: 85\n",
      "영어: 90\n",
      "수학: 78\n",
      "총점: 253, 평균: 84.33\n",
      "\n",
      "학생이름: 김영희\n",
      "국어: 92\n",
      "영어: 88\n",
      "수학: 95\n",
      "총점: 275, 평균: 91.67\n",
      "\n",
      "학생이름: 홍길동\n",
      "국어: 70\n",
      "영어: 75\n",
      "수학: 80\n",
      "총점: 225, 평균: 75.00\n",
      "\n"
     ]
    }
   ],
   "source": [
    "class Student:\n",
    "    def __init__(self, name, scores):\n",
    "        self.name = name\n",
    "        self.scores = scores\n",
    "\n",
    "    def total_scores(self):\n",
    "        return sum(self.scores.values())\n",
    "\n",
    "    def avg_scores(self):\n",
    "        return self.total_scores() / len(self.scores)\n",
    "\n",
    "    def show_info(self):\n",
    "        print(f\"학생이름: {self.name}\")\n",
    "        for subject, score in self.scores.items():\n",
    "            print(f\"{subject}: {score}\")\n",
    "        print(f\"총점: {self.total_scores()}, 평균: {self.avg_scores():.2f}\\n\")\n",
    "\n",
    "# 학생 객체 생성 후 리스트에 추가\n",
    "students = []\n",
    "students.append(Student(\"홍길동\", {\"국어\": 85, \"영어\": 90, \"수학\": 78}))\n",
    "students.append(Student(\"김영희\", {\"국어\": 92, \"영어\": 88, \"수학\": 95}))\n",
    "students.append(Student(\"홍길동\", {\"국어\": 70, \"영어\": 75, \"수학\": 80}))\n",
    "\n",
    "# 학생 정보 출력\n",
    "for student in students:\n",
    "    student.show_info()"
   ]
  },
  {
   "cell_type": "code",
   "execution_count": 16,
   "id": "00d6c69a-28d0-4772-92fa-3dc75a4b771b",
   "metadata": {},
   "outputs": [
    {
     "name": "stdin",
     "output_type": "stream",
     "text": [
      "점수를 입력하세요 (0~100): 55\n"
     ]
    },
    {
     "name": "stdout",
     "output_type": "stream",
     "text": [
      "당신의 점수는 55점이고, 학점은 F입니다.\n"
     ]
    }
   ],
   "source": [
    "def calculate_grade():\n",
    "    score=int(input(\"점수를 입력하세요 (0~100):\"))\n",
    "\n",
    "    if score>=90:\n",
    "        grade=\"A\"\n",
    "    elif score>=80:\n",
    "        grade=\"B\"\n",
    "    elif score>=70:\n",
    "        grade=\"C\"\n",
    "    elif score>=60:\n",
    "        grade=\"D\"\n",
    "    else:\n",
    "        grade=\"F\"\n",
    "\n",
    "    print(f\"당신의 점수는 {score}점이고, 학점은 {grade}입니다.\")\n",
    "\n",
    "calculate_grade()"
   ]
  },
  {
   "cell_type": "code",
   "execution_count": 18,
   "id": "c137bc66-44eb-4bc0-b91a-939c82ae8652",
   "metadata": {},
   "outputs": [
    {
     "name": "stdin",
     "output_type": "stream",
     "text": [
      "점수를 입력하세요 (0~100): 98\n"
     ]
    },
    {
     "name": "stdout",
     "output_type": "stream",
     "text": [
      "당신의 점수는 98점이고, 학점은 A입니다.\n"
     ]
    }
   ],
   "source": [
    "class GradeCalculator:\n",
    "    def __init__(self):\n",
    "        self.grade_scale=[\n",
    "            (90,'A'),\n",
    "            (80,'B'),\n",
    "            (70,'C'),\n",
    "            (60,'D'),\n",
    "            (0,'F')\n",
    "        ]\n",
    "    def calculate_grade(self,score):\n",
    "        for minscore,grade in self.grade_scale:\n",
    "            if score>=minscore:\n",
    "                return grade\n",
    "        \n",
    "    def run(self):\n",
    "        score=int(input(\"점수를 입력하세요 (0~100):\"))\n",
    "        grade=self.calculate_grade(score)\n",
    "        print(f\"당신의 점수는 {score}점이고, 학점은 {grade}입니다.\")\n",
    "   \n",
    "grd=GradeCalculator()\n",
    "grd.run()"
   ]
  },
  {
   "cell_type": "code",
   "execution_count": 20,
   "id": "91f0887f-eff1-4b0c-92d8-a0a718c694cb",
   "metadata": {},
   "outputs": [
    {
     "name": "stdout",
     "output_type": "stream",
     "text": [
      "[(90, 'A'), (80, 'B'), (70, 'C'), (60, 'D'), (0, 'F')]\n"
     ]
    },
    {
     "name": "stdin",
     "output_type": "stream",
     "text": [
      "점수를 입력하세요 (0~100): 5\n"
     ]
    },
    {
     "name": "stdout",
     "output_type": "stream",
     "text": [
      "당신의 점수는 5점이고, 학점은 F입니다.\n"
     ]
    }
   ],
   "source": [
    "class GradeCalculator:\n",
    "    def __init__(self,data):\n",
    "        self.grade_scale=list(zip(data[0],data[1]))\n",
    "        print(self.grade_scale)\n",
    "\n",
    "    def calculate_grade(self,score):\n",
    "        for minscore,grade in self.grade_scale:\n",
    "            if score>=minscore:\n",
    "                return grade\n",
    "        \n",
    "    def run(self):\n",
    "        score=int(input(\"점수를 입력하세요 (0~100):\"))\n",
    "        grade=self.calculate_grade(score)\n",
    "        print(f\"당신의 점수는 {score}점이고, 학점은 {grade}입니다.\")\n",
    "        \n",
    "data=[(90,80,70,60,0),('A','B','C','D','F')]   \n",
    "grd=GradeCalculator(data)\n",
    "grd.run()"
   ]
  },
  {
   "cell_type": "markdown",
   "id": "48df9b17-d3fc-4e5f-95de-d002c952f0e9",
   "metadata": {},
   "source": [
    "### 장바구니 리스트"
   ]
  },
  {
   "cell_type": "code",
   "execution_count": 30,
   "id": "de8ef3c2-2d0c-4e17-92cb-1e444eb0a366",
   "metadata": {},
   "outputs": [
    {
     "name": "stdout",
     "output_type": "stream",
     "text": [
      "\n",
      "1: 항목 추가\n",
      "2: 항목 삭제\n",
      "3: 항목 보기\n",
      "4: 종료\n"
     ]
    },
    {
     "name": "stdin",
     "output_type": "stream",
     "text": [
      "원하는 작업을 선택하세요: 1\n"
     ]
    },
    {
     "name": "stdout",
     "output_type": "stream",
     "text": [
      "종료합니다.\n"
     ]
    }
   ],
   "source": [
    "'''\n",
    "1. 항목 추가\n",
    "2. 항목 삭제\n",
    "3. 목록 보기\n",
    "4. 종료\n",
    "'''\n",
    "class Shopping:\n",
    "    def __init(self):\n",
    "        self.items=[]\n",
    "\n",
    "    def shopping_list(self):\n",
    "        if self.items:\n",
    "            print(\"현재 장바구니 목록:\")\n",
    "            for item in self.items:\n",
    "                print(f\"- {item}\")\n",
    "        else:\n",
    "            print(\"장바구니가 비어 있습니다.\")\n",
    "\n",
    "    def add(self,item):\n",
    "        self.items.append(item)\n",
    "        \n",
    "    def substract(self,item):\n",
    "        self.items.remove(item)\n",
    "\n",
    "    def run(self):\n",
    "        while True:\n",
    "            print(\"\\n1: 항목 추가\")\n",
    "            print(\"2: 항목 삭제\")\n",
    "            print(\"3: 항목 보기\")\n",
    "            print(\"4: 종료\")\n",
    "            choice=int(input(\"원하는 작업을 선택하세요:\"))\n",
    "            if choice==\"1\":\n",
    "                add(self, item)\n",
    "            elif choice==\"2\":\n",
    "                substract(self,item)\n",
    "            elif choice==\"3\":\n",
    "                shopping_list(self)\n",
    "            else:\n",
    "                print(\"종료합니다.\")\n",
    "                break\n",
    "        \n",
    "s=Shopping()\n",
    "s.run()"
   ]
  },
  {
   "cell_type": "code",
   "execution_count": 26,
   "id": "56db8ee7-d9d7-4e93-904d-a2caa37d8999",
   "metadata": {
    "scrolled": true
   },
   "outputs": [
    {
     "name": "stdout",
     "output_type": "stream",
     "text": [
      "1: 항목 추가\n",
      "2: 항목 삭제\n",
      "3: 목록 보기\n",
      "4: 프로그램 종료\n",
      "\n",
      "▩  ()\n",
      "\n"
     ]
    },
    {
     "name": "stdin",
     "output_type": "stream",
     "text": [
      "원하는 작업을 선택하세요:  1\n"
     ]
    },
    {
     "name": "stdout",
     "output_type": "stream",
     "text": [
      "<항목 추가>\n",
      "\n",
      "▩  ()\n",
      "\n"
     ]
    },
    {
     "name": "stdin",
     "output_type": "stream",
     "text": [
      "-> 추가 항목 (종료: 0)?  오이\n"
     ]
    },
    {
     "name": "stdout",
     "output_type": "stream",
     "text": [
      "<항목 추가>\n",
      "\n",
      "▩  (오이)\n",
      "\n"
     ]
    },
    {
     "name": "stdin",
     "output_type": "stream",
     "text": [
      "-> 추가 항목 (종료: 0)?  0\n"
     ]
    },
    {
     "name": "stdout",
     "output_type": "stream",
     "text": [
      "1: 항목 추가\n",
      "2: 항목 삭제\n",
      "3: 목록 보기\n",
      "4: 프로그램 종료\n",
      "\n",
      "▩  (오이)\n",
      "\n"
     ]
    },
    {
     "name": "stdin",
     "output_type": "stream",
     "text": [
      "원하는 작업을 선택하세요:  4\n"
     ]
    },
    {
     "name": "stdout",
     "output_type": "stream",
     "text": [
      "프로그램을 종료합니다.\n"
     ]
    }
   ],
   "source": [
    "import os\n",
    "\n",
    "def display_cart(items):\n",
    "    print(f\"\\n▩  ({', '.join(items)})\\n\")\n",
    "\n",
    "def clear_screen():\n",
    "    os.system('cls' if os.name == 'nt' else 'clear')\n",
    "\n",
    "def shopping_list():\n",
    "\n",
    "    items = []\n",
    "    main_func = True  #첫 번째 메뉴에서 시작하도록 설정\n",
    "\n",
    "    while True:\n",
    "\n",
    "        if main_func:\n",
    "            clear_screen()\n",
    "            print(\"1: 항목 추가\")\n",
    "            print(\"2: 항목 삭제\")\n",
    "            print(\"3: 목록 보기\")\n",
    "            print(\"4: 프로그램 종료\")\n",
    "            display_cart(items)\n",
    "\n",
    "            choice = input(\"원하는 작업을 선택하세요: \")\n",
    "            if choice:\n",
    "                main_func = False    #main_func를 False로 설정해 항목 추가/삭제 등의 작업을 할 수 있게 \n",
    "\n",
    "        clear_screen()\n",
    "        if choice == '1':\n",
    "            print(\"<항목 추가>\")\n",
    "            display_cart(items)\n",
    "            item = input(\"-> 추가 항목 (종료: 0)? \")\n",
    "            if item == '0':\n",
    "                main_func = True\n",
    "                continue\n",
    "            items.append(item)\n",
    "\n",
    "        elif choice == '2':\n",
    "            print(\"<항목 삭제>\")\n",
    "            display_cart(items)\n",
    "            if items:\n",
    "                item = input(\"-> 삭제 항목 (종료: 0)? \")\n",
    "                if item == '0':\n",
    "                    main_func = True\n",
    "                    continue\n",
    "                if item in items:\n",
    "                    items.remove(item)\n",
    "                else:\n",
    "                    print(\"\\n장바구니에 없는 항목입니다.\")\n",
    "                    input(\"\\n아무키나 누르세요...\")\n",
    "            else:\n",
    "                print(\"장바구니가 비어 있습니다.\")\n",
    "                input(\"\\n아무키나 누르세요...\")\n",
    "                main_func = True\n",
    "                continue\n",
    "\n",
    "        elif choice == '3':\n",
    "            print(\"<목록 보기>\\n\")\n",
    "\n",
    "            if items:\n",
    "                for i, item in enumerate(items, 1):\n",
    "                    print(f\"{i}. {item}\")\n",
    "                input(\"\\n아무키나 누르세요...\")\n",
    "            else:\n",
    "                print(\"장바구니가 비어 있습니다.\")\n",
    "                input(\"\\n아무키나 누르세요...\")\n",
    "\n",
    "            main_func = True\n",
    "            continue\n",
    "\n",
    "        elif choice == '4':\n",
    "            print(\"프로그램을 종료합니다.\")\n",
    "            break\n",
    "\n",
    "shopping_list()"
   ]
  },
  {
   "cell_type": "code",
   "execution_count": 38,
   "id": "4e82ab52-bdfc-4c2d-a2c6-5072df78779f",
   "metadata": {
    "scrolled": true
   },
   "outputs": [
    {
     "name": "stdout",
     "output_type": "stream",
     "text": [
      "1: 항목 추가\n",
      "2: 항목 삭제\n",
      "3: 목록 보기\n",
      "4: 프로그램 종료\n",
      "\n",
      "▩  ()\n",
      "\n"
     ]
    },
    {
     "name": "stdin",
     "output_type": "stream",
     "text": [
      "원하는 작업을 선택하세요:  1\n"
     ]
    },
    {
     "name": "stdout",
     "output_type": "stream",
     "text": [
      "<항목 추가>\n",
      "\n",
      "▩  ()\n",
      "\n"
     ]
    },
    {
     "name": "stdin",
     "output_type": "stream",
     "text": [
      "-> 추가 항목 (종료: 0)?  오이\n"
     ]
    },
    {
     "name": "stdout",
     "output_type": "stream",
     "text": [
      "<항목 추가>\n",
      "\n",
      "▩  (오이)\n",
      "\n"
     ]
    },
    {
     "name": "stdin",
     "output_type": "stream",
     "text": [
      "-> 추가 항목 (종료: 0)?  감자\n"
     ]
    },
    {
     "name": "stdout",
     "output_type": "stream",
     "text": [
      "<항목 추가>\n",
      "\n",
      "▩  (오이, 감자)\n",
      "\n"
     ]
    },
    {
     "name": "stdin",
     "output_type": "stream",
     "text": [
      "-> 추가 항목 (종료: 0)?  0\n"
     ]
    },
    {
     "name": "stdout",
     "output_type": "stream",
     "text": [
      "1: 항목 추가\n",
      "2: 항목 삭제\n",
      "3: 목록 보기\n",
      "4: 프로그램 종료\n",
      "\n",
      "▩  (오이, 감자)\n",
      "\n"
     ]
    },
    {
     "name": "stdin",
     "output_type": "stream",
     "text": [
      "원하는 작업을 선택하세요:  2\n"
     ]
    },
    {
     "name": "stdout",
     "output_type": "stream",
     "text": [
      "<항목 삭제>\n",
      "\n",
      "▩  (오이, 감자)\n",
      "\n"
     ]
    },
    {
     "name": "stdin",
     "output_type": "stream",
     "text": [
      "-> 삭제 항목 (종료: 0)?  감자\n"
     ]
    },
    {
     "name": "stdout",
     "output_type": "stream",
     "text": [
      "<항목 삭제>\n",
      "\n",
      "▩  (오이)\n",
      "\n"
     ]
    },
    {
     "name": "stdin",
     "output_type": "stream",
     "text": [
      "-> 삭제 항목 (종료: 0)?  0\n"
     ]
    },
    {
     "name": "stdout",
     "output_type": "stream",
     "text": [
      "1: 항목 추가\n",
      "2: 항목 삭제\n",
      "3: 목록 보기\n",
      "4: 프로그램 종료\n",
      "\n",
      "▩  (오이)\n",
      "\n"
     ]
    },
    {
     "name": "stdin",
     "output_type": "stream",
     "text": [
      "원하는 작업을 선택하세요:  4\n"
     ]
    },
    {
     "name": "stdout",
     "output_type": "stream",
     "text": [
      "프로그램을 종료합니다.\n"
     ]
    }
   ],
   "source": [
    "\n",
    "class Shopping:\n",
    "    def __init__(self):\n",
    "        self.items=[]\n",
    "        self.main_func=True\n",
    "        \n",
    "    def display_cart(self):\n",
    "        print(f\"\\n▩  ({', '.join(self.items)})\\n\")\n",
    "\n",
    "    def clear_screen(self):\n",
    "        os.system('cls' if os.name == 'nt' else 'clear')\n",
    "        \n",
    "    def add(self):\n",
    "        print(\"<항목 추가>\")\n",
    "        self.display_cart()\n",
    "        item = input(\"-> 추가 항목 (종료: 0)? \")\n",
    "        if item == '0':\n",
    "            self.main_func = True\n",
    "            return\n",
    "        self.items.append(item)\n",
    "        \n",
    "    def show_menu(self):\n",
    "        self.clear_screen()\n",
    "        print(\"1: 항목 추가\")\n",
    "        print(\"2: 항목 삭제\")\n",
    "        print(\"3: 목록 보기\")\n",
    "        print(\"4: 프로그램 종료\")\n",
    "        self.display_cart()\n",
    "        \n",
    "    def delete(self):\n",
    "        print(\"<항목 삭제>\")\n",
    "        self.display_cart()\n",
    "        if self.items:\n",
    "            item = input(\"-> 삭제 항목 (종료: 0)? \")\n",
    "            if item == '0':\n",
    "                self.main_func = True\n",
    "                return\n",
    "            if item in self.items:\n",
    "                self.items.remove(item)\n",
    "            else:\n",
    "                print(\"\\n장바구니에 없는 항목입니다.\")\n",
    "                input(\"\\n아무키나 누르세요...\")\n",
    "        else:\n",
    "            print(\"장바구니가 비어 있습니다.\")\n",
    "            input(\"\\n아무키나 누르세요...\")\n",
    "            self.main_func = True\n",
    "\n",
    "\n",
    "    def show_list(self):\n",
    "        print(\"<목록 보기>\\n\")\n",
    "        if self.items:\n",
    "            for i, item in enumerate(self.items, 1):\n",
    "                print(f\"{i}. {item}\")\n",
    "            input(\"\\n아무키나 누르세요...\")\n",
    "        else:\n",
    "            print(\"장바구니가 비어 있습니다.\")\n",
    "            input(\"\\n아무키나 누르세요...\")\n",
    "        self.main_func = True\n",
    "\n",
    "    def run(self):\n",
    "        while True:\n",
    "            if self.main_func:\n",
    "                self.show_menu()\n",
    "                choice = input(\"원하는 작업을 선택하세요: \")\n",
    "                self.main_func = False    #main_func를 False로 설정해 항목 추가/삭제 등의 작업을 할 수 있게 \n",
    "    \n",
    "            self.clear_screen()\n",
    "            if choice == '1':\n",
    "                self.add()\n",
    "            elif choice == '2':\n",
    "                self.delete()\n",
    "            elif choice=='3':\n",
    "                self.show_list()\n",
    "            elif choice=='4':\n",
    "                print(\"프로그램을 종료합니다.\")\n",
    "                break\n",
    "sh=Shopping() \n",
    "sh.run()"
   ]
  }
 ],
 "metadata": {
  "kernelspec": {
   "display_name": "Python 3 (ipykernel)",
   "language": "python",
   "name": "python3"
  },
  "language_info": {
   "codemirror_mode": {
    "name": "ipython",
    "version": 3
   },
   "file_extension": ".py",
   "mimetype": "text/x-python",
   "name": "python",
   "nbconvert_exporter": "python",
   "pygments_lexer": "ipython3",
   "version": "3.12.7"
  }
 },
 "nbformat": 4,
 "nbformat_minor": 5
}
