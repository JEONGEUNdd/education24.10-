{
 "cells": [
  {
   "cell_type": "code",
   "execution_count": 72,
   "id": "93088792-7e7d-4c8c-b0e1-3a5126e839d5",
   "metadata": {
    "scrolled": true
   },
   "outputs": [
    {
     "data": {
      "text/plain": [
       "'C:\\\\Users\\\\enjoy\\\\python_202411\\\\sample'"
      ]
     },
     "execution_count": 72,
     "metadata": {},
     "output_type": "execute_result"
    }
   ],
   "source": [
    "os.getcwd()"
   ]
  },
  {
   "cell_type": "code",
   "execution_count": 86,
   "id": "6618a588-cb95-4eea-8663-9b8895b76c33",
   "metadata": {},
   "outputs": [
    {
     "name": "stdout",
     "output_type": "stream",
     "text": [
      "C:\\Users\\enjoy\\python_202411\\sample : 0 bytes\n"
     ]
    }
   ],
   "source": [
    "#특정 폴더 내 모든 파일크기 및 합산 크기\n",
    "import os\n",
    "def calculate_total_file_size(target_directory):\n",
    "    total_size=0\n",
    "    for filename in os.listdir(target_directory):  #target_dir 내의 모든 파일과 폴더를 리스트로 반환\n",
    "        source_file=os.path.join(target_directory,filename)\n",
    "        calculate_total_file_size=os.path.getsize(source_file)\n",
    "        if(os.path.isfile(source_file)):\n",
    "            file_size=calculate_total_file_size\n",
    "            total_size+=file_size\n",
    "            print(f\" File: {filename}-{file_size:,} bytes\")\n",
    "\n",
    "    print(f\"{target_directory} : {total_size:,} bytes\")\n",
    "        \n",
    "#target_directory=os.path.join(os.getcwd(),'txt')     #txt파일크기\n",
    "target_directory=os.path.join(os.getcwd())\n",
    "calculate_total_file_size(target_directory)"
   ]
  },
  {
   "cell_type": "code",
   "execution_count": null,
   "id": "93b8b7c5-2051-4e46-a1de-159dac9decd1",
   "metadata": {},
   "outputs": [],
   "source": []
  }
 ],
 "metadata": {
  "kernelspec": {
   "display_name": "Python 3 (ipykernel)",
   "language": "python",
   "name": "python3"
  },
  "language_info": {
   "codemirror_mode": {
    "name": "ipython",
    "version": 3
   },
   "file_extension": ".py",
   "mimetype": "text/x-python",
   "name": "python",
   "nbconvert_exporter": "python",
   "pygments_lexer": "ipython3",
   "version": "3.12.7"
  }
 },
 "nbformat": 4,
 "nbformat_minor": 5
}
