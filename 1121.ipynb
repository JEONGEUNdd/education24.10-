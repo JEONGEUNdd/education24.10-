{
 "cells": [
  {
   "cell_type": "markdown",
   "id": "dc4950a7-8813-4a40-a519-ecbc9e5d08a2",
   "metadata": {},
   "source": [
    "### 계산기"
   ]
  },
  {
   "cell_type": "code",
   "execution_count": 10,
   "id": "4069c5ae-1699-45b1-9bf6-d1d42f8d0901",
   "metadata": {},
   "outputs": [
    {
     "name": "stdin",
     "output_type": "stream",
     "text": [
      "첫 번째 숫자를 입력하세요: 5\n",
      "연산자를 입력하세요 (+,-,*,/): /\n",
      "두 번째 숫자를 입력하세요: 3\n"
     ]
    },
    {
     "name": "stdout",
     "output_type": "stream",
     "text": [
      "결과: 5.0 / 3.0 = 1.6666666666666667\n"
     ]
    }
   ],
   "source": [
    "def simple_cal():\n",
    "    num1=float(input(\"첫 번째 숫자를 입력하세요:\"))\n",
    "    operator=input(\"연산자를 입력하세요 (+,-,*,/):\")\n",
    "    num2=float(input(\"두 번째 숫자를 입력하세요:\"))\n",
    "\n",
    "    '''\n",
    "    if operator==\"+\":\n",
    "        result=num1+num2\n",
    "    elif operator==\"-\":\n",
    "        result=num1-num2\n",
    "    elif operator==\"*\": \n",
    "        result=num1*num2\n",
    "    elif operator==\"/\":\n",
    "        if num2!=0:\n",
    "            result=num1/num2\n",
    "        else:\n",
    "            print(\"0으로 나눌 수 없습니다.\")\n",
    "            return\n",
    "    else:\n",
    "        print(\"잘못된 연산자입니다.\")\n",
    "        return\n",
    "    '''\n",
    "    result=eval(f\"{num1}{operator}{num2}\")\n",
    "    print(f\"결과: {num1} {operator} {num2} = {result}\")\n",
    "simple_cal()"
   ]
  },
  {
   "cell_type": "code",
   "execution_count": 17,
   "id": "79ae9507-e5c7-4d26-b663-26265aa96d7f",
   "metadata": {},
   "outputs": [
    {
     "name": "stdin",
     "output_type": "stream",
     "text": [
      "첫 번째 숫자를 입력하세요: 5\n",
      "연산자를 입력하세요 (+,-,*,/): /\n",
      "두 번째 숫자를 입력하세요: 2\n"
     ]
    },
    {
     "name": "stdout",
     "output_type": "stream",
     "text": [
      "결과: 5.0 / 2.0 = 2.5\n"
     ]
    }
   ],
   "source": [
    "class Calculator:\n",
    "    def __init__(self):\n",
    "        self.operations={\n",
    "            '+': lambda x,y:x+y,\n",
    "            '-': lambda x,y:x-y,\n",
    "            '*': lambda x,y:x*y,\n",
    "            '/': lambda x,y:x/y if y!=0 else None\n",
    "        }\n",
    "        \n",
    "    def calculate(self,num1,operator,num2):\n",
    "        if operator not in self.operations:\n",
    "            return None\n",
    "        return self.operations[operator](num1,num2)\n",
    "            \n",
    "    def run(self):\n",
    "        num1=float(input(\"첫 번째 숫자를 입력하세요:\"))\n",
    "        operator=input(\"연산자를 입력하세요 (+,-,*,/):\")\n",
    "        num2=float(input(\"두 번째 숫자를 입력하세요:\"))\n",
    "        \n",
    "        result=self.calculate(num1,operator,num2)\n",
    "        \n",
    "        if result is None:\n",
    "            if operator==\"/\" and num2==0:\n",
    "                print(\"0으로 나눌 수 없습니다.\")\n",
    "            else:\n",
    "                print(\"잘못된 연산자입니다.\")\n",
    "        else:\n",
    "            print(f\"결과: {num1} {operator} {num2} = {result}\")\n",
    "     \n",
    "calc=Calculator()\n",
    "calc.run()"
   ]
  },
  {
   "cell_type": "code",
   "execution_count": 59,
   "id": "41162bf4-dd68-439b-a836-543be87f6695",
   "metadata": {
    "scrolled": true
   },
   "outputs": [
    {
     "name": "stdout",
     "output_type": "stream",
     "text": [
      "[계산기]\n",
      "====================\n",
      "초기화: c,종료: q\n",
      "====================\n"
     ]
    },
    {
     "name": "stdin",
     "output_type": "stream",
     "text": [
      " 계산하기:  2+3\n"
     ]
    },
    {
     "name": "stdout",
     "output_type": "stream",
     "text": [
      "[계산기]\n",
      "====================\n",
      "초기화: c,종료: q\n",
      "====================\n"
     ]
    },
    {
     "name": "stdin",
     "output_type": "stream",
     "text": [
      " 계산하기: 5 *6\n"
     ]
    },
    {
     "name": "stdout",
     "output_type": "stream",
     "text": [
      "[계산기]\n",
      "====================\n",
      "초기화: c,종료: q\n",
      "====================\n"
     ]
    },
    {
     "name": "stdin",
     "output_type": "stream",
     "text": [
      " 계산하기: 30 -1\n"
     ]
    },
    {
     "name": "stdout",
     "output_type": "stream",
     "text": [
      "[계산기]\n",
      "====================\n",
      "초기화: c,종료: q\n",
      "====================\n"
     ]
    },
    {
     "name": "stdin",
     "output_type": "stream",
     "text": [
      " 계산하기: 29 q\n"
     ]
    },
    {
     "name": "stdout",
     "output_type": "stream",
     "text": [
      "\n",
      "계산기를 종료합니다.\n"
     ]
    }
   ],
   "source": [
    "import os\n",
    "\n",
    "def clear_screen():\n",
    "    os.system('cls' if os.name == 'nt' else 'clear')\n",
    "\n",
    "def calculator():\n",
    "    result=''\n",
    "    while True:\n",
    "        clear_screen()\n",
    "        print(\"[계산기]\")\n",
    "        print(\"=\"*20)\n",
    "        print(\"초기화: c\", \"종료: q\", sep=\",\")\n",
    "        print(\"=\"*20)\n",
    "        num=input(f\" 계산하기: {result}\")\n",
    "        \n",
    "        if num.lower()=='q':\n",
    "            clear_screen()\n",
    "            print(\"\\n계산기를 종료합니다.\")\n",
    "            break\n",
    "        elif num.lower()=='c':\n",
    "            result=''\n",
    "            continue\n",
    "            \n",
    "        #result=eval(str(result)+num) #문자열끼리 합침\n",
    "\n",
    "        try:\n",
    "            result=round(eval(str(result)+num),2)\n",
    "        except Exception as e:\n",
    "            print(f\"\\n 올바른 수식이 아닙니다.\",e)\n",
    "            input(\"\\n 계속하려면 아무 키나 누르세요\")\n",
    "            continue\n",
    "            \n",
    "if __name__==\"__main__\":\n",
    "    calculator()"
   ]
  },
  {
   "cell_type": "code",
   "execution_count": 63,
   "id": "b8712cb0-7f05-4214-b78a-17cf24d91c00",
   "metadata": {},
   "outputs": [
    {
     "name": "stdout",
     "output_type": "stream",
     "text": [
      "[계산기]\n",
      "====================\n",
      "초기화: c,종료: q\n",
      "====================\n"
     ]
    },
    {
     "name": "stdin",
     "output_type": "stream",
     "text": [
      " 계산하기:  5/3\n"
     ]
    },
    {
     "name": "stdout",
     "output_type": "stream",
     "text": [
      "[계산기]\n",
      "====================\n",
      "초기화: c,종료: q\n",
      "====================\n"
     ]
    },
    {
     "name": "stdin",
     "output_type": "stream",
     "text": [
      " 계산하기: 1.67 *3\n"
     ]
    },
    {
     "name": "stdout",
     "output_type": "stream",
     "text": [
      "[계산기]\n",
      "====================\n",
      "초기화: c,종료: q\n",
      "====================\n"
     ]
    },
    {
     "name": "stdin",
     "output_type": "stream",
     "text": [
      " 계산하기: 5.01 q\n"
     ]
    },
    {
     "name": "stdout",
     "output_type": "stream",
     "text": [
      "\n",
      "계산기를 종료합니다.\n"
     ]
    }
   ],
   "source": [
    "import os\n",
    "\n",
    "class Calculator():\n",
    "    def __init__(self):\n",
    "        self.result=''\n",
    "    \n",
    "    def clear_screen(self):\n",
    "        os.system('cls' if os.name == 'nt' else 'clear')\n",
    "        \n",
    "    def show_menu(self):\n",
    "        print(\"[계산기]\")\n",
    "        print(\"=\"*20)\n",
    "        print(\"초기화: c\", \"종료: q\", sep=\",\")\n",
    "        print(\"=\"*20)\n",
    "        \n",
    "    def calculate(self,num):\n",
    "        try:\n",
    "            self.result = str(round(eval(self.result + num, {\"__builtins__\": None}, {}), 2))\n",
    "            return True\n",
    "        except Exception as e:\n",
    "            print(f\"\\n 올바른 수식이 아닙니다.\",e)\n",
    "            input(\"\\n 계속하려면 아무 키나 누르세요\")\n",
    "            return False\n",
    "            \n",
    "    def run(self):\n",
    "        while True:\n",
    "            self.clear_screen()\n",
    "            self.show_menu()\n",
    "            num=input(f\" 계산하기: {self.result}\")\n",
    "            \n",
    "            if num.lower()=='q':\n",
    "                self.clear_screen()\n",
    "                print(\"\\n계산기를 종료합니다.\")\n",
    "                break\n",
    "            elif num.lower()=='c':\n",
    "                self.result=''\n",
    "                continue\n",
    "                \n",
    "            self.calculate(num)\n",
    "            \n",
    "a=Calculator()\n",
    "a.run()"
   ]
  },
  {
   "cell_type": "markdown",
   "id": "313fabeb-e395-412d-9b1a-05b15cbfd877",
   "metadata": {},
   "source": [
    "### 가계부"
   ]
  },
  {
   "cell_type": "code",
   "execution_count": 147,
   "id": "752166c5-5f8b-4c56-8124-85b9183678a6",
   "metadata": {},
   "outputs": [
    {
     "name": "stdout",
     "output_type": "stream",
     "text": [
      "====가계부====\n",
      "1. 지출 입력\n",
      "2. 지출 목록 보기\n",
      "3. 총 지출 확인\n",
      "4. 종료\n"
     ]
    },
    {
     "name": "stdin",
     "output_type": "stream",
     "text": [
      "원하는 작업을 선택하세요:  1\n",
      "날짜를 입력하세요 (예: 11-19):  11\n",
      "지출 항목을 입력하세요:  감자\n",
      "금액을 입력하세요:  10000\n"
     ]
    },
    {
     "name": "stdout",
     "output_type": "stream",
     "text": [
      "\n",
      "지출이 추가되었습니다.\n",
      "====가계부====\n",
      "1. 지출 입력\n",
      "2. 지출 목록 보기\n",
      "3. 총 지출 확인\n",
      "4. 종료\n"
     ]
    },
    {
     "name": "stdin",
     "output_type": "stream",
     "text": [
      "원하는 작업을 선택하세요:  2\n"
     ]
    },
    {
     "name": "stdout",
     "output_type": "stream",
     "text": [
      "\n",
      "날짜\t항목\t금액\n",
      "--------------------\n",
      "11\t감자\t10,000원\n",
      "====가계부====\n",
      "1. 지출 입력\n",
      "2. 지출 목록 보기\n",
      "3. 총 지출 확인\n",
      "4. 종료\n"
     ]
    },
    {
     "name": "stdin",
     "output_type": "stream",
     "text": [
      "원하는 작업을 선택하세요:  3\n"
     ]
    },
    {
     "name": "stdout",
     "output_type": "stream",
     "text": [
      "\n",
      "총 지출: 10,000원\n",
      "====가계부====\n",
      "1. 지출 입력\n",
      "2. 지출 목록 보기\n",
      "3. 총 지출 확인\n",
      "4. 종료\n"
     ]
    },
    {
     "name": "stdin",
     "output_type": "stream",
     "text": [
      "원하는 작업을 선택하세요:  \n"
     ]
    },
    {
     "name": "stdout",
     "output_type": "stream",
     "text": [
      "====가계부====\n",
      "1. 지출 입력\n",
      "2. 지출 목록 보기\n",
      "3. 총 지출 확인\n",
      "4. 종료\n"
     ]
    },
    {
     "name": "stdin",
     "output_type": "stream",
     "text": [
      "원하는 작업을 선택하세요:  4\n"
     ]
    },
    {
     "name": "stdout",
     "output_type": "stream",
     "text": [
      "\n",
      "프로그램을 종료합니다.\n"
     ]
    }
   ],
   "source": [
    "'''\n",
    "====가계부====\n",
    "1. 지출 입력\n",
    "2. 지출 목록 보기\n",
    "3. 총 지출 확인\n",
    "4. 종료\n",
    "원하는 작업을 선택하세요\n",
    "\n",
    "날짜를 입력하세요 (예: 11-19)\n",
    "지출 항목을 입력하세요\n",
    "금액을 입력하세요\n",
    "지출이 기록되었습니다.\n",
    "'''\n",
    "def show_menu():\n",
    "    print(\"====가계부====\")\n",
    "    print(\"1. 지출 입력\")\n",
    "    print(\"2. 지출 목록 보기\")\n",
    "    print(\"3. 총 지출 확인\")\n",
    "    print(\"4. 종료\")\n",
    "\n",
    "def add_expense(expenses):\n",
    "    date = int(input(\"날짜를 입력하세요 (예: 11-19): \"))\n",
    "    item = input(\"지출 항목을 입력하세요: \")\n",
    "    amount = int(input(\"금액을 입력하세요: \"))\n",
    "    expenses.append([date, item, amount])  # 리스트에 추가\n",
    "    print(\"\\n지출이 추가되었습니다.\")\n",
    "  \n",
    "def show_expenses(expenses):\n",
    "    print(\"\\n날짜\\t항목\\t금액\")\n",
    "    print(\"-\" * 20)\n",
    "    for date, item, amount in expenses:\n",
    "        print(f\"{date}\\t{item}\\t{amount:,}원\")\n",
    "\n",
    "def show_total(expenses):\n",
    "    total =0\n",
    "    for expense in expenses:\n",
    "        total+=expense[2]\n",
    "    print(f\"\\n총 지출: {total:,}원\")\n",
    "\n",
    "\n",
    "def expense():\n",
    "    expenses = [] \n",
    "    while True:\n",
    "        show_menu()\n",
    "        choice = input(\"원하는 작업을 선택하세요: \")\n",
    "\n",
    "        if choice == \"1\":\n",
    "            add_expense(expenses)\n",
    "        elif choice == \"2\":\n",
    "            show_expenses(expenses)\n",
    "        elif choice == \"3\":\n",
    "            show_total(expenses)\n",
    "        elif choice == \"4\":\n",
    "            print(\"\\n프로그램을 종료합니다.\")\n",
    "            break\n",
    "expense()\n"
   ]
  },
  {
   "cell_type": "code",
   "execution_count": 169,
   "id": "6fa6374c-7dad-4e5f-929b-33feeff69ebe",
   "metadata": {
    "scrolled": true
   },
   "outputs": [
    {
     "name": "stdout",
     "output_type": "stream",
     "text": [
      "====가계부====\n",
      "1. 지출 입력\n",
      "2. 지출 목록 보기\n",
      "3. 총 지출 확인\n",
      "4. 종료\n"
     ]
    },
    {
     "name": "stdin",
     "output_type": "stream",
     "text": [
      "원하는 작업을 선택하세요 1\n",
      "날짜를 입력하세요 (예: 11-19): 11-12\n",
      "지출 항목을 입력하세요 감자\n",
      "금액을 입력하세요 500\n"
     ]
    },
    {
     "name": "stdout",
     "output_type": "stream",
     "text": [
      "지출이 추가되었습니다\n",
      "====가계부====\n",
      "1. 지출 입력\n",
      "2. 지출 목록 보기\n",
      "3. 총 지출 확인\n",
      "4. 종료\n"
     ]
    },
    {
     "name": "stdin",
     "output_type": "stream",
     "text": [
      "원하는 작업을 선택하세요 1\n",
      "날짜를 입력하세요 (예: 11-19): 11-13\n",
      "지출 항목을 입력하세요 호박\n",
      "금액을 입력하세요 600\n"
     ]
    },
    {
     "name": "stdout",
     "output_type": "stream",
     "text": [
      "지출이 추가되었습니다\n",
      "====가계부====\n",
      "1. 지출 입력\n",
      "2. 지출 목록 보기\n",
      "3. 총 지출 확인\n",
      "4. 종료\n"
     ]
    },
    {
     "name": "stdin",
     "output_type": "stream",
     "text": [
      "원하는 작업을 선택하세요 2\n"
     ]
    },
    {
     "name": "stdout",
     "output_type": "stream",
     "text": [
      "\n",
      "날짜\t항목\t금액\n",
      "--------------------\n",
      "11-12\t감자\t500원\n",
      "11-13\t호박\t600원\n",
      "====가계부====\n",
      "1. 지출 입력\n",
      "2. 지출 목록 보기\n",
      "3. 총 지출 확인\n",
      "4. 종료\n"
     ]
    },
    {
     "name": "stdin",
     "output_type": "stream",
     "text": [
      "원하는 작업을 선택하세요 3\n"
     ]
    },
    {
     "name": "stdout",
     "output_type": "stream",
     "text": [
      "\n",
      "총 지출: 1,100원\n",
      "====가계부====\n",
      "1. 지출 입력\n",
      "2. 지출 목록 보기\n",
      "3. 총 지출 확인\n",
      "4. 종료\n"
     ]
    },
    {
     "name": "stdin",
     "output_type": "stream",
     "text": [
      "원하는 작업을 선택하세요 4\n"
     ]
    },
    {
     "name": "stdout",
     "output_type": "stream",
     "text": [
      "프로그램을 종료합니다.\n"
     ]
    }
   ],
   "source": [
    "class expense():\n",
    "    def __init__(self):\n",
    "        self.expenses=[]\n",
    "      \n",
    "    def show_menu(self):\n",
    "        print(\"====가계부====\")\n",
    "        print(\"1. 지출 입력\")\n",
    "        print(\"2. 지출 목록 보기\")\n",
    "        print(\"3. 총 지출 확인\")\n",
    "        print(\"4. 종료\")\n",
    "\n",
    "    def add(self):\n",
    "        date=input(\"날짜를 입력하세요 (예: 11-19):\")\n",
    "        item=input(\"지출 항목을 입력하세요\")\n",
    "        amount=int(input(\"금액을 입력하세요\"))\n",
    "    \n",
    "        self.expenses.append([date,item,amount])  #리스트\n",
    "        print(\"지출이 추가되었습니다\")\n",
    "        \n",
    "    def show_list(self):\n",
    "        print(\"\\n날짜\\t항목\\t금액\")\n",
    "        print(\"-\"*20)\n",
    "        for date, item, amount in self.expenses:\n",
    "            print(f\"{date}\\t{item}\\t{amount:,}원\")\n",
    "    \n",
    "    def show_total(self):\n",
    "        total = 0 \n",
    "        for date, item, amount in self.expenses:\n",
    "            total+=amount\n",
    "        print(f\"\\n총 지출: {total:,}원\")\n",
    "       \n",
    "    def run(self):\n",
    "        while True:\n",
    "            self.show_menu()\n",
    "            choice=input(\"원하는 작업을 선택하세요\")\n",
    "            if choice==\"1\":\n",
    "                self.add()\n",
    "            elif choice==\"2\":\n",
    "                self.show_list()\n",
    "            elif choice==\"3\":\n",
    "                self.show_total()\n",
    "            elif choice==\"4\":\n",
    "                print(\"프로그램을 종료합니다.\")\n",
    "                break\n",
    "a=expense()\n",
    "a.run() "
   ]
  },
  {
   "cell_type": "code",
   "execution_count": 171,
   "id": "d59bd25b-e1c8-4578-ae48-cd5a0fb261d7",
   "metadata": {
    "scrolled": true
   },
   "outputs": [
    {
     "name": "stdout",
     "output_type": "stream",
     "text": [
      "====홍길동가계부====\n",
      "1. 지출 입력\n",
      "2. 지출 목록 보기\n",
      "3. 총 지출 확인\n",
      "4. 종료\n"
     ]
    },
    {
     "name": "stdin",
     "output_type": "stream",
     "text": [
      "원하는 작업을 선택하세요 1\n",
      "날짜를 입력하세요 (예: 11-19): 11-10\n",
      "지출 항목을 입력하세요 감자\n",
      "금액을 입력하세요 500\n"
     ]
    },
    {
     "name": "stdout",
     "output_type": "stream",
     "text": [
      "지출이 추가되었습니다\n",
      "====홍길동가계부====\n",
      "1. 지출 입력\n",
      "2. 지출 목록 보기\n",
      "3. 총 지출 확인\n",
      "4. 종료\n"
     ]
    },
    {
     "name": "stdin",
     "output_type": "stream",
     "text": [
      "원하는 작업을 선택하세요 2\n"
     ]
    },
    {
     "name": "stdout",
     "output_type": "stream",
     "text": [
      "\n",
      "날짜\t항목\t금액\n",
      "--------------------\n",
      "11-10\t감자\t500원\n",
      "====홍길동가계부====\n",
      "1. 지출 입력\n",
      "2. 지출 목록 보기\n",
      "3. 총 지출 확인\n",
      "4. 종료\n"
     ]
    },
    {
     "name": "stdin",
     "output_type": "stream",
     "text": [
      "원하는 작업을 선택하세요 3\n"
     ]
    },
    {
     "name": "stdout",
     "output_type": "stream",
     "text": [
      "\n",
      "총 지출: 500원\n",
      "====홍길동가계부====\n",
      "1. 지출 입력\n",
      "2. 지출 목록 보기\n",
      "3. 총 지출 확인\n",
      "4. 종료\n"
     ]
    },
    {
     "name": "stdin",
     "output_type": "stream",
     "text": [
      "원하는 작업을 선택하세요 4\n"
     ]
    },
    {
     "name": "stdout",
     "output_type": "stream",
     "text": [
      "프로그램을 종료합니다.\n"
     ]
    }
   ],
   "source": [
    "#홍길동 가계부\n",
    "class expense():\n",
    "    def __init__(self,name):\n",
    "        self.expenses=[]\n",
    "        self.name=name\n",
    "      \n",
    "    def show_menu(self):\n",
    "        print(f\"===={self.name}가계부====\")\n",
    "        print(\"1. 지출 입력\")\n",
    "        print(\"2. 지출 목록 보기\")\n",
    "        print(\"3. 총 지출 확인\")\n",
    "        print(\"4. 종료\")\n",
    "\n",
    "    def add(self):\n",
    "        date=input(\"날짜를 입력하세요 (예: 11-19):\")\n",
    "        item=input(\"지출 항목을 입력하세요\")\n",
    "        amount=int(input(\"금액을 입력하세요\"))\n",
    "    \n",
    "        self.expenses.append([date,item,amount])  #리스트\n",
    "        print(\"지출이 추가되었습니다\")\n",
    "        \n",
    "    def show_list(self):\n",
    "        print(\"\\n날짜\\t항목\\t금액\")\n",
    "        print(\"-\"*20)\n",
    "        for date, item, amount in self.expenses:\n",
    "            print(f\"{date}\\t{item}\\t{amount:,}원\")\n",
    "    \n",
    "    def show_total(self):\n",
    "        total = 0 \n",
    "        for date, item, amount in self.expenses:\n",
    "            total+=amount\n",
    "        print(f\"\\n총 지출: {total:,}원\")\n",
    "       \n",
    "    def run(self):\n",
    "        while True:\n",
    "            self.show_menu()\n",
    "            choice=input(\"원하는 작업을 선택하세요\")\n",
    "            if choice==\"1\":\n",
    "                self.add()\n",
    "            elif choice==\"2\":\n",
    "                self.show_list()\n",
    "            elif choice==\"3\":\n",
    "                self.show_total()\n",
    "            elif choice==\"4\":\n",
    "                print(\"프로그램을 종료합니다.\")\n",
    "                break\n",
    "                \n",
    "hong=expense(\"홍길동\")\n",
    "hong.run() \n",
    "\n",
    "#lee=expense(\"이순신\")\n",
    "#lee.run()"
   ]
  },
  {
   "cell_type": "code",
   "execution_count": 177,
   "id": "6acf4eb8-5dac-4490-851c-1fa64dc0e1ef",
   "metadata": {},
   "outputs": [
    {
     "name": "stdout",
     "output_type": "stream",
     "text": [
      "1100000\n",
      "2100000\n",
      "{1: {'name': '노트북', 'price': 1000000, 'quantity': 2}, 2: {'name': '마우스', 'price': 50000, 'quantity': 2}}\n",
      "1890000.0\n"
     ]
    }
   ],
   "source": [
    "class ShoppingCart:\n",
    "    def __init__(self):\n",
    "        self.items = {}\n",
    "        self.total = 0\n",
    "\n",
    "    def add_item(self, item_id, name, price, quantity=1):\n",
    "        if item_id in self.items:\n",
    "            self.items[item_id]['quantity'] += quantity\n",
    "        else:\n",
    "            self.items[item_id] = {\n",
    "                'name': name,\n",
    "                'price': price,\n",
    "                'quantity': quantity\n",
    "            }\n",
    "        self.calculate_total()\n",
    "\n",
    "    def remove_item(self, item_id, quantity=1):\n",
    "        if item_id in self.items:\n",
    "            self.items[item_id]['quantity'] -= quantity\n",
    "            if self.items[item_id]['quantity'] <= 0:\n",
    "                del self.items[item_id]\n",
    "            self.calculate_total()\n",
    "\n",
    "    def calculate_total(self):\n",
    "        self.total = sum(item['price'] * item['quantity'] \n",
    "                        for item in self.items.values())\n",
    "\n",
    "    def apply_discount(self, percent):\n",
    "        self.total *= (1 - percent/100)\n",
    "\n",
    "cart1=ShoppingCart()\n",
    "cart1.add_item(1,\"노트북\",1000000)\n",
    "cart1.add_item(2,\"마우스\",50000,2)\n",
    "print(cart1.total)\n",
    "\n",
    "cart1.add_item(1,\"노트북\",1000000)\n",
    "print(cart1.total)\n",
    "print(cart1.items)\n",
    "cart1.apply_discount(10)\n",
    "print(cart1.total)"
   ]
  }
 ],
 "metadata": {
  "kernelspec": {
   "display_name": "Python 3 (ipykernel)",
   "language": "python",
   "name": "python3"
  },
  "language_info": {
   "codemirror_mode": {
    "name": "ipython",
    "version": 3
   },
   "file_extension": ".py",
   "mimetype": "text/x-python",
   "name": "python",
   "nbconvert_exporter": "python",
   "pygments_lexer": "ipython3",
   "version": "3.12.7"
  }
 },
 "nbformat": 4,
 "nbformat_minor": 5
}
