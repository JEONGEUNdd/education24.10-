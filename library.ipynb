{
 "cells": [
  {
   "cell_type": "code",
   "execution_count": 7,
   "id": "f09fbf73-cab8-48b8-9340-88d28e71b63a",
   "metadata": {},
   "outputs": [
    {
     "name": "stdout",
     "output_type": "stream",
     "text": [
      "94.33333333333333\n"
     ]
    }
   ],
   "source": [
    "def print_score(score_list):\n",
    "    print(sum(score_list)/len(score_list))   #평균\n",
    "\n",
    "s=[98,95,90]\n",
    "print_score(s)"
   ]
  },
  {
   "cell_type": "markdown",
   "id": "58d35a9c-f2e4-4b3d-87cc-9fbfd457eff8",
   "metadata": {},
   "source": [
    "### 람다함수"
   ]
  },
  {
   "cell_type": "code",
   "execution_count": 2,
   "id": "cf022277-efad-43fa-a19f-42b320fe94f0",
   "metadata": {},
   "outputs": [
    {
     "name": "stdout",
     "output_type": "stream",
     "text": [
      "[1, 4, 9, 16, 25]\n"
     ]
    }
   ],
   "source": [
    "numbers=[1,2,3,4,5]\n",
    "squared=list(map(lambda x:x**2, numbers))\n",
    "print(squared)"
   ]
  },
  {
   "cell_type": "code",
   "execution_count": null,
   "id": "3405b734-2380-4040-b818-723ebcc97386",
   "metadata": {},
   "outputs": [],
   "source": [
    "words=[\"hello\",\"world\",\"python\"]\n",
    "w=list(map(lambda words:words.upper(),words))\n",
    "print(w)"
   ]
  },
  {
   "cell_type": "markdown",
   "id": "06d5647d-9b6f-4b97-9eb3-e3d1a07258c2",
   "metadata": {},
   "source": [
    "### 가변함수 *args"
   ]
  },
  {
   "cell_type": "code",
   "execution_count": 23,
   "id": "e40c0f99-e517-4c98-b457-722f8a9fda19",
   "metadata": {},
   "outputs": [
    {
     "name": "stdout",
     "output_type": "stream",
     "text": [
      "50\n"
     ]
    }
   ],
   "source": [
    "def max_value(*args):\n",
    "    return max(args)\n",
    "print(max_value(10,20,50,3))"
   ]
  },
  {
   "cell_type": "code",
   "execution_count": 25,
   "id": "fe156c6d-8a97-482c-b46d-fa393f75c24d",
   "metadata": {},
   "outputs": [
    {
     "name": "stdout",
     "output_type": "stream",
     "text": [
      "20.0\n"
     ]
    }
   ],
   "source": [
    "def average_num(*args):\n",
    "    return sum(args)/len(args)\n",
    "print(average_num(10,20,30))"
   ]
  },
  {
   "cell_type": "code",
   "execution_count": 16,
   "id": "96aba968-7108-4b9a-ac87-bb0204c1f5f9",
   "metadata": {},
   "outputs": [
    {
     "name": "stdout",
     "output_type": "stream",
     "text": [
      "[1, 2, 3, 4, 5, 6, 7]\n"
     ]
    }
   ],
   "source": [
    "#중복제거\n",
    "def remove_duplicates(*args):\n",
    "    return list(set(args))\n",
    "print(remove_duplicates(1,2,3,3,3,4,5,6,7,7))"
   ]
  },
  {
   "cell_type": "code",
   "execution_count": 27,
   "id": "e3718b15-b484-492f-89af-7d29f5600ce8",
   "metadata": {},
   "outputs": [
    {
     "data": {
      "text/plain": [
       "45.0"
      ]
     },
     "execution_count": 27,
     "metadata": {},
     "output_type": "execute_result"
    }
   ],
   "source": [
    "def average_workout_duration(*durations):\n",
    "    if not durations:\n",
    "        return 0\n",
    "    return sum(durations)/len(durations)\n",
    "average_workout_duration(30,45,60)"
   ]
  },
  {
   "cell_type": "code",
   "execution_count": 6,
   "id": "d45f37ec-1737-43ab-bcae-a92f67dbb3df",
   "metadata": {},
   "outputs": [
    {
     "name": "stdout",
     "output_type": "stream",
     "text": [
      "{'홍길동': 20, '김민수': 22, '이영희': 19, '박지훈': 21, '최지혜': 20, '이수진': 23, '김철수': 24, '정하늘': 22, '유재석': 25, '신동엽': 30}\n"
     ]
    }
   ],
   "source": [
    "#students.txt파일을 딕셔너리로 불러오기(방법1)\n",
    "def read_students(filename):\n",
    "    students={}\n",
    "    with open(filename, \"r\", encoding=\"utf-8\") as f:\n",
    "       next(f)\n",
    "       for line in f:\n",
    "           info=line.strip().split(\",\")\n",
    "           students[info[0]]=int(info[1])\n",
    "    return students\n",
    "                                \n",
    "filename_students='students.txt'\n",
    "students_dict=read_students(filename_students)\n",
    "print(students_dict)"
   ]
  },
  {
   "cell_type": "code",
   "execution_count": 8,
   "id": "5acb34f4-2bd6-48fe-8083-db37fa0231df",
   "metadata": {},
   "outputs": [
    {
     "name": "stdout",
     "output_type": "stream",
     "text": [
      "{'이름': ['홍길동', '김민수', '이영희', '박지훈', '최지혜', '이수진', '김철수', '정하늘', '유재석', '신동엽'], '나이': ['20', '22', '19', '21', '20', '23', '24', '22', '25', '30']}\n"
     ]
    }
   ],
   "source": [
    "#students.txt파일을 딕셔너리로 불러오기\n",
    "def read_students(filename):\n",
    "    students={}\n",
    "    with open(filename, \"r\", encoding=\"utf-8\") as f:\n",
    "        header=f.readline().strip().split(',')\n",
    "\n",
    "        #헤더를 키로 초기화\n",
    "        for key in header:\n",
    "            students[key]=[]\n",
    "            \n",
    "        for line in f:\n",
    "            values=line.strip().split(',')\n",
    "            for i in range(len(header)):\n",
    "                students[header[i]].append(values[i])\n",
    "    return students\n",
    "            \n",
    "filename_students='students.txt'\n",
    "students_dict=read_students(filename_students)\n",
    "print(students_dict)"
   ]
  },
  {
   "cell_type": "code",
   "execution_count": 7,
   "id": "21b529cc-b07e-4ea9-b660-1b2b962f9796",
   "metadata": {},
   "outputs": [
    {
     "name": "stdout",
     "output_type": "stream",
     "text": [
      "[['이름', '과목', '점수'], ['김철수', '수학', '90'], ['이영희', '영어', '85'], ['박민수', '과학', '88']]\n"
     ]
    }
   ],
   "source": [
    "#data 리스트를 grades.csv 파일에 저장한 후, 해당 파일을 다시 읽어서 내용을 출력\n",
    "import csv\n",
    "grades_data=[\n",
    "    ['김철수','수학','90'],\n",
    "    ['이영희','영어','85'],\n",
    "    ['박민수','과학','88']\n",
    "]\n",
    "filename='grades.csv'\n",
    "def write_grades(data,filename):\n",
    "    with open(filename, 'w', newline='', encoding='utf-8')as f:\n",
    "        writer=csv.writer(f)\n",
    "        writer.writerow(['이름','과목','점수'])   #헤더 추가\n",
    "        writer.writerows(data)  #여러 행을 한 번에 CSV 파일에 작성\n",
    "\n",
    "def read_grades(filename):\n",
    "    with open(filename, \"r\", encoding=\"utf-8\") as f:\n",
    "        reader=csv.reader(f)\n",
    "        return [row for row in csv.reader(f)]\n",
    "\n",
    "write_grades(grades_data,filename)\n",
    "result=read_grades(filename)\n",
    "print(result)"
   ]
  },
  {
   "cell_type": "code",
   "execution_count": 11,
   "id": "d3455f37-5ff8-4aa0-8667-986d5286b77b",
   "metadata": {},
   "outputs": [
    {
     "name": "stdout",
     "output_type": "stream",
     "text": [
      "현재시간: 2024-11-13 12:26:49.343696\n",
      "10일 후: 2024-11-23 12:26:49.343696\n",
      "3시간 전: 2024-11-13 17:26:49.343696\n"
     ]
    }
   ],
   "source": [
    "from datetime import datetime, timedelta\n",
    "now=datetime.now()\n",
    "print(\"현재시간:\",now)\n",
    "\n",
    "#10일후\n",
    "future_date=now+timedelta(days=10)\n",
    "print(\"10일 후:\", future_date)\n",
    "\n",
    "#3시간전\n",
    "past_time=now+timedelta(hours=5)\n",
    "print(\"3시간 전:\", past_time)"
   ]
  },
  {
   "cell_type": "code",
   "execution_count": null,
   "id": "859160b6-2430-454b-93a5-86d8d750e55e",
   "metadata": {},
   "outputs": [],
   "source": [
    "#계산기 프로그램\n",
    "def show_cal():\n",
    "    print(\"\\n===계산기===\")\n",
    "    print(\"1. 덧셈\")\n",
    "    print(\"2. 뺄셈\")\n",
    "    print(\"3. 곱셈\")\n",
    "    print(\"4. 나눗셈\")\n",
    "    print(\"5. 종료\")\n",
    "\n",
    "def add(num1,num2):\n",
    "    print(f\"결과: {num1 + num2}\")\n",
    "def substract(num1,num2):\n",
    "    print(f\"결과: {num1 + num2}\")\n",
    "def multiply(num1,num2):\n",
    "    print(f\"결과: {num1 + num2}\")\n",
    "def divide(num1,num2):\n",
    "    print(f\"결과: {num1 + num2}\")\n",
    "    \n",
    "def main():\n",
    "    while True:\n",
    "        show_cal()\n",
    "        choice=input(\"연산을 선택하세요:\")\n",
    "        if choice==\"5\":\n",
    "            print(\"프로그램 종료\")\n",
    "            break\n",
    "        num1=float(input(\"첫 번째 숫자: \"))\n",
    "        num2=float(input(\"두 번째 숫자: \"))\n",
    "\n",
    "        if choice==\"1\":\n",
    "            add(num1,num2)\n",
    "        elif choice==\"2\":\n",
    "            substract(num1,num2)\n",
    "        elif choice==\"3\":\n",
    "            multiply(num1,num2)\n",
    "        elif choice==\"4\":\n",
    "            divide(num1,num2)\n",
    "main()  "
   ]
  },
  {
   "cell_type": "code",
   "execution_count": 3,
   "id": "a782afa8-5630-404f-97fb-f9bdf9b03045",
   "metadata": {},
   "outputs": [
    {
     "name": "stdin",
     "output_type": "stream",
     "text": [
      "숫자를 입력하세요 =\n"
     ]
    },
    {
     "name": "stdout",
     "output_type": "stream",
     "text": [
      "숫자가 아닙니다.\n"
     ]
    }
   ],
   "source": [
    "try:\n",
    "    number=int(input(\"숫자를 입력하세요\"))\n",
    "    print(f\"입력한 숫자는: {number}입니다.\")\n",
    "except ValueError:\n",
    "    print(\"숫자가 아닙니다.\")"
   ]
  },
  {
   "cell_type": "code",
   "execution_count": null,
   "id": "ab7df5a8-72b2-4ec9-88e4-9fbba83273a6",
   "metadata": {},
   "outputs": [],
   "source": [
    "#작업 디렉토리변경\n",
    "new_path = r'C:\\Users\\enjoy\\python_202411'  #변경할 경로\n",
    "\n",
    "os.chdir(new_path)\n",
    "os.getcwd()"
   ]
  },
  {
   "cell_type": "markdown",
   "id": "5dca4b01-92da-4564-b7ee-da3699a18f32",
   "metadata": {},
   "source": [
    "### 폴더 , 파일 관리"
   ]
  },
  {
   "cell_type": "code",
   "execution_count": null,
   "id": "99b605af-8250-4d77-a029-f48faf4aac55",
   "metadata": {},
   "outputs": [],
   "source": [
    "#디렉토리(target_dir) 내 파일들을 확장자별 폴더로 분류\n",
    "# 확장자를 기준으로 폴더를 생성한 뒤, 해당 폴더로 파일을 이동\n",
    "\n",
    "def organize_files(target_dir):   #디렉토리에서 파일 목록을 읽고, 확장자별로 분류\n",
    "    for filename in os.listdir(target_dir):  #target_dir 내의 모든 파일과 폴더를 리스트로 반환\n",
    "        source_file=os.path.join(target_dir,filename) #filename과 target_dir를 결합해 파일의 절대 경로 생성\n",
    "        if(os.path.isfile(source_file)):\n",
    "            ext=filename.split('.')[-1]  #리스트의 마지막 요소를 가져와 확장자를 추출\n",
    "            ext_dir=os.path.join(target_dir,ext)  #target_dir와 확장자 이름(ext)을 결합해 확장자 폴더 경로 생성.\n",
    "            if not os.path.exists(ext_dir):    #확장자 폴더가 없으면 생성\n",
    "                os.makedirs(ext_dir)\n",
    "                print(f\"확장자가 생성되었습니다. - {ext}\")\n",
    "            new_file=os.path.join(ext_dir,filename)\n",
    "            os.rename(source_file,new_file)\n",
    "            print(f\"{filename}파일이 {ext_dir}로 옮겨졌습니다.\")\n",
    "            \n",
    "target_directory = os.path.join(os.getcwd(),\"sample\")\n",
    "organize_files(target_directory)"
   ]
  },
  {
   "cell_type": "code",
   "execution_count": null,
   "id": "2f0792d6-392d-4b04-a87e-e3b702554c78",
   "metadata": {},
   "outputs": [],
   "source": [
    "#특정폴더나 특정확장자를 가진 파일 일괄 삭제\n",
    "import os\n",
    "\n",
    "def delete_files_with_extension(target_directory,file_extension):   #디렉토리에서 파일 목록을 읽고, 확장자별로 분류\n",
    "    for filename in os.listdir(target_directory):  #target_dir 내의 모든 파일과 폴더를 리스트로 반환\n",
    "        source_file=os.path.join(target_directory,filename) #filename과 target_dir를 결합해 파일의 절대 경로 생성\n",
    "        if(os.path.isfile(source_file)):\n",
    "            file_extension=filename.split('.')[-1] \n",
    "            os.remove(source_file)\n",
    "            print(f\" 파일이 삭제되었습니다. -{filename}\")           \n",
    "\n",
    "target_directory= os.path.join(os.getcwd(),\"sample\")\n",
    "file_extension='.tmp'\n",
    "delete_files_with_extension(target_directory,file_extension)"
   ]
  },
  {
   "cell_type": "code",
   "execution_count": null,
   "id": "bfe4735c-1967-43c6-98ac-72f8158e638b",
   "metadata": {},
   "outputs": [],
   "source": [
    "class expense():\n",
    "    def __init__(self):\n",
    "        self.expenses=[]\n",
    "      \n",
    "    def show_menu(self):\n",
    "        print(\"====가계부====\")\n",
    "        print(\"1. 지출 입력\")\n",
    "        print(\"2. 지출 목록 보기\")\n",
    "        print(\"3. 총 지출 확인\")\n",
    "        print(\"4. 종료\")\n",
    "\n",
    "    def add(self):\n",
    "        date=input(\"날짜를 입력하세요 (예: 11-19):\")\n",
    "        item=input(\"지출 항목을 입력하세요\")\n",
    "        amount=int(input(\"금액을 입력하세요\"))\n",
    "    \n",
    "        self.expenses.append([date,item,amount])  #리스트\n",
    "        print(\"지출이 추가되었습니다\")\n",
    "        \n",
    "    def show_list(self):\n",
    "        print(\"\\n날짜\\t항목\\t금액\")\n",
    "        print(\"-\"*20)\n",
    "        for date, item, amount in self.expenses:\n",
    "            print(f\"{date}\\t{item}\\t{amount:,}원\")\n",
    "    \n",
    "    def show_total(self):\n",
    "        total = 0 \n",
    "        for date, item, amount in self.expenses:\n",
    "            total+=amount\n",
    "        print(f\"\\n총 지출: {total:,}원\")\n",
    "       \n",
    "    def run(self):\n",
    "        while True:\n",
    "            self.show_menu()\n",
    "            choice=input(\"원하는 작업을 선택하세요\")\n",
    "            if choice==\"1\":\n",
    "                self.add()\n",
    "            elif choice==\"2\":\n",
    "                self.show_list()\n",
    "            elif choice==\"3\":\n",
    "                self.show_total()\n",
    "            elif choice==\"4\":\n",
    "                print(\"프로그램을 종료합니다.\")\n",
    "                break\n",
    "a=expense()\n",
    "a.run() "
   ]
  },
  {
   "cell_type": "code",
   "execution_count": null,
   "id": "f1fda38d-0d6f-40af-a467-be0ecc387b29",
   "metadata": {},
   "outputs": [],
   "source": [
    "#이미지 다운로드\n",
    "import urllib.request\n",
    "url=\"https://image-comic.pstatic.net/webtoon/833255/thumbnail/thumbnail_IMAG21_504f6152-8a60-42a0-a1c0-43cd77f9c430.jpg\"\n",
    "filename=\"naver.jpg\"\n",
    "\n",
    "user_agent=\"Mozilla/5.0 (Windows NT 10.0; Win64; x64) AppleWebKit/537.36 (KHTML, like Gecko) Chrome/131.0.0.0 Safari/537.36\"\n",
    "req=urllib.request.Request(url, headers={'User-Agent':user_agent})\n",
    "\n",
    "with urllib.request.urlopen(req) as response:\n",
    "    with open(filename,'wb') as f:\n",
    "        f.write(response.read())\n",
    "print(f\"{filename}다운로드 성공\")"
   ]
  },
  {
   "cell_type": "code",
   "execution_count": 10,
   "id": "b64a8873-84cf-4cdd-8442-2538d10748b9",
   "metadata": {},
   "outputs": [
    {
     "name": "stdout",
     "output_type": "stream",
     "text": [
      "안녕하세요!\n",
      "첫 번째 단락\n",
      "첫 번째 단락\n",
      "첫 번째 단락\n",
      "첫 번째 단락\n",
      "두 번째 단락\n"
     ]
    }
   ],
   "source": [
    "from bs4 import BeautifulSoup\n",
    "html_doc=\"\"\"\n",
    "<html>\n",
    "<head><title>홈페이지</title></head>\n",
    "<body>\n",
    "    <h1>안녕하세요!</h1>\n",
    "    <p class=\"content\">첫 번째 단락</p>\n",
    "    <p class=\"content\">두 번째 단락</p>\n",
    "</body>\n",
    "</html>\n",
    "\"\"\"\n",
    "soup=BeautifulSoup(html_doc, 'html.parser')\n",
    "h1=soup.find(\"h1\")\n",
    "print(h1.string)\n",
    "\n",
    "#cont=soup.find(class_=\"content\")\n",
    "#print(cont.string)\n",
    "\n",
    "cont1=soup.find(attrs={'class':'content'})\n",
    "print(cont1.string)\n",
    "\n",
    "cont2=soup.find('p',class_='content')\n",
    "print(cont2.string)\n",
    "\n",
    "#soup.find('태그명', attrs={'속성':'속성값'})\n",
    "cont3=soup.find('p',attrs={'class':'content'})\n",
    "print(cont3.string)\n",
    "\n",
    "#soup.find_all('태그명',속성='속성값')\n",
    "p_content_tags=soup.find_all('p',attrs={'class':'content'})\n",
    "for tag in p_content_tags:\n",
    "    print(f\"{tag.string}\")"
   ]
  },
  {
   "cell_type": "code",
   "execution_count": 18,
   "id": "50d6edaf-b594-486e-af07-b850e74cb23a",
   "metadata": {},
   "outputs": [
    {
     "name": "stdout",
     "output_type": "stream",
     "text": [
      "모든 <p>태그:\n",
      "첫 번째 단락\n",
      "두 번째 단락\n",
      "세 번째 단락\n",
      "네 번째 단락\n",
      "다섯 번째 단락\n",
      "네 번째 단락\n",
      "다섯 번째 단락\n"
     ]
    }
   ],
   "source": [
    "from bs4 import BeautifulSoup\n",
    "html_doc=\"\"\"\n",
    "<html>\n",
    "<head><title>홈페이지</title></head>\n",
    "<body>\n",
    "    <h1>안녕하세요!</h1>\n",
    "    <p class=\"content\">첫 번째 단락</p>\n",
    "    <p class=\"content\">두 번째 단락</p>\n",
    "    <p class=\"content\">세 번째 단락</p>\n",
    "    <div id=\"main\">\n",
    "        <p class=\"content\">네 번째 단락</p>\n",
    "        <p class=\"content\">다섯 번째 단락</p>\n",
    "        <img src=\"https://example.com/image1.jpg\" alt=\"첫 번째 이미지\" class=\"image\">\n",
    "    </div>\n",
    "    <a href=\"https://example.com\" class=\"link\">링크</a>\n",
    "    <img src=\"https://example.com/image2.jpg\" alt=\"두 번째 이미지\" class=\"image\">   \n",
    "</body>\n",
    "</html>\n",
    "\"\"\"\n",
    "\n",
    "soup=BeautifulSoup(html_doc,'html.parser')\n",
    "\n",
    "p_tags=soup.select('p')\n",
    "print(\"모든 <p>태그:\")\n",
    "for p in p_tags:\n",
    "    print(p.string)\n",
    "\n",
    "main_p_tags=soup.select('#main p')\n",
    "for p in main_p_tags:\n",
    "    print(p.string)"
   ]
  },
  {
   "cell_type": "code",
   "execution_count": 13,
   "id": "f898ef49-ac11-4c3a-8652-5fd907719ccc",
   "metadata": {},
   "outputs": [
    {
     "name": "stdout",
     "output_type": "stream",
     "text": [
      "상품명: 스마트폰 A, 가격: 899,000원\n",
      "상품명: 노트북 B, 가격: 1,299,000원\n",
      "상품명: 태블릿 C, 가격: 599,000원\n",
      "상품명: 스마트워치 D, 가격: 299,000원\n"
     ]
    }
   ],
   "source": [
    "import requests\n",
    "from bs4 import BeautifulSoup\n",
    "url='http://lecture.pul.kr/ex2.html'\n",
    "\n",
    "response=requests.get(url)\n",
    "soup=BeautifulSoup(response.text,\"html.parser\")\n",
    "\n",
    "products=soup.select(\"div.product\")\n",
    "for product in products:\n",
    "    name=product.select_one(\"h2.name\").text\n",
    "    price=product.select_one(\"span.price\").text\n",
    "    print(f\"상품명: {name}, 가격: {price}\")"
   ]
  },
  {
   "cell_type": "code",
   "execution_count": 7,
   "id": "f6d70f0c-af8f-492c-bc91-d69d96274ecd",
   "metadata": {},
   "outputs": [
    {
     "name": "stdout",
     "output_type": "stream",
     "text": [
      "https://imagescdn.gettyimagesbank.com/500/202107/jv12313847.jpg\n",
      "https://imagescdn.gettyimagesbank.com/500/202107/jv12315565.jpg\n",
      "https://imagescdn.gettyimagesbank.com/500/202311/jv13117386.jpg\n",
      "https://imagescdn.gettyimagesbank.com/500/202311/jv13117838.jpg\n",
      "https://imagescdn.gettyimagesbank.com/500/202311/jv13119017.jpg\n"
     ]
    }
   ],
   "source": [
    "#이미지 다운로드\n",
    "import requests\n",
    "from bs4 import BeautifulSoup\n",
    "\n",
    "def download_image(url,filename):\n",
    "    response=requests.get(url)\n",
    "    with open(filename,'wb') as f:\n",
    "        f.write(response.content)\n",
    "        \n",
    "url=\"https://www.gettyimagesbank.com/freeimage?utm_source=google&utm_medium=gsa&utm_campaign=%EB%AC%B4%EB%A3%8C%ED%82%A4%EC%9B%8C%EB%93%9C&utm_content=%EB%AC%B4%EB%A3%8C%ED%82%A4%EC%9B%8C%EB%93%9C&ACE_REF=adwords_g&ACE_KW=%EC%9D%B4%EB%AF%B8%EC%A7%80%EC%82%AC%EC%9D%B4%ED%8A%B8&gad_source=1&gclid=CjwKCAiA3ZC6BhBaEiwAeqfvyq3oJFVc_QqBtabJOxl8nFbLPUexQiuRuE3-30zLs1Jfnuiw3JXm2RoCVGAQAvD_BwE\"\n",
    "response=requests.get(url)\n",
    "soup=BeautifulSoup(response.text,'html.parser')\n",
    "\n",
    "images= soup.select(\".freeCon img\")  ##.은 클래스, img에는 클래스나 id 태그 없음\n",
    "# print(images)\n",
    "\n",
    "for fn,image in enumerate(images[:5],1):\n",
    "    src = image['src']\n",
    "    print(src)\n",
    "    download_image(src, f'image3_{fn:02d}.jpg')"
   ]
  },
  {
   "cell_type": "code",
   "execution_count": 7,
   "id": "a4c501d0-6706-450b-bdc9-1774d1f7a67a",
   "metadata": {
    "scrolled": true
   },
   "outputs": [
    {
     "name": "stdout",
     "output_type": "stream",
     "text": [
      "리뷰어: 구매자1\n",
      "평점: 4/5\n",
      "리뷰: 상품이 매우 좋습니다.\n",
      "구매정보: 구매일: 2024-01-15, 구매size: L, 구매color: Black\n",
      "이미지: ['review1.jpg', 'review2.jpg']\n",
      "\n",
      "리뷰어: 구매자2\n",
      "평점: 5/5\n",
      "리뷰: 정말 기대 이상이었습니다!\n",
      "구매정보: 구매일: 2024-02-10, 구매size: M, 구매color: Red\n",
      "이미지: ['review3.jpg', 'review4.jpg']\n",
      "\n",
      "리뷰어: 구매자3\n",
      "평점: 3/5\n",
      "리뷰: 가격 대비 괜찮은 제품입니다.\n",
      "구매정보: 구매일: 2024-03-05, 구매size: S, 구매color: Blue\n",
      "이미지: ['review5.jpg', 'review6.jpg']\n",
      "\n"
     ]
    },
    {
     "data": {
      "text/plain": [
       "[{'reviewer': '구매자1',\n",
       "  'rating': '★★★★☆',\n",
       "  'rating-max': 5,\n",
       "  'date': '2024-01-15',\n",
       "  'size': 'L',\n",
       "  'color': 'Black',\n",
       "  'images': ['review1.jpg', 'review2.jpg']},\n",
       " {'reviewer': '구매자2',\n",
       "  'rating': '★★★★★',\n",
       "  'rating-max': 5,\n",
       "  'date': '2024-02-10',\n",
       "  'size': 'M',\n",
       "  'color': 'Red',\n",
       "  'images': ['review3.jpg', 'review4.jpg']},\n",
       " {'reviewer': '구매자3',\n",
       "  'rating': '★★★☆☆',\n",
       "  'rating-max': 5,\n",
       "  'date': '2024-03-05',\n",
       "  'size': 'S',\n",
       "  'color': 'Blue',\n",
       "  'images': ['review5.jpg', 'review6.jpg']}]"
      ]
     },
     "execution_count": 7,
     "metadata": {},
     "output_type": "execute_result"
    }
   ],
   "source": [
    "import requests\n",
    "from bs4 import BeautifulSoup\n",
    "\n",
    "html=\"\"\"\n",
    "<html>\n",
    "<body>\n",
    "    <div id=\"product-reviews\">\n",
    "        <article data-review-id=\"rev1\" class=\"review-item\">\n",
    "            <div class=\"reviewer\">\n",
    "                <img src=\"user1.jpg\" alt=\"프로필\">\n",
    "                <span id=\"name\">구매자1</span>\n",
    "                <div class=\"stars\">★★★★☆</div>\n",
    "            </div>\n",
    "            <p class=\"review-text\">상품이 매우 좋습니다.</p>\n",
    "            <div class=\"meta-info\">\n",
    "                <time datetime=\"2024-01-15\">구매일: 2024-01-15</time>\n",
    "                <span class=\"size\">구매size: L</span>\n",
    "                <span class=\"color\">구매color: Black</span>\n",
    "            </div>\n",
    "            <ul class=\"review-images\">\n",
    "                <li><img src=\"review1.jpg\"></li>\n",
    "                <li><img src=\"review2.jpg\"></li>\n",
    "            </ul>\n",
    "        </article>\n",
    "\n",
    "        <article data-review-id=\"rev2\" class=\"review-item\">\n",
    "            <div class=\"reviewer\">\n",
    "                <img src=\"user2.jpg\" alt=\"프로필\">\n",
    "                <span id=\"name\">구매자2</span>\n",
    "                <div class=\"stars\">★★★★★</div>\n",
    "            </div>\n",
    "            <p class=\"review-text\">정말 기대 이상이었습니다!</p>\n",
    "            <div class=\"meta-info\">\n",
    "                <time datetime=\"2024-02-10\">구매일: 2024-02-10</time>\n",
    "                <span class=\"size\">구매size: M</span>\n",
    "                <span class=\"color\">구매color: Red</span>\n",
    "            </div>\n",
    "            <ul class=\"review-images\">\n",
    "                <li><img src=\"review3.jpg\"></li>\n",
    "                <li><img src=\"review4.jpg\"></li>\n",
    "            </ul>\n",
    "        </article>\n",
    "\n",
    "        <article data-review-id=\"rev3\" class=\"review-item\">\n",
    "            <div class=\"reviewer\">\n",
    "                <img src=\"user3.jpg\" alt=\"프로필\">\n",
    "                <span id=\"name\">구매자3</span>\n",
    "                <div class=\"stars\">★★★☆☆</div>\n",
    "            </div>\n",
    "            <p class=\"review-text\">가격 대비 괜찮은 제품입니다.</p>\n",
    "            <div class=\"meta-info\">\n",
    "                <time datetime=\"2024-03-05\">구매일: 2024-03-05</time>\n",
    "                <span class=\"size\">구매size: S</span>\n",
    "                <span class=\"color\">구매color: Blue</span>\n",
    "            </div>\n",
    "            <ul class=\"review-images\">\n",
    "                <li><img src=\"review5.jpg\"></li>\n",
    "                <li><img src=\"review6.jpg\"></li>\n",
    "            </ul>\n",
    "        </article>\n",
    "    </div>\n",
    "</body>\n",
    "</html>\n",
    "\"\"\"\n",
    "soup=BeautifulSoup(html,'html.parser')\n",
    "posts=soup.select(\".review-item\")\n",
    "#print(posts)\n",
    "\n",
    "data=[]\n",
    "\n",
    "for post in posts:\n",
    "    name=post.select_one(\"#name\").text.strip()\n",
    "    stars=post.select_one(\".stars\").text.strip()\n",
    "    reviewtext=post.select_one(\".review-text\").text.strip()\n",
    "    time=post.select_one(\"time\").text.strip()\n",
    "    size=post.select_one(\".size\").text.strip()\n",
    "    color=post.select_one(\".color\").text.strip()\n",
    "    \n",
    "    imgs=post.select(\".review-images img\")\n",
    "    img=[t['src'] for t in imgs]\n",
    "    \n",
    "    data.append({\n",
    "        'reviewer':name,\n",
    "        'rating':stars,\n",
    "        'rating-max':len(stars.strip()),\n",
    "        'date':time.split(':')[1].strip(),\n",
    "        'size':size.split(':')[1].strip(),\n",
    "        'color':color.split(':')[1].strip(),\n",
    "        'images':img\n",
    "    })\n",
    "\n",
    "    print(f\"리뷰어: {name}\")\n",
    "    print(f\"평점: {stars.count(\"★\")}/{len(stars.strip())}\")\n",
    "    print(f\"리뷰: {reviewtext}\")\n",
    "    print(f\"구매정보: {time}, {size}, {color}\")\n",
    "    print(f\"이미지: {img}\\n\")\n",
    "\n",
    "data"
   ]
  },
  {
   "cell_type": "code",
   "execution_count": 12,
   "id": "d1d828e8-c306-4fca-ba0f-51f43b992f97",
   "metadata": {
    "collapsed": true,
    "jupyter": {
     "outputs_hidden": true
    }
   },
   "outputs": [
    {
     "name": "stdout",
     "output_type": "stream",
     "text": [
      "회사 ID: company123\n",
      "직무: 백엔드 개발자\n",
      "회사명: 테크 컴퍼니\n",
      "필요스킬: Python, Flask, MySQL\n",
      "경력 3년 이상\n",
      "학력: 고졸이상\n",
      "연봉: 4,500만원\n",
      "근무지: 서울시 강남구\n",
      "마감일: 2024-03-31 \n",
      "\n",
      "회사 ID: company456\n",
      "직무: 프론트엔드 개발자\n",
      "회사명: 디지털 솔루션즈\n",
      "필요스킬: JavaScript, React, CSS\n",
      "경력 2년 이상\n",
      "학력: 고졸이상\n",
      "연봉: 4,000만원\n",
      "근무지: 서울시 마포구\n",
      "마감일: 2024-04-15 \n",
      "\n"
     ]
    },
    {
     "data": {
      "text/plain": [
       "[{'company_id': 'company123',\n",
       "  'position': '백엔드 개발자',\n",
       "  'company': '테크 컴퍼니',\n",
       "  'skills': 'Python, Flask, MySQL',\n",
       "  'experience': '3년 이상',\n",
       "  'education': '학력: 고졸이상',\n",
       "  'salary': 4500,\n",
       "  'location': '서울시 강남구',\n",
       "  'deadline': '2024-03-31'},\n",
       " {'company_id': 'company456',\n",
       "  'position': '프론트엔드 개발자',\n",
       "  'company': '디지털 솔루션즈',\n",
       "  'skills': 'JavaScript, React, CSS',\n",
       "  'experience': '2년 이상',\n",
       "  'education': '학력: 고졸이상',\n",
       "  'salary': 4000,\n",
       "  'location': '서울시 마포구',\n",
       "  'deadline': '2024-04-15'}]"
      ]
     },
     "execution_count": 12,
     "metadata": {},
     "output_type": "execute_result"
    }
   ],
   "source": [
    "import requests\n",
    "from bs4 import BeautifulSoup\n",
    "\n",
    "html=\"\"\"\n",
    "<html>\n",
    "<body>\n",
    "    <div class=\"job-board\">\n",
    "        <article id=\"job-post1\" data-company=\"company123\">\n",
    "            <header class=\"job-header\">\n",
    "                <h3 class=\"position-name\">백엔드 개발자</h3>\n",
    "                <span class=\"company-name\">테크 컴퍼니</span>\n",
    "            </header>\n",
    "            <div class=\"requirements-wrap\">\n",
    "                <ul class=\"required-skills\">\n",
    "                    <li>Python</li>\n",
    "                    <li>Flask</li>\n",
    "                    <li>MySQL</li>\n",
    "                </ul>\n",
    "                <div class=\"experience\">경력 3년 이상</div>\n",
    "                <div class=\"education\">학력: 고졸이상</div>\n",
    "            </div>\n",
    "            <footer class=\"job-footer\">\n",
    "                <div class=\"salary\">연봉: 4,500만원</div>\n",
    "                <div class=\"location\">근무지: 서울시 강남구</div>\n",
    "                <time class=\"deadline\">마감일: 2024-03-31</time>\n",
    "            </footer>\n",
    "        </article>\n",
    "\n",
    "        <article id=\"job-post2\" data-company=\"company456\">\n",
    "            <header class=\"job-header\">\n",
    "                <h3 class=\"position-name\">프론트엔드 개발자</h3>\n",
    "                <span class=\"company-name\">디지털 솔루션즈</span>\n",
    "            </header>\n",
    "            <div class=\"requirements-wrap\">\n",
    "                <ul class=\"required-skills\">\n",
    "                    <li>JavaScript</li>\n",
    "                    <li>React</li>\n",
    "                    <li>CSS</li>\n",
    "                </ul>\n",
    "                <div class=\"experience\">경력 2년 이상</div>\n",
    "                <div class=\"education\">학력: 고졸이상</div>\n",
    "            </div>\n",
    "            <footer class=\"job-footer\">\n",
    "                <div class=\"salary\">연봉: 4,000만원</div>\n",
    "                <div class=\"location\">근무지: 서울시 마포구</div>\n",
    "                <time class=\"deadline\">마감일: 2024-04-15</time>\n",
    "            </footer>\n",
    "        </article>\n",
    "\n",
    "        <article id=\"job-post3\" data-company=\"company789\">\n",
    "            <header class=\"job-header\">\n",
    "                <h3 class=\"position-name\">데브옵스 엔지니어</h3>\n",
    "                <span class=\"company-name\">클라우드 테크</span>\n",
    "            </header>\n",
    "            <div class=\"requirements-wrap\">\n",
    "                <ul class=\"required-skills\">\n",
    "                    <li>AWS</li>\n",
    "                    <li>Docker</li>\n",
    "                    <li>Kubernetes</li>\n",
    "                </ul>\n",
    "                <div class=\"experience\">경력 4년 이상</div>\n",
    "                <div class=\"education\">학력: 초대졸이상</div>\n",
    "            </div>\n",
    "            <footer class=\"job-footer\">\n",
    "                <div class=\"salary\">연봉: 5,000만원</div>\n",
    "                <div class=\"location\">근무지: 서울시 송파구</div>\n",
    "                <time class=\"deadline\">마감일: 2024-05-10</time>\n",
    "            </footer>\n",
    "        </article>\n",
    "\n",
    "        <article id=\"etc-post\">\n",
    "          <div>오늘도 즐겁게</div>\n",
    "        </article>\n",
    "\n",
    "    </div>\n",
    "</body>\n",
    "</html>\n",
    "\"\"\"\n",
    "soup=BeautifulSoup(html,'html.parser')\n",
    "jobs=soup.select(\"article[id^='job-post']\")\n",
    "#print(jobs)\n",
    "data=[]\n",
    "for job in jobs[:2]:\n",
    "    company_id=job['data-company']\n",
    "    position=job.select_one(\".position-name\").text\n",
    "    company=job.select_one(\".company-name\").text\n",
    "    #skills=job.select_one('.required-skills').text.strip()\n",
    "    skills=\", \".join(job.select_one(\".required-skills\").text.strip().split(\"\\n\"))  #join해서 한줄에 나오게\n",
    "    \n",
    "    # skills=job.select(\".required-skills li\")\n",
    "    # skill=[t.text for t in skills]   리스트안에 묶는 방법\n",
    "    experience=job.select_one(\".experience\").text\n",
    "    education=job.select_one(\".education\").text\n",
    "    salary=job.select_one(\".salary\").text\n",
    "    location=job.select_one(\".location\").text\n",
    "    deadline=job.select_one(\".deadline\").text\n",
    "\n",
    "    data.append({\n",
    "        'company_id':company_id,\n",
    "        'position':position,\n",
    "        'company':company,\n",
    "        'skills':skills,\n",
    "        'experience':experience.replace('경력','').strip(),\n",
    "        'education':education,\n",
    "        'salary':int(''.join([s for s in salary if s.isdigit()])),\n",
    "        'location':location.split(\":\")[-1].strip(),\n",
    "        'deadline':deadline.split(\":\")[-1].strip()\n",
    "    })\n",
    "\n",
    "    print(f\"회사 ID: {company_id}\")\n",
    "    print(f\"직무: {position}\")\n",
    "    print(f\"회사명: {company}\")\n",
    "    print(f\"필요스킬: {skills}\")\n",
    "    print(f\"{experience}\")\n",
    "    print(education)\n",
    "    print(salary)\n",
    "    print(location)\n",
    "    print(f\"{deadline} \\n\")\n",
    "data   "
   ]
  },
  {
   "cell_type": "code",
   "execution_count": null,
   "id": "aea619a2-cacb-481c-88ac-8443ecd6e0c2",
   "metadata": {},
   "outputs": [],
   "source": [
    "#티스토리 블로그 csv저장\n",
    "from selenium import webdriver\n",
    "from selenium.webdriver.common.by import By\n",
    "from selenium.webdriver.chrome.service import Service\n",
    "from selenium.webdriver.chrome.options import Options\n",
    "import time\n",
    "import csv\n",
    "import pandas as pd\n",
    "def brunch_blog():\n",
    "    url = \"https://brunch.co.kr/search?q=일상\"\n",
    "   \n",
    "    # Chrome 옵션 설정\n",
    "    options = Options()\n",
    "    options.add_argument('--headless')  # 브라우저가 보이지 않게 실행\n",
    "    options.add_argument('--no-sandbox')\n",
    "    options.add_argument('--disable-dev-shm-usage')\n",
    "\n",
    "    # Chrome 드라이버 경로 설정\n",
    "    service = Service('chromedriver.exe')  # chromedriver 경로 지정\n",
    "    driver = webdriver.Chrome(service=service, options=options)\n",
    "   \n",
    "    # 웹 페이지 열기\n",
    "    driver.get(url)\n",
    "   \n",
    "    # 페이지 로딩 대기\n",
    "    time.sleep(5)  # 필요에 따라 대기 시간 조정\n",
    "   \n",
    "    posts = []\n",
    "   \n",
    "    # 블로그 포스트 정보 가져오기\n",
    "    items = driver.find_elements(By.CSS_SELECTOR, '.list_article li')\n",
    "    for item in items:\n",
    "        title = item.find_element(By.CSS_SELECTOR, '.tit_subject').text.strip()\n",
    "        desc = item.find_element(By.CSS_SELECTOR, '.article_content').text.strip()\n",
    "        author = item.find_element(By.CSS_SELECTOR, '.post_append span:last-child').text.strip()\n",
    "       \n",
    "        posts.append({\n",
    "            'title': title,\n",
    "            'description': desc,\n",
    "            'author': author\n",
    "        })\n",
    "\n",
    "    pd.DataFrame(posts).to_csv('brunch.csv',index=False,encoding='utf-8')\n",
    "    driver.quit()\n",
    "    \n",
    "# 크롤링 함수 호출\n",
    "brunch_blog()"
   ]
  },
  {
   "cell_type": "code",
   "execution_count": 11,
   "id": "c7ce7a24-0eea-4fb8-84e5-e88ff5cc5cc6",
   "metadata": {},
   "outputs": [],
   "source": [
    "#웹페이지 스크린샷으로 저장(풀버전)\n",
    "from selenium import webdriver\n",
    "from selenium.webdriver.chrome.options import Options\n",
    "import time\n",
    "\n",
    "chrome_options=Options()\n",
    "chrome_options.add_argument('--headless')\n",
    "driver=webdriver.Chrome(options=chrome_options)\n",
    "\n",
    "driver.get(\"https://www.python.org/\")\n",
    "driver.save_screenshot(\"screenshot2.png\")\n",
    "\n",
    "total_height=driver.execute_script(\"return document.body.scrollHeight\")\n",
    "time.sleep(2)\n",
    "driver.set_window_size(1920, total_height)\n",
    "driver.save_screenshot(\"full_page_screenshot.png\")\n",
    "\n",
    "driver.quit()"
   ]
  },
  {
   "cell_type": "code",
   "execution_count": 2,
   "id": "6b467921-50c9-4d15-bbf5-4562323f1dd9",
   "metadata": {},
   "outputs": [
    {
     "name": "stdout",
     "output_type": "stream",
     "text": [
      "1페이지 완료\n",
      "2페이지 완료\n",
      "\n",
      "===검색 결과===\n",
      "검색어: 빅데이터\n",
      "총 20개의 기사 수집\n",
      "\n",
      "1.빅데이터 통해 상권분석·경영진단…'소상공인 365' 뜬다\n",
      "   링크: https://www.newsis.com/view/NISX20241128_0002976997\n",
      "\n",
      "2.부산정보산업진흥원, 빅데이터 인재양성… 지역실무 투입\n",
      "   링크: https://www.busan.com/view/busan/view.php?code=2024112913535275081\n",
      "\n",
      "3.중진공, 한국평가데이터와 빅데이터 기반 중기 지원 ‘맞손’\n",
      "   링크: http://www.edaily.co.kr/news/newspath.asp?newsid=03096326639090312\n",
      "\n",
      "4.빅데이터 분석으로 관세 체납자 은닉재산 1억여 원 징수\n",
      "   링크: https://news.kbs.co.kr/news/pc/view/view.do?ncd=8117587&ref=A\n",
      "\n",
      "5.AI·빅데이터경영-글로벌자율학부 신설… 디지털 전환 시대 선도할 전문인력 양성\n",
      "   링크: https://www.donga.com/news/Society/article/all/20241128/130518857/2\n",
      "\n",
      "6.한동훈, 게시판 논란 멈춰야 하는 3가지 이유 [배종찬의 정치 빅데이터]\n",
      "   링크: https://www.dailian.co.kr/news/view/1434881/?sc=Naver\n",
      "\n",
      "7.알뜰폰 11월 브랜드평판 빅데이터 분석결과\n",
      "   링크: https://www.businesskorea.co.kr/news/articleView.html?idxno=230653\n",
      "\n",
      "8.한전, 2024년 빅데이터 공기업 브랜드평판 1위\n",
      "   링크: https://www.ekn.kr/web/view.php?key=20241129027228993\n",
      "\n",
      "9.[브랜드평판] 간편결제 2024년 11월 빅데이터 1위 네이버페이, 2위 카카오페이, 3위 삼성페이\n",
      "   링크: https://www.cbci.co.kr/news/articleView.html?idxno=479485\n",
      "\n",
      "10.대전교통공사, ‘2024년 공공데이터 품질인증’ 최우수등급 획득\n",
      "   링크: https://www.sedaily.com/NewsView/2DH17L1WUY\n",
      "\n",
      "11.신보, 금융 공공기관 브랜드평판 11월 빅데이터 분석결과 1위\n",
      "   링크: https://www.businesskorea.co.kr/news/articleView.html?idxno=230526\n",
      "\n",
      "12.경동나비엔, 보일러 브랜드평판 11월 빅데이터 분석 1위…평판지수↑\n",
      "   링크: http://www.thebigdata.co.kr/view.php?ud=20241129070659505807d270612f_23\n",
      "\n",
      "13.\"지역문제, 공공데이터로 풀자\" 부산지역 대학생들, 오픈랩서 제안\n",
      "   링크: https://www.newsis.com/view/NISX20241129_0002977732\n",
      "\n",
      "14.심평원, ‘2024 보건의료 빅데이터 미래포럼’ 성료\n",
      "   링크: https://www.dailian.co.kr/news/view/1434176/?sc=Naver\n",
      "\n",
      "15.구미라면축제, 17만 방문객 중 48%가 외지인…경제 효과 톡톡\n",
      "   링크: https://www.wikitree.co.kr/articles/1004257\n",
      "\n",
      "16.인천공항, '세계 빅3' 규모 확장공사 마쳤다…年 1억명 이상 수용\n",
      "   링크: http://news.mt.co.kr/mtview.php?no=2024112913261545153\n",
      "\n",
      "17.질병청, 감염병 데이터 활용 심포지엄 개최\n",
      "   링크: https://www.newsis.com/view/NISX20241129_0002977423\n",
      "\n",
      "18.박서진, 47주차 빅데이터가수브랜드 탑싱어 1위(67회째)…브랜드가치 급증 1위는 김호중\n",
      "   링크: https://www.topstarnews.net/news/articleView.html?idxno=15576436\n",
      "\n",
      "19.대전 유성구, 대학생 빅데이터 분석 경진대회 5팀 시상\n",
      "   링크: https://www.newsis.com/view/NISX20241126_0002973383\n",
      "\n",
      "20.전문대학 브랜드평판 11월 빅데이터 분석 결과\n",
      "   링크: https://www.businesskorea.co.kr/news/articleView.html?idxno=230411\n",
      "\n"
     ]
    }
   ],
   "source": [
    "#네이버뉴스에서 키워드 검색해 기사제목, 링크 추출\n",
    "from selenium import webdriver\n",
    "from selenium.webdriver.common.by import By\n",
    "from selenium.webdriver.support.ui import WebDriverWait\n",
    "from selenium.webdriver.support import expected_conditions as EC\n",
    "from bs4 import BeautifulSoup\n",
    "import time\n",
    "from datetime import datetime\n",
    "\n",
    "def get_news_titles(keyword,num_pages):\n",
    "    driver=webdriver.Chrome()\n",
    "    titles=[]\n",
    "    \n",
    "    for page in range(1,num_pages+1):\n",
    "        url=f\"https://search.naver.com/search.naver?where=news&query={keyword}&start={(page-1)*10+1}\"\n",
    "        driver.get(url)\n",
    "        time.sleep(2)\n",
    "        \n",
    "        soup=BeautifulSoup(driver.page_source,'html.parser')\n",
    "        \n",
    "        main_titles=soup.select(\"a.news_tit\")\n",
    "\n",
    "        for title in main_titles:\n",
    "            titles.append({\n",
    "                'title':title.get('title'),\n",
    "                'link':title.get('href')\n",
    "            })\n",
    "        print(f\"{page}페이지 완료\")\n",
    "\n",
    "    print(\"\\n===검색 결과===\")\n",
    "    print(f\"검색어: {keyword}\")\n",
    "    print(f\"총 {len(titles)}개의 기사 수집\\n\")\n",
    "\n",
    "    for idx,item in enumerate(titles,1):\n",
    "        print(f\"{idx}.{item['title']}\")\n",
    "        print(f\"   링크: {item['link']}\")\n",
    "        print()\n",
    "    driver.quit()\n",
    "\n",
    "keyword=\"빅데이터\"\n",
    "num_pages=2\n",
    "get_news_titles(keyword,num_pages)"
   ]
  }
 ],
 "metadata": {
  "kernelspec": {
   "display_name": "Python 3 (ipykernel)",
   "language": "python",
   "name": "python3"
  },
  "language_info": {
   "codemirror_mode": {
    "name": "ipython",
    "version": 3
   },
   "file_extension": ".py",
   "mimetype": "text/x-python",
   "name": "python",
   "nbconvert_exporter": "python",
   "pygments_lexer": "ipython3",
   "version": "3.12.7"
  }
 },
 "nbformat": 4,
 "nbformat_minor": 5
}
