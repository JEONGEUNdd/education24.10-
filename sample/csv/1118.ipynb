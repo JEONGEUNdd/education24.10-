{
 "cells": [
  {
   "cell_type": "code",
   "execution_count": 176,
   "id": "93088792-7e7d-4c8c-b0e1-3a5126e839d5",
   "metadata": {},
   "outputs": [
    {
     "data": {
      "text/plain": [
       "'C:\\\\Users\\\\enjoy\\\\python_202411'"
      ]
     },
     "execution_count": 176,
     "metadata": {},
     "output_type": "execute_result"
    }
   ],
   "source": [
    "os.getcwd()"
   ]
  },
  {
   "cell_type": "code",
   "execution_count": 109,
   "id": "a3ef30a7-ec51-49ee-89f7-598b77428ebb",
   "metadata": {},
   "outputs": [
    {
     "data": {
      "text/plain": [
       "'C:\\\\Users\\\\enjoy\\\\python_202411'"
      ]
     },
     "execution_count": 109,
     "metadata": {},
     "output_type": "execute_result"
    }
   ],
   "source": [
    "# 변경할 경로\n",
    "new_path = r'C:\\Users\\enjoy\\python_202411'\n",
    "\n",
    "# 작업 디렉토리 변경\n",
    "os.chdir(new_path)\n",
    "os.getcwd()"
   ]
  },
  {
   "cell_type": "code",
   "execution_count": 122,
   "id": "6618a588-cb95-4eea-8663-9b8895b76c33",
   "metadata": {},
   "outputs": [
    {
     "name": "stdout",
     "output_type": "stream",
     "text": [
      " File: 새파일.txt - 397 bytes\n",
      "C:\\Users\\enjoy\\python_202411\\sample : 397 bytes\n"
     ]
    }
   ],
   "source": [
    "#특정 폴더 내 모든 파일크기 및 합산 크기\n",
    "import os\n",
    "\n",
    "def calculate_total_file_size(target_directory):\n",
    "    total_size = 0\n",
    "    for filename in os.listdir(target_directory):  # target_dir 내의 모든 파일과 폴더를 리스트로 반환\n",
    "        source_file = os.path.join(target_directory, filename)\n",
    "        if os.path.isfile(source_file):  # 파일 여부를 먼저 확인\n",
    "            file_size = os.path.getsize(source_file)  # 파일 크기 계산\n",
    "            total_size += file_size  # 총 크기에 추가\n",
    "            print(f\" File: {filename} - {file_size:,} bytes\")  \n",
    "\n",
    "    print(f\"{target_directory} : {total_size:,} bytes\")  \n",
    "\n",
    "# 타겟 디렉토리 설정\n",
    "target_directory = os.path.join(os.getcwd(), \"sample\")\n",
    "calculate_total_file_size(target_directory)"
   ]
  },
  {
   "cell_type": "code",
   "execution_count": 124,
   "id": "93b8b7c5-2051-4e46-a1de-159dac9decd1",
   "metadata": {},
   "outputs": [
    {
     "name": "stdout",
     "output_type": "stream",
     "text": [
      " File: 새파일.txt-397 bytes\n",
      "C:\\Users\\enjoy\\python_202411\\sample : 397 bytes\n"
     ]
    }
   ],
   "source": [
    "###특정 폴더 내 모든 파일크기 및 합산 크기\n",
    "def calculate_total_file_size(target_directory):\n",
    "    total_size=0\n",
    "    for filename in os.listdir(target_directory):\n",
    "        file_path=target_directory+'/'+filename\n",
    "        if os.path.isfile(file_path):\n",
    "            file_size=os.path.getsize(file_path) \n",
    "            total_size+=file_size\n",
    "            print(f\" File: {filename}-{file_size:,} bytes\")\n",
    "\n",
    "    print(f\"{target_directory} : {total_size:,} bytes\")\n",
    "            \n",
    "target_directory=os.path.join(os.getcwd(),\"sample\")\n",
    "calculate_total_file_size(target_directory)    "
   ]
  },
  {
   "cell_type": "code",
   "execution_count": 210,
   "id": "e5f4a598-7734-466e-a995-def4580e97c0",
   "metadata": {},
   "outputs": [
    {
     "name": "stdout",
     "output_type": "stream",
     "text": [
      " 새 텍스트 문서.txt에서 임정은_새 텍스트 문서.txt로 변경 완료\n"
     ]
    }
   ],
   "source": [
    "#지정된 디렉토리 내의 모든 파일 이름에 '이름_' 접두사를 추가하여 이름 변경\n",
    "\n",
    "def name(target_directory,newname):\n",
    "    for filename in os.listdir(target_directory):  # target_dir 내의 모든 파일과 폴더를 리스트로 반환\n",
    "        source_file = os.path.join(target_directory, filename)\n",
    "        if os.path.isfile(source_file):\n",
    "            filename = os.path.basename(source_file)\n",
    "            new_file = os.path.join(target_directory, newname + filename)  \n",
    "            os.rename(source_file,new_file)\n",
    "            print(f\" {filename}에서 {newname+filename}로 변경 완료\")\n",
    "\n",
    "target_directory = os.path.join(os.getcwd(), \"sample\")\n",
    "newname='임정은_'\n",
    "name(target_directory,newname)"
   ]
  },
  {
   "cell_type": "code",
   "execution_count": 217,
   "id": "372fc3a7-9edc-4f86-afd6-29350c0f7c5b",
   "metadata": {},
   "outputs": [
    {
     "name": "stdout",
     "output_type": "stream",
     "text": [
      "\n",
      "====To-Do List====\n",
      "1. 할 일 추가\n",
      "2. 할 일 목록 보기\n",
      "3. 할 일 완료하기\n",
      "4. 종료\n"
     ]
    },
    {
     "name": "stdin",
     "output_type": "stream",
     "text": [
      "선택: 1\n",
      "할 일을 입력하세요 장보기\n"
     ]
    },
    {
     "name": "stdout",
     "output_type": "stream",
     "text": [
      "추가되었습니다.\n",
      "\n",
      "====To-Do List====\n",
      "1. 할 일 추가\n",
      "2. 할 일 목록 보기\n",
      "3. 할 일 완료하기\n",
      "4. 종료\n"
     ]
    },
    {
     "name": "stdin",
     "output_type": "stream",
     "text": [
      "선택: 4\n"
     ]
    },
    {
     "name": "stdout",
     "output_type": "stream",
     "text": [
      "종료합니다.\n"
     ]
    }
   ],
   "source": [
    "#할 일 목록 만들기\n",
    "tasks=[]\n",
    "\n",
    "while True:\n",
    "    print(\"\\n====To-Do List====\")\n",
    "    print(\"1. 할 일 추가\")\n",
    "    print(\"2. 할 일 목록 보기\")\n",
    "    print(\"3. 할 일 완료하기\")\n",
    "    print(\"4. 종료\")\n",
    "\n",
    "    choice=input(\"선택:\")\n",
    "\n",
    "    if choice==\"1\":\n",
    "        task=input(\"할 일을 입력하세요\")\n",
    "        tasks.append(task)\n",
    "        print(\"추가되었습니다.\")\n",
    "\n",
    "    elif choice==\"2\":\n",
    "        if tasks:\n",
    "            for i,task in enumerate(tasks,1):\n",
    "                print(f\"{i}.{task}\")\n",
    "        else:\n",
    "            print(\"추가된 할 일 목록이 없습니다.\")\n",
    "\n",
    "    elif choice==\"3\":\n",
    "        if tasks:\n",
    "            for i, task in enumerate(tasks,1):\n",
    "                print(f\"{i}.{task}\")\n",
    "            num=int(input(\"완료된 목록 번호:\"))-1\n",
    "            if 0<=num<len(tasks):\n",
    "                dnum=tasks.pop(num)\n",
    "                print(f\"{dnum}이 삭제되었습니다.\")\n",
    "        else: \n",
    "            print(\"할 일이 없습니다.\")\n",
    "\n",
    "    elif choice==\"4\":\n",
    "        print(\"종료합니다.\")\n",
    "        break"
   ]
  },
  {
   "cell_type": "code",
   "execution_count": 264,
   "id": "bcdbfc84-1dd6-468c-bc48-7924a3d8ed16",
   "metadata": {
    "scrolled": true
   },
   "outputs": [
    {
     "name": "stdout",
     "output_type": "stream",
     "text": [
      "\n",
      "====To-Do List====\n",
      "1. 할 일 추가\n",
      "2. 할 일 목록 보기\n",
      "3. 할 일 완료하기\n",
      "4. 종료\n"
     ]
    },
    {
     "name": "stdin",
     "output_type": "stream",
     "text": [
      "선택: 1\n",
      "할 일을 입력하세요 자기소개서 쓰기\n"
     ]
    },
    {
     "name": "stdout",
     "output_type": "stream",
     "text": [
      "추가되었습니다.\n",
      "\n",
      "====To-Do List====\n",
      "1. 할 일 추가\n",
      "2. 할 일 목록 보기\n",
      "3. 할 일 완료하기\n",
      "4. 종료\n"
     ]
    },
    {
     "name": "stdin",
     "output_type": "stream",
     "text": [
      "선택: 1\n",
      "할 일을 입력하세요 장보기\n"
     ]
    },
    {
     "name": "stdout",
     "output_type": "stream",
     "text": [
      "추가되었습니다.\n",
      "\n",
      "====To-Do List====\n",
      "1. 할 일 추가\n",
      "2. 할 일 목록 보기\n",
      "3. 할 일 완료하기\n",
      "4. 종료\n"
     ]
    },
    {
     "name": "stdin",
     "output_type": "stream",
     "text": [
      "선택: 4\n"
     ]
    },
    {
     "name": "stdout",
     "output_type": "stream",
     "text": [
      "종료합니다.\n"
     ]
    }
   ],
   "source": [
    "import sqlite3\n",
    "def show_menu():\n",
    "    print(\"\\n====To-Do List====\")\n",
    "    print(\"1. 할 일 추가\")\n",
    "    print(\"2. 할 일 목록 보기\")\n",
    "    print(\"3. 할 일 완료하기\")\n",
    "    print(\"4. 종료\") \n",
    "\n",
    "\n",
    "def add_task(tasks):\n",
    "    task=input(\"할 일을 입력하세요\")\n",
    "    tasks.append(task)\n",
    "    print(\"추가되었습니다.\")\n",
    "\n",
    "def show_tasks(tasks):\n",
    "    if tasks:\n",
    "        for i,task in enumerate(tasks,1):\n",
    "            print(f\"{i}.{task}\")\n",
    "    else:\n",
    "        print(\"추가된 할 일 목록이 없습니다.\")\n",
    "            \n",
    "def complete_tasks(tasks):\n",
    "    if tasks:\n",
    "        for i, task in enumerate(tasks,1):\n",
    "            print(f\"{i}.{task}\")\n",
    "        num=int(input(\"완료된 목록 번호:\"))-1\n",
    "        if 0<=num<len(tasks):\n",
    "            dnum=tasks.pop(num)\n",
    "            print(f\"{dnum}이 삭제되었습니다.\")\n",
    "    else: \n",
    "        print(\"할 일이 없습니다.\")\n",
    "\n",
    "\n",
    "def load_tasks(filename):\n",
    "    file_tasks=[]\n",
    "    with open(filename,\"r\") as f:\n",
    "        for line in f:\n",
    "            file_tasks.append(line.strip())\n",
    "        return file_tasks\n",
    "           \n",
    "def save_tasks(tasks,filename):\n",
    "    with open(filename, 'w')as f:\n",
    "        for task in tasks:\n",
    "            f.write(task+'\\n')\n",
    "    \n",
    "def main():\n",
    "    filename=\"tasks.txt\"\n",
    "    tasks=load_tasks(filename)\n",
    "    while True:\n",
    "        show_menu()\n",
    "        choice=input(\"선택:\")\n",
    "\n",
    "        if choice==\"1\":\n",
    "            add_task(tasks)\n",
    "            save_tasks(tasks,filename)\n",
    "        elif choice==\"2\":\n",
    "            show_tasks(tasks)\n",
    "            save_tasks(tasks,filename)\n",
    "        elif choice==\"3\":\n",
    "            complete_tasks(tasks)\n",
    "            save_tasks(tasks,filename)\n",
    "        elif choice==\"4\":\n",
    "            print(\"종료합니다.\")\n",
    "            break\n",
    "\n",
    "main()"
   ]
  },
  {
   "cell_type": "code",
   "execution_count": 2,
   "id": "750f08dc-572b-4a4b-9546-116ff6d43458",
   "metadata": {
    "scrolled": true
   },
   "outputs": [
    {
     "name": "stdout",
     "output_type": "stream",
     "text": [
      "\n",
      "====To-Do List====\n",
      "1. 할 일 추가\n",
      "2. 할 일 목록 보기\n",
      "3. 할 일 완료하기\n",
      "4. 종료\n"
     ]
    },
    {
     "name": "stdin",
     "output_type": "stream",
     "text": [
      "선택: 1\n",
      "할 일을 입력하세요 마라탕먹기\n"
     ]
    },
    {
     "name": "stdout",
     "output_type": "stream",
     "text": [
      "추가되었습니다.\n",
      "\n",
      "====To-Do List====\n",
      "1. 할 일 추가\n",
      "2. 할 일 목록 보기\n",
      "3. 할 일 완료하기\n",
      "4. 종료\n"
     ]
    },
    {
     "name": "stdin",
     "output_type": "stream",
     "text": [
      "선택: 1\n",
      "할 일을 입력하세요 공부하기\n"
     ]
    },
    {
     "name": "stdout",
     "output_type": "stream",
     "text": [
      "추가되었습니다.\n",
      "\n",
      "====To-Do List====\n",
      "1. 할 일 추가\n",
      "2. 할 일 목록 보기\n",
      "3. 할 일 완료하기\n",
      "4. 종료\n"
     ]
    },
    {
     "name": "stdin",
     "output_type": "stream",
     "text": [
      "선택: 4\n"
     ]
    },
    {
     "name": "stdout",
     "output_type": "stream",
     "text": [
      "종료합니다.\n"
     ]
    }
   ],
   "source": [
    "import sqlite3\n",
    "\n",
    "def show_menu():\n",
    "    print(\"\\n====To-Do List====\")\n",
    "    print(\"1. 할 일 추가\")\n",
    "    print(\"2. 할 일 목록 보기\")\n",
    "    print(\"3. 할 일 완료하기\")\n",
    "    print(\"4. 종료\") \n",
    "\n",
    "def initialize_db():\n",
    "    conn=sqlite3.connect(\"tasks.db\")\n",
    "    cursor=conn.cursor()\n",
    "    cursor.execute('''\n",
    "        CREATE TABLE IF NOT EXISTS tasks (\n",
    "            id INTEGER PRIMARY KEY AUTOINCREMENT,\n",
    "            task TEXT NOT NULL\n",
    "        )\n",
    "    ''')\n",
    "    conn.commit()\n",
    "    return conn\n",
    "    \n",
    "def load_tasks(conn):\n",
    "    cursor=conn.cursor()\n",
    "    cursor.execute('SELECT * FROM tasks')\n",
    "    return cursor.fetchall()  #[(id,task),(id,task)]\n",
    "           \n",
    "def save_tasks(tasks,conn):\n",
    "    cursor=conn.cursor()\n",
    "    cursor.execute('DELETE FROM tasks')\n",
    "    for task in tasks:\n",
    "        cursor.execute('INSERT INTO tasks (task) VALUES (?)', (task,))\n",
    "    conn.commit()\n",
    "\n",
    "def add_task(tasks):\n",
    "    task=input(\"할 일을 입력하세요\")\n",
    "    tasks.append(task)\n",
    "    print(\"추가되었습니다.\")\n",
    "\n",
    "def show_tasks(tasks):\n",
    "    if tasks:\n",
    "        for i,task in enumerate(tasks,1):\n",
    "            print(f\"{i}.{task}\")\n",
    "    else:\n",
    "        print(\"추가된 할 일 목록이 없습니다.\")\n",
    "            \n",
    "def complete_tasks(tasks):\n",
    "    if tasks:\n",
    "        for i, task in enumerate(tasks,1):\n",
    "            print(f\"{i}.{task}\")\n",
    "        num=int(input(\"완료된 목록 번호:\"))-1\n",
    "        if 0<=num<len(tasks):\n",
    "            dnum=tasks.pop(num)\n",
    "            print(f\"{dnum}이 삭제되었습니다.\")\n",
    "    else: \n",
    "        print(\"할 일이 없습니다.\")\n",
    "\n",
    "    \n",
    "def main():\n",
    "    conn=initialize_db()\n",
    "    tasks=load_tasks(conn)\n",
    "    tasks=[task[1] for task in tasks]\n",
    "    \n",
    "    while True:\n",
    "        show_menu()\n",
    "        choice=input(\"선택:\")\n",
    "\n",
    "        if choice==\"1\":\n",
    "            add_task(tasks)\n",
    "            save_tasks(tasks,conn)\n",
    "        elif choice==\"2\":\n",
    "            show_tasks(tasks)\n",
    "            save_tasks(tasks,conn)\n",
    "        elif choice==\"3\":\n",
    "            complete_tasks(tasks)\n",
    "            save_tasks(tasks,conn)\n",
    "        elif choice==\"4\":\n",
    "            print(\"종료합니다.\")\n",
    "            break\n",
    "main()"
   ]
  },
  {
   "cell_type": "code",
   "execution_count": 13,
   "id": "9478f0d8-96e8-470a-ad66-3e491157c036",
   "metadata": {
    "scrolled": true
   },
   "outputs": [
    {
     "name": "stdout",
     "output_type": "stream",
     "text": [
      "=== ToDo 관리 프로그램 ===\n",
      "\n",
      "1. 할일 추가\n",
      "2. 할일 완료\n",
      "3. 할일 삭제\n",
      "4. 할일 목록\n",
      "5. 종료\n",
      "\n",
      "\n",
      "**********************************************************************\n",
      "현재 할일 목록:\n",
      "[ ] #1 공부하기\n",
      "[ ] #2 수면잠옷사기\n",
      "**********************************************************************\n"
     ]
    },
    {
     "name": "stdin",
     "output_type": "stream",
     "text": [
      "\n",
      "선택하세요 (1-5):  1\n"
     ]
    },
    {
     "name": "stdout",
     "output_type": "stream",
     "text": [
      "=== ToDo 관리 프로그램 ===\n",
      "\n",
      "1. 할일 추가\n",
      "2. 할일 완료\n",
      "3. 할일 삭제\n",
      "4. 할일 목록\n",
      "5. 종료\n",
      "\n",
      "\n",
      "**********************************************************************\n",
      "현재 할일 목록:\n",
      "[ ] #1 공부하기\n",
      "[ ] #2 수면잠옷사기\n",
      "**********************************************************************\n"
     ]
    },
    {
     "name": "stdin",
     "output_type": "stream",
     "text": [
      "할일 제목:  수면잠옷 사기\n"
     ]
    },
    {
     "name": "stdout",
     "output_type": "stream",
     "text": [
      "할일 \"수면잠옷 사기\" 추가됨\n",
      "=== ToDo 관리 프로그램 ===\n",
      "\n",
      "1. 할일 추가\n",
      "2. 할일 완료\n",
      "3. 할일 삭제\n",
      "4. 할일 목록\n",
      "5. 종료\n",
      "\n",
      "\n",
      "**********************************************************************\n",
      "현재 할일 목록:\n",
      "[ ] #1 공부하기\n",
      "[ ] #2 수면잠옷사기\n",
      "[ ] #3 수면잠옷 사기\n",
      "**********************************************************************\n"
     ]
    },
    {
     "name": "stdin",
     "output_type": "stream",
     "text": [
      "\n",
      "선택하세요 (1-5):  1\n"
     ]
    },
    {
     "name": "stdout",
     "output_type": "stream",
     "text": [
      "=== ToDo 관리 프로그램 ===\n",
      "\n",
      "1. 할일 추가\n",
      "2. 할일 완료\n",
      "3. 할일 삭제\n",
      "4. 할일 목록\n",
      "5. 종료\n",
      "\n",
      "\n",
      "**********************************************************************\n",
      "현재 할일 목록:\n",
      "[ ] #1 공부하기\n",
      "[ ] #2 수면잠옷사기\n",
      "[ ] #3 수면잠옷 사기\n",
      "**********************************************************************\n"
     ]
    },
    {
     "name": "stdin",
     "output_type": "stream",
     "text": [
      "할일 제목:  마라탕먹기\n"
     ]
    },
    {
     "name": "stdout",
     "output_type": "stream",
     "text": [
      "할일 \"마라탕먹기\" 추가됨\n",
      "=== ToDo 관리 프로그램 ===\n",
      "\n",
      "1. 할일 추가\n",
      "2. 할일 완료\n",
      "3. 할일 삭제\n",
      "4. 할일 목록\n",
      "5. 종료\n",
      "\n",
      "\n",
      "**********************************************************************\n",
      "현재 할일 목록:\n",
      "[ ] #1 공부하기\n",
      "[ ] #2 수면잠옷사기\n",
      "[ ] #3 수면잠옷 사기\n",
      "[ ] #4 마라탕먹기\n",
      "**********************************************************************\n"
     ]
    },
    {
     "name": "stdin",
     "output_type": "stream",
     "text": [
      "\n",
      "선택하세요 (1-5):  2\n"
     ]
    },
    {
     "name": "stdout",
     "output_type": "stream",
     "text": [
      "=== ToDo 관리 프로그램 ===\n",
      "\n",
      "1. 할일 추가\n",
      "2. 할일 완료\n",
      "3. 할일 삭제\n",
      "4. 할일 목록\n",
      "5. 종료\n",
      "\n",
      "\n",
      "**********************************************************************\n",
      "현재 할일 목록:\n",
      "[ ] #1 공부하기\n",
      "[ ] #2 수면잠옷사기\n",
      "[ ] #3 수면잠옷 사기\n",
      "[ ] #4 마라탕먹기\n",
      "**********************************************************************\n"
     ]
    },
    {
     "name": "stdin",
     "output_type": "stream",
     "text": [
      "완료할 할일 번호:  4\n"
     ]
    },
    {
     "name": "stdout",
     "output_type": "stream",
     "text": [
      "할일 #4 완료 처리됨\n",
      "=== ToDo 관리 프로그램 ===\n",
      "\n",
      "1. 할일 추가\n",
      "2. 할일 완료\n",
      "3. 할일 삭제\n",
      "4. 할일 목록\n",
      "5. 종료\n",
      "\n",
      "\n",
      "**********************************************************************\n",
      "현재 할일 목록:\n",
      "[ ] #1 공부하기\n",
      "[ ] #2 수면잠옷사기\n",
      "[ ] #3 수면잠옷 사기\n",
      "[✓] #4 마라탕먹기\n",
      "**********************************************************************\n"
     ]
    },
    {
     "name": "stdin",
     "output_type": "stream",
     "text": [
      "\n",
      "선택하세요 (1-5):  5\n"
     ]
    },
    {
     "name": "stdout",
     "output_type": "stream",
     "text": [
      "프로그램을 종료합니다.\n"
     ]
    }
   ],
   "source": [
    "import sqlite3\n",
    "import os \n",
    "import time \n",
    "\n",
    "def clear_screen(): \n",
    "    # Windows \n",
    "    if os.name == 'nt': \n",
    "        os.system('cls') \n",
    "    # Mac/Linux \n",
    "    else: \n",
    "        os.system('clear')\n",
    "\n",
    "def init_db():\n",
    "    conn = sqlite3.connect('todo.db')\n",
    "    cursor = conn.cursor()\n",
    "    cursor.execute('''\n",
    "    CREATE TABLE IF NOT EXISTS tasks (\n",
    "        id INTEGER PRIMARY KEY AUTOINCREMENT,\n",
    "        title TEXT NOT NULL,\n",
    "        completed BOOLEAN DEFAULT FALSE,\n",
    "        created_at DATETIME DEFAULT CURRENT_TIMESTAMP\n",
    "    )\n",
    "    ''')\n",
    "    conn.commit()\n",
    "    return conn, cursor\n",
    "\n",
    "def add_task(cursor, conn, title):\n",
    "    cursor.execute('''\n",
    "    INSERT INTO tasks (title, completed)\n",
    "    VALUES (?, ?)\n",
    "    ''', (title, False))\n",
    "    conn.commit()\n",
    "    print(f'할일 \"{title}\" 추가됨')\n",
    "    time.sleep(1)\n",
    "\n",
    "def complete_task(cursor, conn, task_id):\n",
    "    cursor.execute('''\n",
    "    UPDATE tasks\n",
    "    SET completed = TRUE\n",
    "    WHERE id = ?\n",
    "    ''', (task_id,))\n",
    "   \n",
    "    if cursor.rowcount > 0:\n",
    "        conn.commit()\n",
    "        print(f'할일 #{task_id} 완료 처리됨')\n",
    "    else:\n",
    "        print(f'할일 #{task_id}를 찾을 수 없음')\n",
    "    time.sleep(1)\n",
    "\n",
    "def delete_task(cursor, conn, task_id):\n",
    "    cursor.execute('''\n",
    "    DELETE FROM tasks\n",
    "    WHERE id = ?\n",
    "    ''', (task_id,))\n",
    "   \n",
    "    if cursor.rowcount > 0:\n",
    "        conn.commit()\n",
    "        print(f'할일 #{task_id} 삭제됨')\n",
    "    else:\n",
    "        print(f'할일 #{task_id}를 찾을 수 없음')\n",
    "    time.sleep(1)\n",
    "\n",
    "def list_tasks(cursor):\n",
    "    cursor.execute('''\n",
    "    SELECT id, title, completed\n",
    "    FROM tasks\n",
    "    ORDER BY created_at\n",
    "    ''')\n",
    "    tasks = cursor.fetchall()\n",
    "\n",
    "    if not tasks:\n",
    "        print('할일이 없습니다.')\n",
    "        return\n",
    "\n",
    "    print('\\n')\n",
    "    print('*'*70)\n",
    "    print('현재 할일 목록:')\n",
    "    for task in tasks:\n",
    "        status = '✓' if task[2] else ' '\n",
    "        print(f\"[{status}] #{task[0]} {task[1]}\")\n",
    "    print('*'*70)\n",
    "def display_menu(): \n",
    "    print(\"=== ToDo 관리 프로그램 ===\") \n",
    "    print(\"\\n1. 할일 추가\") \n",
    "    print(\"2. 할일 완료\") \n",
    "    print(\"3. 할일 삭제\") \n",
    "    print(\"4. 할일 목록\") \n",
    "    print(\"5. 종료\")\n",
    "\n",
    "def main():\n",
    "    conn, cursor = init_db()\n",
    "   \n",
    "    while True:\n",
    "        clear_screen() \n",
    "        display_menu() \n",
    "        list_tasks(cursor)\n",
    "       \n",
    "        try:\n",
    "            choice = input(\"\\n선택하세요 (1-5): \")\n",
    "           \n",
    "            if choice == '1':\n",
    "                clear_screen() \n",
    "                display_menu() \n",
    "                list_tasks(cursor)\n",
    "                title = input(\"할일 제목: \")\n",
    "                add_task(cursor, conn, title)\n",
    "               \n",
    "            elif choice == '2':\n",
    "                clear_screen() \n",
    "                display_menu() \n",
    "                list_tasks(cursor)\n",
    "                task_id = int(input(\"완료할 할일 번호: \"))\n",
    "                complete_task(cursor, conn, task_id)\n",
    "               \n",
    "            elif choice == '3':\n",
    "                clear_screen() \n",
    "                display_menu() \n",
    "                list_tasks(cursor)\n",
    "                task_id = int(input(\"삭제할 할일 번호: \"))\n",
    "                delete_task(cursor, conn, task_id)\n",
    "               \n",
    "            elif choice == '4':\n",
    "                clear_screen() \n",
    "                display_menu() \n",
    "                list_tasks(cursor)\n",
    "                input(\"\\nEnter를 누르면 계속합니다...\")\n",
    "               \n",
    "            elif choice == '5':\n",
    "                clear_screen()\n",
    "                print(\"프로그램을 종료합니다.\")\n",
    "                conn.close()\n",
    "                break\n",
    "               \n",
    "            else:\n",
    "                print(\"잘못된 선택입니다. 다시 선택해주세요.\")\n",
    "                time.sleep(1)\n",
    "\n",
    "        except ValueError:\n",
    "            print(\"올바른 숫자를 입력해주세요.\")\n",
    "            time.sleep(1)\n",
    "        except Exception as e:\n",
    "            print(f\"오류가 발생했습니다: {e}\")\n",
    "            time.sleep(1)\n",
    "\n",
    "main()"
   ]
  }
 ],
 "metadata": {
  "kernelspec": {
   "display_name": "Python 3 (ipykernel)",
   "language": "python",
   "name": "python3"
  },
  "language_info": {
   "codemirror_mode": {
    "name": "ipython",
    "version": 3
   },
   "file_extension": ".py",
   "mimetype": "text/x-python",
   "name": "python",
   "nbconvert_exporter": "python",
   "pygments_lexer": "ipython3",
   "version": "3.12.7"
  }
 },
 "nbformat": 4,
 "nbformat_minor": 5
}
