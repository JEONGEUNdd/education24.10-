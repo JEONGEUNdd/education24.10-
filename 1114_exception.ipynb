{
 "cells": [
  {
   "cell_type": "code",
   "execution_count": 11,
   "id": "44a1766a-e565-4a00-84f7-46d160be8aff",
   "metadata": {},
   "outputs": [
    {
     "name": "stdout",
     "output_type": "stream",
     "text": [
      "\n",
      "===계산기===\n",
      "1. 덧셈\n",
      "2. 뺄셈\n",
      "3. 곱셈\n",
      "4. 나눗셈\n",
      "5. 종료\n"
     ]
    },
    {
     "name": "stdin",
     "output_type": "stream",
     "text": [
      "연산을 선택하세요: 1\n",
      "첫 번째 숫자:  2\n",
      "두 번째 숫자:  3\n"
     ]
    },
    {
     "name": "stdout",
     "output_type": "stream",
     "text": [
      "결과: 5.0\n",
      "\n",
      "===계산기===\n",
      "1. 덧셈\n",
      "2. 뺄셈\n",
      "3. 곱셈\n",
      "4. 나눗셈\n",
      "5. 종료\n"
     ]
    },
    {
     "name": "stdin",
     "output_type": "stream",
     "text": [
      "연산을 선택하세요: 3\n",
      "첫 번째 숫자:  5\n",
      "두 번째 숫자:  5\n"
     ]
    },
    {
     "name": "stdout",
     "output_type": "stream",
     "text": [
      "결과: 25.0\n",
      "\n",
      "===계산기===\n",
      "1. 덧셈\n",
      "2. 뺄셈\n",
      "3. 곱셈\n",
      "4. 나눗셈\n",
      "5. 종료\n"
     ]
    },
    {
     "name": "stdin",
     "output_type": "stream",
     "text": [
      "연산을 선택하세요: 5\n"
     ]
    },
    {
     "name": "stdout",
     "output_type": "stream",
     "text": [
      "프로그램을 종료합니다.\n"
     ]
    }
   ],
   "source": [
    "#계산기 프로그램\n",
    "while True:\n",
    "    print(\"\\n===계산기===\")\n",
    "    print(\"1. 덧셈\")\n",
    "    print(\"2. 뺄셈\")\n",
    "    print(\"3. 곱셈\")\n",
    "    print(\"4. 나눗셈\")\n",
    "    print(\"5. 종료\")\n",
    "\n",
    "    choice=input(\"연산을 선택하세요:\")\n",
    "    if choice==\"5\":\n",
    "        print(\"프로그램을 종료합니다.\")\n",
    "        break\n",
    "    num1=float(input(\"첫 번째 숫자: \"))\n",
    "    num2=float(input(\"두 번째 숫자: \"))\n",
    "\n",
    "    if choice==\"1\":\n",
    "        print(f\"결과: {num1 + num2}\")\n",
    "    elif choice==\"2\":\n",
    "        print(f\"결과: {num1 - num2}\")\n",
    "    elif choice==\"3\":\n",
    "        print(f\"결과: {num1 * num2}\")\n",
    "    elif choice==\"4\":\n",
    "        print(f\"결과: {num1 / num2}\")"
   ]
  },
  {
   "cell_type": "code",
   "execution_count": 109,
   "id": "9e9f881a-5a95-41fe-9aec-037badb7864f",
   "metadata": {},
   "outputs": [
    {
     "name": "stdout",
     "output_type": "stream",
     "text": [
      "\n",
      "===계산기===\n",
      "1. 덧셈\n",
      "2. 뺄셈\n",
      "3. 곱셈\n",
      "4. 나눗셈\n",
      "5. 종료\n"
     ]
    },
    {
     "name": "stdin",
     "output_type": "stream",
     "text": [
      "연산을 선택하세요: 4\n",
      "첫 번째 숫자:  6\n",
      "두 번째 숫자:  0\n"
     ]
    },
    {
     "name": "stdout",
     "output_type": "stream",
     "text": [
      "오류: 0으로 나눌 수 없습니다.\n",
      "\n",
      "===계산기===\n",
      "1. 덧셈\n",
      "2. 뺄셈\n",
      "3. 곱셈\n",
      "4. 나눗셈\n",
      "5. 종료\n"
     ]
    },
    {
     "name": "stdin",
     "output_type": "stream",
     "text": [
      "연산을 선택하세요: 5\n"
     ]
    },
    {
     "name": "stdout",
     "output_type": "stream",
     "text": [
      "프로그램 종료\n"
     ]
    }
   ],
   "source": [
    "### 계산기 프로그램\n",
    "def show_cal():\n",
    "    print(\"\\n===계산기===\")\n",
    "    print(\"1. 덧셈\")\n",
    "    print(\"2. 뺄셈\")\n",
    "    print(\"3. 곱셈\")\n",
    "    print(\"4. 나눗셈\")\n",
    "    print(\"5. 종료\")\n",
    "\n",
    "def add(num1,num2):\n",
    "    print(f\"결과: {num1 + num2}\")\n",
    "def substract(num1,num2):\n",
    "    print(f\"결과: {num1 - num2}\")\n",
    "def multiply(num1,num2):\n",
    "    print(f\"결과: {num1 * num2}\")\n",
    "def divide(num1, num2):\n",
    "    try:\n",
    "        print(f\"결과: {num1 / num2}\")\n",
    "    except ZeroDivisionError:\n",
    "        print(\"오류: 0으로 나눌 수 없습니다.\")\n",
    "\n",
    "def get_numbers():\n",
    "    try:\n",
    "        num1=float(input(\"첫 번째 숫자: \"))\n",
    "        num2=float(input(\"두 번째 숫자: \"))\n",
    "        return num1,num2\n",
    "    except ValueError:\n",
    "        print(\"숫자를 입력해주세요.\")\n",
    "\n",
    "def main():\n",
    "    while True:\n",
    "        show_cal()\n",
    "        choice=input(\"연산을 선택하세요:\")\n",
    "        \n",
    "        if choice==\"5\":\n",
    "            print(\"프로그램 종료\")\n",
    "            break\n",
    "\n",
    "        #값 두개 받아오기\n",
    "        try:\n",
    "            num1,num2=get_numbers()\n",
    "\n",
    "            if choice==\"1\":\n",
    "                add(num1,num2)\n",
    "            elif choice==\"2\":\n",
    "                substract(num1,num2)\n",
    "            elif choice==\"3\":\n",
    "                multiply(num1,num2)\n",
    "            elif choice==\"4\":\n",
    "                divide(num1,num2)\n",
    "            else:\n",
    "                print(\"유효하지 않은 선택입니다. 다시 시도해 주세요.\")\n",
    "        # except Type-Error:\n",
    "        #     print(\"타입이 맞지 않습니다.\")\n",
    "        except Exception as e:\n",
    "            print(f\"예외발생: {e.__class__.__name__}-{e}\")\n",
    "\n",
    "main()            "
   ]
  },
  {
   "cell_type": "markdown",
   "id": "5da735d4-5596-4c12-8c9b-e5420877f7b0",
   "metadata": {},
   "source": [
    "### 예외처리"
   ]
  },
  {
   "cell_type": "code",
   "execution_count": 114,
   "id": "bf350200-a5dc-4ef6-b54f-f035af17554f",
   "metadata": {},
   "outputs": [
    {
     "name": "stdout",
     "output_type": "stream",
     "text": [
      "0으로 나눌 수 없습니다.\n"
     ]
    }
   ],
   "source": [
    "try:\n",
    "    result=10/0\n",
    "except ZeroDivisionError:\n",
    "    print(\"0으로 나눌 수 없습니다.\")"
   ]
  },
  {
   "cell_type": "code",
   "execution_count": 122,
   "id": "2a6adaed-a08d-4d16-aeb6-13a3ebb50d4d",
   "metadata": {},
   "outputs": [
    {
     "name": "stdout",
     "output_type": "stream",
     "text": [
      "새로운 파일\n"
     ]
    }
   ],
   "source": [
    "try:\n",
    "    with open(\"아무거나.txt\",\"r\") as f:\n",
    "        content=f.read()\n",
    "    print(content)\n",
    "except FileNotFoundError:\n",
    "    print(\"파일을 찾을 수 없습니다.\")\n",
    "    with open(\"아무거나.txt\",\"w\") as f:   #파일 없으면 아무거나.txt파일을 만듦\n",
    "        f.write(\"새로운 파일\")\n",
    "    print(\"새로운 파일을 생성했어요\")"
   ]
  },
  {
   "cell_type": "code",
   "execution_count": 130,
   "id": "2d372c9f-cb5c-4e6b-a67c-3b90af060977",
   "metadata": {},
   "outputs": [
    {
     "name": "stdin",
     "output_type": "stream",
     "text": [
      "숫자를 입력하세요 *\n"
     ]
    },
    {
     "name": "stdout",
     "output_type": "stream",
     "text": [
      "숫자가 아닙니다.\n"
     ]
    }
   ],
   "source": [
    "try:\n",
    "    number=int(input(\"숫자를 입력하세요\"))\n",
    "    print(f\"입력한 숫자는: {number}입니다.\")\n",
    "except ValueError:\n",
    "    print(\"숫자가 아닙니다.\")"
   ]
  },
  {
   "cell_type": "code",
   "execution_count": 141,
   "id": "f54e5cbe-d4c4-4f07-b10a-e67b39a5e09e",
   "metadata": {},
   "outputs": [
    {
     "name": "stdin",
     "output_type": "stream",
     "text": [
      "숫자입력 *\n"
     ]
    },
    {
     "name": "stdout",
     "output_type": "stream",
     "text": [
      "숫자가 아닙니다.\n"
     ]
    }
   ],
   "source": [
    "try:\n",
    "    result=10/int(input(\"숫자입력\"))\n",
    "    print(f\"결과: {result}\")\n",
    "except ValueError:\n",
    "    print(\"숫자가 아닙니다.\")\n",
    "except ZeroDivisionError:\n",
    "    print(\"0으로 나눌 수 없습니다.\")"
   ]
  },
  {
   "cell_type": "code",
   "execution_count": 149,
   "id": "952e6ab9-4851-41a5-afb9-08892bdab780",
   "metadata": {},
   "outputs": [
    {
     "name": "stdin",
     "output_type": "stream",
     "text": [
      "숫자를 입력하세요. -\n"
     ]
    },
    {
     "name": "stdout",
     "output_type": "stream",
     "text": [
      "예외 발생: ValueError - invalid literal for int() with base 10: '-'\n",
      "기능구현완료\n"
     ]
    }
   ],
   "source": [
    "try:\n",
    "    with open(\"아무거나.txt\",\"r\")as f:\n",
    "        number=int(input(\"숫자를 입력하세요.\"))\n",
    "except Exception as e:\n",
    "    print(f\"예외 발생: {e.__class__.__name__} - {e}\")\n",
    "else:\n",
    "    print(f\"입력한 숫자는: {number}입니다\")\n",
    "finally:\n",
    "    f.close()\n",
    "    print(\"기능구현완료\")"
   ]
  },
  {
   "cell_type": "code",
   "execution_count": 166,
   "id": "019b35a2-ad17-47ea-a75f-408f97453b98",
   "metadata": {},
   "outputs": [
    {
     "name": "stdin",
     "output_type": "stream",
     "text": [
      "첫 번째 숫자: 3\n",
      "두 번째 숫자: 5\n"
     ]
    },
    {
     "name": "stdout",
     "output_type": "stream",
     "text": [
      "첫 번째 숫자가 두 번째 숫자보다 작습니다\n"
     ]
    }
   ],
   "source": [
    "#사용자 예외 처리\n",
    "class SejongError(Exception):\n",
    "    pass\n",
    "    \n",
    "a=int(input(\"첫 번째 숫자:\"))\n",
    "b=int(input(\"두 번째 숫자:\"))\n",
    "\n",
    "try:\n",
    "    if a<b:\n",
    "        raise SejongError(\"첫 번째 숫자가 두 번째 숫자보다 작습니다\")  #raise:사용자에러를 강제로 만듦\n",
    "except SejongError as e:\n",
    "    print(e)\n",
    "else:\n",
    "    print(f\"결과: {a-b}\")"
   ]
  },
  {
   "cell_type": "code",
   "execution_count": 174,
   "id": "fcb175d5-c467-4920-8c2d-66aee99d9324",
   "metadata": {},
   "outputs": [
    {
     "name": "stdout",
     "output_type": "stream",
     "text": [
      "오류발생: FileNotFoundError - [Errno 2] No such file or directory: '아무거나유.txt'\n",
      "오류 정보가 기록되었습니다.\n"
     ]
    }
   ],
   "source": [
    "from datetime import datetime\n",
    "\n",
    "def log_error(error_message):\n",
    "    with open(\"error_log.txt\",\"a\")as f:\n",
    "        f.write(f\"{datetime.now()}-{error_message}\\n\")\n",
    "try:\n",
    "    with open(\"아무거나유.txt\",\"r\") as f:\n",
    "        content=f.read()\n",
    "except Exception as e:\n",
    "    error_message=f\"{e.__class__.__name__} - {e}\"\n",
    "    print(\"오류발생: \" + error_message)\n",
    "\n",
    "    #오류저장\n",
    "    log_error(error_message)\n",
    "    print(\"오류 정보가 기록되었습니다.\")"
   ]
  },
  {
   "cell_type": "code",
   "execution_count": 248,
   "id": "deae1449-4829-4efc-945a-69ce84d1f48e",
   "metadata": {
    "scrolled": true
   },
   "outputs": [
    {
     "name": "stdout",
     "output_type": "stream",
     "text": [
      "\n",
      "=== 영화예매 ===\n",
      "현재 좌석 상태:\n",
      "□ □ □ □ □ □ □ □ □ □ 1. 예매하기\n",
      "2. 예매 취소\n",
      "3. 종료\n"
     ]
    },
    {
     "name": "stdin",
     "output_type": "stream",
     "text": [
      "선택: 1\n",
      "좌석 번호 선택(1-10): 3\n"
     ]
    },
    {
     "name": "stdout",
     "output_type": "stream",
     "text": [
      "예매가 완료되었습니다.\n",
      "\n",
      "=== 영화예매 ===\n",
      "현재 좌석 상태:\n",
      "□ □ ■ □ □ □ □ □ □ □ 1. 예매하기\n",
      "2. 예매 취소\n",
      "3. 종료\n"
     ]
    },
    {
     "name": "stdin",
     "output_type": "stream",
     "text": [
      "선택: 2\n",
      "취소할 좌석 번호(1-10): 3\n"
     ]
    },
    {
     "name": "stdout",
     "output_type": "stream",
     "text": [
      "예매가 취소되었습니다.\n",
      "\n",
      "=== 영화예매 ===\n",
      "현재 좌석 상태:\n",
      "□ □ □ □ □ □ □ □ □ □ 1. 예매하기\n",
      "2. 예매 취소\n",
      "3. 종료\n"
     ]
    },
    {
     "name": "stdin",
     "output_type": "stream",
     "text": [
      "선택: 3\n"
     ]
    },
    {
     "name": "stdout",
     "output_type": "stream",
     "text": [
      "프로그램을 종료합니다.\n"
     ]
    }
   ],
   "source": [
    "seats=[0]*10\n",
    "\n",
    "while True:\n",
    "    print(\"\\n=== 영화예매 ===\")\n",
    "    print(\"현재 좌석 상태:\")\n",
    "    for i in range(10):\n",
    "        if seats[i]==0:\n",
    "            print(\"□\",end=\" \")\n",
    "        else:\n",
    "            print(\"■\", end=\" \")\n",
    "    print(\"1. 예매하기\")\n",
    "    print(\"2. 예매 취소\")\n",
    "    print(\"3. 종료\")\n",
    "\n",
    "    choice=input(\"선택:\")\n",
    "\n",
    "    if choice=='1':\n",
    "        seat_number=int(input(\"좌석 번호 선택(1-10):\"))-1\n",
    "        if 0<=seat_number<10:\n",
    "            if seats[seat_number]==0:\n",
    "                seats[seat_number]=1\n",
    "                print(\"예매가 완료되었습니다.\")\n",
    "            else:\n",
    "                print(\"이미 예매된 좌석입니다.\")\n",
    "                \n",
    "    elif choice=='2':\n",
    "        seat_number=int(input(\"취소할 좌석 번호(1-10):\"))-1\n",
    "        if 0<=seats[seat_number]<10:\n",
    "            if seats[seat_number]==1:\n",
    "                seats[seat_number]=0\n",
    "                print(\"예매가 취소되었습니다.\")\n",
    "            else:\n",
    "                print(\"예매되지 않은 좌석입니다.\")\n",
    "    elif choice=='3':\n",
    "        print(\"프로그램을 종료합니다.\")\n",
    "        break   "
   ]
  },
  {
   "cell_type": "code",
   "execution_count": 258,
   "id": "4676332e-92aa-4521-b6b7-6d4878bcf424",
   "metadata": {
    "scrolled": true
   },
   "outputs": [
    {
     "name": "stdout",
     "output_type": "stream",
     "text": [
      "\n",
      "=== 영화예매 ===\n",
      "현재 좌석 상태:\n",
      "□ □ □ □ □ □ □ □ □ □ 1. 예매하기\n",
      "2. 예매 취소\n",
      "3. 종료\n"
     ]
    },
    {
     "name": "stdin",
     "output_type": "stream",
     "text": [
      "선택: 1\n",
      "좌석 번호 선택(1-10): 2\n"
     ]
    },
    {
     "name": "stdout",
     "output_type": "stream",
     "text": [
      "예매가 완료되었습니다.\n",
      "\n",
      "=== 영화예매 ===\n",
      "현재 좌석 상태:\n",
      "□ ■ □ □ □ □ □ □ □ □ 1. 예매하기\n",
      "2. 예매 취소\n",
      "3. 종료\n"
     ]
    },
    {
     "name": "stdin",
     "output_type": "stream",
     "text": [
      "선택: 1\n",
      "좌석 번호 선택(1-10): 3\n"
     ]
    },
    {
     "name": "stdout",
     "output_type": "stream",
     "text": [
      "예매가 완료되었습니다.\n",
      "\n",
      "=== 영화예매 ===\n",
      "현재 좌석 상태:\n",
      "□ ■ ■ □ □ □ □ □ □ □ 1. 예매하기\n",
      "2. 예매 취소\n",
      "3. 종료\n"
     ]
    },
    {
     "name": "stdin",
     "output_type": "stream",
     "text": [
      "선택: 2\n",
      "취소할 좌석 번호(1-10): 2\n"
     ]
    },
    {
     "name": "stdout",
     "output_type": "stream",
     "text": [
      "예매가 취소되었습니다.\n",
      "\n",
      "=== 영화예매 ===\n",
      "현재 좌석 상태:\n",
      "□ □ ■ □ □ □ □ □ □ □ 1. 예매하기\n",
      "2. 예매 취소\n",
      "3. 종료\n"
     ]
    },
    {
     "name": "stdin",
     "output_type": "stream",
     "text": [
      "선택: 3\n"
     ]
    },
    {
     "name": "stdout",
     "output_type": "stream",
     "text": [
      "종료되었습니다.\n"
     ]
    }
   ],
   "source": [
    "def show_movie(seats):\n",
    "    print(\"\\n=== 영화예매 ===\")\n",
    "    print(\"현재 좌석 상태:\")\n",
    "    for i in range(10):\n",
    "        if seats[i]==0:\n",
    "            print(\"□\",end=\" \")\n",
    "        else:\n",
    "            print(\"■\", end=\" \")\n",
    "    print(\"1. 예매하기\")\n",
    "    print(\"2. 예매 취소\")\n",
    "    print(\"3. 종료\")\n",
    "\n",
    "def rsv(seats):\n",
    "    seat_number=int(input(\"좌석 번호 선택(1-10):\"))-1\n",
    "    if 0<=seat_number<10:\n",
    "        if seats[seat_number]==0:\n",
    "            seats[seat_number]=1\n",
    "            print(\"예매가 완료되었습니다.\")   #좌석이 비어 있으면 1로 설정하고 \"예매 완료\" 메시지를 출력\n",
    "        else:\n",
    "            print(\"이미 예매된 좌석입니다.\")\n",
    "    return seats\n",
    "    \n",
    "def cancel(seats):\n",
    "    seat_number=int(input(\"취소할 좌석 번호(1-10):\"))-1\n",
    "    if 0<=seats[seat_number]<10:\n",
    "        if seats[seat_number]==1:   \n",
    "            seats[seat_number]=0\n",
    "            print(\"예매가 취소되었습니다.\")\n",
    "        else:\n",
    "            print(\"예매되지 않은 좌석입니다.\")\n",
    "    return seats\n",
    "    \n",
    "def main():\n",
    "    seats = [0] * 10\n",
    "    \n",
    "    while True:\n",
    "        show_movie(seats)\n",
    "        choice=input(\"선택:\")\n",
    "        \n",
    "        if choice==\"1\":\n",
    "            seats=rsv(seats)\n",
    "        elif choice==\"2\":\n",
    "            seats=cancel(seats)\n",
    "        elif choice==\"3\":\n",
    "            print(\"종료되었습니다.\")\n",
    "            break\n",
    "main()"
   ]
  },
  {
   "cell_type": "code",
   "execution_count": 284,
   "id": "af984d7e-e353-4183-87e0-c9fdb0c340b2",
   "metadata": {
    "scrolled": true
   },
   "outputs": [
    {
     "name": "stdout",
     "output_type": "stream",
     "text": [
      "\n",
      "=== 영화예매 ===\n",
      "현재 좌석 상태:\n",
      "□ □ □ □ □ □ □ □ □ □ \n",
      "□ □ □ □ □ □ □ □ □ □ \n",
      "□ □ □ □ □ □ □ □ □ □ \n",
      "□ □ □ □ □ □ □ □ □ □ \n",
      "□ □ □ □ □ □ □ □ □ □ \n",
      "1. 예매하기\n",
      "2. 예매 취소\n",
      "3. 종료\n"
     ]
    },
    {
     "name": "stdin",
     "output_type": "stream",
     "text": [
      "선택: 1\n",
      "좌석 행 선택(1-10): 5\n",
      "좌석 열 선택(1-10): 5\n"
     ]
    },
    {
     "name": "stdout",
     "output_type": "stream",
     "text": [
      "예매가 완료되었습니다.\n",
      "\n",
      "=== 영화예매 ===\n",
      "현재 좌석 상태:\n",
      "□ □ □ □ □ □ □ □ □ □ \n",
      "□ □ □ □ □ □ □ □ □ □ \n",
      "□ □ □ □ □ □ □ □ □ □ \n",
      "□ □ □ □ □ □ □ □ □ □ \n",
      "□ □ □ □ ■ □ □ □ □ □ \n",
      "1. 예매하기\n",
      "2. 예매 취소\n",
      "3. 종료\n"
     ]
    },
    {
     "name": "stdin",
     "output_type": "stream",
     "text": [
      "선택: 1\n",
      "좌석 행 선택(1-10): 3\n",
      "좌석 열 선택(1-10): 6\n"
     ]
    },
    {
     "name": "stdout",
     "output_type": "stream",
     "text": [
      "예매가 완료되었습니다.\n",
      "\n",
      "=== 영화예매 ===\n",
      "현재 좌석 상태:\n",
      "□ □ □ □ □ □ □ □ □ □ \n",
      "□ □ □ □ □ □ □ □ □ □ \n",
      "□ □ □ □ □ ■ □ □ □ □ \n",
      "□ □ □ □ □ □ □ □ □ □ \n",
      "□ □ □ □ ■ □ □ □ □ □ \n",
      "1. 예매하기\n",
      "2. 예매 취소\n",
      "3. 종료\n"
     ]
    },
    {
     "name": "stdin",
     "output_type": "stream",
     "text": [
      "선택: 2\n",
      "취소할 행 선택(1-10): 3\n",
      "취소할 열 선택(1-10): 6\n"
     ]
    },
    {
     "name": "stdout",
     "output_type": "stream",
     "text": [
      "예매가 취소되었습니다.\n",
      "\n",
      "=== 영화예매 ===\n",
      "현재 좌석 상태:\n",
      "□ □ □ □ □ □ □ □ □ □ \n",
      "□ □ □ □ □ □ □ □ □ □ \n",
      "□ □ □ □ □ □ □ □ □ □ \n",
      "□ □ □ □ □ □ □ □ □ □ \n",
      "□ □ □ □ ■ □ □ □ □ □ \n",
      "1. 예매하기\n",
      "2. 예매 취소\n",
      "3. 종료\n"
     ]
    },
    {
     "name": "stdin",
     "output_type": "stream",
     "text": [
      "선택: 3\n"
     ]
    },
    {
     "name": "stdout",
     "output_type": "stream",
     "text": [
      "종료되었습니다.\n"
     ]
    }
   ],
   "source": [
    "def show_movie(seats):\n",
    "    print(\"\\n=== 영화예매 ===\")\n",
    "    print(\"현재 좌석 상태:\")\n",
    "    \n",
    "    for j in range(5):\n",
    "        for i in range(10):\n",
    "            if seats[j][i]==0:\n",
    "                print(\"□\",end=\" \")\n",
    "            else:\n",
    "                print(\"■\", end=\" \")\n",
    "        print()\n",
    "    print(\"1. 예매하기\")\n",
    "    print(\"2. 예매 취소\")\n",
    "    print(\"3. 종료\")\n",
    "\n",
    "def rsv(seats):\n",
    "    row=int(input(\"좌석 행 선택(1-10):\"))-1\n",
    "    col=int(input(\"좌석 열 선택(1-10):\"))-1\n",
    "    \n",
    "    if validate_seat_reservation(row,col):\n",
    "        if seats[row][col]==0:\n",
    "            seats[row][col]=1\n",
    "            print(\"예매가 완료되었습니다.\")   #좌석이 비어 있으면 1로 설정하고 \"예매 완료\" 메시지를 출력\n",
    "        else:\n",
    "            print(\"이미 예매된 좌석입니다.\")\n",
    "    return seats\n",
    "    \n",
    "def cancel(seats):\n",
    "    row=int(input(\"취소할 행 선택(1-10):\"))-1\n",
    "    col=int(input(\"취소할 열 선택(1-10):\"))-1\n",
    "    \n",
    "    if validate_seat_reservation(row,col):\n",
    "        if seats[row][col]==1:\n",
    "            seats[row][col]=0\n",
    "            print(\"예매가 취소되었습니다.\")  \n",
    "        else:\n",
    "            print(\"예매되지 않은 좌석입니다.\")\n",
    "    return seats\n",
    "    \n",
    "def validate_seat_reservation(row,col): \n",
    "    return 0 <=row <5 and 0<=col<10\n",
    "    \n",
    "def main():\n",
    "    seats = [[0 for _ in range(10)] for _ in range(5)]   #seats 리스트를 5행 10열의 2차원 리스트로 초기화 각 요소는 0으로 설정되어 좌석이 비어 있음\n",
    "    \n",
    "    while True:\n",
    "        show_movie(seats)\n",
    "        choice=input(\"선택:\")\n",
    "        \n",
    "        if choice==\"1\":\n",
    "            seats=rsv(seats)\n",
    "        elif choice==\"2\":\n",
    "            seats=cancel(seats)\n",
    "        elif choice==\"3\":\n",
    "            print(\"종료되었습니다.\")\n",
    "            break\n",
    "main()"
   ]
  },
  {
   "cell_type": "code",
   "execution_count": 300,
   "id": "8444dd92-74bf-4d42-9793-70819a9c31b1",
   "metadata": {},
   "outputs": [
    {
     "name": "stdout",
     "output_type": "stream",
     "text": [
      "방 1번째 방의 조명상태: 켜짐\n",
      "방 2번째 방의 조명상태: 꺼짐\n",
      "방 3번째 방의 조명상태: 켜짐\n",
      "방 4번째 방의 조명상태: 꺼짐\n",
      "방 5번째 방의 조명상태: 켜짐\n",
      "방 6번째 방의 조명상태: 꺼짐\n",
      "방 7번째 방의 조명상태: 꺼짐\n",
      "------------------------------\n",
      "방 1번째 방의 조명상태: 켜짐\n",
      "방 2번째 방의 조명상태: 꺼짐\n",
      "방 3번째 방의 조명상태: 꺼짐\n",
      "방 4번째 방의 조명상태: 꺼짐\n",
      "방 5번째 방의 조명상태: 꺼짐\n",
      "방 6번째 방의 조명상태: 꺼짐\n",
      "방 7번째 방의 조명상태: 꺼짐\n",
      "------------------------------\n"
     ]
    }
   ],
   "source": [
    "#각 방의 조명 상태\n",
    "lights=[1,0,1,0,1,0,0]\n",
    "\n",
    "def lights_status(lights):\n",
    "    for i in range(len(lights)):\n",
    "        state=\"켜짐\" if lights[i]==1 else \"꺼짐\"\n",
    "        print(f\"방 {i+1}번째 방의 조명상태: {state}\")\n",
    "    print(\"-\"*30)\n",
    "\n",
    "def control_light(lights,room,status):\n",
    "    lights[room-1]=status\n",
    "lights_status(lights)\n",
    "\n",
    "#lights[4]=0 \n",
    "control_light(lights,5,0)\n",
    "control_light(lights,3,0)\n",
    "lights_status(lights)"
   ]
  },
  {
   "cell_type": "code",
   "execution_count": 304,
   "id": "da55f700-1637-46cf-9e94-5ce65c1abddc",
   "metadata": {},
   "outputs": [
    {
     "name": "stdout",
     "output_type": "stream",
     "text": [
      "출석한 학생 수: 3\n",
      "결석한 학생 번호(리스트): [2, 5]\n"
     ]
    }
   ],
   "source": [
    "# 출석 상태\n",
    "attendance = [1, 0, 1, 1, 0]\n",
    "\n",
    "# 출석한 학생 수를 계산하는 함수\n",
    "def present_count(attendance):\n",
    "    return sum(attendance)\n",
    "    \n",
    "# 결석한 학생 번호 리스트 생성\n",
    "absent_student = [i for i, status in enumerate(attendance, start=1) if status == 0]   \n",
    "\n",
    "print(\"출석한 학생 수:\", present_count(attendance))\n",
    "print(\"결석한 학생 번호(리스트):\", absent_student)"
   ]
  },
  {
   "cell_type": "code",
   "execution_count": 306,
   "id": "fa551c0a-d80f-45c0-852a-bc6042ada8c9",
   "metadata": {},
   "outputs": [
    {
     "data": {
      "text/plain": [
       "[1, 3, 4]"
      ]
     },
     "execution_count": 306,
     "metadata": {},
     "output_type": "execute_result"
    }
   ],
   "source": [
    "#온라인 상태\n",
    "users=[1,0,1,1,0]\n",
    "online_users=[i for i, status in enumerate(users,start=1) if status==1]\n",
    "online_users"
   ]
  },
  {
   "cell_type": "code",
   "execution_count": 322,
   "id": "cef440ba-49a1-4511-a024-5a3bcdb31264",
   "metadata": {},
   "outputs": [
    {
     "name": "stdout",
     "output_type": "stream",
     "text": [
      "운동한 날 수: 5\n",
      "운동하지 않은 요일: ['화요일', '목요일']\n"
     ]
    }
   ],
   "source": [
    "#운동여부\n",
    "weekday_names=[\"월요일\",\"화요일\",\"수요일\",\"목요일\",\"금요일\",\"토요일\",\"일요일\"]\n",
    "exercise_log=[1,0,1,0,1,1,1]\n",
    "\n",
    "#운동한 날 수\n",
    "def ex(exercise_log):\n",
    "    return sum(exercise_log)\n",
    "\n",
    "#운동하지 않은 요일\n",
    "notexercise=[weekday_names[i] for i, status in enumerate(exercise_log) if status==0]\n",
    "\n",
    "print(\"운동한 날 수:\", ex(exercise_log))\n",
    "print(\"운동하지 않은 요일:\", notexercise)"
   ]
  }
 ],
 "metadata": {
  "kernelspec": {
   "display_name": "Python 3 (ipykernel)",
   "language": "python",
   "name": "python3"
  },
  "language_info": {
   "codemirror_mode": {
    "name": "ipython",
    "version": 3
   },
   "file_extension": ".py",
   "mimetype": "text/x-python",
   "name": "python",
   "nbconvert_exporter": "python",
   "pygments_lexer": "ipython3",
   "version": "3.12.7"
  }
 },
 "nbformat": 4,
 "nbformat_minor": 5
}
