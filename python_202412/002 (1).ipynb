{
 "cells": [
  {
   "cell_type": "code",
   "execution_count": 4,
   "id": "0e6e3020-d15c-42a2-9672-469d0d132482",
   "metadata": {},
   "outputs": [],
   "source": [
    "import pyautogui\n",
    "import time"
   ]
  },
  {
   "cell_type": "code",
   "execution_count": 44,
   "id": "a160683b-e6ac-4b2f-877d-f7b3044f58ba",
   "metadata": {},
   "outputs": [],
   "source": [
    "pyautogui.mouseInfo()"
   ]
  },
  {
   "cell_type": "code",
   "execution_count": null,
   "id": "443e6e41-920c-49d9-b2e9-6c5647ce2f08",
   "metadata": {},
   "outputs": [],
   "source": [
    "# 518,84  1403-518,1102-84"
   ]
  },
  {
   "cell_type": "code",
   "execution_count": 27,
   "id": "ab90c3a5-b84d-4515-be55-38abf99ff12c",
   "metadata": {},
   "outputs": [],
   "source": [
    "# 2934, 398, (3297-2934), (650-398)\n",
    "# 3397, 528\n",
    "\n",
    "# 67, 343, (1118-67), (1652-343)\n",
    "# 1162, 955"
   ]
  },
  {
   "cell_type": "code",
   "execution_count": 2,
   "id": "e8464eb9-85c3-4097-af78-d0d3f5d96857",
   "metadata": {},
   "outputs": [
    {
     "ename": "FileNotFoundError",
     "evalue": "[Errno 2] No such file or directory: 'C:\\\\Users\\\\enjoy\\\\python_202412\\\\book1\\\\book_001.png'",
     "output_type": "error",
     "traceback": [
      "\u001b[1;31m---------------------------------------------------------------------------\u001b[0m",
      "\u001b[1;31mFileNotFoundError\u001b[0m                         Traceback (most recent call last)",
      "Cell \u001b[1;32mIn[2], line 9\u001b[0m\n\u001b[0;32m      7\u001b[0m \u001b[38;5;28;01mfor\u001b[39;00m i \u001b[38;5;129;01min\u001b[39;00m \u001b[38;5;28mrange\u001b[39m(\u001b[38;5;241m1\u001b[39m, \u001b[38;5;241m5\u001b[39m):\n\u001b[0;32m      8\u001b[0m     random_sleep_time \u001b[38;5;241m=\u001b[39m random\u001b[38;5;241m.\u001b[39muniform(\u001b[38;5;241m2\u001b[39m, \u001b[38;5;241m5\u001b[39m)\n\u001b[1;32m----> 9\u001b[0m     pyautogui\u001b[38;5;241m.\u001b[39mscreenshot(\u001b[38;5;124mf\u001b[39m\u001b[38;5;124m'\u001b[39m\u001b[38;5;124mbook1/book_\u001b[39m\u001b[38;5;132;01m{\u001b[39;00mi\u001b[38;5;132;01m:\u001b[39;00m\u001b[38;5;124m03d\u001b[39m\u001b[38;5;132;01m}\u001b[39;00m\u001b[38;5;124m.png\u001b[39m\u001b[38;5;124m'\u001b[39m, region\u001b[38;5;241m=\u001b[39m(\u001b[38;5;241m67\u001b[39m, \u001b[38;5;241m343\u001b[39m, (\u001b[38;5;241m1118\u001b[39m\u001b[38;5;241m-\u001b[39m\u001b[38;5;241m67\u001b[39m), (\u001b[38;5;241m1652\u001b[39m\u001b[38;5;241m-\u001b[39m\u001b[38;5;241m343\u001b[39m)))\n\u001b[0;32m     10\u001b[0m     time\u001b[38;5;241m.\u001b[39msleep(\u001b[38;5;241m5\u001b[39m)\n\u001b[0;32m     11\u001b[0m     pyautogui\u001b[38;5;241m.\u001b[39mpress(\u001b[38;5;124m'\u001b[39m\u001b[38;5;124mright\u001b[39m\u001b[38;5;124m'\u001b[39m)\n",
      "File \u001b[1;32m~\\anaconda3\\Lib\\site-packages\\pyscreeze\\__init__.py:544\u001b[0m, in \u001b[0;36m_screenshot_win32\u001b[1;34m(imageFilename, region, allScreens)\u001b[0m\n\u001b[0;32m    542\u001b[0m     im \u001b[38;5;241m=\u001b[39m im\u001b[38;5;241m.\u001b[39mcrop((region[\u001b[38;5;241m0\u001b[39m], region[\u001b[38;5;241m1\u001b[39m], region[\u001b[38;5;241m2\u001b[39m] \u001b[38;5;241m+\u001b[39m region[\u001b[38;5;241m0\u001b[39m], region[\u001b[38;5;241m3\u001b[39m] \u001b[38;5;241m+\u001b[39m region[\u001b[38;5;241m1\u001b[39m]))\n\u001b[0;32m    543\u001b[0m \u001b[38;5;28;01mif\u001b[39;00m imageFilename \u001b[38;5;129;01mis\u001b[39;00m \u001b[38;5;129;01mnot\u001b[39;00m \u001b[38;5;28;01mNone\u001b[39;00m:\n\u001b[1;32m--> 544\u001b[0m     im\u001b[38;5;241m.\u001b[39msave(imageFilename)\n\u001b[0;32m    545\u001b[0m \u001b[38;5;28;01mreturn\u001b[39;00m im\n",
      "File \u001b[1;32m~\\anaconda3\\Lib\\site-packages\\PIL\\Image.py:2563\u001b[0m, in \u001b[0;36mImage.save\u001b[1;34m(self, fp, format, **params)\u001b[0m\n\u001b[0;32m   2561\u001b[0m         fp \u001b[38;5;241m=\u001b[39m builtins\u001b[38;5;241m.\u001b[39mopen(filename, \u001b[38;5;124m\"\u001b[39m\u001b[38;5;124mr+b\u001b[39m\u001b[38;5;124m\"\u001b[39m)\n\u001b[0;32m   2562\u001b[0m     \u001b[38;5;28;01melse\u001b[39;00m:\n\u001b[1;32m-> 2563\u001b[0m         fp \u001b[38;5;241m=\u001b[39m builtins\u001b[38;5;241m.\u001b[39mopen(filename, \u001b[38;5;124m\"\u001b[39m\u001b[38;5;124mw+b\u001b[39m\u001b[38;5;124m\"\u001b[39m)\n\u001b[0;32m   2564\u001b[0m \u001b[38;5;28;01melse\u001b[39;00m:\n\u001b[0;32m   2565\u001b[0m     fp \u001b[38;5;241m=\u001b[39m cast(IO[\u001b[38;5;28mbytes\u001b[39m], fp)\n",
      "\u001b[1;31mFileNotFoundError\u001b[0m: [Errno 2] No such file or directory: 'C:\\\\Users\\\\enjoy\\\\python_202412\\\\book1\\\\book_001.png'"
     ]
    }
   ],
   "source": [
    "import pyautogui\n",
    "import random\n",
    "import time\n",
    "#pyautogui.moveTo(1162, 955,1)\n",
    "pyautogui.moveTo(1091, 209,1)\n",
    "pyautogui.click()\n",
    "for i in range(1, 5):\n",
    "    random_sleep_time = random.uniform(2, 5)\n",
    "    pyautogui.screenshot(f'book1/book_{i:03d}.png', region=(67, 343, (1118-67), (1652-343)))\n",
    "    time.sleep(5)\n",
    "    pyautogui.press('right')\n",
    "    #time.sleep(random_sleep_time)"
   ]
  },
  {
   "cell_type": "code",
   "execution_count": null,
   "id": "8a8ec6d8-b645-40f6-aff3-ba1dce430b15",
   "metadata": {},
   "outputs": [],
   "source": []
  }
 ],
 "metadata": {
  "kernelspec": {
   "display_name": "Python 3 (ipykernel)",
   "language": "python",
   "name": "python3"
  },
  "language_info": {
   "codemirror_mode": {
    "name": "ipython",
    "version": 3
   },
   "file_extension": ".py",
   "mimetype": "text/x-python",
   "name": "python",
   "nbconvert_exporter": "python",
   "pygments_lexer": "ipython3",
   "version": "3.12.7"
  }
 },
 "nbformat": 4,
 "nbformat_minor": 5
}
