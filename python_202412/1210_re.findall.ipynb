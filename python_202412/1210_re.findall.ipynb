{
 "cells": [
  {
   "cell_type": "code",
   "execution_count": 43,
   "id": "8a842449-4a49-4351-b0d3-e49c253da1e4",
   "metadata": {},
   "outputs": [],
   "source": [
    "import requests\n",
    "import re\n",
    "from bs4 import BeautifulSoup\n",
    "\n",
    "url=\"http://lecture.pul.kr/ex6.html\"\n",
    "response=requests.get(url)\n",
    "\n",
    "html_content = response.text\n",
    "soup = BeautifulSoup(html_content, 'html.parser')"
   ]
  },
  {
   "cell_type": "code",
   "execution_count": 5,
   "id": "8a08d8e0-c70d-4c06-9b2c-37375ea8f053",
   "metadata": {},
   "outputs": [
    {
     "name": "stdout",
     "output_type": "stream",
     "text": [
      "이메일 주소: ['test@example.com', 'hello@world.net']\n"
     ]
    }
   ],
   "source": [
    "#이메일 주소 추출\n",
    "\n",
    "# email_pattern = r\"[\\w\\.-]+@[\\w\\.-]+\\.\\w+\"\n",
    "email_pattern=r'[\\w.%+-]+@[\\w.-]+\\.[a-zA-Z]{2,}'\n",
    "\n",
    "emails = re.findall(email_pattern, html_content)\n",
    "print(\"이메일 주소:\", emails)"
   ]
  },
  {
   "cell_type": "code",
   "execution_count": 9,
   "id": "eed56edd-b1ec-4a9a-9bcf-756ea11a7bf2",
   "metadata": {},
   "outputs": [
    {
     "name": "stdout",
     "output_type": "stream",
     "text": [
      "전화번호: ['(123) 456-7890', '987-654-3210']\n"
     ]
    }
   ],
   "source": [
    "#전화번호 추출\n",
    "phone_pattern = r\"\\(?\\d{3}\\)?[-.\\s]?\\d{3,4}[-.\\s]?\\d{4}\"\n",
    "phone_numbers = re.findall(phone_pattern, html_content)\n",
    "print(\"전화번호:\", phone_numbers)"
   ]
  },
  {
   "cell_type": "code",
   "execution_count": 11,
   "id": "306c89c2-8947-4a95-98cb-33d8ddc6819a",
   "metadata": {},
   "outputs": [
    {
     "name": "stdout",
     "output_type": "stream",
     "text": [
      "가격: ['$19.99', '$29.99']\n"
     ]
    }
   ],
   "source": [
    "#가격 추출\n",
    "price_pattern = r\"\\$\\d+\\.\\d{2}\"\n",
    "prices = re.findall(price_pattern, html_content)\n",
    "print(\"가격:\", prices)"
   ]
  },
  {
   "cell_type": "code",
   "execution_count": 29,
   "id": "e52b83b7-edf3-4f66-a32e-1649f3ab862b",
   "metadata": {},
   "outputs": [
    {
     "name": "stdout",
     "output_type": "stream",
     "text": [
      "링크: ['https://example.com', 'http://test.com']\n"
     ]
    }
   ],
   "source": [
    "#링크 추출\n",
    "# link_pattern = r'href=\"([^\"]+)\"'\n",
    "link_pattern=r'https?://[^\\s\"<]+'\n",
    "links = re.findall(link_pattern, html_content)\n",
    "print(\"링크:\", links)"
   ]
  },
  {
   "cell_type": "code",
   "execution_count": 35,
   "id": "481b0948-c67a-45a5-8a69-3c80a56c8e32",
   "metadata": {},
   "outputs": [
    {
     "name": "stdout",
     "output_type": "stream",
     "text": [
      "특수 문자: ['<', '!', '>', '<', '=', '\"', '\"', '>', '<', '>', '<', '=', '\"', '-', '\"', '>', '<', '=', '\"', '\"', '=', '\"', '=', '-', ',', '-', '=', '.', '\"', '>', '<', '>', '<', '/', '>', '<', '/', '>', '<', '>', '<', '>', '<', '/', '>', '<', '>', '.', '<', '/', '>', '<', '>', '<', '/', '>', '<', '>', '<', '>', ':', '@', '.', '<', '/', '>', '<', '>', ':', '@', '.', '<', '/', '>', '<', '>', ':', '(', ')', '-', '<', '/', '>', '<', '>', ':', '-', '-', '<', '/', '>', '<', '/', '>', '<', '>', '<', '/', '>', '<', '=', '\"', '\"', '>', '<', '>', '<', '/', '>', '<', '>', ':', '$', '.', '<', '/', '>', '<', '>', ':', '!', '<', '/', '>', '<', '/', '>', '<', '=', '\"', '\"', '>', '<', '>', '<', '/', '>', '<', '>', ':', '$', '.', '<', '/', '>', '<', '>', ':', '!', '<', '/', '>', '<', '/', '>', '<', '>', '<', '/', '>', '<', '>', '<', '=', '\"', ':', '/', '/', '.', '\"', '>', '<', '/', '>', '<', '=', '\"', ':', '/', '/', '.', '\"', '>', '<', '/', '>', '!', '<', '/', '>', '<', '>', '<', '/', '>', '<', '>', '<', '>', '(', ')', '<', '/', '>', '<', '>', '(', ')', '<', '/', '>', '<', '>', '(', ')', '<', '/', '>', '<', '>', '(', ')', '<', '/', '>', '<', '/', '>', '<', '>', '<', '/', '>', '<', '>', ':', '@', '#', '$', '%', '^', '&', '*', '(', ')', '+', '[', ']', '{', '}', '|', ';', \"'\", ':', '\"', ',', '.', '<', '>', '?', '/', '~', '`', '<', '/', '>', '<', '>', '<', '/', '>', '<', '>', '<', '!', '-', '-', '-', '-', '>', '<', '>', '.', '<', '/', '>', '<', '/', '>', '<', '>', '<', '/', '>', '<', '>', '<', '>', '&', ';', '.', '.', '<', '/', '>', '<', '/', '>', '<', '/', '>', '<', '/', '>']\n"
     ]
    }
   ],
   "source": [
    "#특수문자 추출\n",
    "# special_char_pattern = r\"[^a-zA-Z0-9\\s]\"\n",
    "special_char_pattern =r'[^\\w\\s]'\n",
    "\n",
    "special_characters = re.findall(special_char_pattern, html_content)\n",
    "print(\"특수 문자:\", special_characters)"
   ]
  },
  {
   "cell_type": "code",
   "execution_count": 37,
   "id": "ad01853d-0f8b-403c-aeeb-1579bcd00486",
   "metadata": {
    "scrolled": true
   },
   "outputs": [
    {
     "name": "stdout",
     "output_type": "stream",
     "text": [
      "주석 제거된 HTML:\n",
      "<!DOCTYPE html>\n",
      "<html lang=\"en\">\n",
      "<head>\n",
      "    <meta charset=\"UTF-8\">\n",
      "    <meta name=\"viewport\" content=\"width=device-width, initial-scale=1.0\">\n",
      "    <title>Sample HTML for Regex</title>\n",
      "</head>\n",
      "<body>\n",
      "    <h1>Sample HTML Document</h1>\n",
      "    <p>This is a sample HTML document to demonstrate various regex patterns.</p>\n",
      "    \n",
      "    <h2>Contact Information</h2>\n",
      "    <ul>\n",
      "        <li>Email: test@example.com</li>\n",
      "        <li>Email: hello@world.net</li>\n",
      "        <li>Phone: (123) 456-7890</li>\n",
      "        <li>Phone: 987-654-3210</li>\n",
      "    </ul>\n",
      "    \n",
      "    <h2>Products</h2>\n",
      "    <div class=\"product\">\n",
      "        <h3>Product 1</h3>\n",
      "        <p>Price: $19.99</p>\n",
      "        <p>Description: A great product for everyone!</p>\n",
      "    </div>\n",
      "    <div class=\"product\">\n",
      "        <h3>Product 2</h3>\n",
      "        <p>Price: $29.99</p>\n",
      "        <p>Description: Another fantastic product!</p>\n",
      "    </div>\n",
      "    \n",
      "    <h2>Links</h2>\n",
      "    <p>Visit <a href=\"https://example.com\">Example</a> or <a href=\"http://test.com\">Test</a>!</p>\n",
      "    \n",
      "    <h2>List of Items</h2>\n",
      "    <ul>\n",
      "        <li>(Apple)</li>\n",
      "        <li>(Banana)</li>\n",
      "        <li>(Orange)</li>\n",
      "        <li>(Grapes)</li>\n",
      "    </ul>\n",
      "\n",
      "    <h2>Text with Special Characters</h2>\n",
      "    <p>Special characters: @#$%^&*()_+[]{}|;':\",.<>?/~`</p>\n",
      "\n",
      "    <h2>Comments</h2>\n",
      "    <div>\n",
      "        \n",
      "        <p>Some more text here.</p>\n",
      "    </div>\n",
      "\n",
      "    <h2>Footer</h2>\n",
      "    <footer>\n",
      "        <p>&copy; 2023 Sample Company. All rights reserved.</p>\n",
      "    </footer>\n",
      "</body>\n",
      "</html>\n",
      "\n",
      "\n"
     ]
    }
   ],
   "source": [
    "#주석 제거\n",
    "comment_pattern = r\"<!--.*?-->\"\n",
    "cleaned_html = re.sub(comment_pattern, \"\", html_content)\n",
    "print(\"주석 제거된 HTML:\")\n",
    "print(cleaned_html)"
   ]
  },
  {
   "cell_type": "code",
   "execution_count": 39,
   "id": "3bfbb92e-dcf8-4960-847d-e3e1084c6947",
   "metadata": {},
   "outputs": [
    {
     "name": "stdout",
     "output_type": "stream",
     "text": [
      "괄호 안의 내용: ['123', 'Apple', 'Banana', 'Orange', 'Grapes', '']\n"
     ]
    }
   ],
   "source": [
    "#괄호 안의 내용 추출\n",
    "parentheses_pattern = r\"\\((.*?)\\)\"\n",
    "parentheses_contents = re.findall(parentheses_pattern, html_content)\n",
    "print(\"괄호 안의 내용:\", parentheses_contents)"
   ]
  },
  {
   "cell_type": "code",
   "execution_count": 55,
   "id": "6eed62eb-e944-45d3-96da-468a3719344d",
   "metadata": {
    "scrolled": true
   },
   "outputs": [
    {
     "name": "stdout",
     "output_type": "stream",
     "text": [
      "텍스트 추출: Sample HTML for Regex\n",
      "텍스트 추출: Sample HTML Document\n",
      "텍스트 추출: This is a sample HTML document to demonstrate various regex patterns.\n",
      "텍스트 추출: Contact Information\n",
      "텍스트 추출: Email: test@example.com\n",
      "텍스트 추출: Email: hello@world.net\n",
      "텍스트 추출: Phone: (123) 456-7890\n",
      "텍스트 추출: Phone: 987-654-3210\n",
      "텍스트 추출: Products\n",
      "텍스트 추출: Product 1\n",
      "텍스트 추출: Price: $19.99\n",
      "텍스트 추출: Description: A great product for everyone!\n",
      "텍스트 추출: Product 2\n",
      "텍스트 추출: Price: $29.99\n",
      "텍스트 추출: Description: Another fantastic product!\n",
      "텍스트 추출: Links\n",
      "텍스트 추출: Visit\n",
      "텍스트 추출: Example\n",
      "텍스트 추출: or\n",
      "텍스트 추출: Test\n",
      "텍스트 추출: List of Items\n",
      "텍스트 추출: Text with Special Characters\n",
      "텍스트 추출: Special characters: @#$%^&*()_+[]{}|;':\",.\n",
      "텍스트 추출: Comments\n",
      "텍스트 추출: Some more text here.\n",
      "텍스트 추출: Footer\n"
     ]
    }
   ],
   "source": [
    "#모든 텍스트 추출\n",
    "# all_text = soup.get_text()\n",
    "# print(\"모든 텍스트 추출:\",all_text)\n",
    "\n",
    "all_text=r'>\\s*(\\w+.*?)\\s*<'\n",
    "for text in re.finditer(all_text,html_content):\n",
    "    print(\"텍스트 추출:\", text.group(1))"
   ]
  },
  {
   "cell_type": "code",
   "execution_count": 149,
   "id": "f66ca8df-0e08-4928-bdc2-8bea4ad5187a",
   "metadata": {},
   "outputs": [
    {
     "name": "stdout",
     "output_type": "stream",
     "text": [
      "제품 이름:\n",
      "Product 1\n",
      "Product 2\n"
     ]
    }
   ],
   "source": [
    "#제품 이름 추출\n",
    "product_names = [product.h3.get_text() for product in soup.find_all('div', class_='product')]\n",
    "print(\"제품 이름:\")\n",
    "for name in product_names:\n",
    "    print(name)"
   ]
  },
  {
   "cell_type": "code",
   "execution_count": 65,
   "id": "8261a4bd-5fe6-45f6-ae68-6283b34596a0",
   "metadata": {},
   "outputs": [
    {
     "name": "stdout",
     "output_type": "stream",
     "text": [
      "\n",
      "제품 가격:\n",
      "Price: $19.99\n",
      "Price: $29.99\n"
     ]
    }
   ],
   "source": [
    "# 제품 가격 추출\n",
    "prices = [price.get_text() for price in soup.find_all('p', string=lambda text: text and text.startswith('Price:'))]\n",
    "print(\"\\n제품 가격:\")\n",
    "for price in prices:\n",
    "    print(price)\n",
    "\n",
    "# price_pattern=r'Price:\\s*\\$(\\d+\\.\\d{2})'\n",
    "# prices=re.findall(price_pattern,html_content)\n",
    "# print(\"제품 가격 추출:\", prices)"
   ]
  },
  {
   "cell_type": "code",
   "execution_count": 77,
   "id": "de6c3047-7284-40a1-957f-3234127e1728",
   "metadata": {},
   "outputs": [
    {
     "name": "stdout",
     "output_type": "stream",
     "text": [
      "Footer내용 추출: &copy; 2023 Sample Company. All rights reserved.\n",
      "['&copy; 2023 Sample Company. All rights reserved.']\n",
      "<footer>\n",
      "        <p>&copy; 2023 Sample Company. All rights reserved.</p>\n",
      "    </footer>\n"
     ]
    }
   ],
   "source": [
    "# Footer 내용 추출\n",
    "# footer_content = soup.find('footer').get_text(strip=True)\n",
    "# print(\"\\nFooter 내용:\")\n",
    "# print(footer_content)\n",
    "\n",
    "footer_pattern=r'<footer>.*<p>(.*?)</p>.*</footer>'\n",
    "for content in re.finditer(footer_pattern,html_content,flags=re.DOTALL):\n",
    "    print(\"Footer내용 추출:\", content.group(1).strip())\n",
    "    \n",
    "footer_contents=re.findall(footer_pattern,html_content,flags=re.DOTALL)\n",
    "print(footer_contents)\n",
    "\n",
    "match=re.search(footer_pattern,html_content,flags=re.DOTALL)\n",
    "print(match.group())"
   ]
  },
  {
   "cell_type": "code",
   "execution_count": 87,
   "id": "c2bfbbca-30ce-4b14-a883-19c58a770542",
   "metadata": {},
   "outputs": [
    {
     "name": "stdout",
     "output_type": "stream",
     "text": [
      "모든 링크 텍스트: ['Example', 'Test']\n"
     ]
    }
   ],
   "source": [
    "#모든 링크의 텍스트 추출(링크 텍스트)\n",
    "# link_texts = [link.get_text() for link in soup.find_all('a')]\n",
    "# print(\"모든 링크 텍스트:\")\n",
    "# for text in link_texts:\n",
    "#     print(text)\n",
    "\n",
    "link_pattern=r'<a href=\"[^\"]*\">(.*?)</a>'\n",
    "link_text=re.findall(link_pattern,html_content)\n",
    "print(\"모든 링크 텍스트:\",link_text)"
   ]
  },
  {
   "cell_type": "code",
   "execution_count": 99,
   "id": "5555dd00-197d-419a-8ea4-cd62d354c449",
   "metadata": {},
   "outputs": [
    {
     "name": "stdout",
     "output_type": "stream",
     "text": [
      "모든 li 요소의 내용: ['Email: test@example.com', 'Email: hello@world.net', 'Phone: (123) 456-7890', 'Phone: 987-654-3210', '(Apple)', '(Banana)', '(Orange)', '(Grapes)']\n"
     ]
    }
   ],
   "source": [
    "# # 모든 li 요소의 내용 추출\n",
    "# list_items = [li.get_text() for li in soup.find_all('li')]\n",
    "# print(\"\\n모든 li 요소의 내용:\")\n",
    "# for item in list_items:\n",
    "#     print(item)\n",
    "\n",
    "list_pattern=r'<li>(.*?)</li>'\n",
    "list_items=re.findall(list_pattern,html_content)\n",
    "print(\"모든 li 요소의 내용:\", list_items)"
   ]
  },
  {
   "cell_type": "code",
   "execution_count": 107,
   "id": "c4a5db41-5fd2-4834-9a46-e442341742b8",
   "metadata": {},
   "outputs": [
    {
     "name": "stdout",
     "output_type": "stream",
     "text": [
      "특정 단어 찾기: ['product', 'product', 'product', 'product']\n"
     ]
    }
   ],
   "source": [
    "# 특정 단어 찾기 (예: \"Price\")\n",
    "# price_keywords = [text for text in soup.stripped_strings if 'Price' in text]\n",
    "# print(\"\\n특정 단어(Price) 찾기:\")\n",
    "# for keyword in price_keywords:\n",
    "#     print(keyword)\n",
    "\n",
    "word_pattern=r'\\bproduct\\b'\n",
    "found_words=re.findall(word_pattern,html_content)\n",
    "print(\"특정 단어 찾기:\", found_words)"
   ]
  },
  {
   "cell_type": "code",
   "execution_count": 117,
   "id": "cd7e8170-2cd0-4fa7-8051-1ad8cfc1ea9e",
   "metadata": {},
   "outputs": [
    {
     "name": "stdout",
     "output_type": "stream",
     "text": [
      "특정 CSS 요소 추출:  <h3>Product 1</h3>\n",
      "        <p>Price: $19.99</p>\n",
      "        <p>Description: A great product for everyone!</p>\n",
      "특정 CSS 요소 추출:  <h3>Product 2</h3>\n",
      "        <p>Price: $29.99</p>\n",
      "        <p>Description: Another fantastic product!</p>\n"
     ]
    }
   ],
   "source": [
    "# 특정 CSS 클래스의 요소 추출 (class: 'product')\n",
    "# products = [product.get_text() for product in soup.find_all(class_='product')]\n",
    "# print(\"\\n특정 CSS 클래스('product')의 요소 추출:\")\n",
    "# for product in products:\n",
    "#     print(product)\n",
    "\n",
    "product_pattern=r'<div class=\"product\">(.*?)</div>'   #태그까지 가져옴\n",
    "for product in re.finditer(product_pattern,html_content,flags=re.DOTALL):\n",
    "    print(\"특정 CSS 요소 추출: \", product.group(1).strip())"
   ]
  },
  {
   "cell_type": "code",
   "execution_count": 121,
   "id": "fa9256bb-8678-439d-bfc0-c0ab3173f422",
   "metadata": {},
   "outputs": [
    {
     "name": "stdout",
     "output_type": "stream",
     "text": [
      "모든 헤더 추출: ['Sample HTML Document', 'Contact Information', 'Products', 'Product 1', 'Product 2', 'Links', 'List of Items', 'Text with Special Characters', 'Comments', 'Footer']\n"
     ]
    }
   ],
   "source": [
    "# 모든 헤더(헤더 태그: h1, h2, h3 등) 추출\n",
    "# headers = [header.get_text() for header in soup.find_all(['h1', 'h2', 'h3', 'h4', 'h5', 'h6'])]\n",
    "# print(\"모든 헤더 텍스트:\")\n",
    "# for header in headers:\n",
    "#     print(header)\n",
    "\n",
    "header_pattern=r'<h[1-6]>(.*?)</h[1-6]>'\n",
    "headers=re.findall(header_pattern,html_content)\n",
    "print(\"모든 헤더 추출:\", headers)"
   ]
  },
  {
   "cell_type": "code",
   "execution_count": 125,
   "id": "a45a1230-905e-4c2e-a43c-4c536b198027",
   "metadata": {},
   "outputs": [
    {
     "name": "stdout",
     "output_type": "stream",
     "text": [
      "모든 p 요소 텍스트 추출: ['This is a sample HTML document to demonstrate various regex patterns.', 'Price: $19.99', 'Description: A great product for everyone!', 'Price: $29.99', 'Description: Another fantastic product!', 'Visit <a href=\"https://example.com\">Example</a> or <a href=\"http://test.com\">Test</a>!', 'Special characters: @#$%^&*()_+[]{}|;\\':\",.<>?/~`', 'Some more text here.', '&copy; 2023 Sample Company. All rights reserved.']\n"
     ]
    }
   ],
   "source": [
    "#  <p> 요소 안의 텍스트 추출 (단락)\n",
    "# paragraphs = [p.get_text() for p in soup.find_all('p')]\n",
    "# print(\"\\n모든 p 요소 안의 텍스트:\")\n",
    "# for paragraph in paragraphs:\n",
    "#     print(paragraph)\n",
    "\n",
    "p_pattern=r'<p>(.*?)</p>'\n",
    "p=re.findall(p_pattern,html_content,flags=re.DOTALL)\n",
    "print(\"모든 p 요소 텍스트 추출:\", p)"
   ]
  },
  {
   "cell_type": "code",
   "execution_count": 135,
   "id": "ee252a7f-5ff0-4319-8102-9b246874502d",
   "metadata": {},
   "outputs": [
    {
     "name": "stdout",
     "output_type": "stream",
     "text": [
      "특정 키워드가 포함된 li요소: ['<li>(Banana)</li>']\n"
     ]
    }
   ],
   "source": [
    "#  특정 키워드가 포함된 li 요소 찾기 (키워드: Banana)\n",
    "keyword = \"Banana\"\n",
    "\n",
    "# keyword_items = [li.get_text() for li in soup.find_all('li') if keyword in li.get_text()]\n",
    "# print(f\"\\n키워드 '{keyword}'가 포함된 li 요소:\")\n",
    "# for item in keyword_items:\n",
    "#     print(item)\n",
    "\n",
    "keyword_pattern=rf'<li>.*?{keyword}.*?</li>'\n",
    "keyword_items=re.findall(keyword_pattern,html_content)\n",
    "print(\"특정 키워드가 포함된 li요소:\", keyword_items)"
   ]
  },
  {
   "cell_type": "code",
   "execution_count": 169,
   "id": "f7e86b7e-e6ee-47e8-8413-4aa4ca6b26d5",
   "metadata": {},
   "outputs": [
    {
     "name": "stdout",
     "output_type": "stream",
     "text": [
      "특정 가격 이상인 제품 찾기: ['Product 2']\n"
     ]
    }
   ],
   "source": [
    "#  특정 가격 이상인 제품 찾기 (가격 20.00 이상)\n",
    "# products_above_20 = []\n",
    "# for product in soup.find_all('div', class_='product'):\n",
    "#     price = product.find('p', string=lambda text: text and text.startswith('Price:'))\n",
    "#     if price:\n",
    "#         price_value = float(price.get_text().split('$')[1])\n",
    "#         if price_value >= 20.00:\n",
    "#             products_above_20.append(product.h3.get_text())  # 제품 이름\n",
    "# print(\"\\n가격 20.00 이상인 제품:\")\n",
    "# for product in products_above_20:\n",
    "#     print(product)\n",
    "\n",
    "\n",
    "threshold_price=20.00\n",
    "# for price in re.findall(price_pattern, html_content):\n",
    "#     print(price)\n",
    "price_pattern=r'\\$\\d+\\.\\d{2}'\n",
    "price_values=[float(price[1:]) for price in re.findall(price_pattern, html_content)]\n",
    "# print(price_values)\n",
    "product_names = [product.h3.get_text() for product in soup.find_all('div', class_='product')]\n",
    "my_product=[product_names[i] for i in range(len(product_names)) if price_values[i]>threshold_price]\n",
    "print(\"특정 가격 이상인 제품 찾기:\", my_product)"
   ]
  },
  {
   "cell_type": "code",
   "execution_count": 173,
   "id": "1773013a-b328-4963-9018-c470a23b4f86",
   "metadata": {
    "scrolled": true
   },
   "outputs": [
    {
     "name": "stdout",
     "output_type": "stream",
     "text": [
      "HTML에서 텍스트 대체: <!DOCTYPE html>\n",
      "<html lang=\"en\">\n",
      "<head>\n",
      "    <meta charset=\"UTF-8\">\n",
      "    <meta name=\"viewport\" content=\"width=device-width, initial-scale=1.0\">\n",
      "    <title>Sample HTML for Regex</title>\n",
      "</head>\n",
      "<body>\n",
      "    <h1>Updated HTML Document</h1>\n",
      "    <p>This is a sample HTML document to demonstrate various regex patterns.</p>\n",
      "    \n",
      "    <h2>Contact Information</h2>\n",
      "    <ul>\n",
      "        <li>Email: test@example.com</li>\n",
      "        <li>Email: hello@world.net</li>\n",
      "        <li>Phone: (123) 456-7890</li>\n",
      "        <li>Phone: 987-654-3210</li>\n",
      "    </ul>\n",
      "    \n",
      "    <h2>Products</h2>\n",
      "    <div class=\"product\">\n",
      "        <h3>Product 1</h3>\n",
      "        <p>Price: $19.99</p>\n",
      "        <p>Description: A great product for everyone!</p>\n",
      "    </div>\n",
      "    <div class=\"product\">\n",
      "        <h3>Product 2</h3>\n",
      "        <p>Price: $29.99</p>\n",
      "        <p>Description: Another fantastic product!</p>\n",
      "    </div>\n",
      "    \n",
      "    <h2>Links</h2>\n",
      "    <p>Visit <a href=\"https://example.com\">Example</a> or <a href=\"http://test.com\">Test</a>!</p>\n",
      "    \n",
      "    <h2>List of Items</h2>\n",
      "    <ul>\n",
      "        <li>(Apple)</li>\n",
      "        <li>(Banana)</li>\n",
      "        <li>(Orange)</li>\n",
      "        <li>(Grapes)</li>\n",
      "    </ul>\n",
      "\n",
      "    <h2>Text with Special Characters</h2>\n",
      "    <p>Special characters: @#$%^&*()_+[]{}|;':\",.<>?/~`</p>\n",
      "\n",
      "    <h2>Comments</h2>\n",
      "    <div>\n",
      "        <!-- This is a comment -->\n",
      "        <p>Some more text here.</p>\n",
      "    </div>\n",
      "\n",
      "    <h2>Footer</h2>\n",
      "    <footer>\n",
      "        <p>&copy; 2023 Sample Company. All rights reserved.</p>\n",
      "    </footer>\n",
      "</body>\n",
      "</html>\n",
      "\n",
      "\n"
     ]
    }
   ],
   "source": [
    "#  HTML에서 특정 텍스트를 대체하기 (텍스트: Sample HTML Document)\n",
    "# new_html = soup.prettify().replace(\"Sample HTML Document\", \"Updated HTML Document\")\n",
    "# print(\"\\nHTML에서 텍스트 대체:\")\n",
    "# print(new_html)\n",
    "\n",
    "modified_html=re.sub(r'Sample HTML Document','Updated HTML Document',html_content)\n",
    "print(\"HTML에서 텍스트 대체:\",modified_html)"
   ]
  },
  {
   "cell_type": "markdown",
   "id": "77e292d7-53d4-4404-9541-b9902ab7a17f",
   "metadata": {},
   "source": [
    "### re.match():문자열의 시작에서 패턴과 일치하는 부분"
   ]
  },
  {
   "cell_type": "code",
   "execution_count": 196,
   "id": "1e1e6055-750a-4691-9e9f-3faa5cd783aa",
   "metadata": {},
   "outputs": [
    {
     "name": "stdout",
     "output_type": "stream",
     "text": [
      "True\n"
     ]
    }
   ],
   "source": [
    "#올바른 한국 휴대폰 번호 형식인지(010으로 시작)\n",
    "import re\n",
    "phone=\"010-1234-5678\"\n",
    "phone_pattern=r\"^010-\\d{3,4}-\\d{4}$\"\n",
    "result=re.match(phone_pattern,phone)\n",
    "print(bool(result))"
   ]
  },
  {
   "cell_type": "code",
   "execution_count": 234,
   "id": "72a07b25-6652-4262-be69-7d5bf01dc925",
   "metadata": {},
   "outputs": [
    {
     "name": "stdout",
     "output_type": "stream",
     "text": [
      "True\n"
     ]
    }
   ],
   "source": [
    "#이름이 영문 대문자로 시작하고 2-10글자인지 검사\n",
    "import re\n",
    "name=\"John\"\n",
    "pattern=r\"^[A-Z][\\w]{1,9}\"   #맨앞 대문자 포함이라 1,9임\n",
    "result=re.match(pattern,name)\n",
    "print(bool(result))"
   ]
  },
  {
   "cell_type": "code",
   "execution_count": 246,
   "id": "6396dffc-55d8-41b8-b071-2ff241d82145",
   "metadata": {},
   "outputs": [
    {
     "name": "stdout",
     "output_type": "stream",
     "text": [
      "True\n"
     ]
    }
   ],
   "source": [
    "#올바른 주민번호 형식인지 검사\n",
    "ssn=\"901230-1234567\"\n",
    "pattern=r'^\\d{6}-[1-4]\\d{6}$'\n",
    "result=re.match(pattern,ssn)\n",
    "print(bool(result))"
   ]
  },
  {
   "cell_type": "code",
   "execution_count": 250,
   "id": "635d131a-30be-45b9-8ee5-0e415e4a4d67",
   "metadata": {},
   "outputs": [
    {
     "name": "stdout",
     "output_type": "stream",
     "text": [
      "True\n"
     ]
    }
   ],
   "source": [
    "#올바른 우편번호 형식인지\n",
    "postal=\"12345\"\n",
    "result=re.match(r'^\\d{5}$',postal)\n",
    "print(bool(result))"
   ]
  },
  {
   "cell_type": "code",
   "execution_count": 252,
   "id": "713b03e0-1309-4257-91b3-9e18bd9b316b",
   "metadata": {},
   "outputs": [
    {
     "name": "stdout",
     "output_type": "stream",
     "text": [
      "True\n"
     ]
    }
   ],
   "source": [
    "# 연도가 2000-2099인지\n",
    "year=\"2024\"\n",
    "result=re.match(r'^20\\d{2}$',year)\n",
    "print(bool(result))"
   ]
  },
  {
   "cell_type": "markdown",
   "id": "9cc4689c-c336-43c0-830f-3a9b1621471f",
   "metadata": {},
   "source": [
    "### re.search():문자열 전체에서 패턴과 일치하는 첫 번째 부분"
   ]
  },
  {
   "cell_type": "code",
   "execution_count": 258,
   "id": "81835763-2799-4894-bfdb-8f9e02e4beab",
   "metadata": {},
   "outputs": [
    {
     "name": "stdout",
     "output_type": "stream",
     "text": [
      "True\n"
     ]
    }
   ],
   "source": [
    "#문자열에 이메일 주소가 포함되어있는지\n",
    "text=\"연락처: user@example.com입니다.\"\n",
    "result=re.search(r'[\\w\\.\\-]+@[\\w]+\\.[\\w]+',text)\n",
    "print(bool(result))"
   ]
  },
  {
   "cell_type": "code",
   "execution_count": 260,
   "id": "0cb61c3c-1267-4fd3-bb40-10d79aae9fe1",
   "metadata": {},
   "outputs": [
    {
     "name": "stdout",
     "output_type": "stream",
     "text": [
      "True\n",
      "https://www.example.com입니다\n"
     ]
    }
   ],
   "source": [
    "#URL이 포함되어 있는지 검사\n",
    "text=\"웹사이트: https://www.example.com입니다.\"\n",
    "result=re.search(r'https?://[\\w\\.-]+\\.\\w+',text)\n",
    "print(bool(result))\n",
    "print(result.group())"
   ]
  },
  {
   "cell_type": "code",
   "execution_count": 262,
   "id": "0e2629ca-988c-4a5e-8ee7-5ce2a382966c",
   "metadata": {},
   "outputs": [
    {
     "name": "stdout",
     "output_type": "stream",
     "text": [
      "True\n"
     ]
    }
   ],
   "source": [
    "#산용카드 번호가 포함되어 있는지 검사\n",
    "text=\"카드번호는 1234-5678-9012-3456입니다\"\n",
    "result=re.search(r'\\d{4}-\\d{4}-\\d{4}-\\d{4}',text)\n",
    "print(bool(result))"
   ]
  },
  {
   "cell_type": "code",
   "execution_count": 278,
   "id": "a40d0caf-320b-471a-b0a8-e80e7f9ed2cb",
   "metadata": {},
   "outputs": [
    {
     "name": "stdout",
     "output_type": "stream",
     "text": [
      "True\n"
     ]
    }
   ],
   "source": [
    "#IPv4주소가 포함되어 있는지 검사\n",
    "text=\"IP주소: 192.168.0.1입니다.\"\n",
    "result = re.search(r'\\d{1,3}\\.\\d{1,3}\\.\\d{1,3}\\.\\d{1,3}(?!\\d)', text)\n",
    "print(bool(result))"
   ]
  },
  {
   "cell_type": "code",
   "execution_count": 280,
   "id": "65e9f465-a9d1-4539-8c78-77c9596b604e",
   "metadata": {},
   "outputs": [
    {
     "name": "stdout",
     "output_type": "stream",
     "text": [
      "True\n"
     ]
    }
   ],
   "source": [
    "#시간형식(HH:MM:SS)이 포함되어 있는지 검사\n",
    "text=\"현재 시각은 14:20:45입니다.\"\n",
    "result = re.search(r'[01]?\\d:[0-5]?\\d:[0-5]?\\d', text)\n",
    "print(bool(result))"
   ]
  },
  {
   "cell_type": "markdown",
   "id": "93e87adb-d178-48d9-8cc7-8ec22432185c",
   "metadata": {},
   "source": [
    "### re.findall():문자열에서 정규식 패턴과 일치하는 모든 부분찾아 리스트 반환"
   ]
  },
  {
   "cell_type": "code",
   "execution_count": 283,
   "id": "2d816e95-6629-4cb0-a5a2-0ba89feb8f2b",
   "metadata": {},
   "outputs": [
    {
     "name": "stdout",
     "output_type": "stream",
     "text": [
      "['example.com', 'example.com']\n"
     ]
    }
   ],
   "source": [
    "#문자열에서 모든 이메일 주소 추출\n",
    "text=\"연락처: user1@example.com, user2@example.com\"\n",
    "emails=re.findall(r'[\\w\\.-]+@([\\w\\.-]+\\.\\w+)',text)\n",
    "print(emails)"
   ]
  },
  {
   "cell_type": "code",
   "execution_count": 285,
   "id": "db877104-5b67-4120-808f-939a28f172f6",
   "metadata": {},
   "outputs": [
    {
     "name": "stdout",
     "output_type": "stream",
     "text": [
      "['맑음', '화창', '좋아요']\n"
     ]
    }
   ],
   "source": [
    "#모든 해시태크 추출\n",
    "text=\"오늘 날씨 #맑음 #화창 #좋아요\"\n",
    "tag=re.findall(r'#(\\w+)',text)\n",
    "print(tag)"
   ]
  },
  {
   "cell_type": "code",
   "execution_count": 293,
   "id": "b502be68-72f3-424b-9056-5dcc9d83f434",
   "metadata": {},
   "outputs": [
    {
     "name": "stdout",
     "output_type": "stream",
     "text": [
      "[1000, 2500]\n"
     ]
    }
   ],
   "source": [
    "#모든 금액(숫자+원) 추출\n",
    "text=\"상품가:1000원, 배송비:2500원\"\n",
    "# price=re.findall(r'(\\d+)원',text)\n",
    "price=[int(price) for price in re.findall(r'(\\d+)원',text)]\n",
    "print(price)"
   ]
  },
  {
   "cell_type": "code",
   "execution_count": 315,
   "id": "6fe86429-f7fc-4475-9dbf-816b9a1934b4",
   "metadata": {},
   "outputs": [
    {
     "name": "stdout",
     "output_type": "stream",
     "text": [
      "['<div>첫번째</div>', '<p>두번째</p>']\n"
     ]
    }
   ],
   "source": [
    "#HTML 태그 내용 추출\n",
    "text=\"<div>첫번째</div><p>두번째</p>\"\n",
    "htmltag=re.findall(r'<\\w+>.*?</\\w+>',text)\n",
    "print(htmltag)"
   ]
  },
  {
   "cell_type": "code",
   "execution_count": 317,
   "id": "4ffa420c-4246-41c7-ae26-af447c6ddc4b",
   "metadata": {},
   "outputs": [
    {
     "name": "stdout",
     "output_type": "stream",
     "text": [
      "[('2024', '01', '01'), ('2024', '12', '31')]\n"
     ]
    }
   ],
   "source": [
    "#날짜형식(YYYY-MM-DD)형식 추출\n",
    "text=\"시작일: 2024-01-01, 종료일: 2024-12-31\"\n",
    "dates=re.findall(r'(\\d{4})-(\\d{2})-(\\d{2})',text)\n",
    "print(dates)"
   ]
  },
  {
   "cell_type": "markdown",
   "id": "375843cb-732a-40fa-9930-b5cf2f0d324f",
   "metadata": {},
   "source": [
    "### re.finditer()\n",
    "#### 정규식과 매치되는 모든 문자열을 반복가능한 객체로 리턴\n",
    "#### group:매치된 문자열 전체 리턴\n",
    "#### start:시작위치 리턴\n",
    "#### span:매치된 문자열의 (시작,끝)에 해당하는 튜플 리턴"
   ]
  },
  {
   "cell_type": "code",
   "execution_count": 323,
   "id": "89dc265e-ccfd-480c-a203-1fa56bd82c94",
   "metadata": {},
   "outputs": [
    {
     "name": "stdout",
     "output_type": "stream",
     "text": [
      "단어: Python, 위치:(0, 6)\n",
      "단어: is, 위치:(7, 9)\n",
      "단어: a, 위치:(10, 11)\n",
      "단어: programming, 위치:(12, 23)\n",
      "단어: language, 위치:(24, 32)\n"
     ]
    }
   ],
   "source": [
    "#모든 단어와 그 위치 찾기\n",
    "text=\"Python is a programming language\"\n",
    "\n",
    "for match in re.finditer(r'\\w+',text, re.ASCII):\n",
    "    print(f\"단어: {match.group()}, 위치:{match.span()}\")"
   ]
  },
  {
   "cell_type": "code",
   "execution_count": 338,
   "id": "ac451559-40a4-42de-9680-67c316df7c12",
   "metadata": {},
   "outputs": [
    {
     "name": "stdout",
     "output_type": "stream",
     "text": [
      "숫자: 100, 시작:4, 종료:7\n",
      "숫자: 200, 시작:13, 종료:16\n",
      "숫자: 300, 시작:22, 종료:25\n"
     ]
    }
   ],
   "source": [
    "#모든 숫자와 위치 찾기\n",
    "text=\"값1: 100, 값2: 200, 값3: 300\"\n",
    "\n",
    "for match in re.finditer(r'\\b\\d+\\b',text):\n",
    "    print(f\"숫자: {match.group()}, 시작:{match.start()}, 종료:{match.end()}\")"
   ]
  },
  {
   "cell_type": "code",
   "execution_count": 344,
   "id": "a5e09f01-5fe6-4ef1-9f04-95208f96c94e",
   "metadata": {},
   "outputs": [
    {
     "name": "stdout",
     "output_type": "stream",
     "text": [
      "전체: user@example.com\n",
      "아이디: user\n",
      "도메인: example.com\n",
      "전체: admin@example.com\n",
      "아이디: admin\n",
      "도메인: example.com\n"
     ]
    }
   ],
   "source": [
    "#이메일 주소와 도메인 추출\n",
    "text=\"이메일: user@example.com, admin@example.com\"\n",
    "\n",
    "for match in re.finditer(r'([\\w\\.-]+)@([\\w\\.-]+\\.\\w+)',text):\n",
    "    print(f\"전체: {match.group()}\")\n",
    "    print(f\"아이디: {match.group(1)}\")\n",
    "    print(f\"도메인: {match.group(2)}\")"
   ]
  },
  {
   "cell_type": "code",
   "execution_count": 354,
   "id": "b11c749f-33e4-4f34-bb11-a5a5b03d829d",
   "metadata": {},
   "outputs": [
    {
     "name": "stdout",
     "output_type": "stream",
     "text": [
      "전체: <div>내용1</div>\n",
      "태그: div\n",
      "태그 텍스트: 내용1\n",
      "전체: <p>내용2</p>\n",
      "태그: p\n",
      "태그 텍스트: 내용2\n"
     ]
    }
   ],
   "source": [
    "# HTML태그와 내용 분석\n",
    "text=\"<div>내용1</div><p>내용2</p>\"\n",
    "for match in re.finditer(r'<(\\w+)>(.*?)</\\1>', text):\n",
    "    print(f\"전체: {match.group()}\")\n",
    "    print(f\"태그: {match.group(1)}\")\n",
    "    print(f\"태그 텍스트: {match.group(2)}\")"
   ]
  },
  {
   "cell_type": "code",
   "execution_count": 370,
   "id": "9db1e99f-8f9e-430f-bb2a-3757b70b6e55",
   "metadata": {},
   "outputs": [
    {
     "name": "stdout",
     "output_type": "stream",
     "text": [
      "전체: 10:00:00 로그인\n",
      "시간: 10:00:00\n",
      "이벤트: 로그인\n",
      "전체: 10:30:00 로그아웃\n",
      "시간: 10:30:00\n",
      "이벤트: 로그아웃\n"
     ]
    }
   ],
   "source": [
    "#시간 로그 분석\n",
    "text=\"10:00:00 로그인, 10:30:00 로그아웃\"\n",
    "for match in re.finditer(r'([01]?\\d:[0-5]?\\d:[0-5]?\\d)\\s*(\\w+)',text):\n",
    "    print(f\"전체: {match.group()}\")\n",
    "    print(f\"시간: {match.group(1)}\")\n",
    "    print(f\"이벤트: {match.group(2)}\")"
   ]
  },
  {
   "cell_type": "markdown",
   "id": "153aec87-690a-4fea-a831-a8ea72aac389",
   "metadata": {},
   "source": [
    "### re.sub()\n",
    "- 문자열에서 정규식 패턴과 일치하는 부분을 다른 문자열로 대체\n",
    "- re.sub(pattern,replacement,strings)"
   ]
  },
  {
   "cell_type": "code",
   "execution_count": 382,
   "id": "c42f14a1-a132-4049-86cc-31e0e999d2a7",
   "metadata": {},
   "outputs": [
    {
     "name": "stdout",
     "output_type": "stream",
     "text": [
      "연락처: 010-1234-****\n"
     ]
    }
   ],
   "source": [
    "#전화번호 마스킹(뒤 4자리를 ****으로 변경)\n",
    "text=\"연락처: 010-1234-5678\"\n",
    "pattern=r\"(\\d{3}-\\d{3,4}-)\\d{4}\"\n",
    "replacement=r'\\1****'\n",
    "masked=re.sub(pattern,replacement,text)\n",
    "print(masked)"
   ]
  },
  {
   "cell_type": "code",
   "execution_count": 428,
   "id": "89899d26-2819-42f4-ab2b-f7c802b79b26",
   "metadata": {},
   "outputs": [
    {
     "name": "stdout",
     "output_type": "stream",
     "text": [
      "이메일: u******@example.com\n"
     ]
    }
   ],
   "source": [
    "#이메일 주소 마스킹(사용자명 일부를 *로 변경)\n",
    "text=\"이메일: user1234@example.com\"\n",
    "masked = re.sub(r'(\\w)(\\w+)(@[\\w\\.-]+\\.\\w+)', r'\\1******\\3', text)\n",
    "print(masked)"
   ]
  },
  {
   "cell_type": "code",
   "execution_count": 432,
   "id": "765e4f44-4476-42b1-9582-6b79add75cea",
   "metadata": {},
   "outputs": [
    {
     "name": "stdout",
     "output_type": "stream",
     "text": [
      "내용입니다문단입니다\n"
     ]
    }
   ],
   "source": [
    "#HTML 태그 제거\n",
    "text=\"<div>내용입니다</div><p>문단입니다</p>\"\n",
    "cleaned=re.sub(r'<[^>]+>','',text)\n",
    "print(cleaned)"
   ]
  },
  {
   "cell_type": "code",
   "execution_count": 440,
   "id": "2e4b8d3a-b2d4-4dd4-be8b-082286a0e86d",
   "metadata": {},
   "outputs": [
    {
     "name": "stdout",
     "output_type": "stream",
     "text": [
      "사이트: https://example.com입니다.\n"
     ]
    }
   ],
   "source": [
    "#URL을 클릭 가능한 링크로 변경\n",
    "text=\"사이트: https://example.com입니다.\"\n",
    "linked=re.sub(r'(http?://[\\w\\.-]+\\.\\w+)',r'<a href=\"\\1\">\\1</a>',text)\n",
    "print(linked)"
   ]
  },
  {
   "cell_type": "code",
   "execution_count": 442,
   "id": "86102648-a48f-4a57-89ed-fec48b5c3304",
   "metadata": {},
   "outputs": [
    {
     "name": "stdout",
     "output_type": "stream",
     "text": [
      "날짜: 01/01/2024\n"
     ]
    }
   ],
   "source": [
    "#날짜 형식 변경(YYYY-MM-DD -> MM/DD/YYYY)\n",
    "text=\"날짜: 2024-01-01\"\n",
    "date=re.sub(r'(\\d{4})-(\\d{2})-(\\d{2})',r'\\2/\\3/\\1',text)\n",
    "print(date)"
   ]
  },
  {
   "cell_type": "code",
   "execution_count": 444,
   "id": "3ad371da-6405-47e9-bb2f-7790054e0259",
   "metadata": {},
   "outputs": [
    {
     "name": "stdout",
     "output_type": "stream",
     "text": [
      "주민번호: 901230-1******\n"
     ]
    }
   ],
   "source": [
    "#주민번호\n",
    "text=\"주민번호: 901230-1234567\"\n",
    "num=re.sub(r'(\\d{6})-([1-4])\\d{6}',r'\\1-\\2******',text)\n",
    "print(num)"
   ]
  },
  {
   "cell_type": "code",
   "execution_count": null,
   "id": "41d02674-15c1-41c8-b2ca-bf430739380e",
   "metadata": {},
   "outputs": [],
   "source": []
  }
 ],
 "metadata": {
  "kernelspec": {
   "display_name": "Python 3 (ipykernel)",
   "language": "python",
   "name": "python3"
  },
  "language_info": {
   "codemirror_mode": {
    "name": "ipython",
    "version": 3
   },
   "file_extension": ".py",
   "mimetype": "text/x-python",
   "name": "python",
   "nbconvert_exporter": "python",
   "pygments_lexer": "ipython3",
   "version": "3.12.7"
  }
 },
 "nbformat": 4,
 "nbformat_minor": 5
}
