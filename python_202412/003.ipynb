{
 "cells": [
  {
   "cell_type": "markdown",
   "id": "1341feb6-42d7-43c3-af52-cd89d5ecf21a",
   "metadata": {},
   "source": [
    "### 셀레니움 자동화"
   ]
  },
  {
   "cell_type": "code",
   "execution_count": 2,
   "id": "74a98dcc-e29c-4185-9948-46a3966204d6",
   "metadata": {
    "scrolled": true
   },
   "outputs": [
    {
     "ename": "WebDriverException",
     "evalue": "Message: unknown error: net::ERR_CONNECTION_REFUSED\n  (Session info: chrome=131.0.6778.86)\nStacktrace:\n\tGetHandleVerifier [0x00007FF739B36CF5+28821]\n\t(No symbol) [0x00007FF739AA3880]\n\t(No symbol) [0x00007FF73994578A]\n\t(No symbol) [0x00007FF739942E88]\n\t(No symbol) [0x00007FF739933BF9]\n\t(No symbol) [0x00007FF73993594F]\n\t(No symbol) [0x00007FF739933EBF]\n\t(No symbol) [0x00007FF73993371B]\n\t(No symbol) [0x00007FF73993365A]\n\t(No symbol) [0x00007FF739931274]\n\t(No symbol) [0x00007FF739931B3C]\n\t(No symbol) [0x00007FF73994885A]\n\t(No symbol) [0x00007FF7399E01FE]\n\t(No symbol) [0x00007FF7399BF2FA]\n\t(No symbol) [0x00007FF7399DF412]\n\t(No symbol) [0x00007FF7399BF0A3]\n\t(No symbol) [0x00007FF73998A778]\n\t(No symbol) [0x00007FF73998B8E1]\n\tGetHandleVerifier [0x00007FF739E6FCED+3408013]\n\tGetHandleVerifier [0x00007FF739E8745F+3504127]\n\tGetHandleVerifier [0x00007FF739E7B63D+3455453]\n\tGetHandleVerifier [0x00007FF739BFBDFB+835995]\n\t(No symbol) [0x00007FF739AAEB9F]\n\t(No symbol) [0x00007FF739AAA854]\n\t(No symbol) [0x00007FF739AAA9ED]\n\t(No symbol) [0x00007FF739A9A1D9]\n\tBaseThreadInitThunk [0x00007FFEC3B553E0+16]\n\tRtlUserThreadStart [0x00007FFEC476485B+43]\n",
     "output_type": "error",
     "traceback": [
      "\u001b[1;31m---------------------------------------------------------------------------\u001b[0m",
      "\u001b[1;31mWebDriverException\u001b[0m                        Traceback (most recent call last)",
      "Cell \u001b[1;32mIn[2], line 24\u001b[0m\n\u001b[0;32m     20\u001b[0m driver\u001b[38;5;241m.\u001b[39mimplicitly_wait(\u001b[38;5;241m5\u001b[39m)\n\u001b[0;32m     22\u001b[0m driver\u001b[38;5;241m.\u001b[39mmaximize_window()\n\u001b[1;32m---> 24\u001b[0m driver\u001b[38;5;241m.\u001b[39mget(\u001b[38;5;124m\"\u001b[39m\u001b[38;5;124mhttp://10.0.66.99/auto/login.php\u001b[39m\u001b[38;5;124m\"\u001b[39m)\n\u001b[0;32m     26\u001b[0m \u001b[38;5;28mid\u001b[39m \u001b[38;5;241m=\u001b[39m driver\u001b[38;5;241m.\u001b[39mfind_element(By\u001b[38;5;241m.\u001b[39mCSS_SELECTOR,\u001b[38;5;124m\"\u001b[39m\u001b[38;5;124m#id\u001b[39m\u001b[38;5;124m\"\u001b[39m)\n\u001b[0;32m     27\u001b[0m \u001b[38;5;28mid\u001b[39m\u001b[38;5;241m.\u001b[39mclick()\n",
      "File \u001b[1;32m~\\anaconda3\\Lib\\site-packages\\selenium\\webdriver\\remote\\webdriver.py:393\u001b[0m, in \u001b[0;36mWebDriver.get\u001b[1;34m(self, url)\u001b[0m\n\u001b[0;32m    391\u001b[0m \u001b[38;5;28;01mdef\u001b[39;00m \u001b[38;5;21mget\u001b[39m(\u001b[38;5;28mself\u001b[39m, url: \u001b[38;5;28mstr\u001b[39m) \u001b[38;5;241m-\u001b[39m\u001b[38;5;241m>\u001b[39m \u001b[38;5;28;01mNone\u001b[39;00m:\n\u001b[0;32m    392\u001b[0m \u001b[38;5;250m    \u001b[39m\u001b[38;5;124;03m\"\"\"Loads a web page in the current browser session.\"\"\"\u001b[39;00m\n\u001b[1;32m--> 393\u001b[0m     \u001b[38;5;28mself\u001b[39m\u001b[38;5;241m.\u001b[39mexecute(Command\u001b[38;5;241m.\u001b[39mGET, {\u001b[38;5;124m\"\u001b[39m\u001b[38;5;124murl\u001b[39m\u001b[38;5;124m\"\u001b[39m: url})\n",
      "File \u001b[1;32m~\\anaconda3\\Lib\\site-packages\\selenium\\webdriver\\remote\\webdriver.py:384\u001b[0m, in \u001b[0;36mWebDriver.execute\u001b[1;34m(self, driver_command, params)\u001b[0m\n\u001b[0;32m    382\u001b[0m response \u001b[38;5;241m=\u001b[39m \u001b[38;5;28mself\u001b[39m\u001b[38;5;241m.\u001b[39mcommand_executor\u001b[38;5;241m.\u001b[39mexecute(driver_command, params)\n\u001b[0;32m    383\u001b[0m \u001b[38;5;28;01mif\u001b[39;00m response:\n\u001b[1;32m--> 384\u001b[0m     \u001b[38;5;28mself\u001b[39m\u001b[38;5;241m.\u001b[39merror_handler\u001b[38;5;241m.\u001b[39mcheck_response(response)\n\u001b[0;32m    385\u001b[0m     response[\u001b[38;5;124m\"\u001b[39m\u001b[38;5;124mvalue\u001b[39m\u001b[38;5;124m\"\u001b[39m] \u001b[38;5;241m=\u001b[39m \u001b[38;5;28mself\u001b[39m\u001b[38;5;241m.\u001b[39m_unwrap_value(response\u001b[38;5;241m.\u001b[39mget(\u001b[38;5;124m\"\u001b[39m\u001b[38;5;124mvalue\u001b[39m\u001b[38;5;124m\"\u001b[39m, \u001b[38;5;28;01mNone\u001b[39;00m))\n\u001b[0;32m    386\u001b[0m     \u001b[38;5;28;01mreturn\u001b[39;00m response\n",
      "File \u001b[1;32m~\\anaconda3\\Lib\\site-packages\\selenium\\webdriver\\remote\\errorhandler.py:232\u001b[0m, in \u001b[0;36mErrorHandler.check_response\u001b[1;34m(self, response)\u001b[0m\n\u001b[0;32m    230\u001b[0m         alert_text \u001b[38;5;241m=\u001b[39m value[\u001b[38;5;124m\"\u001b[39m\u001b[38;5;124malert\u001b[39m\u001b[38;5;124m\"\u001b[39m]\u001b[38;5;241m.\u001b[39mget(\u001b[38;5;124m\"\u001b[39m\u001b[38;5;124mtext\u001b[39m\u001b[38;5;124m\"\u001b[39m)\n\u001b[0;32m    231\u001b[0m     \u001b[38;5;28;01mraise\u001b[39;00m exception_class(message, screen, stacktrace, alert_text)  \u001b[38;5;66;03m# type: ignore[call-arg]  # mypy is not smart enough here\u001b[39;00m\n\u001b[1;32m--> 232\u001b[0m \u001b[38;5;28;01mraise\u001b[39;00m exception_class(message, screen, stacktrace)\n",
      "\u001b[1;31mWebDriverException\u001b[0m: Message: unknown error: net::ERR_CONNECTION_REFUSED\n  (Session info: chrome=131.0.6778.86)\nStacktrace:\n\tGetHandleVerifier [0x00007FF739B36CF5+28821]\n\t(No symbol) [0x00007FF739AA3880]\n\t(No symbol) [0x00007FF73994578A]\n\t(No symbol) [0x00007FF739942E88]\n\t(No symbol) [0x00007FF739933BF9]\n\t(No symbol) [0x00007FF73993594F]\n\t(No symbol) [0x00007FF739933EBF]\n\t(No symbol) [0x00007FF73993371B]\n\t(No symbol) [0x00007FF73993365A]\n\t(No symbol) [0x00007FF739931274]\n\t(No symbol) [0x00007FF739931B3C]\n\t(No symbol) [0x00007FF73994885A]\n\t(No symbol) [0x00007FF7399E01FE]\n\t(No symbol) [0x00007FF7399BF2FA]\n\t(No symbol) [0x00007FF7399DF412]\n\t(No symbol) [0x00007FF7399BF0A3]\n\t(No symbol) [0x00007FF73998A778]\n\t(No symbol) [0x00007FF73998B8E1]\n\tGetHandleVerifier [0x00007FF739E6FCED+3408013]\n\tGetHandleVerifier [0x00007FF739E8745F+3504127]\n\tGetHandleVerifier [0x00007FF739E7B63D+3455453]\n\tGetHandleVerifier [0x00007FF739BFBDFB+835995]\n\t(No symbol) [0x00007FF739AAEB9F]\n\t(No symbol) [0x00007FF739AAA854]\n\t(No symbol) [0x00007FF739AAA9ED]\n\t(No symbol) [0x00007FF739A9A1D9]\n\tBaseThreadInitThunk [0x00007FFEC3B553E0+16]\n\tRtlUserThreadStart [0x00007FFEC476485B+43]\n"
     ]
    }
   ],
   "source": [
    "from selenium import webdriver\n",
    "from selenium.webdriver.chrome.service import Service\n",
    "from selenium.webdriver.chrome.options import Options\n",
    "from selenium.webdriver.common.by import By\n",
    "import time\n",
    "import pyautogui\n",
    "import pyperclip\n",
    "\n",
    "chrome_options = Options()\n",
    "\n",
    "# 브라우저 꺼짐 방지\n",
    "chrome_options.add_experimental_option(\"detach\", True)\n",
    "\n",
    "# 불필요한 에러메시지 노출 방지\n",
    "chrome_options.add_experimental_option(\"excludeSwitches\", [\"enable-logging\"])\n",
    "\n",
    "driver = webdriver.Chrome(options = chrome_options)\n",
    "\n",
    "#time.sleep(5)\n",
    "driver.implicitly_wait(5)\n",
    "\n",
    "driver.maximize_window()\n",
    "\n",
    "driver.get(\"http://10.0.66.99/auto/login.php\")\n",
    "\n",
    "id = driver.find_element(By.CSS_SELECTOR,\"#id\")\n",
    "id.click()\n",
    "#id.send_keys(\"홍길동\")\n",
    "pyperclip.copy(\"홍길동\")\n",
    "pyautogui.hotkey(\"ctrl\", \"v\")\n",
    "\n",
    "time.sleep(2)\n",
    "\n",
    "pw = driver.find_element(By.CSS_SELECTOR,\"#password\")\n",
    "pw.click()\n",
    "#pw.send_keys(\"1111\")\n",
    "pyperclip.copy(\"1111\")\n",
    "pyautogui.hotkey(\"ctrl\", \"v\")\n",
    "\n",
    "time.sleep(2)\n",
    "\n",
    "login_btn = driver.find_element(By.CSS_SELECTOR,\"body > form > input[type=submit]:nth-child(7)\")\n",
    "login_btn.click()\n"
   ]
  },
  {
   "cell_type": "code",
   "execution_count": 4,
   "id": "9006b648-d232-4a9a-9ca3-fb75946866f1",
   "metadata": {},
   "outputs": [],
   "source": [
    "from selenium import webdriver\n",
    "from selenium.webdriver.chrome.service import Service\n",
    "from selenium.webdriver.chrome.options import Options\n",
    "from selenium.webdriver.common.by import By\n",
    "import time\n",
    "import pyautogui\n",
    "import pyperclip\n",
    "\n",
    "# 브라우저 꺼짐 방지\n",
    "chrome_options = Options()\n",
    "chrome_options.add_experimental_option(\"detach\", True)\n",
    "\n",
    "# 불필요한 에러메시지 노출 방지\n",
    "chrome_options.add_experimental_option(\"excludeSwitches\", [\"enable-logging\"])\n",
    "\n",
    "driver = webdriver.Chrome(options = chrome_options)\n",
    "\n",
    "driver.implicitly_wait(5) # 웹페이지 로딩 될때까지 5초 wait\n",
    "driver.maximize_window()  # 화면 최대화\n",
    "\n",
    "# 이동하려는 해당 웹페이지 주소\n",
    "driver.get(\"https://nid.naver.com/nidlogin.login?mode=form&url=https://www.naver.com/\")\n",
    "\n",
    "time.sleep(1)\n",
    "# 아이디 입력창\n",
    "id = driver.find_element(By.CSS_SELECTOR, \"#input_item_id\")\n",
    "# 클릭 하도록 설정\n",
    "id.click()\n",
    "# 키보드 입력 설정\n",
    "#id.send_keys(\"네이버 아이디\") # \"네이버 아이디\"에는 본인 네이버 아이디 입력\n",
    "pyperclip.copy(\"네이버 아이디\")\n",
    "pyautogui.hotkey(\"ctrl\", \"v\")\n",
    "\n",
    "time.sleep(2)\n",
    "\n",
    "# 비밀번호 입력창 찾기\n",
    "pw = driver.find_element(By.CSS_SELECTOR, \"#input_item_pw\")\n",
    "# 클릭하도록 설정\n",
    "pw.click()\n",
    "# 키보드 입력 설정\n",
    "#pw.send_keys(\"네이버 비밀번호\") # \"네이버 비밀번호\"에는 본인 네이버 비밀번호 입력\n",
    "pyperclip.copy(\"네이버 비밀번호\")\n",
    "pyautogui.hotkey(\"ctrl\", \"v\")\n",
    "\n",
    "time.sleep(2)\n",
    "\n",
    "# 로그인 버튼 클릭\n",
    "login_btn = driver.find_element(By.CSS_SELECTOR, \"#log\\\\.login\")\n",
    "login_btn.click()"
   ]
  },
  {
   "cell_type": "code",
   "execution_count": null,
   "id": "1a8f88cd-29fb-4c72-91e2-4a4f34a405d4",
   "metadata": {},
   "outputs": [],
   "source": [
    "# windows = driver.window_handles\n",
    "# driver.switch_to.window(windows[-1])"
   ]
  },
  {
   "cell_type": "code",
   "execution_count": null,
   "id": "4336a24d-935d-4aa4-8a10-f18b7c1343f4",
   "metadata": {},
   "outputs": [],
   "source": [
    "# iframe = driver.find_element(By.CSS_SELECTOR,\"\")\n",
    "# driver.switch_to.frame(iframe)"
   ]
  },
  {
   "cell_type": "code",
   "execution_count": null,
   "id": "9f95dfd4-ddb2-4691-82bf-317ed1641761",
   "metadata": {},
   "outputs": [],
   "source": [
    "# driver.switch_to.default_content()"
   ]
  },
  {
   "cell_type": "code",
   "execution_count": 10,
   "id": "bce75879-cd1b-4bde-b57a-98c46b95e6b5",
   "metadata": {},
   "outputs": [],
   "source": [
    "from selenium import webdriver\n",
    "from selenium.webdriver.chrome.service import Service\n",
    "from selenium.webdriver.chrome.options import Options\n",
    "from selenium.webdriver.common.by import By\n",
    "import time\n",
    "import pyautogui \n",
    "import pyperclip"
   ]
  },
  {
   "cell_type": "code",
   "execution_count": 12,
   "id": "3aff5edd-b4fd-4b22-86ff-d7ec145e6679",
   "metadata": {
    "scrolled": true
   },
   "outputs": [
    {
     "ename": "NoSuchElementException",
     "evalue": "Message: no such element: Unable to locate element: {\"method\":\"css selector\",\"selector\":\"li.shortcut_item a\"}\n  (Session info: chrome=131.0.6778.86); For documentation on this error, please visit: https://www.selenium.dev/documentation/webdriver/troubleshooting/errors#no-such-element-exception\nStacktrace:\n\tGetHandleVerifier [0x00007FF739B36CF5+28821]\n\t(No symbol) [0x00007FF739AA3880]\n\t(No symbol) [0x00007FF73994578A]\n\t(No symbol) [0x00007FF7399991BE]\n\t(No symbol) [0x00007FF7399994AC]\n\t(No symbol) [0x00007FF7399E2647]\n\t(No symbol) [0x00007FF7399BF33F]\n\t(No symbol) [0x00007FF7399DF412]\n\t(No symbol) [0x00007FF7399BF0A3]\n\t(No symbol) [0x00007FF73998A778]\n\t(No symbol) [0x00007FF73998B8E1]\n\tGetHandleVerifier [0x00007FF739E6FCED+3408013]\n\tGetHandleVerifier [0x00007FF739E8745F+3504127]\n\tGetHandleVerifier [0x00007FF739E7B63D+3455453]\n\tGetHandleVerifier [0x00007FF739BFBDFB+835995]\n\t(No symbol) [0x00007FF739AAEB9F]\n\t(No symbol) [0x00007FF739AAA854]\n\t(No symbol) [0x00007FF739AAA9ED]\n\t(No symbol) [0x00007FF739A9A1D9]\n\tBaseThreadInitThunk [0x00007FFEC3B553E0+16]\n\tRtlUserThreadStart [0x00007FFEC476485B+43]\n",
     "output_type": "error",
     "traceback": [
      "\u001b[1;31m---------------------------------------------------------------------------\u001b[0m",
      "\u001b[1;31mNoSuchElementException\u001b[0m                    Traceback (most recent call last)",
      "Cell \u001b[1;32mIn[12], line 4\u001b[0m\n\u001b[0;32m      1\u001b[0m time\u001b[38;5;241m.\u001b[39msleep(\u001b[38;5;241m3\u001b[39m)\n\u001b[0;32m      3\u001b[0m \u001b[38;5;66;03m# 메일 버튼 클릭\u001b[39;00m\n\u001b[1;32m----> 4\u001b[0m mail_btn \u001b[38;5;241m=\u001b[39m driver\u001b[38;5;241m.\u001b[39mfind_element(By\u001b[38;5;241m.\u001b[39mCSS_SELECTOR, \u001b[38;5;124m\"\u001b[39m\u001b[38;5;124mli.shortcut_item a\u001b[39m\u001b[38;5;124m\"\u001b[39m)\n\u001b[0;32m      5\u001b[0m mail_btn\u001b[38;5;241m.\u001b[39mclick()\n\u001b[0;32m      7\u001b[0m time\u001b[38;5;241m.\u001b[39msleep(\u001b[38;5;241m2\u001b[39m)\n",
      "File \u001b[1;32m~\\anaconda3\\Lib\\site-packages\\selenium\\webdriver\\remote\\webdriver.py:770\u001b[0m, in \u001b[0;36mWebDriver.find_element\u001b[1;34m(self, by, value)\u001b[0m\n\u001b[0;32m    767\u001b[0m         \u001b[38;5;28;01mraise\u001b[39;00m NoSuchElementException(\u001b[38;5;124mf\u001b[39m\u001b[38;5;124m\"\u001b[39m\u001b[38;5;124mCannot locate relative element with: \u001b[39m\u001b[38;5;132;01m{\u001b[39;00mby\u001b[38;5;241m.\u001b[39mroot\u001b[38;5;132;01m}\u001b[39;00m\u001b[38;5;124m\"\u001b[39m)\n\u001b[0;32m    768\u001b[0m     \u001b[38;5;28;01mreturn\u001b[39;00m elements[\u001b[38;5;241m0\u001b[39m]\n\u001b[1;32m--> 770\u001b[0m \u001b[38;5;28;01mreturn\u001b[39;00m \u001b[38;5;28mself\u001b[39m\u001b[38;5;241m.\u001b[39mexecute(Command\u001b[38;5;241m.\u001b[39mFIND_ELEMENT, {\u001b[38;5;124m\"\u001b[39m\u001b[38;5;124musing\u001b[39m\u001b[38;5;124m\"\u001b[39m: by, \u001b[38;5;124m\"\u001b[39m\u001b[38;5;124mvalue\u001b[39m\u001b[38;5;124m\"\u001b[39m: value})[\u001b[38;5;124m\"\u001b[39m\u001b[38;5;124mvalue\u001b[39m\u001b[38;5;124m\"\u001b[39m]\n",
      "File \u001b[1;32m~\\anaconda3\\Lib\\site-packages\\selenium\\webdriver\\remote\\webdriver.py:384\u001b[0m, in \u001b[0;36mWebDriver.execute\u001b[1;34m(self, driver_command, params)\u001b[0m\n\u001b[0;32m    382\u001b[0m response \u001b[38;5;241m=\u001b[39m \u001b[38;5;28mself\u001b[39m\u001b[38;5;241m.\u001b[39mcommand_executor\u001b[38;5;241m.\u001b[39mexecute(driver_command, params)\n\u001b[0;32m    383\u001b[0m \u001b[38;5;28;01mif\u001b[39;00m response:\n\u001b[1;32m--> 384\u001b[0m     \u001b[38;5;28mself\u001b[39m\u001b[38;5;241m.\u001b[39merror_handler\u001b[38;5;241m.\u001b[39mcheck_response(response)\n\u001b[0;32m    385\u001b[0m     response[\u001b[38;5;124m\"\u001b[39m\u001b[38;5;124mvalue\u001b[39m\u001b[38;5;124m\"\u001b[39m] \u001b[38;5;241m=\u001b[39m \u001b[38;5;28mself\u001b[39m\u001b[38;5;241m.\u001b[39m_unwrap_value(response\u001b[38;5;241m.\u001b[39mget(\u001b[38;5;124m\"\u001b[39m\u001b[38;5;124mvalue\u001b[39m\u001b[38;5;124m\"\u001b[39m, \u001b[38;5;28;01mNone\u001b[39;00m))\n\u001b[0;32m    386\u001b[0m     \u001b[38;5;28;01mreturn\u001b[39;00m response\n",
      "File \u001b[1;32m~\\anaconda3\\Lib\\site-packages\\selenium\\webdriver\\remote\\errorhandler.py:232\u001b[0m, in \u001b[0;36mErrorHandler.check_response\u001b[1;34m(self, response)\u001b[0m\n\u001b[0;32m    230\u001b[0m         alert_text \u001b[38;5;241m=\u001b[39m value[\u001b[38;5;124m\"\u001b[39m\u001b[38;5;124malert\u001b[39m\u001b[38;5;124m\"\u001b[39m]\u001b[38;5;241m.\u001b[39mget(\u001b[38;5;124m\"\u001b[39m\u001b[38;5;124mtext\u001b[39m\u001b[38;5;124m\"\u001b[39m)\n\u001b[0;32m    231\u001b[0m     \u001b[38;5;28;01mraise\u001b[39;00m exception_class(message, screen, stacktrace, alert_text)  \u001b[38;5;66;03m# type: ignore[call-arg]  # mypy is not smart enough here\u001b[39;00m\n\u001b[1;32m--> 232\u001b[0m \u001b[38;5;28;01mraise\u001b[39;00m exception_class(message, screen, stacktrace)\n",
      "\u001b[1;31mNoSuchElementException\u001b[0m: Message: no such element: Unable to locate element: {\"method\":\"css selector\",\"selector\":\"li.shortcut_item a\"}\n  (Session info: chrome=131.0.6778.86); For documentation on this error, please visit: https://www.selenium.dev/documentation/webdriver/troubleshooting/errors#no-such-element-exception\nStacktrace:\n\tGetHandleVerifier [0x00007FF739B36CF5+28821]\n\t(No symbol) [0x00007FF739AA3880]\n\t(No symbol) [0x00007FF73994578A]\n\t(No symbol) [0x00007FF7399991BE]\n\t(No symbol) [0x00007FF7399994AC]\n\t(No symbol) [0x00007FF7399E2647]\n\t(No symbol) [0x00007FF7399BF33F]\n\t(No symbol) [0x00007FF7399DF412]\n\t(No symbol) [0x00007FF7399BF0A3]\n\t(No symbol) [0x00007FF73998A778]\n\t(No symbol) [0x00007FF73998B8E1]\n\tGetHandleVerifier [0x00007FF739E6FCED+3408013]\n\tGetHandleVerifier [0x00007FF739E8745F+3504127]\n\tGetHandleVerifier [0x00007FF739E7B63D+3455453]\n\tGetHandleVerifier [0x00007FF739BFBDFB+835995]\n\t(No symbol) [0x00007FF739AAEB9F]\n\t(No symbol) [0x00007FF739AAA854]\n\t(No symbol) [0x00007FF739AAA9ED]\n\t(No symbol) [0x00007FF739A9A1D9]\n\tBaseThreadInitThunk [0x00007FFEC3B553E0+16]\n\tRtlUserThreadStart [0x00007FFEC476485B+43]\n"
     ]
    }
   ],
   "source": [
    "time.sleep(3)\n",
    "\n",
    "# 메일 버튼 클릭\n",
    "mail_btn = driver.find_element(By.CSS_SELECTOR, \"li.shortcut_item a\")\n",
    "mail_btn.click()\n",
    "\n",
    "time.sleep(2)\n",
    "\n",
    "# 신규탭으로 전환\n",
    "windows = driver.window_handles\n",
    "driver.switch_to.window(windows[-1])\n",
    "\n",
    "time.sleep(2)\n",
    "\n",
    "# 매일 쓰기\n",
    "write_btn = driver.find_element(By.CSS_SELECTOR, \"a.button_write\")\n",
    "write_btn.click()\n",
    "\n",
    "# 받는 메일주소\n",
    "to_email = driver.find_element(By.CSS_SELECTOR, \"#recipient_input_element\")\n",
    "to_email.click()\n",
    "pyperclip.copy(\"s3458600@gmail.com\")\n",
    "pyautogui.hotkey(\"ctrl\", \"v\")\n",
    "\n",
    "time.sleep(2)\n",
    "\n",
    "# 메일 제목\n",
    "subject_email = driver.find_element(By.CSS_SELECTOR, \"#subject_title\")\n",
    "subject_email.click()\n",
    "pyperclip.copy(\"테스트 메일 보내기입니다.\")\n",
    "pyautogui.hotkey(\"ctrl\", \"v\")\n",
    "\n",
    "time.sleep(2)\n",
    "\n",
    "# iframe 창으로 전환\n",
    "iframe = driver.find_element(By.CSS_SELECTOR,\"#content > div.contents_area > div > div.editor_area > div > div.editor_body > iframe\")\n",
    "driver.switch_to.frame(iframe)\n",
    "\n",
    "time.sleep(2)\n",
    "\n",
    "# 메일 내용\n",
    "mail_content = driver.find_element(By.CSS_SELECTOR, \"body > div > div.workseditor-content\")\n",
    "mail_content.click()\n",
    "pyperclip.copy(\"안녕하세요?\\n메일이 잘 도착했나요? ^^\")\n",
    "pyautogui.hotkey(\"ctrl\",\"v\")\n",
    "\n",
    "time.sleep(2)\n",
    "\n",
    "# 본 창으로 전환\n",
    "driver.switch_to.default_content()\n",
    "\n",
    "mail_content = driver.find_element(By.CSS_SELECTOR, \"#content > div.mail_toolbar.type_write > div:nth-child(1) > div > button.button_write_task\")\n",
    "mail_content.click()"
   ]
  }
 ],
 "metadata": {
  "kernelspec": {
   "display_name": "Python 3 (ipykernel)",
   "language": "python",
   "name": "python3"
  },
  "language_info": {
   "codemirror_mode": {
    "name": "ipython",
    "version": 3
   },
   "file_extension": ".py",
   "mimetype": "text/x-python",
   "name": "python",
   "nbconvert_exporter": "python",
   "pygments_lexer": "ipython3",
   "version": "3.12.7"
  }
 },
 "nbformat": 4,
 "nbformat_minor": 5
}
