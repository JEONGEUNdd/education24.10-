{
 "cells": [
  {
   "cell_type": "markdown",
   "id": "5fda277b-a85c-47d0-8708-a4bf4870a320",
   "metadata": {},
   "source": [
    "### 데스크탑 자동화"
   ]
  },
  {
   "cell_type": "code",
   "execution_count": 5,
   "id": "5ea387b9-2b23-46d2-9911-4f07d0bab6e8",
   "metadata": {
    "scrolled": true
   },
   "outputs": [
    {
     "name": "stdout",
     "output_type": "stream",
     "text": [
      "Collecting pyautogui\n",
      "  Downloading PyAutoGUI-0.9.54.tar.gz (61 kB)\n",
      "  Installing build dependencies: started\n",
      "  Installing build dependencies: finished with status 'done'\n",
      "  Getting requirements to build wheel: started\n",
      "  Getting requirements to build wheel: finished with status 'done'\n",
      "  Preparing metadata (pyproject.toml): started\n",
      "  Preparing metadata (pyproject.toml): finished with status 'done'\n",
      "Collecting pymsgbox (from pyautogui)\n",
      "  Downloading PyMsgBox-1.0.9.tar.gz (18 kB)\n",
      "  Installing build dependencies: started\n",
      "  Installing build dependencies: finished with status 'done'\n",
      "  Getting requirements to build wheel: started\n",
      "  Getting requirements to build wheel: finished with status 'done'\n",
      "  Preparing metadata (pyproject.toml): started\n",
      "  Preparing metadata (pyproject.toml): finished with status 'done'\n",
      "Collecting pytweening>=1.0.4 (from pyautogui)\n",
      "  Downloading pytweening-1.2.0.tar.gz (171 kB)\n",
      "  Preparing metadata (setup.py): started\n",
      "  Preparing metadata (setup.py): finished with status 'done'\n",
      "Collecting pyscreeze>=0.1.21 (from pyautogui)\n",
      "  Downloading pyscreeze-1.0.1.tar.gz (27 kB)\n",
      "  Installing build dependencies: started\n",
      "  Installing build dependencies: finished with status 'done'\n",
      "  Getting requirements to build wheel: started\n",
      "  Getting requirements to build wheel: finished with status 'done'\n",
      "  Preparing metadata (pyproject.toml): started\n",
      "  Preparing metadata (pyproject.toml): finished with status 'done'\n",
      "Collecting pygetwindow>=0.0.5 (from pyautogui)\n",
      "  Downloading PyGetWindow-0.0.9.tar.gz (9.7 kB)\n",
      "  Preparing metadata (setup.py): started\n",
      "  Preparing metadata (setup.py): finished with status 'done'\n",
      "Collecting mouseinfo (from pyautogui)\n",
      "  Downloading MouseInfo-0.1.3.tar.gz (10 kB)\n",
      "  Preparing metadata (setup.py): started\n",
      "  Preparing metadata (setup.py): finished with status 'done'\n",
      "Collecting pyrect (from pygetwindow>=0.0.5->pyautogui)\n",
      "  Downloading PyRect-0.2.0.tar.gz (17 kB)\n",
      "  Preparing metadata (setup.py): started\n",
      "  Preparing metadata (setup.py): finished with status 'done'\n",
      "Collecting pyperclip (from mouseinfo->pyautogui)\n",
      "  Downloading pyperclip-1.9.0.tar.gz (20 kB)\n",
      "  Preparing metadata (setup.py): started\n",
      "  Preparing metadata (setup.py): finished with status 'done'\n",
      "Building wheels for collected packages: pyautogui, pygetwindow, pyscreeze, pytweening, mouseinfo, pymsgbox, pyperclip, pyrect\n",
      "  Building wheel for pyautogui (pyproject.toml): started\n",
      "  Building wheel for pyautogui (pyproject.toml): finished with status 'done'\n",
      "  Created wheel for pyautogui: filename=PyAutoGUI-0.9.54-py3-none-any.whl size=37601 sha256=111a22729c51d6b95f499361c9095ab157100eead3abb718cb648a52ef73734d\n",
      "  Stored in directory: c:\\users\\enjoy\\appdata\\local\\pip\\cache\\wheels\\d9\\d6\\47\\04075995b093ecc87c212c9a3dbd34e59456c6fe504d65c3e4\n",
      "  Building wheel for pygetwindow (setup.py): started\n",
      "  Building wheel for pygetwindow (setup.py): finished with status 'done'\n",
      "  Created wheel for pygetwindow: filename=PyGetWindow-0.0.9-py3-none-any.whl size=11081 sha256=932063f8fbae855224fea3b6928e9767addae0d4a3705f850e2ae4d73ba951b6\n",
      "  Stored in directory: c:\\users\\enjoy\\appdata\\local\\pip\\cache\\wheels\\b3\\39\\81\\34dd7a2eca5f885f1f6e2796761970daf66a2d98ac1904f5f4\n",
      "  Building wheel for pyscreeze (pyproject.toml): started\n",
      "  Building wheel for pyscreeze (pyproject.toml): finished with status 'done'\n",
      "  Created wheel for pyscreeze: filename=PyScreeze-1.0.1-py3-none-any.whl size=14378 sha256=2f6c5bb6af62fc249aa3c259ce4035f7b5a793314f00ce336437bf3a3e993119\n",
      "  Stored in directory: c:\\users\\enjoy\\appdata\\local\\pip\\cache\\wheels\\cd\\3a\\c2\\7f2839239a069aa3c9564f6777cbb29d733720ef673f104f0d\n",
      "  Building wheel for pytweening (setup.py): started\n",
      "  Building wheel for pytweening (setup.py): finished with status 'done'\n",
      "  Created wheel for pytweening: filename=pytweening-1.2.0-py3-none-any.whl size=8029 sha256=8a799cb71d6830a4051800ea9f28ddabd3d14aa16016500dfde92461654c0311\n",
      "  Stored in directory: c:\\users\\enjoy\\appdata\\local\\pip\\cache\\wheels\\23\\d5\\13\\4e9bdadbfe3c78e47c675e7410c0eed2fbb63c5ea6cf1b40e7\n",
      "  Building wheel for mouseinfo (setup.py): started\n",
      "  Building wheel for mouseinfo (setup.py): finished with status 'done'\n",
      "  Created wheel for mouseinfo: filename=MouseInfo-0.1.3-py3-none-any.whl size=10903 sha256=18f4bea621e7d774aad21b94677ca4fe6cdf48f832beae5a434953b892ea6aa6\n",
      "  Stored in directory: c:\\users\\enjoy\\appdata\\local\\pip\\cache\\wheels\\b1\\9b\\f3\\08650eb7f00af32f07789f3c6a101e0d7fc762b9891ae843bb\n",
      "  Building wheel for pymsgbox (pyproject.toml): started\n",
      "  Building wheel for pymsgbox (pyproject.toml): finished with status 'done'\n",
      "  Created wheel for pymsgbox: filename=PyMsgBox-1.0.9-py3-none-any.whl size=7417 sha256=008a4206bb9d27c621ca8496c80fbf0ffb952cf358e55dc17f891fbdbbb05cbb\n",
      "  Stored in directory: c:\\users\\enjoy\\appdata\\local\\pip\\cache\\wheels\\55\\e7\\aa\\239163543708d1e15c3d9a1b89dbfe3954b0929a6df2951b83\n",
      "  Building wheel for pyperclip (setup.py): started\n",
      "  Building wheel for pyperclip (setup.py): finished with status 'done'\n",
      "  Created wheel for pyperclip: filename=pyperclip-1.9.0-py3-none-any.whl size=11019 sha256=f354b6439a4a08f6e6bf40e7e9deebd17253cdd363f610040b464ea0726a63dd\n",
      "  Stored in directory: c:\\users\\enjoy\\appdata\\local\\pip\\cache\\wheels\\e0\\e8\\fc\\8ab8aa326e33bc066ccd5f3ca9646eab4299881af933f94f09\n",
      "  Building wheel for pyrect (setup.py): started\n",
      "  Building wheel for pyrect (setup.py): finished with status 'done'\n",
      "  Created wheel for pyrect: filename=PyRect-0.2.0-py2.py3-none-any.whl size=11207 sha256=c6cd6e57ec9d43991ca08744a355127dd06c900d760f22aab6e80e4145a10c70\n",
      "  Stored in directory: c:\\users\\enjoy\\appdata\\local\\pip\\cache\\wheels\\0b\\1e\\d7\\0c74bd8f60b39c14d84e307398786002aa7ddc905927cc03c5\n",
      "Successfully built pyautogui pygetwindow pyscreeze pytweening mouseinfo pymsgbox pyperclip pyrect\n",
      "Installing collected packages: pytweening, pyscreeze, pyrect, pyperclip, pymsgbox, pygetwindow, mouseinfo, pyautogui\n",
      "Successfully installed mouseinfo-0.1.3 pyautogui-0.9.54 pygetwindow-0.0.9 pymsgbox-1.0.9 pyperclip-1.9.0 pyrect-0.2.0 pyscreeze-1.0.1 pytweening-1.2.0\n"
     ]
    }
   ],
   "source": [
    "!pip install pyautogui"
   ]
  },
  {
   "cell_type": "code",
   "execution_count": 3,
   "id": "4eef7c84-c45f-4d94-9995-a7fcdc90db88",
   "metadata": {},
   "outputs": [],
   "source": [
    "import pyautogui\n",
    "import time"
   ]
  },
  {
   "cell_type": "code",
   "execution_count": 13,
   "id": "4c0a6a89-13dd-48e7-ba3c-7a1acfa3e826",
   "metadata": {},
   "outputs": [
    {
     "name": "stdout",
     "output_type": "stream",
     "text": [
      "Size(width=1920, height=1200)\n"
     ]
    }
   ],
   "source": [
    "#화면크기 출력\n",
    "print(pyautogui.size())"
   ]
  },
  {
   "cell_type": "code",
   "execution_count": 15,
   "id": "2f2ffeea-14e1-417e-956d-5681590b3402",
   "metadata": {},
   "outputs": [
    {
     "name": "stdout",
     "output_type": "stream",
     "text": [
      "화면 너비: 1920, 화면 높이: 1200\n"
     ]
    }
   ],
   "source": [
    "ps=pyautogui.size()\n",
    "print(f\"화면 너비: {ps.width}, 화면 높이: {ps.height}\")"
   ]
  },
  {
   "cell_type": "code",
   "execution_count": 23,
   "id": "c6863970-f82e-4a0e-b5c3-cff8caf28b81",
   "metadata": {},
   "outputs": [
    {
     "name": "stdout",
     "output_type": "stream",
     "text": [
      "Point(x=1874, y=1199)\n"
     ]
    }
   ],
   "source": [
    "#마우스 위치출력\n",
    "print(pyautogui.position())"
   ]
  },
  {
   "cell_type": "code",
   "execution_count": 35,
   "id": "dc05e7f5-d726-4803-950e-aefffbcbe376",
   "metadata": {},
   "outputs": [],
   "source": [
    "#마우스 위치 이동\n",
    "pyautogui.moveTo(20,250,1)"
   ]
  },
  {
   "cell_type": "code",
   "execution_count": 45,
   "id": "ee993b2c-a69a-438d-966d-77d8ef6105dc",
   "metadata": {},
   "outputs": [],
   "source": [
    "#마우스 클릭\n",
    "pyautogui.click()"
   ]
  },
  {
   "cell_type": "code",
   "execution_count": 51,
   "id": "5d347008-fdce-4d58-b2eb-b44a7e260a3f",
   "metadata": {},
   "outputs": [],
   "source": [
    "pyautogui.click(button=\"right\")"
   ]
  },
  {
   "cell_type": "code",
   "execution_count": 53,
   "id": "baa69868-c30f-4de5-acec-2da66e694b1a",
   "metadata": {},
   "outputs": [],
   "source": [
    "pyautogui.doubleClick()"
   ]
  },
  {
   "cell_type": "code",
   "execution_count": 55,
   "id": "cc599688-76a0-44ad-8c26-4cbcc44e7374",
   "metadata": {},
   "outputs": [],
   "source": [
    "#1초마다 3번 클릭\n",
    "pyautogui.click(clicks=3,interval=1)"
   ]
  },
  {
   "cell_type": "code",
   "execution_count": 61,
   "id": "2b8a130e-6eeb-4481-b55e-3bf1b4393a26",
   "metadata": {},
   "outputs": [],
   "source": [
    "pyautogui.mouseInfo()"
   ]
  },
  {
   "cell_type": "code",
   "execution_count": 13,
   "id": "b394eaa6-1f6b-4445-9abf-1478d297a69c",
   "metadata": {},
   "outputs": [],
   "source": [
    "pyautogui.dragTo(917,19)"
   ]
  },
  {
   "cell_type": "code",
   "execution_count": 21,
   "id": "d86ef7ef-238c-4998-b519-c4671823e103",
   "metadata": {},
   "outputs": [],
   "source": [
    "pyautogui.moveTo(917,19,1)\n",
    "pyautogui.click()"
   ]
  },
  {
   "cell_type": "code",
   "execution_count": 31,
   "id": "99fe6a59-6aa5-4f66-a4f3-6fb49fa9031f",
   "metadata": {},
   "outputs": [],
   "source": [
    "pyautogui.scroll(-1000)"
   ]
  },
  {
   "cell_type": "code",
   "execution_count": 37,
   "id": "363a6c1f-e894-4232-a125-ef3e78a8a6d5",
   "metadata": {},
   "outputs": [],
   "source": [
    "#클릭 반복\n",
    "for _ in range(10):\n",
    "    pyautogui.click()\n",
    "    time.sleep(0.5)"
   ]
  },
  {
   "cell_type": "code",
   "execution_count": 33,
   "id": "5f77f41c-be70-42c9-a722-84dfa7c96ece",
   "metadata": {},
   "outputs": [],
   "source": [
    "#스크롤 반복\n",
    "for _ in range(10):\n",
    "    pyautogui.scroll(-300) #아래로 스크롤\n",
    "    time.sleep(0.5)"
   ]
  },
  {
   "cell_type": "code",
   "execution_count": 49,
   "id": "672950f0-9d36-445b-92c5-59b9c55c6aeb",
   "metadata": {},
   "outputs": [],
   "source": [
    "pyautogui.click()\n",
    "pyautogui.typewrite('Hello',interval=0.1)\n",
    "pyautogui.write(' everyone',interval=0.1)"
   ]
  },
  {
   "cell_type": "code",
   "execution_count": 53,
   "id": "2429b290-0f10-40c0-b7be-2ef37e07ea7d",
   "metadata": {},
   "outputs": [],
   "source": [
    "import pyperclip\n",
    "pyperclip.copy('한글입력')\n",
    "pyautogui.hotkey('ctrl','v')"
   ]
  },
  {
   "cell_type": "raw",
   "id": "425da14e-944b-4434-9f48-c4b146e274c6",
   "metadata": {},
   "source": [
    "기본 키 목록\n",
    "알파벳 키: 'a', 'b', 'c', ..., 'z'\n",
    "숫자 키: '0', '1', '2', ..., '9'\n",
    "기타 키:\n",
    "특수 문자: '!', '@', '#', '$', '%', '^', '&', '*', '(', ')', '_', '+', '-', '=', '{', '}', '[', ']', ':', ';', '\"', ''', '<', '>', ',', '.', '?', '/'\n",
    "공백: 'space'\n",
    "탭: 'tab'\n",
    "엔터: 'enter'\n",
    "백스페이스: 'backspace'\n",
    "ESC: 'esc'\n",
    "화살표 키: 'up', 'down', 'left', 'right'\n",
    "홈: 'home'\n",
    "끝: 'end'\n",
    "페이지 업: 'pageup'\n",
    "페이지 다운: 'pagedown'\n",
    "프린트 스크린: 'printscreen'\n",
    "윈도우 키: 'win'\n",
    "컨트롤, 알트, 쉬프트: 'ctrl', 'alt', 'shift'\n",
    "Caps Lock: 'capslock'\n",
    "Insert: 'insert'\n",
    "Delete: 'delete'\n",
    "키패드 키: 'num0', 'num1', ..., 'num9', 'numadd', 'numsub', 'nummultiply', 'numdivide'"
   ]
  },
  {
   "cell_type": "code",
   "execution_count": 59,
   "id": "336a3763-e051-4fe7-8120-ea69af1feac8",
   "metadata": {},
   "outputs": [],
   "source": [
    "pyautogui.press('up')\n",
    "pyautogui.press('enter')  #위 화살표 키를 눌러서 이전에 입력한 명령어 \"Enter\" 키를 눌러서 실행"
   ]
  },
  {
   "cell_type": "code",
   "execution_count": 72,
   "id": "6acf17d9-605e-4d41-b996-ce028c8b5496",
   "metadata": {},
   "outputs": [],
   "source": [
    "#페이지 이동해서 로그인하기\n",
    "#http://10.0.66.99/auto/Login.php\n",
    "# pyautogui.moveTo(1506,15,1)\n",
    "import webbrowser\n",
    "webbrowser.open('http://10.0.66.99/auto/Login.php')\n",
    "pyautogui.click()\n",
    "pyautogui.moveTo(818,170,1)\n",
    "pyautogui.click()\n",
    "pyperclip.copy('임정은')\n",
    "pyautogui.hotkey('ctrl','v')\n",
    "pyautogui.moveTo(900,198,1)\n",
    "pyautogui.click()\n",
    "pyperclip.copy('1111')\n",
    "pyautogui.hotkey('ctrl','v')\n",
    "pyautogui.moveTo(770,226,1)\n",
    "pyautogui.click()"
   ]
  },
  {
   "cell_type": "code",
   "execution_count": null,
   "id": "6665e1f5-5c01-4654-a999-f4a19e864b0d",
   "metadata": {},
   "outputs": [],
   "source": [
    "#페이지 이동\n",
    "import webbrowser\n",
    "webbrowser.open('http://10.0.66.99/auto/Login.php')"
   ]
  },
  {
   "cell_type": "code",
   "execution_count": 76,
   "id": "abf1b8e6-41f4-4de5-a552-37b749e09fe7",
   "metadata": {},
   "outputs": [
    {
     "data": {
      "text/plain": [
       "'OK'"
      ]
     },
     "execution_count": 76,
     "metadata": {},
     "output_type": "execute_result"
    }
   ],
   "source": [
    "pyautogui.alert('이것은 알림 메시지입니다.')"
   ]
  },
  {
   "cell_type": "code",
   "execution_count": 80,
   "id": "60c7540c-7770-4b73-884a-6a34c07d50cd",
   "metadata": {},
   "outputs": [
    {
     "data": {
      "text/plain": [
       "'Cancel'"
      ]
     },
     "execution_count": 80,
     "metadata": {},
     "output_type": "execute_result"
    }
   ],
   "source": [
    "a=pyautogui.confirm('이 작업을 진행하시겠습니까?')\n",
    "a"
   ]
  },
  {
   "cell_type": "code",
   "execution_count": 82,
   "id": "4f551abe-7720-46e9-a406-f2a52c96cc73",
   "metadata": {},
   "outputs": [
    {
     "name": "stdout",
     "output_type": "stream",
     "text": [
      "작업2\n"
     ]
    }
   ],
   "source": [
    "a=pyautogui.confirm('어떤 작업을 진행하시겠습니까?',\n",
    "    buttons=['작업1','작업2','작업3']\n",
    ")\n",
    "print(a)"
   ]
  },
  {
   "cell_type": "code",
   "execution_count": 86,
   "id": "122247a3-3ebf-4a0b-8516-1e3a0c264291",
   "metadata": {},
   "outputs": [
    {
     "name": "stdout",
     "output_type": "stream",
     "text": [
      "김철수\n"
     ]
    }
   ],
   "source": [
    "a=pyautogui.prompt('이름을 입력하세요:')\n",
    "print(a)"
   ]
  },
  {
   "cell_type": "code",
   "execution_count": 88,
   "id": "3c96d930-c3c3-4d13-8fbc-adddc059cb32",
   "metadata": {},
   "outputs": [
    {
     "data": {
      "text/plain": [
       "'1234'"
      ]
     },
     "execution_count": 88,
     "metadata": {},
     "output_type": "execute_result"
    }
   ],
   "source": [
    "b=pyautogui.password('비밀번호를 입력하세요:')\n",
    "b"
   ]
  },
  {
   "cell_type": "code",
   "execution_count": 90,
   "id": "3e4c1535-23fc-4b61-9c8e-05ef96dedfc8",
   "metadata": {},
   "outputs": [],
   "source": [
    "#전체화면 파일로 저장\n",
    "screenshot=pyautogui.screenshot()\n",
    "screenshot.save('full.screenshot.png')"
   ]
  },
  {
   "cell_type": "code",
   "execution_count": 96,
   "id": "d1d02194-6126-470a-8422-d69064f3b37e",
   "metadata": {
    "scrolled": true
   },
   "outputs": [
    {
     "data": {
      "image/jpeg": "[encoded data removed]",
      "image/png": "[encoded data removed]",
      "text/plain": [
       "<PIL.Image.Image image mode=RGB size=300x400>"
      ]
     },
     "execution_count": 96,
     "metadata": {},
     "output_type": "execute_result"
    }
   ],
   "source": [
    "# screenshot=pyautogui.screenshot()\n",
    "# screenshot.save('full.screenshot.png')\n",
    "pyautogui.screenshot('screenshot.png',region=(100,100,300,400))"
   ]
  },
  {
   "cell_type": "code",
   "execution_count": 7,
   "id": "c1f2f551-de67-40bb-8778-ccc8a3320931",
   "metadata": {},
   "outputs": [],
   "source": [
    "from selenium import webdriver\n",
    "from selenium.webdriver.chrome.service import Service\n",
    "from selenium.webdriver.chrome.options import Options\n",
    "from selenium.webdriver.common.by import By\n",
    "import time\n",
    "import pyautogui \n",
    "import pyperclip"
   ]
  },
  {
   "cell_type": "code",
   "execution_count": 54,
   "id": "c506f851-4076-4f8d-9900-88285ec2dad0",
   "metadata": {},
   "outputs": [],
   "source": [
    "from selenium import webdriver\n",
    "from selenium.webdriver.chrome.service import Service\n",
    "from selenium.webdriver.chrome.options import Options\n",
    "from selenium.webdriver.common.by import By\n",
    "import time\n",
    "import pyautogui\n",
    "import pyperclip\n",
    "\n",
    "# 브라우저 꺼짐 방지\n",
    "chrome_options = Options()\n",
    "chrome_options.add_experimental_option(\"detach\", True)\n",
    "\n",
    "# 불필요한 에러메시지 노출 방지\n",
    "chrome_options.add_experimental_option(\"excludeSwitches\", [\"enable-logging\"])\n",
    "\n",
    "driver = webdriver.Chrome(options = chrome_options)\n",
    "\n",
    "driver.implicitly_wait(5) # 웹페이지 로딩 될때까지 5초 wait\n",
    "driver.maximize_window()  # 화면 최대화\n",
    "\n",
    "# 이동하려는 해당 웹페이지 주소\n",
    "driver.get(\"https://nid.naver.com/nidlogin.login?mode=form&url=https://www.naver.com/\")\n",
    "\n",
    "time.sleep(1)\n",
    "# 아이디 입력창\n",
    "id = driver.find_element(By.CSS_SELECTOR, \"#input_item_id\")\n",
    "# 클릭 하도록 설정\n",
    "id.click()\n",
    "# 키보드 입력 설정\n",
    "#id.send_keys(\"네이버 아이디\") # \"네이버 아이디\"에는 본인 네이버 아이디 입력\n",
    "pyperclip.copy(\"wjdddms8833\")\n",
    "pyautogui.hotkey(\"ctrl\", \"v\")\n",
    "\n",
    "time.sleep(2)\n",
    "\n",
    "# 비밀번호 입력창 찾기\n",
    "pw = driver.find_element(By.CSS_SELECTOR, \"#input_item_pw\")\n",
    "# 클릭하도록 설정\n",
    "pw.click()\n",
    "# 키보드 입력 설정\n",
    "#pw.send_keys(\"네이버 비밀번호\") # \"네이버 비밀번호\"에는 본인 네이버 비밀번호 입력\n",
    "pyperclip.copy(\"jerr.y!wjd83!\")\n",
    "pyautogui.hotkey(\"ctrl\", \"v\")\n",
    "\n",
    "time.sleep(2)\n",
    "\n",
    "# 로그인 버튼 클릭\n",
    "login_btn = driver.find_element(By.CSS_SELECTOR, \"#log\\\\.login\")\n",
    "login_btn.click()\n",
    "# 메일 버튼 클릭\n",
    "mail_btn = driver.find_element(By.CSS_SELECTOR, \"#shortcutArea > ul > li:nth-child(1) > a > span.service_icon.type_mail\")\n",
    "mail_btn.click()\n",
    "time.sleep(2)\n",
    "\n",
    "# 신규탭으로 전환\n",
    "windows = driver.window_handles\n",
    "driver.switch_to.window(windows[-1])\n",
    "\n",
    "time.sleep(2)\n",
    "\n",
    "# 매일 쓰기\n",
    "write_btn = driver.find_element(By.CSS_SELECTOR, \"#root > div > nav > div > div.lnb_header > div.lnb_task > a.item.button_write\")\n",
    "write_btn.click()\n",
    "\n",
    "# 받는 메일주소\n",
    "to_email = driver.find_element(By.CSS_SELECTOR, \"#recipient_input_element\")\n",
    "to_email.click()\n",
    "pyperclip.copy(\"s3458600@gmail.com\")\n",
    "pyautogui.hotkey(\"ctrl\", \"v\")\n",
    "\n",
    "time.sleep(2)\n",
    "\n",
    "# 메일 제목\n",
    "subject_email = driver.find_element(By.CSS_SELECTOR, \"#subject_title\")\n",
    "subject_email.click()\n",
    "pyperclip.copy(\"테스트 메일 보내기입니다.\")\n",
    "pyautogui.hotkey(\"ctrl\", \"v\")\n",
    "\n",
    "time.sleep(2)\n",
    "\n",
    "# iframe 창으로 전환\n",
    "iframe = driver.find_element(By.CSS_SELECTOR,\"#content > div.contents_area > div > div.editor_area > div > div.editor_body > iframe\")\n",
    "driver.switch_to.frame(iframe)\n",
    "\n",
    "time.sleep(2)\n",
    "\n",
    "# 메일 내용\n",
    "mail_content = driver.find_element(By.CSS_SELECTOR, \"body > div > div.workseditor-content\")\n",
    "mail_content.click()\n",
    "pyperclip.copy(\"안녕하세요?\\n메일이 잘 도착했나요? ^^\")\n",
    "pyautogui.hotkey(\"ctrl\",\"v\")\n",
    "\n",
    "time.sleep(2)\n",
    "\n",
    "# 본 창으로 전환\n",
    "driver.switch_to.default_content()\n",
    "\n",
    "mail_content = driver.find_element(By.CSS_SELECTOR, \"#content > div.mail_toolbar.type_write > div:nth-child(1) > div > button.button_write_task\")\n",
    "mail_content.click()"
   ]
  },
  {
   "cell_type": "code",
   "execution_count": 75,
   "id": "b352c36f-ecf5-4b81-bd86-45adce29ad87",
   "metadata": {},
   "outputs": [],
   "source": [
    "#네이버메일 보내기\n",
    "from selenium import webdriver\n",
    "from selenium.webdriver.chrome.service import Service\n",
    "from selenium.webdriver.chrome.options import Options\n",
    "from selenium.webdriver.common.by import By\n",
    "import time\n",
    "import pyautogui\n",
    "import pyperclip\n",
    "\n",
    "def main():\n",
    "    uid=pyautogui.prompt(\"네이버ID: \")\n",
    "    pwd=pyautogui.password(\"비밀번호: \")\n",
    "    toname=pyautogui.prompt(\"받는사람 이름: \", default=\"홍길동\")\n",
    "    tomail=pyautogui.prompt(\"받는사람 메일: \", default=\"s3458600@gmail.com\")\n",
    "    response=pyautogui.confirm(\n",
    "        \"어떤 내용을 하시겠습니까?\",\n",
    "        buttons=['가입안내','합격안내','계약서']\n",
    "    )\n",
    "    if response==\"가입안내\":\n",
    "        to_subject=\"[테스트] 가입안내입니다.\"\n",
    "        to_content=f\"{toname}님 가입을 환영합니다 \\n\\n최고의 서비스로 최선을 다하겠습니다.\"\n",
    "    elif response==\"합격안내\":\n",
    "        to_subject=\"[테스트] 합격결과입니다.\"\n",
    "        to_content=f'''{toname}님 이번 면접에 최종 합격하였습니다.\\n\n",
    "    저희 가족이 되심을 축하합니다.\n",
    "    입사일은 2025년 1월 1일입니다.\\n\n",
    "    감사합니다'''\n",
    "    elif response==\"계약서\":\n",
    "        to_subject=\"[테스트] 점심 계약서\"\n",
    "        to_content=f'''{toname}님 최종 계약서 내용입니다.\"\\n\n",
    "귀하는 2024년 12월 4일 점심을 사기로 했습니다.\n",
    "#계약자 A:{toname}\n",
    "#계약자 B:이순신'''\n",
    "    if not uid or not pwd or not tomail:\n",
    "        pyautogui.alert(\"ID 또는 비밀번호가 비어있습니다. 프로그램을 종료합니다.\")\n",
    "        return\n",
    "\n",
    "    # 브라우저 꺼짐 방지\n",
    "    chrome_options = Options()\n",
    "    chrome_options.add_experimental_option(\"detach\", True)\n",
    "    \n",
    "    # 불필요한 에러메시지 노출 방지\n",
    "    chrome_options.add_experimental_option(\"excludeSwitches\", [\"enable-logging\"])\n",
    "    \n",
    "    driver = webdriver.Chrome(options = chrome_options)\n",
    "    \n",
    "    driver.implicitly_wait(5) # 웹페이지 로딩 될때까지 5초 wait\n",
    "    driver.maximize_window()  # 화면 최대화\n",
    "    \n",
    "    # 이동하려는 해당 웹페이지 주소\n",
    "    driver.get(\"https://nid.naver.com/nidlogin.login?mode=form&url=https://www.naver.com/\")\n",
    "    \n",
    "    time.sleep(1)\n",
    "    # 아이디 입력창\n",
    "    id = driver.find_element(By.CSS_SELECTOR, \"#input_item_id\")\n",
    "    # 클릭 하도록 설정\n",
    "    id.click()\n",
    "    # 키보드 입력 설정\n",
    "    #id.send_keys(\"네이버 아이디\") # \"네이버 아이디\"에는 본인 네이버 아이디 입력\n",
    "    pyperclip.copy(uid)\n",
    "    pyautogui.hotkey(\"ctrl\", \"v\")\n",
    "    \n",
    "    time.sleep(2)\n",
    "    \n",
    "    # 비밀번호 입력창 찾기\n",
    "    pw = driver.find_element(By.CSS_SELECTOR, \"#input_item_pw\")\n",
    "    # 클릭하도록 설정\n",
    "    pw.click()\n",
    "    # 키보드 입력 설정\n",
    "    #pw.send_keys(\"네이버 비밀번호\") # \"네이버 비밀번호\"에는 본인 네이버 비밀번호 입력\n",
    "    pyperclip.copy(pwd)\n",
    "    pyautogui.hotkey(\"ctrl\", \"v\")\n",
    "    time.sleep(2)\n",
    "    \n",
    "    # 로그인 버튼 클릭\n",
    "    login_btn = driver.find_element(By.CSS_SELECTOR, \"#log\\\\.login\")\n",
    "    login_btn.click()\n",
    "    # 메일 버튼 클릭\n",
    "    mail_btn = driver.find_element(By.CSS_SELECTOR, \"#shortcutArea > ul > li:nth-child(1) > a > span.service_icon.type_mail\")\n",
    "    mail_btn.click()\n",
    "    time.sleep(2)\n",
    "    \n",
    "    # 신규탭으로 전환\n",
    "    windows = driver.window_handles\n",
    "    driver.switch_to.window(windows[-1])\n",
    "    \n",
    "    time.sleep(2)\n",
    "    \n",
    "    # 메일 쓰기\n",
    "    write_btn = driver.find_element(By.CSS_SELECTOR, \"#root > div > nav > div > div.lnb_header > div.lnb_task > a.item.button_write\")\n",
    "    write_btn.click()\n",
    "    \n",
    "    # 받는 메일주소\n",
    "    to_email = driver.find_element(By.CSS_SELECTOR, \"#recipient_input_element\")\n",
    "    to_email.click()\n",
    "    pyperclip.copy(\"s3458600@gmail.com\")\n",
    "    pyautogui.hotkey(\"ctrl\", \"v\")\n",
    "    time.sleep(2)\n",
    "    \n",
    "    # 메일 제목\n",
    "    subject_email = driver.find_element(By.CSS_SELECTOR, \"#subject_title\")\n",
    "    subject_email.click()\n",
    "    pyperclip.copy(\"테스트 메일 보내기입니다.\")\n",
    "    pyautogui.hotkey(\"ctrl\", \"v\")\n",
    "    \n",
    "    time.sleep(2)\n",
    "    \n",
    "    # iframe 창으로 전환\n",
    "    iframe = driver.find_element(By.CSS_SELECTOR,\"#content > div.contents_area > div > div.editor_area > div > div.editor_body > iframe\")\n",
    "    driver.switch_to.frame(iframe)\n",
    "    \n",
    "    time.sleep(2)\n",
    "    \n",
    "    # 메일 내용\n",
    "    mail_content = driver.find_element(By.CSS_SELECTOR, \"body > div > div.workseditor-content\")\n",
    "    mail_content.click()\n",
    "    pyperclip.copy(to_content)\n",
    "    pyautogui.hotkey(\"ctrl\",\"v\")\n",
    "    \n",
    "    # 본 창으로 전환\n",
    "    driver.switch_to.default_content()\n",
    "    \n",
    "    #보내기 버튼\n",
    "    mail_content = driver.find_element(By.CSS_SELECTOR, \"#content > div.mail_toolbar.type_write > div:nth-child(1) > div > button.button_write_task\")\n",
    "    mail_content.click()\n",
    "main()"
   ]
  },
  {
   "cell_type": "code",
   "execution_count": null,
   "id": "afc75d14-2836-44d7-b553-9941dcc6033a",
   "metadata": {},
   "outputs": [],
   "source": []
  }
 ],
 "metadata": {
  "kernelspec": {
   "display_name": "Python 3 (ipykernel)",
   "language": "python",
   "name": "python3"
  },
  "language_info": {
   "codemirror_mode": {
    "name": "ipython",
    "version": 3
   },
   "file_extension": ".py",
   "mimetype": "text/x-python",
   "name": "python",
   "nbconvert_exporter": "python",
   "pygments_lexer": "ipython3",
   "version": "3.12.7"
  }
 },
 "nbformat": 4,
 "nbformat_minor": 5
}
