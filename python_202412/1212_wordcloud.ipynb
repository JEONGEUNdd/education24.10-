{
 "cells": [
  {
   "cell_type": "code",
   "execution_count": 158,
   "id": "5507edb8-abfa-41fc-9a25-0a1988b7751e",
   "metadata": {},
   "outputs": [],
   "source": [
    "import numpy as np"
   ]
  },
  {
   "cell_type": "markdown",
   "id": "0a10f6a3-f215-49ff-b668-d63228d140ea",
   "metadata": {},
   "source": [
    "### newaxis\n",
    "- 1차원 배열을 특정 방향(행/열)으로 확장할 때\n",
    "- 두 배열 간 모든 조합 계산할 때"
   ]
  },
  {
   "cell_type": "code",
   "execution_count": 2,
   "id": "a87f911b-23ff-4ce0-aa4d-bba589a8a78c",
   "metadata": {},
   "outputs": [
    {
     "name": "stdout",
     "output_type": "stream",
     "text": [
      "원본: (3,)\n"
     ]
    }
   ],
   "source": [
    "import numpy as np\n",
    "a=np.array([1,2,3])\n",
    "print(\"원본:\", a.shape)"
   ]
  },
  {
   "cell_type": "code",
   "execution_count": 8,
   "id": "973de530-2cd7-46e9-b37f-ebf35d3440fb",
   "metadata": {},
   "outputs": [
    {
     "name": "stdout",
     "output_type": "stream",
     "text": [
      "[[1 2 3]]\n",
      "행 벡터: (1, 3)\n"
     ]
    }
   ],
   "source": [
    "b=a[np.newaxis,:]\n",
    "print(b)\n",
    "print(\"행 벡터:\", b.shape)"
   ]
  },
  {
   "cell_type": "code",
   "execution_count": 13,
   "id": "f97101f1-e1c8-4737-96a9-7adc2e8f1adc",
   "metadata": {},
   "outputs": [
    {
     "name": "stdout",
     "output_type": "stream",
     "text": [
      "[[1]\n",
      " [2]\n",
      " [3]]\n",
      "열 벡터: (3, 1)\n"
     ]
    }
   ],
   "source": [
    "c=a[:,np.newaxis]\n",
    "print(c)\n",
    "print(\"열 벡터:\", c.shape)"
   ]
  },
  {
   "cell_type": "code",
   "execution_count": 15,
   "id": "c3aaccd8-0891-4e91-864f-7ef1b6557e6d",
   "metadata": {},
   "outputs": [
    {
     "name": "stdout",
     "output_type": "stream",
     "text": [
      "[1 4 9]\n"
     ]
    }
   ],
   "source": [
    "print(a*a)"
   ]
  },
  {
   "cell_type": "code",
   "execution_count": 17,
   "id": "afeb09ff-0f22-4bc8-87a4-1619134cf85c",
   "metadata": {},
   "outputs": [
    {
     "name": "stdout",
     "output_type": "stream",
     "text": [
      "[[1 4 9]]\n"
     ]
    }
   ],
   "source": [
    "print(a*b)"
   ]
  },
  {
   "cell_type": "code",
   "execution_count": 19,
   "id": "e8932130-8194-4766-93dd-0b5afae32c33",
   "metadata": {},
   "outputs": [
    {
     "name": "stdout",
     "output_type": "stream",
     "text": [
      "[[1 2 3]\n",
      " [2 4 6]\n",
      " [3 6 9]]\n"
     ]
    }
   ],
   "source": [
    "print(a*c)"
   ]
  },
  {
   "cell_type": "code",
   "execution_count": 21,
   "id": "087b4916-54ae-417c-a4f5-dc7380176861",
   "metadata": {},
   "outputs": [
    {
     "name": "stdout",
     "output_type": "stream",
     "text": [
      "[0.5 2.  4.5]\n"
     ]
    }
   ],
   "source": [
    "import numpy as np\n",
    "pixels=np.array([1,2,3])\n",
    "weights=np.array([0.5,1.0,1.5])\n",
    "result=pixels*weights\n",
    "print(result)"
   ]
  },
  {
   "cell_type": "code",
   "execution_count": 23,
   "id": "5b71ec93-0baf-4d46-b660-853aa42f652d",
   "metadata": {},
   "outputs": [
    {
     "name": "stdout",
     "output_type": "stream",
     "text": [
      "(3, 1)\n"
     ]
    }
   ],
   "source": [
    "pixels_col=pixels[:, np.newaxis]\n",
    "print(pixels_col.shape)"
   ]
  },
  {
   "cell_type": "code",
   "execution_count": 25,
   "id": "89f49f94-e5ac-486e-9522-f3be867e7b00",
   "metadata": {},
   "outputs": [
    {
     "name": "stdout",
     "output_type": "stream",
     "text": [
      "[[0.5 1.  1.5]\n",
      " [1.  2.  3. ]\n",
      " [1.5 3.  4.5]]\n"
     ]
    }
   ],
   "source": [
    "result=pixels_col*weights\n",
    "print(result)"
   ]
  },
  {
   "cell_type": "code",
   "execution_count": 33,
   "id": "95c6882c-fd55-40db-a334-4add630b5312",
   "metadata": {},
   "outputs": [
    {
     "name": "stdout",
     "output_type": "stream",
     "text": [
      "(3,)\n",
      "(3, 1)\n",
      "(3, 3)\n"
     ]
    },
    {
     "data": {
      "text/plain": [
       "array([[5, 6, 7],\n",
       "       [6, 7, 8],\n",
       "       [7, 8, 9]])"
      ]
     },
     "execution_count": 33,
     "metadata": {},
     "output_type": "execute_result"
    }
   ],
   "source": [
    "import numpy as np\n",
    "a=np.array([1,2,3])\n",
    "print(a.shape)\n",
    "b=np.array([[4],[5],[6]])\n",
    "print(b.shape)\n",
    "c=a+b\n",
    "print(c.shape)\n",
    "c"
   ]
  },
  {
   "cell_type": "code",
   "execution_count": 47,
   "id": "22ff3fde-5be3-4574-874e-6598eb5e2015",
   "metadata": {},
   "outputs": [
    {
     "data": {
      "image/png": "[encoded data removed]",
      "text/plain": [
       "<Figure size 640x480 with 1 Axes>"
      ]
     },
     "metadata": {},
     "output_type": "display_data"
    },
    {
     "name": "stdout",
     "output_type": "stream",
     "text": [
      "Gray Image:\n",
      " [[ 85.  85.  85.]\n",
      " [170. 170. 170.]\n",
      " [255. 128.   0.]]\n"
     ]
    }
   ],
   "source": [
    "import numpy as np\n",
    "import matplotlib.pyplot as plt\n",
    "color_image=np.array([[[255,0,0],[0,255,0],[0,0,255]],\n",
    "                     [[255,255,0],[255,0,255],[0,255,255]],\n",
    "                     [[255,255,255],[128,128,128],[0,0,0]]], dtype=np.uint8)\n",
    "\n",
    "#시각화\n",
    "plt.imshow(color_image,cmap='BrBG')\n",
    "plt.show()\n",
    "gray_image=np.mean(color_image,axis=2)\n",
    "print(\"Gray Image:\\n\", gray_image)"
   ]
  },
  {
   "cell_type": "markdown",
   "id": "8c056476-f326-4b55-bec5-702218fd3ef6",
   "metadata": {},
   "source": [
    "### 슬라이싱"
   ]
  },
  {
   "cell_type": "code",
   "execution_count": 52,
   "id": "de6b6d63-7a4b-44ea-94cf-d7ea2e69fe5d",
   "metadata": {},
   "outputs": [
    {
     "name": "stdout",
     "output_type": "stream",
     "text": [
      "[10 12 14 16 18]\n",
      "[10 13 16 19]\n",
      "[10 12 14 16]\n",
      "[19 18 17 16 15 14 13 12 11 10]\n",
      "[10 11 12 13 14 15 16 17 18 19]\n"
     ]
    }
   ],
   "source": [
    "arr=np.array([10,11,12,13,14,15,16,17,18,19])\n",
    "print(arr[::2])  #처음부터 끝까지 2씩 증가\n",
    "print(arr[::3])\n",
    "print(arr[0:7:2])  #0부터 6까지 2씩 증가\n",
    "print(arr[::-1])  #역순으로 1씩 증가\n",
    "print(arr[:]) #전체"
   ]
  },
  {
   "cell_type": "markdown",
   "id": "f6b76ce6-eccf-4292-bc57-0dd0dcb8ed0d",
   "metadata": {},
   "source": [
    "### 넘파이 검색\n",
    "- 특정 값 검색하여 일치하는 데이터의 인덱스 반환\n",
    "- 배열에서 원하는 값 찾으려면 where()메서드 사용"
   ]
  },
  {
   "cell_type": "code",
   "execution_count": 63,
   "id": "b020bb8f-4a63-44d5-aef4-16962c20d424",
   "metadata": {},
   "outputs": [
    {
     "name": "stdout",
     "output_type": "stream",
     "text": [
      "(array([3, 5, 6], dtype=int64),)\n",
      "(array([0, 1, 2], dtype=int64),)\n"
     ]
    }
   ],
   "source": [
    "import numpy as np\n",
    "arr=np.array([1,2,3,4,5,4,4])\n",
    "arr[arr<4]\n",
    "y=np.where(arr==4)  #인덱스 정보\n",
    "print(y)\n",
    "x=np.where(arr<4)\n",
    "print(x)"
   ]
  },
  {
   "cell_type": "code",
   "execution_count": 73,
   "id": "e4bf3ce2-a5a3-4ddc-9296-da0618f570b8",
   "metadata": {},
   "outputs": [
    {
     "name": "stdout",
     "output_type": "stream",
     "text": [
      "['합격' '합격' '합격' '불합격' '합격' '합격']\n"
     ]
    },
    {
     "data": {
      "text/plain": [
       "[(85, '합격'), (67, '합격'), (90, '합격'), (45, '불합격'), (78, '합격'), (92, '합격')]"
      ]
     },
     "execution_count": 73,
     "metadata": {},
     "output_type": "execute_result"
    }
   ],
   "source": [
    "scores=np.array([85,67,90,45,78,92])\n",
    "pass_mark=60\n",
    "\n",
    "# result=np.where(scores>=pass_mark)\n",
    "# print(result)\n",
    "# print(scores[result])\n",
    "\n",
    "result=np.where(scores>=pass_mark,\"합격\",\"불합격\")\n",
    "print(result)\n",
    "list(zip(scores,result))"
   ]
  },
  {
   "cell_type": "code",
   "execution_count": 76,
   "id": "ef8050ae-c918-457d-98b7-0efd22003903",
   "metadata": {},
   "outputs": [
    {
     "name": "stdout",
     "output_type": "stream",
     "text": [
      "['가디건' '반팔 티셔츠' '반팔 티셔츠' '가디건' '코트']\n"
     ]
    }
   ],
   "source": [
    "#기온별 옷 추천\n",
    "temperatures=np.array([15,25,30,10,5])\n",
    "#10도 미만; 코트, 20도미만:가디건, 그외:반팔 티셔츠\n",
    "\n",
    "recommend=np.where(temperatures<10, '코트', np.where(temperatures<20, '가디건','반팔 티셔츠'))\n",
    "print(recommend)"
   ]
  },
  {
   "cell_type": "code",
   "execution_count": 84,
   "id": "a5d72599-f2e6-4b4a-84a1-188648608da1",
   "metadata": {},
   "outputs": [
    {
     "name": "stdout",
     "output_type": "stream",
     "text": [
      "['실버' '실버' '브론즈' '골드' '골드']\n"
     ]
    },
    {
     "data": {
      "text/plain": [
       "[(150, '실버'), (300, '실버'), (50, '브론즈'), (700, '골드'), (1200, '골드')]"
      ]
     },
     "execution_count": 84,
     "metadata": {},
     "output_type": "execute_result"
    }
   ],
   "source": [
    "#고객 등급 분류\n",
    "#100미만 브론즈, 500미만 실버, 그 이상 골드\n",
    "purchases=np.array([150,300,50,700,1200])\n",
    "grade=np.where(purchases<100,'브론즈', np.where(purchases<500, '실버','골드'))\n",
    "print(grade)\n",
    "list(zip(purchases,grade))"
   ]
  },
  {
   "cell_type": "code",
   "execution_count": 90,
   "id": "e55c18ae-5cea-4a45-a1d9-9eb01879d62a",
   "metadata": {},
   "outputs": [
    {
     "name": "stdout",
     "output_type": "stream",
     "text": [
      "(array([1, 2, 2, 2], dtype=int64), array([2, 0, 1, 2], dtype=int64))\n",
      "[(1, 2), (2, 0), (2, 1), (2, 2)]\n"
     ]
    }
   ],
   "source": [
    "arr=np.array([[1,2,3],\n",
    "              [4,5,6],\n",
    "              [7,8,9]])\n",
    "x=np.where(arr>5)\n",
    "print(x)\n",
    "print(list(zip(x[0],x[1])))"
   ]
  },
  {
   "cell_type": "code",
   "execution_count": 92,
   "id": "6f938c47-f562-4866-b865-5e5df57a4cb1",
   "metadata": {},
   "outputs": [
    {
     "data": {
      "text/plain": [
       "array([6, 7, 8, 9])"
      ]
     },
     "execution_count": 92,
     "metadata": {},
     "output_type": "execute_result"
    }
   ],
   "source": [
    "arr[x]"
   ]
  },
  {
   "cell_type": "code",
   "execution_count": 102,
   "id": "f0b70ecc-71d3-4d19-a786-9e317a34c590",
   "metadata": {},
   "outputs": [
    {
     "name": "stdout",
     "output_type": "stream",
     "text": [
      "(2, 3, 4)\n"
     ]
    }
   ],
   "source": [
    "arr=np.array([\n",
    "    [[1,2,3,4],\n",
    "     [5,6,7,8],\n",
    "     [9,10,11,12]\n",
    "    ],\n",
    "    [[13,14,15,16],\n",
    "     [17,18,19,20],\n",
    "     [21,22,23,24]]])\n",
    "print(arr.shape)"
   ]
  },
  {
   "cell_type": "code",
   "execution_count": 106,
   "id": "1abf24ac-d16e-4a02-8673-08732eb2b96c",
   "metadata": {},
   "outputs": [
    {
     "name": "stdout",
     "output_type": "stream",
     "text": [
      "(array([0, 0, 0, 0, 0, 0, 0, 0, 0], dtype=int64), array([0, 0, 0, 0, 1, 1, 1, 1, 2], dtype=int64), array([0, 1, 2, 3, 0, 1, 2, 3, 0], dtype=int64))\n"
     ]
    }
   ],
   "source": [
    "result=np.where(arr<10)\n",
    "print(result)"
   ]
  },
  {
   "cell_type": "code",
   "execution_count": 110,
   "id": "244c978f-6613-45e3-8b7b-295dbe4159d1",
   "metadata": {},
   "outputs": [
    {
     "name": "stdout",
     "output_type": "stream",
     "text": [
      "위치: (0,0,0)의 값: 1\n",
      "위치: (0,0,1)의 값: 2\n",
      "위치: (0,0,2)의 값: 3\n",
      "위치: (0,0,3)의 값: 4\n",
      "위치: (0,1,0)의 값: 5\n",
      "위치: (0,1,1)의 값: 6\n",
      "위치: (0,1,2)의 값: 7\n",
      "위치: (0,1,3)의 값: 8\n",
      "위치: (0,2,0)의 값: 9\n"
     ]
    }
   ],
   "source": [
    "for d,r,c in zip(*result):\n",
    "    print(f\"위치: ({d},{r},{c})의 값: {arr[d,r,c]}\")"
   ]
  },
  {
   "cell_type": "code",
   "execution_count": 114,
   "id": "a23e0438-ff1c-4f60-b200-ebd465cc0eea",
   "metadata": {},
   "outputs": [
    {
     "name": "stdout",
     "output_type": "stream",
     "text": [
      "[[[ True  True  True  True]\n",
      "  [ True  True  True  True]\n",
      "  [ True  True  True  True]]\n",
      "\n",
      " [[ True  True False False]\n",
      "  [False False False False]\n",
      "  [False False False False]]]\n"
     ]
    }
   ],
   "source": [
    "y=np.where(arr<15, True, False)\n",
    "print(y)"
   ]
  },
  {
   "cell_type": "markdown",
   "id": "1c585725-8e28-4aa2-af33-5ba334ef8c40",
   "metadata": {},
   "source": [
    "### argmax(), argmin() 메서드\n",
    "- 배열에서 가장 큰 값 또는 가장 작은 값의 위치(인덱스)를 찾아줌\n",
    "- 기본적으로 배열을 평탄화(flatten)하여 인덱스 반환"
   ]
  },
  {
   "cell_type": "code",
   "execution_count": 132,
   "id": "ff0b8d63-1fc7-4eb2-8823-bdcce469f85d",
   "metadata": {},
   "outputs": [
    {
     "name": "stdout",
     "output_type": "stream",
     "text": [
      "25\n",
      "11\n",
      "9\n",
      "[1 1 1 1 1]\n",
      "[4 4]\n",
      "********************\n",
      "0\n",
      "[0 0 0 0 0]\n",
      "[0 0]\n"
     ]
    }
   ],
   "source": [
    "arr=np.array([[11,12,13,14,15],\n",
    "              [21,22,23,24,25]])\n",
    "\n",
    "print(arr.max())\n",
    "print(arr.min())\n",
    "print(np.argmax(arr))   #argmax(arr)는 배열을 1차원으로 평탄화한 후, 최대값의 인덱스를 반환\n",
    "print(np.argmax(arr,axis=0))  #행\n",
    "print(np.argmax(arr,axis=1))  #열\n",
    "\n",
    "print(\"*\"*20)\n",
    "\n",
    "print(np.argmin(arr)) \n",
    "print(np.argmin(arr,axis=0))  #행\n",
    "print(np.argmin(arr,axis=1))  #열"
   ]
  },
  {
   "cell_type": "code",
   "execution_count": 134,
   "id": "67173e39-ada5-41eb-94b9-789796afeba7",
   "metadata": {},
   "outputs": [
    {
     "name": "stdout",
     "output_type": "stream",
     "text": [
      "3 2\n"
     ]
    }
   ],
   "source": [
    "scores=np.array([88,92,79,95,85])\n",
    "x=np.argmax(scores)\n",
    "y=np.argmin(scores)\n",
    "print(x,y)"
   ]
  },
  {
   "cell_type": "code",
   "execution_count": null,
   "id": "a8696585-4ef7-4d7f-b283-19eb18bc89de",
   "metadata": {},
   "outputs": [],
   "source": [
    "#axis=0:세로방향(열)\n",
    "#axis=1:가로방향(행)"
   ]
  },
  {
   "cell_type": "code",
   "execution_count": 152,
   "id": "4a97435d-56ec-4662-a3ed-fb572d14c361",
   "metadata": {},
   "outputs": [
    {
     "name": "stdout",
     "output_type": "stream",
     "text": [
      "각 과목 최고 성적 학생 인덱스 [0 0 1]\n",
      "각 과목 최저 성적 학생 인덱스 [2 2 0]\n",
      "각 과목 최고 성적: [88 92 95]\n",
      "각 과목 최저 성적: [78 88 79]\n"
     ]
    }
   ],
   "source": [
    "#행 학생, 열 과목\n",
    "scores=np.array([[88,92,79],\n",
    "                 [85,90,95],\n",
    "                 [78,88,80]])\n",
    "\n",
    "max_indic=np.argmax(scores,axis=0) #최고성적 학생 인덱스\n",
    "min_indic=np.argmin(scores,axis=0)\n",
    "print(\"각 과목 최고 성적 학생 인덱스\", max_indic)\n",
    "print(\"각 과목 최저 성적 학생 인덱스\", min_indic)\n",
    "\n",
    "max_val=scores[max_indic, np.arange(scores.shape[1])]\n",
    "min_val=scores[min_indic, np.arange(scores.shape[1])]\n",
    "\n",
    "print(\"각 과목 최고 성적:\", max_val)\n",
    "print(\"각 과목 최저 성적:\", min_val)"
   ]
  },
  {
   "cell_type": "markdown",
   "id": "b10933d5-4548-40e8-bda0-b40b24c1bfa1",
   "metadata": {},
   "source": [
    "#도시별 온도 기록(행 :도시, 열: 요일)\n",
    "import numpy as np\n",
    "temperatures=np.array([[22,25,20,19,23,24,21],\n",
    "                       [30,32,31,29,28,27,26],\n",
    "                       [15,14,16,17,18,19,20]])\n",
    "max_temp=np.argmax(temperatures, axis=1)\n",
    "min_temp=np.argmin(temperatures, axis=1)\n",
    "\n",
    "print(\"각 도시 최고 온도 요일 인덱스:\", max_temp)\n",
    "print(\"각 도시 최저 온도 요일 인덱스:\", min_temp)\n",
    "\n",
    "max_temperatures=temperatures[np.arange(temperatures.shape[0]), max_temp]\n",
    "min_temperatures=temperatures[np.arange(temperatures.shape[0]), min_temp]\n",
    "print(\"각 도시 최고 온도:\", max_temperatures)\n",
    "print(\"각 도시 최저 온도:\", min_temperatures)"
   ]
  },
  {
   "cell_type": "markdown",
   "id": "cdaa5114-9651-478d-a209-16c52347b76d",
   "metadata": {},
   "source": [
    "### np.sort(), np.argsort(): 배열 데이터 정렬\n",
    "- np.sort(arr): 원본 데이터 그대로 두고 임시로 정렬된 배열 보여줌\n",
    "- 배열명.sort(): 배열에 저장된 데이터를 정렬한 다음 정렬된 데이터를 저장\n",
    "- np.argsort(): 데이터가 정렬되었을 때 각 데이터의 위치(인덱스) 반환"
   ]
  },
  {
   "cell_type": "code",
   "execution_count": 181,
   "id": "9f48fda3-2721-4356-8f38-86d789be23f0",
   "metadata": {},
   "outputs": [
    {
     "name": "stdout",
     "output_type": "stream",
     "text": [
      "[2 1 5 3 7 4 6 8]\n",
      "[1 2 3 4 5 6 7 8]\n",
      "[2 1 5 3 7 4 6 8]\n"
     ]
    }
   ],
   "source": [
    "arr=np.array([2,1,5,3,7,4,6,8])\n",
    "print(arr)\n",
    "print(np.sort(arr))\n",
    "print(arr)  # 원본 안바뀜\n",
    "#np.sort()는 원본데이터 안바뀌지만, arr.sort()는 원본데이터 바뀜"
   ]
  },
  {
   "cell_type": "code",
   "execution_count": 183,
   "id": "ccd13811-176d-4f6e-9868-b60818048328",
   "metadata": {},
   "outputs": [
    {
     "name": "stdout",
     "output_type": "stream",
     "text": [
      "원본: [2 1 5 3 7 4 6 8]\n",
      "정렬: [1 2 3 4 5 6 7 8]\n",
      "위치: [1 0 3 5 2 6 4 7]\n",
      "원본: [2 1 5 3 7 4 6 8]\n"
     ]
    }
   ],
   "source": [
    "print('원본:', arr)\n",
    "print('정렬:', np.sort(arr))\n",
    "print('위치:', np.argsort(arr))\n",
    "print('원본:', arr)"
   ]
  },
  {
   "cell_type": "code",
   "execution_count": 195,
   "id": "ce58c895-2ade-4f8a-b2e6-b4c17e14997b",
   "metadata": {},
   "outputs": [
    {
     "name": "stdout",
     "output_type": "stream",
     "text": [
      "[2 4 0 1 3]\n",
      "[75 85 88 92 95]\n",
      "['Charlie' 'Eva' 'Alice' 'Bob' 'David']\n",
      "학생 성적 정렬 결과:\n",
      "Charlie: 75점 (원래 인덱스: 2)\n",
      "Eva: 85점 (원래 인덱스: 4)\n",
      "Alice: 88점 (원래 인덱스: 0)\n",
      "Bob: 92점 (원래 인덱스: 1)\n",
      "David: 95점 (원래 인덱스: 3)\n"
     ]
    }
   ],
   "source": [
    "#학생 이름과 성적\n",
    "students=np.array(['Alice','Bob','Charlie','David','Eva'])\n",
    "scores=np.array([88,92,75,95,85])\n",
    "\n",
    "sorted_id=np.argsort(scores)\n",
    "print(sorted_id)\n",
    "sorted_scores=np.sort(scores)\n",
    "print(sorted_scores)\n",
    "sorted_students=students[sorted_id]\n",
    "print(sorted_students)\n",
    "\n",
    "print(\"학생 성적 정렬 결과:\")\n",
    "for i in range(len(sorted_scores)):\n",
    "    print(f\"{sorted_students[i]}: {sorted_scores[i]}점 (원래 인덱스: {sorted_id[i]})\")"
   ]
  },
  {
   "cell_type": "code",
   "execution_count": 199,
   "id": "b8acfde3-89e4-4ea1-bcc8-663c6c66d3bf",
   "metadata": {},
   "outputs": [
    {
     "name": "stdout",
     "output_type": "stream",
     "text": [
      "[[2 3 4]\n",
      " [0 1 5]]\n",
      "[[2 3 4]\n",
      " [0 1 5]]\n",
      "[[3 0 1]\n",
      " [5 2 4]]\n"
     ]
    }
   ],
   "source": [
    "arr=np.array([[3,2,4],[5,0,1]])\n",
    "print(np.sort(arr))\n",
    "print(np.sort(arr,axis=1))\n",
    "print(np.sort(arr,axis=0))  #열방향"
   ]
  },
  {
   "cell_type": "code",
   "execution_count": 205,
   "id": "9393bf53-223d-42df-a21d-f7f618a9791c",
   "metadata": {},
   "outputs": [
    {
     "name": "stdout",
     "output_type": "stream",
     "text": [
      "각 과목별 정렬된 성적:\n",
      "[[78 88 75]\n",
      " [85 90 80]\n",
      " [88 92 95]]\n"
     ]
    }
   ],
   "source": [
    "#학생성적: 행은 학생, 열은 과목\n",
    "scores=np.array([[88,92,75],  #학생1\n",
    "                 [85,90,95],\n",
    "                 [78,88,80]])\n",
    "\n",
    "#각 과목별 성적 정렬\n",
    "sorted_scores=np.sort(scores, axis=0)\n",
    "print(\"각 과목별 정렬된 성적:\")\n",
    "print(sorted_scores)"
   ]
  },
  {
   "cell_type": "markdown",
   "id": "290a132a-21ff-466c-85c2-04d57fe6ce20",
   "metadata": {},
   "source": [
    "### 넘파이 병합\n",
    "-concatenate()"
   ]
  },
  {
   "cell_type": "code",
   "execution_count": 218,
   "id": "ffc85703-4294-4e45-9da3-04e82f287c57",
   "metadata": {},
   "outputs": [
    {
     "name": "stdout",
     "output_type": "stream",
     "text": [
      "[1 2 3 4 5 6]\n"
     ]
    }
   ],
   "source": [
    "arr1=np.array([1,2,3])\n",
    "arr2=np.array([4,5,6])\n",
    "\n",
    "arr=np.concatenate((arr1,arr2), axis=0)  #튜플이나 리스트로 인자를 전달해야 함\n",
    "print(arr)"
   ]
  },
  {
   "cell_type": "code",
   "execution_count": 222,
   "id": "c5bdb63f-3a43-4013-b671-34e65c6df78e",
   "metadata": {},
   "outputs": [
    {
     "name": "stdout",
     "output_type": "stream",
     "text": [
      "[[1 2 5 6]\n",
      " [3 4 7 8]]\n",
      "[[1 2]\n",
      " [3 4]\n",
      " [5 6]\n",
      " [7 8]]\n"
     ]
    }
   ],
   "source": [
    "#2차원 배열 병합\n",
    "arr1=np.array([[1,2],[3,4]])\n",
    "arr2=np.array([[5,6],[7,8]])\n",
    "\n",
    "arr=np.concatenate((arr1,arr2), axis=1)  #가로축\n",
    "print(arr)\n",
    "\n",
    "arr1=np.concatenate((arr1,arr2), axis=0)\n",
    "print(arr1)"
   ]
  },
  {
   "cell_type": "code",
   "execution_count": 226,
   "id": "995ed7a0-7db9-4cdb-a07b-44009e377d02",
   "metadata": {},
   "outputs": [
    {
     "name": "stdout",
     "output_type": "stream",
     "text": [
      "병합된 가격 정보:\n",
      "[[25000 27000]\n",
      " [15000 16000]\n",
      " [24000 26000]\n",
      " [15500 16500]]\n"
     ]
    }
   ],
   "source": [
    "store1_prices=np.array([[25000,27000],\n",
    "                       [15000,16000]])\n",
    "store2_prices=np.array([[24000,26000],\n",
    "                       [15500,16500]])\n",
    "\n",
    "combined_prices=np.concatenate((store1_prices, store2_prices), axis=0)\n",
    "print(\"병합된 가격 정보:\")\n",
    "print(combined_prices)"
   ]
  },
  {
   "cell_type": "code",
   "execution_count": 233,
   "id": "005fff32-154b-4d23-8ab5-185c94dc777a",
   "metadata": {},
   "outputs": [
    {
     "name": "stdout",
     "output_type": "stream",
     "text": [
      "병합된 성적\n",
      "[[85 90 88 92]\n",
      " [78 82 80 75]]\n"
     ]
    }
   ],
   "source": [
    "#과목별 성적\n",
    "math_scores=np.array([[85,90],  #학생1\n",
    "                      [78,82]])  #학생2\n",
    "english_scores=np.array([[88,92],\n",
    "                         [80,75]])\n",
    "\n",
    "#학생별 성적을 수평 병합\n",
    "combined_scores=np.concatenate((math_scores, english_scores), axis=1)\n",
    "print(\"병합된 성적\")\n",
    "print(combined_scores)"
   ]
  },
  {
   "cell_type": "code",
   "execution_count": 245,
   "id": "8010df8b-ab92-4404-bfb2-8f662d5e87f7",
   "metadata": {},
   "outputs": [
    {
     "name": "stdout",
     "output_type": "stream",
     "text": [
      "[32 34 36 38 40]\n",
      "[10 10 10 10 10]\n",
      "[231 264 299 336 375]\n",
      "[1.90909091 1.83333333 1.76923077 1.71428571 1.66666667]\n",
      "[ 1442716941 -1989603328 -1826982473           0   433305513]\n"
     ]
    }
   ],
   "source": [
    "arr1=np.array([21,22,23,24,25])\n",
    "arr2=np.array([11,12,13,14,15])\n",
    "\n",
    "newarr=arr1+arr2    #newarr=np.add(arr1,arr2)\n",
    "print(newarr)\n",
    "\n",
    "newarr1=arr1-arr2   #newarr1=np.subtract(arr1,arr2)\n",
    "print(newarr1)\n",
    "\n",
    "newarr2=arr1*arr2   #newarr2=np.multiply(arr1,arr2)\n",
    "print(newarr2)\n",
    "\n",
    "newarr3=arr1/arr2   #newarr3=np.divide(arr1,arr2)\n",
    "print(newarr3)\n",
    "\n",
    "#거듭제곱\n",
    "newarr4=arr1**arr2   #newarr3=np.power(arr1,arr2)\n",
    "print(newarr4)"
   ]
  },
  {
   "cell_type": "code",
   "execution_count": 247,
   "id": "fc4c87b5-b043-4d9a-8c1b-4de1b1a82154",
   "metadata": {},
   "outputs": [
    {
     "name": "stdout",
     "output_type": "stream",
     "text": [
      "(array([5, 7, 7, 8, 8]), array([1, 0, 3, 1, 3]))\n"
     ]
    }
   ],
   "source": [
    "arr1=np.array([11,21,31,41,51])\n",
    "arr2=np.array([2,3,4,5,6])\n",
    "newarr=np.divmod(arr1,arr2)\n",
    "print(newarr)"
   ]
  },
  {
   "cell_type": "code",
   "execution_count": 249,
   "id": "d1d07b6f-ae41-4838-8a30-d023b869401a",
   "metadata": {},
   "outputs": [
    {
     "data": {
      "text/plain": [
       "array([1, 2, 3, 4, 5])"
      ]
     },
     "execution_count": 249,
     "metadata": {},
     "output_type": "execute_result"
    }
   ],
   "source": [
    "#절댓값\n",
    "arr=np.array([-1,-2,-3,-4,-5])\n",
    "newarr=np.absolute(arr)\n",
    "newarr"
   ]
  },
  {
   "cell_type": "code",
   "execution_count": 252,
   "id": "bad26b83-3e23-4da6-9668-00d032dd79d6",
   "metadata": {},
   "outputs": [
    {
     "name": "stdout",
     "output_type": "stream",
     "text": [
      "[-24 -13  -8  -6  -1   0   0   2   2   4   4   5   5   5   7   7   8   9\n",
      "  10  10  10  15  15  19  23  23]\n",
      "0.5\n",
      "10.214924109175408\n"
     ]
    }
   ],
   "source": [
    "x=np.array([10,5,10,23,19,-8,10,0,0,5,2,15,8,2,5,4,15,-1,4,7,-24,7,9,-6,23,-13])\n",
    "\n",
    "print(np.sort(x))\n",
    "print(np.percentile(x,25)) #1사분위수\n",
    "print(np.std(x)) #표준편차"
   ]
  },
  {
   "cell_type": "code",
   "execution_count": 305,
   "id": "a8d40791-c27e-424e-8fe5-cad1904d2e31",
   "metadata": {},
   "outputs": [
    {
     "data": {
      "image/png": "[encoded data removed]",
      "text/plain": [
       "<Figure size 640x480 with 1 Axes>"
      ]
     },
     "metadata": {},
     "output_type": "display_data"
    }
   ],
   "source": [
    "import matplotlib.pyplot as plt\n",
    "data=np.random.randn(1000)  #표준정규분포(평균0, 표준편차1) 난수\n",
    "# print(data)\n",
    "plt.hist(data,bins=30, edgecolor='k')\n",
    "plt.xlabel('Value')\n",
    "plt.ylabel('Frequency')\n",
    "plt.title('Histogram of Normally Distributed Data')\n",
    "plt.show()"
   ]
  },
  {
   "cell_type": "code",
   "execution_count": 327,
   "id": "ced0b086-c57d-4fa6-ac5d-6cc452253fd2",
   "metadata": {
    "collapsed": true,
    "jupyter": {
     "outputs_hidden": true
    }
   },
   "outputs": [
    {
     "name": "stdout",
     "output_type": "stream",
     "text": [
      "Collecting wordcloud\n",
      "  Downloading wordcloud-1.9.4-cp312-cp312-win_amd64.whl.metadata (3.5 kB)\n",
      "Requirement already satisfied: numpy>=1.6.1 in c:\\users\\enjoy\\anaconda3\\lib\\site-packages (from wordcloud) (1.26.4)\n",
      "Requirement already satisfied: pillow in c:\\users\\enjoy\\anaconda3\\lib\\site-packages (from wordcloud) (10.4.0)\n",
      "Requirement already satisfied: matplotlib in c:\\users\\enjoy\\anaconda3\\lib\\site-packages (from wordcloud) (3.9.2)\n",
      "Requirement already satisfied: contourpy>=1.0.1 in c:\\users\\enjoy\\anaconda3\\lib\\site-packages (from matplotlib->wordcloud) (1.2.0)\n",
      "Requirement already satisfied: cycler>=0.10 in c:\\users\\enjoy\\anaconda3\\lib\\site-packages (from matplotlib->wordcloud) (0.11.0)\n",
      "Requirement already satisfied: fonttools>=4.22.0 in c:\\users\\enjoy\\anaconda3\\lib\\site-packages (from matplotlib->wordcloud) (4.51.0)\n",
      "Requirement already satisfied: kiwisolver>=1.3.1 in c:\\users\\enjoy\\anaconda3\\lib\\site-packages (from matplotlib->wordcloud) (1.4.4)\n",
      "Requirement already satisfied: packaging>=20.0 in c:\\users\\enjoy\\anaconda3\\lib\\site-packages (from matplotlib->wordcloud) (24.1)\n",
      "Requirement already satisfied: pyparsing>=2.3.1 in c:\\users\\enjoy\\anaconda3\\lib\\site-packages (from matplotlib->wordcloud) (3.1.2)\n",
      "Requirement already satisfied: python-dateutil>=2.7 in c:\\users\\enjoy\\anaconda3\\lib\\site-packages (from matplotlib->wordcloud) (2.9.0.post0)\n",
      "Requirement already satisfied: six>=1.5 in c:\\users\\enjoy\\anaconda3\\lib\\site-packages (from python-dateutil>=2.7->matplotlib->wordcloud) (1.16.0)\n",
      "Downloading wordcloud-1.9.4-cp312-cp312-win_amd64.whl (301 kB)\n",
      "Installing collected packages: wordcloud\n",
      "Successfully installed wordcloud-1.9.4\n"
     ]
    }
   ],
   "source": [
    "# !pip install wordcloud"
   ]
  },
  {
   "cell_type": "code",
   "execution_count": 353,
   "id": "cfd1d258-c2f0-4c01-8dc6-8e75c3942632",
   "metadata": {
    "collapsed": true,
    "jupyter": {
     "outputs_hidden": true
    },
    "scrolled": true
   },
   "outputs": [
    {
     "name": "stdout",
     "output_type": "stream",
     "text": [
      "Collecting konlpy\n",
      "  Downloading konlpy-0.6.0-py2.py3-none-any.whl.metadata (1.9 kB)\n",
      "Collecting JPype1>=0.7.0 (from konlpy)\n",
      "  Downloading jpype1-1.5.1-cp312-cp312-win_amd64.whl.metadata (5.0 kB)\n",
      "Requirement already satisfied: lxml>=4.1.0 in c:\\users\\enjoy\\anaconda3\\lib\\site-packages (from konlpy) (5.2.1)\n",
      "Requirement already satisfied: numpy>=1.6 in c:\\users\\enjoy\\anaconda3\\lib\\site-packages (from konlpy) (1.26.4)\n",
      "Requirement already satisfied: packaging in c:\\users\\enjoy\\anaconda3\\lib\\site-packages (from JPype1>=0.7.0->konlpy) (24.1)\n",
      "Downloading konlpy-0.6.0-py2.py3-none-any.whl (19.4 MB)\n",
      "   ---------------------------------------- 0.0/19.4 MB ? eta -:--:--\n",
      "   -------- ------------------------------- 3.9/19.4 MB 21.3 MB/s eta 0:00:01\n",
      "   ------------------ --------------------- 9.2/19.4 MB 22.8 MB/s eta 0:00:01\n",
      "   ----------------------------- ---------- 14.2/19.4 MB 23.4 MB/s eta 0:00:01\n",
      "   ---------------------------------------  19.1/19.4 MB 23.7 MB/s eta 0:00:01\n",
      "   ---------------------------------------- 19.4/19.4 MB 22.7 MB/s eta 0:00:00\n",
      "Downloading jpype1-1.5.1-cp312-cp312-win_amd64.whl (355 kB)\n",
      "Installing collected packages: JPype1, konlpy\n",
      "Successfully installed JPype1-1.5.1 konlpy-0.6.0\n"
     ]
    }
   ],
   "source": [
    "# !pip install konlpy"
   ]
  },
  {
   "cell_type": "code",
   "execution_count": 380,
   "id": "8f29bf99-8fa7-43e7-80f0-b22b468f462a",
   "metadata": {},
   "outputs": [
    {
     "name": "stdout",
     "output_type": "stream",
     "text": [
      "Requirement already satisfied: JPype1 in c:\\users\\enjoy\\anaconda3\\lib\\site-packages (1.5.1)\n",
      "Requirement already satisfied: packaging in c:\\users\\enjoy\\anaconda3\\lib\\site-packages (from JPype1) (24.1)\n"
     ]
    }
   ],
   "source": [
    "!pip install JPype1"
   ]
  },
  {
   "cell_type": "code",
   "execution_count": 1,
   "id": "2cc028a0-c44f-449d-9873-cf85b4089c77",
   "metadata": {},
   "outputs": [
    {
     "name": "stdout",
     "output_type": "stream",
     "text": [
      "추출된 명사: ['인공', '지능', '현대', '기술', '핵심', '인공', '지능', '기술', '우리', '일상', '변화', '기계학습', '딥', '러닝', '인공', '지능', '분야', '데이터', '인공', '지능', '발전', '핵심', '동력', '기술', '발전', '기회', '제공']\n",
      "단어 빈도: {'인공': 4, '지능': 4, '현대': 1, '기술': 3, '핵심': 2, '우리': 1, '일상': 1, '변화': 1, '기계학습': 1, '러닝': 1, '분야': 1, '데이터': 1, '발전': 2, '동력': 1, '기회': 1, '제공': 1}\n"
     ]
    },
    {
     "data": {
      "image/png": "[encoded data removed]",
      "text/plain": [
       "<Figure size 1000x500 with 1 Axes>"
      ]
     },
     "metadata": {},
     "output_type": "display_data"
    }
   ],
   "source": [
    "import numpy as np\n",
    "import matplotlib.pyplot as plt\n",
    "from wordcloud import WordCloud\n",
    "from konlpy.tag import Okt\n",
    "\n",
    "# 분석할 텍스트\n",
    "text = \"\"\"인공지능은 현대 기술의 핵심입니다. \n",
    "인공지능 기술은 우리의 일상을 변화시키고 있습니다.\n",
    "기계학습과 딥러닝은 인공지능의 중요한 분야입니다.\n",
    "데이터는 인공지능 발전의 핵심 동력입니다.\n",
    "기술의 발전은 새로운 기회를 제공합니다.\"\"\"\n",
    "\n",
    "# 한글 폰트 설정\n",
    "plt.rc('font', family='Malgun Gothic')  # 한글 폰트 설정\n",
    "plt.rcParams['axes.unicode_minus'] = False  # 마이너스 기호 깨짐 방지\n",
    "\n",
    "# Okt 객체 생성 및 명사 추출\n",
    "okt = Okt()\n",
    "words = okt.nouns(text)  # 명사만 추출\n",
    "print(\"추출된 명사:\", words)\n",
    "\n",
    "# 단어 빈도 계산\n",
    "word_freq = {}\n",
    "for word in words:\n",
    "    if len(word) > 1:  # 길이가 1 이상인 단어만 포함\n",
    "        word_freq[word] = word_freq.get(word, 0) + 1\n",
    "\n",
    "print(\"단어 빈도:\", word_freq)\n",
    "\n",
    "# WordCloud 생성\n",
    "wordcloud = WordCloud(\n",
    "    width=800, \n",
    "    height=400,\n",
    "    background_color='white',\n",
    "    font_path=r\"C:\\Windows\\Fonts\\malgun.ttf\",  # Windows의 한글 폰트 경로\n",
    ").generate_from_frequencies(word_freq)\n",
    "\n",
    "# WordCloud 시각화\n",
    "plt.figure(figsize=(10, 5))\n",
    "plt.imshow(wordcloud, interpolation='bilinear')\n",
    "plt.axis('off')\n",
    "plt.title('단어 빈도 워드클라우드')\n",
    "plt.show()"
   ]
  },
  {
   "cell_type": "code",
   "execution_count": null,
   "id": "a450b629-9549-4279-920f-d923d5b41c4e",
   "metadata": {},
   "outputs": [],
   "source": []
  },
  {
   "cell_type": "code",
   "execution_count": null,
   "id": "c936d26d-b0f8-4c61-9112-93c8659f502d",
   "metadata": {},
   "outputs": [],
   "source": []
  },
  {
   "cell_type": "code",
   "execution_count": null,
   "id": "ce2a3188-6351-494b-9d4f-7f94f3fa04bf",
   "metadata": {},
   "outputs": [],
   "source": []
  },
  {
   "cell_type": "code",
   "execution_count": null,
   "id": "85da5c20-282f-479b-ad0e-59a5ef550dfb",
   "metadata": {},
   "outputs": [],
   "source": []
  },
  {
   "cell_type": "code",
   "execution_count": null,
   "id": "a7880613-94cc-43af-8613-10f3eddaea1f",
   "metadata": {},
   "outputs": [],
   "source": []
  },
  {
   "cell_type": "code",
   "execution_count": null,
   "id": "c4dea693-69b6-460f-9370-ba657fa506f0",
   "metadata": {},
   "outputs": [],
   "source": []
  },
  {
   "cell_type": "code",
   "execution_count": null,
   "id": "00f0d27c-24df-447e-bce2-ce324f7c80ac",
   "metadata": {},
   "outputs": [],
   "source": []
  }
 ],
 "metadata": {
  "kernelspec": {
   "display_name": "Python 3 (ipykernel)",
   "language": "python",
   "name": "python3"
  },
  "language_info": {
   "codemirror_mode": {
    "name": "ipython",
    "version": 3
   },
   "file_extension": ".py",
   "mimetype": "text/x-python",
   "name": "python",
   "nbconvert_exporter": "python",
   "pygments_lexer": "ipython3",
   "version": "3.12.7"
  }
 },
 "nbformat": 4,
 "nbformat_minor": 5
}
