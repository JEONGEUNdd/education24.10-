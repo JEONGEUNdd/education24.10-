{
 "cells": [
  {
   "cell_type": "markdown",
   "id": "f114ade1-589a-4a63-9d69-5c2e9a47a936",
   "metadata": {},
   "source": [
    "### Numpy"
   ]
  },
  {
   "cell_type": "code",
   "execution_count": 6,
   "id": "982c69d6-9f1e-4963-b424-0183990766f2",
   "metadata": {},
   "outputs": [],
   "source": [
    "import numpy as np"
   ]
  },
  {
   "cell_type": "code",
   "execution_count": 14,
   "id": "1eb6b175-29b0-4b9e-ad65-313b9db17a24",
   "metadata": {},
   "outputs": [
    {
     "name": "stdout",
     "output_type": "stream",
     "text": [
      "seoul\n",
      "<class 'list'>\n"
     ]
    }
   ],
   "source": [
    "city =['seoul','busan','ulsan']\n",
    "print(city[0])\n",
    "print(type(city))"
   ]
  },
  {
   "cell_type": "code",
   "execution_count": 10,
   "id": "90f13c75-3d73-4850-a877-f69e3e8065b5",
   "metadata": {},
   "outputs": [
    {
     "name": "stdout",
     "output_type": "stream",
     "text": [
      "seoul\n",
      "<class 'numpy.ndarray'>\n"
     ]
    }
   ],
   "source": [
    "city=np.array(['seoul','busan','ulsan'])\n",
    "print(city[0])\n",
    "print(type(city))"
   ]
  },
  {
   "cell_type": "code",
   "execution_count": 18,
   "id": "81090f9f-23b8-4b47-8e37-9690f3e8f544",
   "metadata": {},
   "outputs": [
    {
     "name": "stdout",
     "output_type": "stream",
     "text": [
      "[ 2  4  6  8 10]\n",
      "<class 'numpy.ndarray'>\n",
      "int32\n"
     ]
    }
   ],
   "source": [
    "arr=np.array([2,4,6,8,10])\n",
    "print(arr)\n",
    "print(type(arr))\n",
    "print(arr.dtype)"
   ]
  },
  {
   "cell_type": "markdown",
   "id": "74759a81-5163-4632-a733-fc3f6f0f307c",
   "metadata": {},
   "source": [
    "### 리스트와 넘파이 비교"
   ]
  },
  {
   "cell_type": "code",
   "execution_count": 20,
   "id": "455bc9e8-4d23-469f-89a3-340378a7f8e5",
   "metadata": {},
   "outputs": [
    {
     "name": "stdout",
     "output_type": "stream",
     "text": [
      "[1, 2, 3, 2, 4, 6]\n"
     ]
    }
   ],
   "source": [
    "#리스트형태\n",
    "a=[1,2,3]\n",
    "b=[2,4,6]\n",
    "print(a+b)"
   ]
  },
  {
   "cell_type": "code",
   "execution_count": 24,
   "id": "1821694d-d698-4a46-b07a-85efea245c5f",
   "metadata": {},
   "outputs": [],
   "source": [
    "#print(a*b)  #리스트 곱하기 계산불가"
   ]
  },
  {
   "cell_type": "code",
   "execution_count": 26,
   "id": "c3a931c7-bd27-4a3c-8225-89cba182b8a8",
   "metadata": {},
   "outputs": [
    {
     "name": "stdout",
     "output_type": "stream",
     "text": [
      "[1, 2, 3, 1, 2, 3, 1, 2, 3]\n"
     ]
    }
   ],
   "source": [
    "print(a*3)"
   ]
  },
  {
   "cell_type": "code",
   "execution_count": 28,
   "id": "df12b0e7-7b1b-481a-84b6-c722b6991ee6",
   "metadata": {},
   "outputs": [
    {
     "name": "stdout",
     "output_type": "stream",
     "text": [
      "6\n"
     ]
    }
   ],
   "source": [
    "print(a[1]+b[1])"
   ]
  },
  {
   "cell_type": "code",
   "execution_count": 33,
   "id": "5fb0886a-7253-4217-981e-236f60da2c2d",
   "metadata": {},
   "outputs": [
    {
     "name": "stdout",
     "output_type": "stream",
     "text": [
      "[3 6 9]\n",
      "[ 2  8 18]\n"
     ]
    }
   ],
   "source": [
    "#넘파이 형태\n",
    "a=np.array([1,2,3])\n",
    "b=np.array([2,4,6])\n",
    "print(a+b)\n",
    "print(a*b)"
   ]
  },
  {
   "cell_type": "code",
   "execution_count": 41,
   "id": "06edc9a8-ef1d-4d93-891b-b4e336e8df4c",
   "metadata": {},
   "outputs": [
    {
     "name": "stdout",
     "output_type": "stream",
     "text": [
      "2단: [ 2  4  6  8 10 12 14 16 18]\n",
      "3단: [ 3  6  9 12 15 18 21 24 27]\n",
      "4단: [ 4  8 12 16 20 24 28 32 36]\n",
      "5단: [ 5 10 15 20 25 30 35 40 45]\n",
      "6단: [ 6 12 18 24 30 36 42 48 54]\n",
      "7단: [ 7 14 21 28 35 42 49 56 63]\n",
      "8단: [ 8 16 24 32 40 48 56 64 72]\n",
      "9단: [ 9 18 27 36 45 54 63 72 81]\n"
     ]
    }
   ],
   "source": [
    "c=np.array([1,2,3,4,5,6,7,8,9])\n",
    "# print(f\"2단:\", c*2)\n",
    "for i in range(2,10):\n",
    "    print(f\"{i}단:\", c*i)"
   ]
  },
  {
   "cell_type": "code",
   "execution_count": 49,
   "id": "4e61aa64-fadc-4747-90b7-010b8a1833ff",
   "metadata": {},
   "outputs": [
    {
     "name": "stdout",
     "output_type": "stream",
     "text": [
      "[ 5 10 15 20 25 30 35 40 45]\n",
      "<class 'numpy.ndarray'>\n",
      "<class 'list'>\n"
     ]
    }
   ],
   "source": [
    "res=c*5\n",
    "print(res)\n",
    "print(type(res))\n",
    "\n",
    "lres=res.tolist()  #넘파이를 리스트로 변환\n",
    "print(type(lres))"
   ]
  },
  {
   "cell_type": "code",
   "execution_count": 55,
   "id": "3fa74362-50fe-48a6-bd0b-8a96b3feed96",
   "metadata": {},
   "outputs": [
    {
     "name": "stdout",
     "output_type": "stream",
     "text": [
      "BMI: [22.49134948 18.73048907 21.484375  ]\n"
     ]
    }
   ],
   "source": [
    "import numpy as np\n",
    "\n",
    "#체질량지수(BMI)\n",
    "heights=np.array([170,155,160])\n",
    "weights=np.array([65,45,55])\n",
    "\n",
    "bmi=weights/(heights/100)**2\n",
    "print(\"BMI:\", bmi)"
   ]
  },
  {
   "cell_type": "code",
   "execution_count": 65,
   "id": "38e2e2d8-cf62-4ef3-bbbf-3c7d50cc3594",
   "metadata": {},
   "outputs": [
    {
     "name": "stdout",
     "output_type": "stream",
     "text": [
      "과목별 평균: [85.         87.33333333 88.         90.33333333]\n",
      "학생별 평균: [89.5  88.25 85.25]\n",
      "[[ 0.          2.66666667  0.          4.66666667]\n",
      " [ 7.         -0.33333333 -3.         -1.33333333]\n",
      " [-7.         -2.33333333  3.         -3.33333333]]\n"
     ]
    }
   ],
   "source": [
    "#과목별 학생별 성적\n",
    "#axis=0:세로방향(열)\n",
    "#axis=1:가로방향(행)\n",
    "\n",
    "#행:학생별,  열:과목별\n",
    "scores=np.array([[85,90,88,95],\n",
    "                [92,87,85,89],\n",
    "                [78,85,91,87]])\n",
    "#과목별 평균\n",
    "subject_mean=scores.mean(axis=0)\n",
    "print(\"과목별 평균:\", subject_mean)\n",
    "\n",
    "#학생별 평균\n",
    "student_mean=scores.mean(axis=1)\n",
    "print(\"학생별 평균:\",  student_mean)\n",
    "\n",
    "#정규화\n",
    "nm1=scores-subject_mean\n",
    "print(nm1)"
   ]
  },
  {
   "cell_type": "code",
   "execution_count": 79,
   "id": "6a303b6e-90cc-4624-9898-2f867cd519f7",
   "metadata": {},
   "outputs": [
    {
     "name": "stdout",
     "output_type": "stream",
     "text": [
      "[[36.  25.5 17.6  7.5]\n",
      " [34.  27.6 17.4  9.8]\n",
      " [35.2 25.8 18.2  9. ]]\n",
      "[86.6 88.8 88.2]\n"
     ]
    }
   ],
   "source": [
    "#학생들의 점수(행:학생, 열:과목)\n",
    "scores=np.array([[90,85,88,75],\n",
    "                [85,92,87,98],\n",
    "                [88,86,91,90]])\n",
    "\n",
    "#과목별 가중치(40%, 30%, 30%)\n",
    "w=np.array([0.4,0.3,0.2, 0.1])\n",
    "wscore=scores*w\n",
    "print(wscore)\n",
    "\n",
    "#가중치 반영도니 학생별 평균점수\n",
    "fscore=wscore.sum(axis=1)  #학생별\n",
    "print(fscore)"
   ]
  },
  {
   "cell_type": "code",
   "execution_count": 95,
   "id": "368068c6-984e-4d2e-9374-84fbc0409d62",
   "metadata": {},
   "outputs": [
    {
     "name": "stdout",
     "output_type": "stream",
     "text": [
      "[10800. 28000.  7600. 31500. 23800.]\n"
     ]
    }
   ],
   "source": [
    "#할인율 적용된 상품가격\n",
    "price=np.array([12000,35000,8000,45000,28000])\n",
    "sale=np.array([0.1,0.2,0.05,0.3,0.15])  #할인율\n",
    "pricesale=price*(1-sale)\n",
    "print(pricesale)"
   ]
  },
  {
   "cell_type": "code",
   "execution_count": 147,
   "id": "13452a7e-5059-4ee9-b83c-1c344e83a244",
   "metadata": {},
   "outputs": [
    {
     "name": "stdout",
     "output_type": "stream",
     "text": [
      "할인된 가격: [ 45000. 127500. 200000.  72000. 102000.]\n"
     ]
    }
   ],
   "source": [
    "#할인조건:10만원미만10%, 20만원미만 15%, 20만원이상 20%할인\n",
    "prices=np.array([50000,150000,250000,80000,120000])\n",
    "sale=np.array([])\n",
    "for price in prices:\n",
    "    if price < 100000:\n",
    "        sale = np.append(sale,0.1)\n",
    "    elif price < 200000:\n",
    "        sale = np.append(sale,0.15)\n",
    "    else:\n",
    "        sale = np.append(sale,0.2)\n",
    "# print(sale)\n",
    "\n",
    "pricesale=prices*(1-sale)\n",
    "print(\"할인된 가격:\", pricesale)"
   ]
  },
  {
   "cell_type": "code",
   "execution_count": 169,
   "id": "89aab86a-f840-44ce-9499-83ccb30d3625",
   "metadata": {},
   "outputs": [
    {
     "name": "stdout",
     "output_type": "stream",
     "text": [
      "할인된 가격: [ 45000. 127500. 200000.  72000. 102000.]\n"
     ]
    }
   ],
   "source": [
    "#할인조건:10만원미만10%, 20만원미만 15%, 20만원이상 20%할인\n",
    "prices=np.array([50000,150000,250000,80000,120000])\n",
    "\n",
    "def get_final_rate(price):\n",
    "    if price < 100000:\n",
    "        return 0.1\n",
    "    elif price < 200000:\n",
    "        return 0.15\n",
    "    else:\n",
    "        return 0.2\n",
    "        \n",
    "discounts=np.array([get_final_rate(price) for price in prices])\n",
    "\n",
    "pricesale=prices*(1-discounts)\n",
    "print(\"할인된 가격:\", pricesale)"
   ]
  },
  {
   "cell_type": "code",
   "execution_count": 179,
   "id": "1f68c65a-aa87-4633-af9c-d621c1233d75",
   "metadata": {},
   "outputs": [
    {
     "name": "stdout",
     "output_type": "stream",
     "text": [
      "화씨 온도:\n",
      " [[77.  80.6 78.8 75.2 73.4]\n",
      " [82.4 86.  84.2 80.6 78.8]\n",
      " [71.6 75.2 73.4 69.8 68. ]]\n"
     ]
    }
   ],
   "source": [
    "#5일간 3개 도시의 온도(섭씨)\n",
    "temps_c=np.array([[25,27,26,24,23],  #서울\n",
    "                  [28,30,29,27,26],  #부산\n",
    "                  [22,24,23,21,20]]) #강릉\n",
    "#섭씨-->화씨: (C*9/5)+32\n",
    "\n",
    "temps_f=(temps_c*9/5)+32\n",
    "print(\"화씨 온도:\\n\", temps_f)"
   ]
  },
  {
   "cell_type": "code",
   "execution_count": 193,
   "id": "db0155ca-0a99-4566-a69a-e9694a363f56",
   "metadata": {},
   "outputs": [
    {
     "name": "stdout",
     "output_type": "stream",
     "text": [
      "할인된금액: [21250. 45000. 13500. 40000. 96000.]\n"
     ]
    }
   ],
   "source": [
    "clothing_prices=np.array([25000,60000,15000,80000,120000])\n",
    "clothing_discounts=np.array([15,25,10,50,20])  #할인율\n",
    "\n",
    "discount_f=1-(clothing_discounts/100)\n",
    "# print(discount_f)\n",
    "print(\"할인된금액:\",clothing_prices*discount_f)"
   ]
  },
  {
   "cell_type": "code",
   "execution_count": 197,
   "id": "eeccce17-fa47-474f-b614-2d0e9c9124c9",
   "metadata": {},
   "outputs": [
    {
     "name": "stdout",
     "output_type": "stream",
     "text": [
      "[530000.         486666.66666667 516666.66666667 693333.33333333\n",
      " 616666.66666667 746666.66666667 513333.33333333]\n",
      "요일별 평균 대비 성과(%):\n",
      " [[-1.88679245 -1.36986301 -1.29032258 -0.48076923  0.54054054  0.44642857\n",
      "  -0.64935065]\n",
      " [-9.43396226 -5.47945205 -5.16129032 -3.36538462 -5.94594595 -4.91071429\n",
      "  -4.54545455]\n",
      " [11.32075472  6.84931507  6.4516129   3.84615385  5.40540541  4.46428571\n",
      "   5.19480519]]\n"
     ]
    }
   ],
   "source": [
    "#3개 지점 일주일 매출 데이터\n",
    "import numpy as np\n",
    "\n",
    "sales = np.array([[520000, 480000, 510000, 690000, 620000, 750000, 510000],  # 1호점\n",
    "                  [480000, 460000, 490000, 670000, 580000, 710000, 490000],  # 2호점\n",
    "                  [590000, 520000, 550000, 720000, 650000, 780000, 540000]])\n",
    "daily_avg=sales.mean(axis=0)\n",
    "print(daily_avg)\n",
    "performance=(sales/daily_avg*100)-100   #평균 대비 퍼센트\n",
    "print(\"요일별 평균 대비 성과(%):\\n\", performance)"
   ]
  },
  {
   "cell_type": "markdown",
   "id": "b9e40e60-6993-4a8a-a5fb-8fd0fb6cf5cf",
   "metadata": {},
   "source": [
    "## 0차원 배열(스칼라)\n",
    "- 하나의 데이터값을 가진 배열"
   ]
  },
  {
   "cell_type": "code",
   "execution_count": 208,
   "id": "27a3460a-43c4-42e0-8e6a-e79e633afe43",
   "metadata": {},
   "outputs": [
    {
     "name": "stdout",
     "output_type": "stream",
     "text": [
      "12\n",
      "<class 'numpy.ndarray'>\n",
      "()\n"
     ]
    }
   ],
   "source": [
    "arr=np.array(12)\n",
    "print(arr)\n",
    "print(type(arr))\n",
    "#shape():배열이 무슨 차원으로 구성되어 있는지 보여줌\n",
    "print(np.shape(arr))  #0차원에서는 반환값이 없음"
   ]
  },
  {
   "cell_type": "markdown",
   "id": "bea27188-31bc-46f1-92e2-63a3deabc5ee",
   "metadata": {},
   "source": [
    "### 1차원 배열(벡터)\n",
    "- 넘파이 배열의 가장 기본적 배열\n",
    "- 1차원 배열은 파이썬의 리스트와 동일한 형태"
   ]
  },
  {
   "cell_type": "code",
   "execution_count": 211,
   "id": "f5a732f5-51bb-4f78-add6-3dd76d333a5e",
   "metadata": {},
   "outputs": [
    {
     "name": "stdout",
     "output_type": "stream",
     "text": [
      "[ 2  4  6  8 10]\n",
      "(5,)\n"
     ]
    }
   ],
   "source": [
    "import numpy as np\n",
    "arr=np.array([2,4,6,8,10])\n",
    "print(arr)\n",
    "print(np.shape(arr))"
   ]
  },
  {
   "cell_type": "code",
   "execution_count": 231,
   "id": "816a3bda-de60-4a05-8521-e7c7bfb0752b",
   "metadata": {},
   "outputs": [
    {
     "name": "stdout",
     "output_type": "stream",
     "text": [
      "[0. 0. 0. 0. 0.]\n",
      "[1. 1. 1. 1. 1.]\n",
      "[1. 1. 1. 1. 1.]\n",
      "[0 1 2 3 4]\n",
      "[1. 2. 3. 4. 5.]\n",
      "[ 2  5  8 11 14 17]\n",
      "[  0.  25.  50.  75. 100.]\n"
     ]
    }
   ],
   "source": [
    "print(np.zeros(5))  #0으로 채워진 1차원 배열 생성\n",
    "print(np.ones(5))\n",
    "print(np.empty(5))  #빈 배열 생성\n",
    "print(np.arange(5)) #0부터 5개 숫자 생성[0 1 2 3 4]\n",
    "\n",
    "arr=np.empty(5)\n",
    "arr[:]=np.arange(1,6)\n",
    "print(arr)\n",
    "\n",
    "print(np.arange(2,20,3))  #2부터 19까지 step:3\n",
    "print(np.linspace(0,100,num=5))"
   ]
  },
  {
   "cell_type": "code",
   "execution_count": 233,
   "id": "d71c6308-8a7b-42eb-9138-61ab4b62f723",
   "metadata": {},
   "outputs": [
    {
     "name": "stdout",
     "output_type": "stream",
     "text": [
      "[ 90  80 100  85  90]\n",
      "[0. 0. 0. 0. 0.]\n"
     ]
    }
   ],
   "source": [
    "scores=np.array([90,80,100,85,90])\n",
    "print(scores)\n",
    "scores=np.zeros(5)\n",
    "print(scores)"
   ]
  },
  {
   "cell_type": "code",
   "execution_count": 235,
   "id": "a2d94f49-195d-46be-990c-8a6f46572056",
   "metadata": {},
   "outputs": [
    {
     "name": "stdout",
     "output_type": "stream",
     "text": [
      "Updated Attendance: [1. 0. 1. 1. 1.]\n"
     ]
    }
   ],
   "source": [
    "#5명의 출석 상태를 1로 초기화\n",
    "num_students=5\n",
    "attendance=np.ones(num_students)\n",
    "\n",
    "#결석처리(두번째 학생 결석)\n",
    "attendance[1]=0\n",
    "print(\"Updated Attendance:\", attendance)"
   ]
  },
  {
   "cell_type": "markdown",
   "id": "a3419812-1992-42cf-9438-4b15f90c0c8a",
   "metadata": {},
   "source": [
    "### 2차원 배열(매트릭스: 행렬)\n",
    "- 2차원 배열을 행렬이라고 함\n",
    "- 행과 열로 구성된 배열"
   ]
  },
  {
   "cell_type": "code",
   "execution_count": 250,
   "id": "10b2d960-bd15-41cc-b81a-f7eb4b59abc5",
   "metadata": {},
   "outputs": [
    {
     "name": "stdout",
     "output_type": "stream",
     "text": [
      "[[2 4 6]\n",
      " [1 3 5]]\n",
      "(2, 3)\n"
     ]
    }
   ],
   "source": [
    "import numpy as np\n",
    "arr=np.array([\n",
    "    [2,4,6],\n",
    "    [1,3,5]\n",
    "])\n",
    "print(arr)\n",
    "print(np.shape(arr))  "
   ]
  },
  {
   "cell_type": "code",
   "execution_count": 252,
   "id": "552b7922-df0b-4934-80ba-1da34ab5a463",
   "metadata": {},
   "outputs": [
    {
     "name": "stdout",
     "output_type": "stream",
     "text": [
      "2\n",
      "3\n",
      "2\n",
      "(2, 3)\n"
     ]
    }
   ],
   "source": [
    "print(len(arr))  #행 수\n",
    "print(len(arr[0])) #열 수\n",
    "print(arr.ndim)  #배열의 차원 수\n",
    "print(arr.shape) #배열의 크기(튜플로 반환)"
   ]
  },
  {
   "cell_type": "markdown",
   "id": "f7a1ab86-aa3b-4f03-babe-fcbfe1babeb6",
   "metadata": {},
   "source": [
    "### 3차원 배열(텐서)\n",
    "- 3차원 배열은 2차원 배열을 몇 번 사용하는지에 따라 깊이 달라짐"
   ]
  },
  {
   "cell_type": "code",
   "execution_count": 259,
   "id": "beabbf35-c43d-4f49-a0dd-811b0d516f31",
   "metadata": {},
   "outputs": [
    {
     "name": "stdout",
     "output_type": "stream",
     "text": [
      "[[[111 112 113]\n",
      "  [121 122 123]]\n",
      "\n",
      " [[211 212 213]\n",
      "  [221 222 223]]\n",
      "\n",
      " [[311 312 313]\n",
      "  [321 322 323]]\n",
      "\n",
      " [[411 412 413]\n",
      "  [421 422 423]]]\n",
      "(4, 2, 3)\n"
     ]
    }
   ],
   "source": [
    "arr=np.array([\n",
    "    [[111,112,113],[121,122,123]],\n",
    "    [[211,212,213],[221,222,223]],\n",
    "    [[311,312,313],[321,322,323]],\n",
    "    [[411,412,413],[421,422,423]]\n",
    "])\n",
    "print(arr)\n",
    "print(np.shape(arr))"
   ]
  },
  {
   "cell_type": "code",
   "execution_count": 261,
   "id": "f64812d5-1a87-4b62-958c-a6a0fc34ec1e",
   "metadata": {},
   "outputs": [
    {
     "name": "stdout",
     "output_type": "stream",
     "text": [
      "4\n",
      "2\n",
      "3\n"
     ]
    }
   ],
   "source": [
    "print(len(arr))  #깊이(층)\n",
    "print(len(arr[0])) #행 개수\n",
    "print(len(arr[0][0]))  #열 개수"
   ]
  },
  {
   "cell_type": "markdown",
   "id": "cd8d5d27-1ef7-465e-aec8-74769ced2985",
   "metadata": {},
   "source": [
    "### reshape(배열의 재구성)-배열의 크기 변경"
   ]
  },
  {
   "cell_type": "code",
   "execution_count": 267,
   "id": "e8b724bd-b96a-4262-a104-54dcf92f8147",
   "metadata": {},
   "outputs": [
    {
     "name": "stdout",
     "output_type": "stream",
     "text": [
      "[ 1  2  3  4  5  6  7  8  9 10 11 12]\n",
      "[[ 1  2  3]\n",
      " [ 4  5  6]\n",
      " [ 7  8  9]\n",
      " [10 11 12]]\n",
      "[ 1  2  3  4  5  6  7  8  9 10 11 12]\n"
     ]
    }
   ],
   "source": [
    "arr=np.array([1,2,3,4,5,6,7,8,9,10,11,12])\n",
    "print(arr)\n",
    "\n",
    "newl=np.reshape(arr,(4,3))\n",
    "print(newl)\n",
    "\n",
    "new3=newl.flatten()\n",
    "print(new3)"
   ]
  },
  {
   "cell_type": "code",
   "execution_count": 269,
   "id": "07615e17-97f6-4296-bf91-0b3aff53ffb1",
   "metadata": {},
   "outputs": [
    {
     "data": {
      "text/plain": [
       "array([[[ 1,  2],\n",
       "        [ 3,  4],\n",
       "        [ 5,  6]],\n",
       "\n",
       "       [[ 7,  8],\n",
       "        [ 9, 10],\n",
       "        [11, 12]]])"
      ]
     },
     "execution_count": 269,
     "metadata": {},
     "output_type": "execute_result"
    }
   ],
   "source": [
    "arr=np.array([1,2,3,4,5,6,7,8,9,10,11,12])\n",
    "arr.reshape(2,3,2)"
   ]
  },
  {
   "cell_type": "markdown",
   "id": "88acd215-6d5c-4cdb-80d9-e94108b55528",
   "metadata": {},
   "source": [
    "### 배열의 차원수 확장\n",
    "- newaxis사용해 기본 배열크기(차원수) 확장 가능\n",
    "- newaxis:크기를 한 차원 늘림\n",
    "- np.newaxis로 새로운 축 추가할 때, 그 축 크기는 항상 1"
   ]
  },
  {
   "cell_type": "code",
   "execution_count": 278,
   "id": "13eddf34-a16e-401d-b5c0-68301cd74671",
   "metadata": {},
   "outputs": [
    {
     "name": "stdout",
     "output_type": "stream",
     "text": [
      "[1 2 3 4 5 6]\n",
      "(6,)\n",
      "[[1 2 3 4 5 6]]\n",
      "(1, 6)\n",
      "[[1]\n",
      " [2]\n",
      " [3]\n",
      " [4]\n",
      " [5]\n",
      " [6]]\n",
      "(6, 1)\n"
     ]
    }
   ],
   "source": [
    "new=np.array([1,2,3,4,5,6])\n",
    "print(new)\n",
    "print(new.shape)\n",
    "newarr=new[np.newaxis, :]\n",
    "print(newarr)\n",
    "print(newarr.shape)\n",
    "\n",
    "newarr2=new[:, np.newaxis]\n",
    "print(newarr2)\n",
    "print(newarr2.shape)"
   ]
  },
  {
   "cell_type": "code",
   "execution_count": 288,
   "id": "441d84ad-92ff-4f00-a1f4-4af6fbf11d2f",
   "metadata": {},
   "outputs": [
    {
     "name": "stdout",
     "output_type": "stream",
     "text": [
      "(4,)\n",
      "(1, 4)\n",
      "[[1 2 3 4]]\n",
      "(4, 1)\n",
      "[[1]\n",
      " [2]\n",
      " [3]\n",
      " [4]]\n"
     ]
    }
   ],
   "source": [
    "arr=np.array([1,2,3,4])\n",
    "row_vector=arr[np.newaxis, :]\n",
    "col_vector=arr[:, np.newaxis]\n",
    "\n",
    "print(arr.shape)\n",
    "\n",
    "print(row_vector.shape)\n",
    "print(row_vector)\n",
    "print(col_vector.shape)\n",
    "print(col_vector)"
   ]
  },
  {
   "cell_type": "markdown",
   "id": "064cbaf2-aeae-4cca-9b2a-b013e416bcc0",
   "metadata": {},
   "source": [
    "### 넘파이 인덱싱"
   ]
  },
  {
   "cell_type": "code",
   "execution_count": 293,
   "id": "7652ac1f-ee5b-47f6-87b4-24c4df1eed92",
   "metadata": {},
   "outputs": [
    {
     "name": "stdout",
     "output_type": "stream",
     "text": [
      "12\n"
     ]
    }
   ],
   "source": [
    "#1차원 인덱싱\n",
    "arr=np.array([2,4,6,8])\n",
    "print(arr[1]+arr[3])"
   ]
  },
  {
   "cell_type": "code",
   "execution_count": 295,
   "id": "e27c06f7-e3ac-460e-8360-b10c26f8f178",
   "metadata": {},
   "outputs": [
    {
     "data": {
      "text/plain": [
       "array([[2, 4, 6],\n",
       "       [1, 3, 5]])"
      ]
     },
     "execution_count": 295,
     "metadata": {},
     "output_type": "execute_result"
    }
   ],
   "source": [
    "#2차원 인덱싱\n",
    "arr=np.array([[2,4,6],[1,3,5]])\n",
    "arr"
   ]
  },
  {
   "cell_type": "code",
   "execution_count": 297,
   "id": "57df0047-8d32-444b-bc0a-2f0f8cad7f41",
   "metadata": {},
   "outputs": [
    {
     "data": {
      "text/plain": [
       "4"
      ]
     },
     "execution_count": 297,
     "metadata": {},
     "output_type": "execute_result"
    }
   ],
   "source": [
    "arr[0,1]"
   ]
  },
  {
   "cell_type": "code",
   "execution_count": 301,
   "id": "acd22697-e7b4-4bb5-84ca-53aa32be74ce",
   "metadata": {},
   "outputs": [
    {
     "data": {
      "text/plain": [
       "array([[[11, 12, 13],\n",
       "        [14, 15, 16]],\n",
       "\n",
       "       [[21, 22, 23],\n",
       "        [24, 25, 26]]])"
      ]
     },
     "execution_count": 301,
     "metadata": {},
     "output_type": "execute_result"
    }
   ],
   "source": [
    "#3차원 인덱싱\n",
    "arr=np.array([[[11,12,13],[14,15,16]],\n",
    "             [[21,22,23],[24,25,26]]])\n",
    "arr   #(2,2,3)"
   ]
  },
  {
   "cell_type": "code",
   "execution_count": 303,
   "id": "c375ba70-44f2-477b-95a4-e9c44b0efb3d",
   "metadata": {},
   "outputs": [
    {
     "name": "stdout",
     "output_type": "stream",
     "text": [
      "21\n"
     ]
    }
   ],
   "source": [
    "print(arr[1,0,0])"
   ]
  },
  {
   "cell_type": "markdown",
   "id": "20fde832-fde6-43a1-81e5-1d7e3bc8012e",
   "metadata": {},
   "source": [
    "### 음수 인덱싱"
   ]
  },
  {
   "cell_type": "code",
   "execution_count": 306,
   "id": "43bffbe8-7b51-45df-967f-9d3d9b884fca",
   "metadata": {},
   "outputs": [
    {
     "data": {
      "text/plain": [
       "8"
      ]
     },
     "execution_count": 306,
     "metadata": {},
     "output_type": "execute_result"
    }
   ],
   "source": [
    "arr=np.array([2,4,6,8])\n",
    "arr[-1]"
   ]
  },
  {
   "cell_type": "code",
   "execution_count": 310,
   "id": "bdd07dd2-048e-4a4c-842f-601933d6e3df",
   "metadata": {},
   "outputs": [
    {
     "data": {
      "text/plain": [
       "3"
      ]
     },
     "execution_count": 310,
     "metadata": {},
     "output_type": "execute_result"
    }
   ],
   "source": [
    "arr=np.array([[2,4,6],[1,3,5]])\n",
    "arr[1,-2]"
   ]
  },
  {
   "cell_type": "markdown",
   "id": "2f4877db-6930-422e-a6b4-73ec504fcd15",
   "metadata": {},
   "source": [
    "### 조건에 맞는 요소 인덱싱\n",
    "- (True,False)값으로 표시"
   ]
  },
  {
   "cell_type": "code",
   "execution_count": 314,
   "id": "bed9680d-8310-49c1-8668-c8d7dc7e7f9b",
   "metadata": {},
   "outputs": [
    {
     "data": {
      "text/plain": [
       "array([[ True,  True,  True,  True],\n",
       "       [False, False, False, False],\n",
       "       [False, False, False, False]])"
      ]
     },
     "execution_count": 314,
     "metadata": {},
     "output_type": "execute_result"
    }
   ],
   "source": [
    "arr=np.array([[1,2,3,4],[5,6,7,8],[9,10,11,12]])\n",
    "arr<5"
   ]
  },
  {
   "cell_type": "code",
   "execution_count": 316,
   "id": "e9dc4a0b-64fe-47ee-b0e7-6dfbe5e8e59c",
   "metadata": {},
   "outputs": [
    {
     "data": {
      "text/plain": [
       "array([1, 2, 3, 4])"
      ]
     },
     "execution_count": 316,
     "metadata": {},
     "output_type": "execute_result"
    }
   ],
   "source": [
    "arr[arr<5]"
   ]
  },
  {
   "cell_type": "code",
   "execution_count": 318,
   "id": "9ec4d68f-2d1f-42ff-bea7-d6e78709a157",
   "metadata": {},
   "outputs": [
    {
     "data": {
      "text/plain": [
       "array([ 2,  4,  6,  8, 10, 12])"
      ]
     },
     "execution_count": 318,
     "metadata": {},
     "output_type": "execute_result"
    }
   ],
   "source": [
    "arr[arr%2==0]"
   ]
  },
  {
   "cell_type": "code",
   "execution_count": 322,
   "id": "55b5197d-3cc3-4d3b-8132-014ca284d50b",
   "metadata": {},
   "outputs": [
    {
     "data": {
      "text/plain": [
       "array([4, 5, 6, 7, 8])"
      ]
     },
     "execution_count": 322,
     "metadata": {},
     "output_type": "execute_result"
    }
   ],
   "source": [
    "arr[(arr > 3) & ( arr < 9 )]"
   ]
  },
  {
   "cell_type": "code",
   "execution_count": 326,
   "id": "6b550d8a-9d50-4873-9761-b2656b3bf63f",
   "metadata": {},
   "outputs": [
    {
     "name": "stdout",
     "output_type": "stream",
     "text": [
      "19\n",
      "[10 11 12]\n",
      "[14 15 16 17 18 19]\n",
      "[14 15]\n",
      "[14 15]\n"
     ]
    }
   ],
   "source": [
    "arr=np.array([10,11,12,13,14,15,16,17,18,19])\n",
    "print(arr[-1])\n",
    "print(arr[0:3])  #시작번호:끝번호+1\n",
    "print(arr[4:])\n",
    "print(arr[4:6]) #4번부터 6번앞까 지\n",
    "print(arr[4:-4])"
   ]
  },
  {
   "cell_type": "code",
   "execution_count": 344,
   "id": "f6420026-f7cd-4ee8-b4a8-b5621153b714",
   "metadata": {},
   "outputs": [
    {
     "name": "stdout",
     "output_type": "stream",
     "text": [
      "1반 전체 점수: [85 90 75 88]\n",
      "1반 전체 인원: 4 명\n",
      "1반 전체 합계: 338\n",
      "1반 전체 평균: 84.5\n",
      "각 반의 첫 번째 학생: [85 92 89]\n"
     ]
    }
   ],
   "source": [
    "#학생들의 시험 점수 분석(3반 4명의 학생)\n",
    "scores=np.array([[85,90,75,88],\n",
    "                 [92,86,78,95],\n",
    "                 [89,91,84,82]])\n",
    "\n",
    "#1반의 모든 학생 점수, 인원수, 총점, 평균\n",
    "print(\"1반 전체 점수:\", scores[0])\n",
    "print(\"1반 전체 인원:\", len(scores[0]),\"명\")\n",
    "print(\"1반 전체 합계:\", np.sum(scores[0]))\n",
    "print(\"1반 전체 평균:\", np.mean(scores[0]))\n",
    "\n",
    "print(\"각 반의 첫 번째 학생:\", scores[:,0])"
   ]
  },
  {
   "cell_type": "code",
   "execution_count": 352,
   "id": "08862c2b-c085-49ca-a40d-1d2b63d486c4",
   "metadata": {},
   "outputs": [
    {
     "name": "stdout",
     "output_type": "stream",
     "text": [
      "[15]\n",
      "(array([1], dtype=int64), array([2], dtype=int64))\n",
      "[(1, 2)]\n"
     ]
    }
   ],
   "source": [
    "inventory=np.array([[50,30,20,40],\n",
    "                    [45,25,15,35],\n",
    "                    [55,35,25,45]])\n",
    "low_stock=inventory[inventory<20]\n",
    "print(low_stock)\n",
    "low_stock1=np.where(inventory<20)\n",
    "print(low_stock1)\n",
    "print(list(zip(low_stock1[0],low_stock1[1])))"
   ]
  },
  {
   "cell_type": "code",
   "execution_count": null,
   "id": "31e7613c-1926-4852-bd11-aa84110063ab",
   "metadata": {},
   "outputs": [],
   "source": []
  }
 ],
 "metadata": {
  "kernelspec": {
   "display_name": "Python 3 (ipykernel)",
   "language": "python",
   "name": "python3"
  },
  "language_info": {
   "codemirror_mode": {
    "name": "ipython",
    "version": 3
   },
   "file_extension": ".py",
   "mimetype": "text/x-python",
   "name": "python",
   "nbconvert_exporter": "python",
   "pygments_lexer": "ipython3",
   "version": "3.12.7"
  }
 },
 "nbformat": 4,
 "nbformat_minor": 5
}
